{
 "cells": [
  {
   "cell_type": "code",
   "execution_count": 1,
   "id": "62b28d70",
   "metadata": {},
   "outputs": [],
   "source": [
    "import pandas as pd\n",
    "import numpy as np\n",
    "import seaborn as sns\n",
    "import matplotlib.pyplot as plt\n",
    "import math\n",
    "from sklearn.model_selection import train_test_split\n",
    "from sklearn.ensemble import RandomForestClassifier\n",
    "from sklearn.model_selection import GridSearchCV\n",
    "from sklearn.preprocessing import MinMaxScaler\n",
    "from keras.models import Sequential\n",
    "from keras.layers import Activation, Dense,LSTM,Dropout\n",
    "from sklearn.metrics import mean_absolute_error\n",
    "plt.style.use('fivethirtyeight')"
   ]
  },
  {
   "cell_type": "code",
   "execution_count": 2,
   "id": "d50f085d",
   "metadata": {},
   "outputs": [],
   "source": [
    "import requests\n",
    "import tensorflow as tf\n",
    "from keras.models import Sequential\n",
    "from keras.layers import Activation, Dense, Dropout, LSTM\n",
    "import matplotlib.pyplot as plt\n",
    "import numpy as np\n",
    "import pandas as pd\n",
    "from sklearn.metrics import mean_absolute_error\n",
    "%matplotlib inline"
   ]
  },
  {
   "cell_type": "code",
   "execution_count": 3,
   "id": "93968ca1",
   "metadata": {},
   "outputs": [],
   "source": [
    "# Database related all the code is moved to this file\n",
    "%run -i \"SqlConn.py\"\n",
    "#importing local py file\n",
    "import SqlConn "
   ]
  },
  {
   "cell_type": "code",
   "execution_count": 4,
   "id": "2250f32e",
   "metadata": {},
   "outputs": [
    {
     "name": "stdout",
     "output_type": "stream",
     "text": [
      "Data transfer Done\n"
     ]
    }
   ],
   "source": [
    "#Fetch Tweets and Sentiment data - Join from Tweet and Sentiment tables\n",
    "try:\n",
    "    df_dbFinanceData = SqlConn.fetchFinanceData(\"\")\n",
    "    print(\"Data transfer Done\")\n",
    "except BaseException as err:\n",
    "    print(err)"
   ]
  },
  {
   "cell_type": "code",
   "execution_count": 5,
   "id": "3523b0c6",
   "metadata": {},
   "outputs": [
    {
     "data": {
      "text/html": [
       "<div>\n",
       "<style scoped>\n",
       "    .dataframe tbody tr th:only-of-type {\n",
       "        vertical-align: middle;\n",
       "    }\n",
       "\n",
       "    .dataframe tbody tr th {\n",
       "        vertical-align: top;\n",
       "    }\n",
       "\n",
       "    .dataframe thead th {\n",
       "        text-align: right;\n",
       "    }\n",
       "</style>\n",
       "<table border=\"1\" class=\"dataframe\">\n",
       "  <thead>\n",
       "    <tr style=\"text-align: right;\">\n",
       "      <th></th>\n",
       "      <th>financeType</th>\n",
       "      <th>date</th>\n",
       "      <th>open</th>\n",
       "      <th>high</th>\n",
       "      <th>low</th>\n",
       "      <th>close</th>\n",
       "      <th>adjustedClose</th>\n",
       "      <th>volume</th>\n",
       "      <th>id</th>\n",
       "    </tr>\n",
       "  </thead>\n",
       "  <tbody>\n",
       "    <tr>\n",
       "      <th>0</th>\n",
       "      <td>tesla</td>\n",
       "      <td>2010-06-29</td>\n",
       "      <td>3.800000</td>\n",
       "      <td>5.000000</td>\n",
       "      <td>3.508000</td>\n",
       "      <td>4.778000</td>\n",
       "      <td>4.778000</td>\n",
       "      <td>93831500</td>\n",
       "      <td>1</td>\n",
       "    </tr>\n",
       "    <tr>\n",
       "      <th>1</th>\n",
       "      <td>tesla</td>\n",
       "      <td>2010-06-30</td>\n",
       "      <td>5.158000</td>\n",
       "      <td>6.084000</td>\n",
       "      <td>4.660000</td>\n",
       "      <td>4.766000</td>\n",
       "      <td>4.766000</td>\n",
       "      <td>85935500</td>\n",
       "      <td>2</td>\n",
       "    </tr>\n",
       "    <tr>\n",
       "      <th>2</th>\n",
       "      <td>tesla</td>\n",
       "      <td>2010-07-01</td>\n",
       "      <td>5.000000</td>\n",
       "      <td>5.184000</td>\n",
       "      <td>4.054000</td>\n",
       "      <td>4.392000</td>\n",
       "      <td>4.392000</td>\n",
       "      <td>41094000</td>\n",
       "      <td>3</td>\n",
       "    </tr>\n",
       "    <tr>\n",
       "      <th>3</th>\n",
       "      <td>tesla</td>\n",
       "      <td>2010-07-02</td>\n",
       "      <td>4.600000</td>\n",
       "      <td>4.620000</td>\n",
       "      <td>3.742000</td>\n",
       "      <td>3.840000</td>\n",
       "      <td>3.840000</td>\n",
       "      <td>25699000</td>\n",
       "      <td>4</td>\n",
       "    </tr>\n",
       "    <tr>\n",
       "      <th>4</th>\n",
       "      <td>tesla</td>\n",
       "      <td>2010-07-06</td>\n",
       "      <td>4.000000</td>\n",
       "      <td>4.000000</td>\n",
       "      <td>3.166000</td>\n",
       "      <td>3.222000</td>\n",
       "      <td>3.222000</td>\n",
       "      <td>34334500</td>\n",
       "      <td>5</td>\n",
       "    </tr>\n",
       "    <tr>\n",
       "      <th>...</th>\n",
       "      <td>...</td>\n",
       "      <td>...</td>\n",
       "      <td>...</td>\n",
       "      <td>...</td>\n",
       "      <td>...</td>\n",
       "      <td>...</td>\n",
       "      <td>...</td>\n",
       "      <td>...</td>\n",
       "      <td>...</td>\n",
       "    </tr>\n",
       "    <tr>\n",
       "      <th>6916</th>\n",
       "      <td>doge</td>\n",
       "      <td>2022-07-09</td>\n",
       "      <td>0.069224</td>\n",
       "      <td>0.070009</td>\n",
       "      <td>0.068995</td>\n",
       "      <td>0.069512</td>\n",
       "      <td>0.069512</td>\n",
       "      <td>254272147</td>\n",
       "      <td>6917</td>\n",
       "    </tr>\n",
       "    <tr>\n",
       "      <th>6917</th>\n",
       "      <td>doge</td>\n",
       "      <td>2022-07-10</td>\n",
       "      <td>0.069509</td>\n",
       "      <td>0.069509</td>\n",
       "      <td>0.066533</td>\n",
       "      <td>0.067263</td>\n",
       "      <td>0.067263</td>\n",
       "      <td>299810124</td>\n",
       "      <td>6918</td>\n",
       "    </tr>\n",
       "    <tr>\n",
       "      <th>6918</th>\n",
       "      <td>doge</td>\n",
       "      <td>2022-07-11</td>\n",
       "      <td>0.067268</td>\n",
       "      <td>0.067268</td>\n",
       "      <td>0.061535</td>\n",
       "      <td>0.061847</td>\n",
       "      <td>0.061847</td>\n",
       "      <td>326125900</td>\n",
       "      <td>6919</td>\n",
       "    </tr>\n",
       "    <tr>\n",
       "      <th>6919</th>\n",
       "      <td>doge</td>\n",
       "      <td>2022-07-12</td>\n",
       "      <td>0.061851</td>\n",
       "      <td>0.062861</td>\n",
       "      <td>0.060087</td>\n",
       "      <td>0.060087</td>\n",
       "      <td>0.060087</td>\n",
       "      <td>298462083</td>\n",
       "      <td>6920</td>\n",
       "    </tr>\n",
       "    <tr>\n",
       "      <th>6920</th>\n",
       "      <td>doge</td>\n",
       "      <td>2022-07-13</td>\n",
       "      <td>0.060085</td>\n",
       "      <td>0.062011</td>\n",
       "      <td>0.058398</td>\n",
       "      <td>0.061953</td>\n",
       "      <td>0.061953</td>\n",
       "      <td>446505400</td>\n",
       "      <td>6921</td>\n",
       "    </tr>\n",
       "  </tbody>\n",
       "</table>\n",
       "<p>6921 rows × 9 columns</p>\n",
       "</div>"
      ],
      "text/plain": [
       "     financeType        date      open      high       low     close  \\\n",
       "0          tesla  2010-06-29  3.800000  5.000000  3.508000  4.778000   \n",
       "1          tesla  2010-06-30  5.158000  6.084000  4.660000  4.766000   \n",
       "2          tesla  2010-07-01  5.000000  5.184000  4.054000  4.392000   \n",
       "3          tesla  2010-07-02  4.600000  4.620000  3.742000  3.840000   \n",
       "4          tesla  2010-07-06  4.000000  4.000000  3.166000  3.222000   \n",
       "...          ...         ...       ...       ...       ...       ...   \n",
       "6916        doge  2022-07-09  0.069224  0.070009  0.068995  0.069512   \n",
       "6917        doge  2022-07-10  0.069509  0.069509  0.066533  0.067263   \n",
       "6918        doge  2022-07-11  0.067268  0.067268  0.061535  0.061847   \n",
       "6919        doge  2022-07-12  0.061851  0.062861  0.060087  0.060087   \n",
       "6920        doge  2022-07-13  0.060085  0.062011  0.058398  0.061953   \n",
       "\n",
       "      adjustedClose     volume    id  \n",
       "0          4.778000   93831500     1  \n",
       "1          4.766000   85935500     2  \n",
       "2          4.392000   41094000     3  \n",
       "3          3.840000   25699000     4  \n",
       "4          3.222000   34334500     5  \n",
       "...             ...        ...   ...  \n",
       "6916       0.069512  254272147  6917  \n",
       "6917       0.067263  299810124  6918  \n",
       "6918       0.061847  326125900  6919  \n",
       "6919       0.060087  298462083  6920  \n",
       "6920       0.061953  446505400  6921  \n",
       "\n",
       "[6921 rows x 9 columns]"
      ]
     },
     "execution_count": 5,
     "metadata": {},
     "output_type": "execute_result"
    }
   ],
   "source": [
    "df_dbFinanceData"
   ]
  },
  {
   "cell_type": "code",
   "execution_count": 6,
   "id": "5f838703",
   "metadata": {},
   "outputs": [],
   "source": [
    "doge_price = df_dbFinanceData[df_dbFinanceData[\"financeType\"] == \"doge\"]"
   ]
  },
  {
   "cell_type": "code",
   "execution_count": 7,
   "id": "f62e6af5",
   "metadata": {},
   "outputs": [
    {
     "data": {
      "text/html": [
       "<div>\n",
       "<style scoped>\n",
       "    .dataframe tbody tr th:only-of-type {\n",
       "        vertical-align: middle;\n",
       "    }\n",
       "\n",
       "    .dataframe tbody tr th {\n",
       "        vertical-align: top;\n",
       "    }\n",
       "\n",
       "    .dataframe thead th {\n",
       "        text-align: right;\n",
       "    }\n",
       "</style>\n",
       "<table border=\"1\" class=\"dataframe\">\n",
       "  <thead>\n",
       "    <tr style=\"text-align: right;\">\n",
       "      <th></th>\n",
       "      <th>financeType</th>\n",
       "      <th>date</th>\n",
       "      <th>open</th>\n",
       "      <th>high</th>\n",
       "      <th>low</th>\n",
       "      <th>close</th>\n",
       "      <th>adjustedClose</th>\n",
       "      <th>volume</th>\n",
       "      <th>id</th>\n",
       "    </tr>\n",
       "  </thead>\n",
       "  <tbody>\n",
       "    <tr>\n",
       "      <th>5213</th>\n",
       "      <td>doge</td>\n",
       "      <td>2017-11-09</td>\n",
       "      <td>0.001207</td>\n",
       "      <td>0.001415</td>\n",
       "      <td>0.001181</td>\n",
       "      <td>0.001415</td>\n",
       "      <td>0.001415</td>\n",
       "      <td>6259550</td>\n",
       "      <td>5214</td>\n",
       "    </tr>\n",
       "    <tr>\n",
       "      <th>5214</th>\n",
       "      <td>doge</td>\n",
       "      <td>2017-11-10</td>\n",
       "      <td>0.001421</td>\n",
       "      <td>0.001431</td>\n",
       "      <td>0.001125</td>\n",
       "      <td>0.001163</td>\n",
       "      <td>0.001163</td>\n",
       "      <td>4246520</td>\n",
       "      <td>5215</td>\n",
       "    </tr>\n",
       "    <tr>\n",
       "      <th>5215</th>\n",
       "      <td>doge</td>\n",
       "      <td>2017-11-11</td>\n",
       "      <td>0.001146</td>\n",
       "      <td>0.001257</td>\n",
       "      <td>0.001141</td>\n",
       "      <td>0.001201</td>\n",
       "      <td>0.001201</td>\n",
       "      <td>2231080</td>\n",
       "      <td>5216</td>\n",
       "    </tr>\n",
       "    <tr>\n",
       "      <th>5216</th>\n",
       "      <td>doge</td>\n",
       "      <td>2017-11-12</td>\n",
       "      <td>0.001189</td>\n",
       "      <td>0.001210</td>\n",
       "      <td>0.001002</td>\n",
       "      <td>0.001038</td>\n",
       "      <td>0.001038</td>\n",
       "      <td>3288960</td>\n",
       "      <td>5217</td>\n",
       "    </tr>\n",
       "    <tr>\n",
       "      <th>5217</th>\n",
       "      <td>doge</td>\n",
       "      <td>2017-11-13</td>\n",
       "      <td>0.001046</td>\n",
       "      <td>0.001212</td>\n",
       "      <td>0.001019</td>\n",
       "      <td>0.001211</td>\n",
       "      <td>0.001211</td>\n",
       "      <td>2481270</td>\n",
       "      <td>5218</td>\n",
       "    </tr>\n",
       "    <tr>\n",
       "      <th>...</th>\n",
       "      <td>...</td>\n",
       "      <td>...</td>\n",
       "      <td>...</td>\n",
       "      <td>...</td>\n",
       "      <td>...</td>\n",
       "      <td>...</td>\n",
       "      <td>...</td>\n",
       "      <td>...</td>\n",
       "      <td>...</td>\n",
       "    </tr>\n",
       "    <tr>\n",
       "      <th>6916</th>\n",
       "      <td>doge</td>\n",
       "      <td>2022-07-09</td>\n",
       "      <td>0.069224</td>\n",
       "      <td>0.070009</td>\n",
       "      <td>0.068995</td>\n",
       "      <td>0.069512</td>\n",
       "      <td>0.069512</td>\n",
       "      <td>254272147</td>\n",
       "      <td>6917</td>\n",
       "    </tr>\n",
       "    <tr>\n",
       "      <th>6917</th>\n",
       "      <td>doge</td>\n",
       "      <td>2022-07-10</td>\n",
       "      <td>0.069509</td>\n",
       "      <td>0.069509</td>\n",
       "      <td>0.066533</td>\n",
       "      <td>0.067263</td>\n",
       "      <td>0.067263</td>\n",
       "      <td>299810124</td>\n",
       "      <td>6918</td>\n",
       "    </tr>\n",
       "    <tr>\n",
       "      <th>6918</th>\n",
       "      <td>doge</td>\n",
       "      <td>2022-07-11</td>\n",
       "      <td>0.067268</td>\n",
       "      <td>0.067268</td>\n",
       "      <td>0.061535</td>\n",
       "      <td>0.061847</td>\n",
       "      <td>0.061847</td>\n",
       "      <td>326125900</td>\n",
       "      <td>6919</td>\n",
       "    </tr>\n",
       "    <tr>\n",
       "      <th>6919</th>\n",
       "      <td>doge</td>\n",
       "      <td>2022-07-12</td>\n",
       "      <td>0.061851</td>\n",
       "      <td>0.062861</td>\n",
       "      <td>0.060087</td>\n",
       "      <td>0.060087</td>\n",
       "      <td>0.060087</td>\n",
       "      <td>298462083</td>\n",
       "      <td>6920</td>\n",
       "    </tr>\n",
       "    <tr>\n",
       "      <th>6920</th>\n",
       "      <td>doge</td>\n",
       "      <td>2022-07-13</td>\n",
       "      <td>0.060085</td>\n",
       "      <td>0.062011</td>\n",
       "      <td>0.058398</td>\n",
       "      <td>0.061953</td>\n",
       "      <td>0.061953</td>\n",
       "      <td>446505400</td>\n",
       "      <td>6921</td>\n",
       "    </tr>\n",
       "  </tbody>\n",
       "</table>\n",
       "<p>1708 rows × 9 columns</p>\n",
       "</div>"
      ],
      "text/plain": [
       "     financeType        date      open      high       low     close  \\\n",
       "5213        doge  2017-11-09  0.001207  0.001415  0.001181  0.001415   \n",
       "5214        doge  2017-11-10  0.001421  0.001431  0.001125  0.001163   \n",
       "5215        doge  2017-11-11  0.001146  0.001257  0.001141  0.001201   \n",
       "5216        doge  2017-11-12  0.001189  0.001210  0.001002  0.001038   \n",
       "5217        doge  2017-11-13  0.001046  0.001212  0.001019  0.001211   \n",
       "...          ...         ...       ...       ...       ...       ...   \n",
       "6916        doge  2022-07-09  0.069224  0.070009  0.068995  0.069512   \n",
       "6917        doge  2022-07-10  0.069509  0.069509  0.066533  0.067263   \n",
       "6918        doge  2022-07-11  0.067268  0.067268  0.061535  0.061847   \n",
       "6919        doge  2022-07-12  0.061851  0.062861  0.060087  0.060087   \n",
       "6920        doge  2022-07-13  0.060085  0.062011  0.058398  0.061953   \n",
       "\n",
       "      adjustedClose     volume    id  \n",
       "5213       0.001415    6259550  5214  \n",
       "5214       0.001163    4246520  5215  \n",
       "5215       0.001201    2231080  5216  \n",
       "5216       0.001038    3288960  5217  \n",
       "5217       0.001211    2481270  5218  \n",
       "...             ...        ...   ...  \n",
       "6916       0.069512  254272147  6917  \n",
       "6917       0.067263  299810124  6918  \n",
       "6918       0.061847  326125900  6919  \n",
       "6919       0.060087  298462083  6920  \n",
       "6920       0.061953  446505400  6921  \n",
       "\n",
       "[1708 rows x 9 columns]"
      ]
     },
     "execution_count": 7,
     "metadata": {},
     "output_type": "execute_result"
    }
   ],
   "source": [
    "doge_price"
   ]
  },
  {
   "cell_type": "code",
   "execution_count": 8,
   "id": "357aa55e",
   "metadata": {},
   "outputs": [
    {
     "data": {
      "text/plain": [
       "'2022-07-13'"
      ]
     },
     "execution_count": 8,
     "metadata": {},
     "output_type": "execute_result"
    }
   ],
   "source": [
    "end_date = doge_price['date'].iloc[-1]\n",
    "end_date"
   ]
  },
  {
   "cell_type": "code",
   "execution_count": 9,
   "id": "20f77024",
   "metadata": {},
   "outputs": [
    {
     "name": "stderr",
     "output_type": "stream",
     "text": [
      "SqlConn.py:1: SettingWithCopyWarning: \n",
      "A value is trying to be set on a copy of a slice from a DataFrame.\n",
      "Try using .loc[row_indexer,col_indexer] = value instead\n",
      "\n",
      "See the caveats in the documentation: https://pandas.pydata.org/pandas-docs/stable/user_guide/indexing.html#returning-a-view-versus-a-copy\n",
      "  \n"
     ]
    }
   ],
   "source": [
    "doge_price['date'] = pd.to_datetime(doge_price['date'], format='%Y-%m-%d')"
   ]
  },
  {
   "cell_type": "code",
   "execution_count": 10,
   "id": "ece62414",
   "metadata": {},
   "outputs": [
    {
     "data": {
      "text/plain": [
       "financeType              object\n",
       "date             datetime64[ns]\n",
       "open                    float64\n",
       "high                    float64\n",
       "low                     float64\n",
       "close                   float64\n",
       "adjustedClose           float64\n",
       "volume                    int64\n",
       "id                        int64\n",
       "dtype: object"
      ]
     },
     "execution_count": 10,
     "metadata": {},
     "output_type": "execute_result"
    }
   ],
   "source": [
    "doge_price.dtypes"
   ]
  },
  {
   "cell_type": "code",
   "execution_count": 11,
   "id": "95beb949",
   "metadata": {},
   "outputs": [],
   "source": [
    "doge_price.set_index(\"date\",inplace = True)"
   ]
  },
  {
   "cell_type": "code",
   "execution_count": 12,
   "id": "cf0aa09e",
   "metadata": {},
   "outputs": [
    {
     "data": {
      "image/png": "[encoded data removed]",
      "text/plain": [
       "<Figure size 1152x576 with 1 Axes>"
      ]
     },
     "metadata": {
      "needs_background": "light"
     },
     "output_type": "display_data"
    }
   ],
   "source": [
    "plt.figure(figsize=(16,8))\n",
    "plt.title('Close Price History of Doge')\n",
    "plt.plot(doge_price['close'])\n",
    "plt.xlabel('Date',fontsize=18)\n",
    "plt.ylabel('Close Price USD($)',fontsize=18)\n",
    "plt.show()"
   ]
  },
  {
   "cell_type": "code",
   "execution_count": 13,
   "id": "9038167d",
   "metadata": {},
   "outputs": [
    {
     "data": {
      "text/html": [
       "<div>\n",
       "<style scoped>\n",
       "    .dataframe tbody tr th:only-of-type {\n",
       "        vertical-align: middle;\n",
       "    }\n",
       "\n",
       "    .dataframe tbody tr th {\n",
       "        vertical-align: top;\n",
       "    }\n",
       "\n",
       "    .dataframe thead th {\n",
       "        text-align: right;\n",
       "    }\n",
       "</style>\n",
       "<table border=\"1\" class=\"dataframe\">\n",
       "  <thead>\n",
       "    <tr style=\"text-align: right;\">\n",
       "      <th></th>\n",
       "      <th>close</th>\n",
       "    </tr>\n",
       "    <tr>\n",
       "      <th>date</th>\n",
       "      <th></th>\n",
       "    </tr>\n",
       "  </thead>\n",
       "  <tbody>\n",
       "    <tr>\n",
       "      <th>2017-11-09</th>\n",
       "      <td>0.001415</td>\n",
       "    </tr>\n",
       "    <tr>\n",
       "      <th>2017-11-10</th>\n",
       "      <td>0.001163</td>\n",
       "    </tr>\n",
       "    <tr>\n",
       "      <th>2017-11-11</th>\n",
       "      <td>0.001201</td>\n",
       "    </tr>\n",
       "    <tr>\n",
       "      <th>2017-11-12</th>\n",
       "      <td>0.001038</td>\n",
       "    </tr>\n",
       "    <tr>\n",
       "      <th>2017-11-13</th>\n",
       "      <td>0.001211</td>\n",
       "    </tr>\n",
       "  </tbody>\n",
       "</table>\n",
       "</div>"
      ],
      "text/plain": [
       "               close\n",
       "date                \n",
       "2017-11-09  0.001415\n",
       "2017-11-10  0.001163\n",
       "2017-11-11  0.001201\n",
       "2017-11-12  0.001038\n",
       "2017-11-13  0.001211"
      ]
     },
     "execution_count": 13,
     "metadata": {},
     "output_type": "execute_result"
    }
   ],
   "source": [
    "data = doge_price.drop(['financeType','open', 'high', 'low', 'adjustedClose', 'volume','id'], axis = 1)\n",
    "price_column = 'close'\n",
    "data.head()"
   ]
  },
  {
   "cell_type": "code",
   "execution_count": 14,
   "id": "1eb5071b",
   "metadata": {},
   "outputs": [],
   "source": [
    "# This function splits the data in 70,30 ratio.\n",
    "def train_test_split(df, test_size=0.3):\n",
    "    split_row = len(df) - int(test_size * len(df))\n",
    "    train_data = df.iloc[:split_row]\n",
    "    test_data = df.iloc[split_row:]\n",
    "    return train_data, test_data"
   ]
  },
  {
   "cell_type": "code",
   "execution_count": 15,
   "id": "46dc1214",
   "metadata": {},
   "outputs": [],
   "source": [
    "train, test = train_test_split(data, test_size=0.2)"
   ]
  },
  {
   "cell_type": "code",
   "execution_count": 16,
   "id": "2326ae5c",
   "metadata": {},
   "outputs": [
    {
     "data": {
      "text/plain": [
       "((1367, 1), (341, 1))"
      ]
     },
     "execution_count": 16,
     "metadata": {},
     "output_type": "execute_result"
    }
   ],
   "source": [
    "train.shape, test.shape"
   ]
  },
  {
   "cell_type": "code",
   "execution_count": 17,
   "id": "fad40f4a",
   "metadata": {},
   "outputs": [
    {
     "data": {
      "text/html": [
       "<div>\n",
       "<style scoped>\n",
       "    .dataframe tbody tr th:only-of-type {\n",
       "        vertical-align: middle;\n",
       "    }\n",
       "\n",
       "    .dataframe tbody tr th {\n",
       "        vertical-align: top;\n",
       "    }\n",
       "\n",
       "    .dataframe thead th {\n",
       "        text-align: right;\n",
       "    }\n",
       "</style>\n",
       "<table border=\"1\" class=\"dataframe\">\n",
       "  <thead>\n",
       "    <tr style=\"text-align: right;\">\n",
       "      <th></th>\n",
       "      <th>close</th>\n",
       "    </tr>\n",
       "    <tr>\n",
       "      <th>date</th>\n",
       "      <th></th>\n",
       "    </tr>\n",
       "  </thead>\n",
       "  <tbody>\n",
       "    <tr>\n",
       "      <th>2017-11-09</th>\n",
       "      <td>0.001415</td>\n",
       "    </tr>\n",
       "    <tr>\n",
       "      <th>2017-11-10</th>\n",
       "      <td>0.001163</td>\n",
       "    </tr>\n",
       "    <tr>\n",
       "      <th>2017-11-11</th>\n",
       "      <td>0.001201</td>\n",
       "    </tr>\n",
       "    <tr>\n",
       "      <th>2017-11-12</th>\n",
       "      <td>0.001038</td>\n",
       "    </tr>\n",
       "    <tr>\n",
       "      <th>2017-11-13</th>\n",
       "      <td>0.001211</td>\n",
       "    </tr>\n",
       "    <tr>\n",
       "      <th>...</th>\n",
       "      <td>...</td>\n",
       "    </tr>\n",
       "    <tr>\n",
       "      <th>2021-08-02</th>\n",
       "      <td>0.203600</td>\n",
       "    </tr>\n",
       "    <tr>\n",
       "      <th>2021-08-03</th>\n",
       "      <td>0.195967</td>\n",
       "    </tr>\n",
       "    <tr>\n",
       "      <th>2021-08-04</th>\n",
       "      <td>0.201490</td>\n",
       "    </tr>\n",
       "    <tr>\n",
       "      <th>2021-08-05</th>\n",
       "      <td>0.200974</td>\n",
       "    </tr>\n",
       "    <tr>\n",
       "      <th>2021-08-06</th>\n",
       "      <td>0.204688</td>\n",
       "    </tr>\n",
       "  </tbody>\n",
       "</table>\n",
       "<p>1367 rows × 1 columns</p>\n",
       "</div>"
      ],
      "text/plain": [
       "               close\n",
       "date                \n",
       "2017-11-09  0.001415\n",
       "2017-11-10  0.001163\n",
       "2017-11-11  0.001201\n",
       "2017-11-12  0.001038\n",
       "2017-11-13  0.001211\n",
       "...              ...\n",
       "2021-08-02  0.203600\n",
       "2021-08-03  0.195967\n",
       "2021-08-04  0.201490\n",
       "2021-08-05  0.200974\n",
       "2021-08-06  0.204688\n",
       "\n",
       "[1367 rows x 1 columns]"
      ]
     },
     "execution_count": 17,
     "metadata": {},
     "output_type": "execute_result"
    }
   ],
   "source": [
    "train"
   ]
  },
  {
   "cell_type": "code",
   "execution_count": 18,
   "id": "b25ba66a",
   "metadata": {},
   "outputs": [
    {
     "data": {
      "text/html": [
       "<div>\n",
       "<style scoped>\n",
       "    .dataframe tbody tr th:only-of-type {\n",
       "        vertical-align: middle;\n",
       "    }\n",
       "\n",
       "    .dataframe tbody tr th {\n",
       "        vertical-align: top;\n",
       "    }\n",
       "\n",
       "    .dataframe thead th {\n",
       "        text-align: right;\n",
       "    }\n",
       "</style>\n",
       "<table border=\"1\" class=\"dataframe\">\n",
       "  <thead>\n",
       "    <tr style=\"text-align: right;\">\n",
       "      <th></th>\n",
       "      <th>close</th>\n",
       "    </tr>\n",
       "    <tr>\n",
       "      <th>date</th>\n",
       "      <th></th>\n",
       "    </tr>\n",
       "  </thead>\n",
       "  <tbody>\n",
       "    <tr>\n",
       "      <th>2021-08-07</th>\n",
       "      <td>0.260341</td>\n",
       "    </tr>\n",
       "    <tr>\n",
       "      <th>2021-08-08</th>\n",
       "      <td>0.240045</td>\n",
       "    </tr>\n",
       "    <tr>\n",
       "      <th>2021-08-09</th>\n",
       "      <td>0.256897</td>\n",
       "    </tr>\n",
       "    <tr>\n",
       "      <th>2021-08-10</th>\n",
       "      <td>0.257325</td>\n",
       "    </tr>\n",
       "    <tr>\n",
       "      <th>2021-08-11</th>\n",
       "      <td>0.265263</td>\n",
       "    </tr>\n",
       "    <tr>\n",
       "      <th>...</th>\n",
       "      <td>...</td>\n",
       "    </tr>\n",
       "    <tr>\n",
       "      <th>2022-07-09</th>\n",
       "      <td>0.069512</td>\n",
       "    </tr>\n",
       "    <tr>\n",
       "      <th>2022-07-10</th>\n",
       "      <td>0.067263</td>\n",
       "    </tr>\n",
       "    <tr>\n",
       "      <th>2022-07-11</th>\n",
       "      <td>0.061847</td>\n",
       "    </tr>\n",
       "    <tr>\n",
       "      <th>2022-07-12</th>\n",
       "      <td>0.060087</td>\n",
       "    </tr>\n",
       "    <tr>\n",
       "      <th>2022-07-13</th>\n",
       "      <td>0.061953</td>\n",
       "    </tr>\n",
       "  </tbody>\n",
       "</table>\n",
       "<p>341 rows × 1 columns</p>\n",
       "</div>"
      ],
      "text/plain": [
       "               close\n",
       "date                \n",
       "2021-08-07  0.260341\n",
       "2021-08-08  0.240045\n",
       "2021-08-09  0.256897\n",
       "2021-08-10  0.257325\n",
       "2021-08-11  0.265263\n",
       "...              ...\n",
       "2022-07-09  0.069512\n",
       "2022-07-10  0.067263\n",
       "2022-07-11  0.061847\n",
       "2022-07-12  0.060087\n",
       "2022-07-13  0.061953\n",
       "\n",
       "[341 rows x 1 columns]"
      ]
     },
     "execution_count": 18,
     "metadata": {},
     "output_type": "execute_result"
    }
   ],
   "source": [
    "test"
   ]
  },
  {
   "cell_type": "code",
   "execution_count": 19,
   "id": "2c3f65b5",
   "metadata": {},
   "outputs": [
    {
     "data": {
      "text/plain": [
       "array([[0.00055138],\n",
       "       [0.00018282],\n",
       "       [0.0002384 ],\n",
       "       ...,\n",
       "       [0.08893598],\n",
       "       [0.0863619 ],\n",
       "       [0.08909101]])"
      ]
     },
     "execution_count": 19,
     "metadata": {},
     "output_type": "execute_result"
    }
   ],
   "source": [
    "# Perform MinMax scaling\n",
    "scaler=MinMaxScaler(feature_range=(0,1))\n",
    "df1=scaler.fit_transform(np.array(data).reshape(-1,1))\n",
    "df1"
   ]
  },
  {
   "cell_type": "code",
   "execution_count": 20,
   "id": "48596a15",
   "metadata": {},
   "outputs": [
    {
     "data": {
      "text/plain": [
       "(1366, 1367)"
      ]
     },
     "execution_count": 20,
     "metadata": {},
     "output_type": "execute_result"
    }
   ],
   "source": [
    "##splitting dataset into train and test split\n",
    "training_size=int(len(df1)*0.8)\n",
    "# test_size=len(df1)-training_size\n",
    "\n",
    "test_size = 0.2\n",
    "split_row = len(df1) - int(test_size * len(df1))\n",
    "# train_data = df.iloc[:split_row]\n",
    "# test_data = df.iloc[split_row:]\n",
    "    \n",
    "train_scaled,test_scaled=df1[0:split_row,:],df1[split_row:,]\n",
    "training_size,split_row"
   ]
  },
  {
   "cell_type": "code",
   "execution_count": 21,
   "id": "e8c5cd44",
   "metadata": {},
   "outputs": [
    {
     "data": {
      "text/plain": [
       "((1367, 1), (341, 1))"
      ]
     },
     "execution_count": 21,
     "metadata": {},
     "output_type": "execute_result"
    }
   ],
   "source": [
    "train_scaled.shape,test_scaled.shape"
   ]
  },
  {
   "cell_type": "code",
   "execution_count": 22,
   "id": "119a0282",
   "metadata": {},
   "outputs": [
    {
     "data": {
      "text/plain": [
       "array([[5.51379986e-04],\n",
       "       [1.82818298e-04],\n",
       "       [2.38395060e-04],\n",
       "       ...,\n",
       "       [2.93170347e-01],\n",
       "       [2.92415673e-01],\n",
       "       [2.97847570e-01]])"
      ]
     },
     "execution_count": 22,
     "metadata": {},
     "output_type": "execute_result"
    }
   ],
   "source": [
    "train_scaled"
   ]
  },
  {
   "cell_type": "code",
   "execution_count": 23,
   "id": "a27a7f05",
   "metadata": {},
   "outputs": [
    {
     "data": {
      "text/plain": [
       "array([[0.37924266],\n",
       "       [0.34955882],\n",
       "       [0.37420565],\n",
       "       [0.37483162],\n",
       "       [0.38644132],\n",
       "       [0.38447858],\n",
       "       [0.41795188],\n",
       "       [0.42717323],\n",
       "       [0.49785518],\n",
       "       [0.46754244],\n",
       "       [0.43642969],\n",
       "       [0.44271425],\n",
       "       [0.46231969],\n",
       "       [0.47745265],\n",
       "       [0.46181218],\n",
       "       [0.45912987],\n",
       "       [0.46344585],\n",
       "       [0.42077606],\n",
       "       [0.42587596],\n",
       "       [0.39177376],\n",
       "       [0.4291038 ],\n",
       "       [0.41622754],\n",
       "       [0.40964023],\n",
       "       [0.39647731],\n",
       "       [0.4057323 ],\n",
       "       [0.42905699],\n",
       "       [0.43132979],\n",
       "       [0.43179488],\n",
       "       [0.43635071],\n",
       "       [0.4584922 ],\n",
       "       [0.45006501],\n",
       "       [0.36959425],\n",
       "       [0.37452156],\n",
       "       [0.36791524],\n",
       "       [0.34946668],\n",
       "       [0.35158737],\n",
       "       [0.36502086],\n",
       "       [0.34350534],\n",
       "       [0.35052995],\n",
       "       [0.36075023],\n",
       "       [0.35322981],\n",
       "       [0.34939063],\n",
       "       [0.3515201 ],\n",
       "       [0.33946287],\n",
       "       [0.30133282],\n",
       "       [0.29249319],\n",
       "       [0.32734713],\n",
       "       [0.3273091 ],\n",
       "       [0.30481368],\n",
       "       [0.30362755],\n",
       "       [0.29824831],\n",
       "       [0.29137434],\n",
       "       [0.28631685],\n",
       "       [0.28934725],\n",
       "       [0.2971982 ],\n",
       "       [0.32464435],\n",
       "       [0.31897405],\n",
       "       [0.32279861],\n",
       "       [0.3507391 ],\n",
       "       [0.36706697],\n",
       "       [0.37162719],\n",
       "       [0.35376803],\n",
       "       [0.35512527],\n",
       "       [0.35913996],\n",
       "       [0.33458235],\n",
       "       [0.33706575],\n",
       "       [0.3293713 ],\n",
       "       [0.33862921],\n",
       "       [0.33819191],\n",
       "       [0.34039889],\n",
       "       [0.34553243],\n",
       "       [0.34641874],\n",
       "       [0.36014181],\n",
       "       [0.35795823],\n",
       "       [0.37010467],\n",
       "       [0.35298996],\n",
       "       [0.35566642],\n",
       "       [0.36665306],\n",
       "       [0.40367743],\n",
       "       [0.38562814],\n",
       "       [0.37250179],\n",
       "       [0.34611453],\n",
       "       [0.43789955],\n",
       "       [0.41948024],\n",
       "       [0.39094889],\n",
       "       [0.40835172],\n",
       "       [0.39589668],\n",
       "       [0.39793401],\n",
       "       [0.39250211],\n",
       "       [0.38354109],\n",
       "       [0.38088657],\n",
       "       [0.38151985],\n",
       "       [0.38797992],\n",
       "       [0.41144501],\n",
       "       [0.39852634],\n",
       "       [0.37246815],\n",
       "       [0.38045073],\n",
       "       [0.37788688],\n",
       "       [0.38123904],\n",
       "       [0.38300287],\n",
       "       [0.37366744],\n",
       "       [0.34546954],\n",
       "       [0.34581763],\n",
       "       [0.32226478],\n",
       "       [0.33941606],\n",
       "       [0.33929028],\n",
       "       [0.32949707],\n",
       "       [0.31976822],\n",
       "       [0.32976618],\n",
       "       [0.32291123],\n",
       "       [0.31486869],\n",
       "       [0.29228843],\n",
       "       [0.29881139],\n",
       "       [0.3019193 ],\n",
       "       [0.31318529],\n",
       "       [0.31251252],\n",
       "       [0.30486633],\n",
       "       [0.30521588],\n",
       "       [0.29098092],\n",
       "       [0.26006268],\n",
       "       [0.24895026],\n",
       "       [0.25940015],\n",
       "       [0.25706739],\n",
       "       [0.26049852],\n",
       "       [0.24636009],\n",
       "       [0.23895668],\n",
       "       [0.24568   ],\n",
       "       [0.24695534],\n",
       "       [0.228928  ],\n",
       "       [0.26196985],\n",
       "       [0.2633227 ],\n",
       "       [0.2521664 ],\n",
       "       [0.24566684],\n",
       "       [0.25062487],\n",
       "       [0.24649464],\n",
       "       [0.24319806],\n",
       "       [0.24883325],\n",
       "       [0.25181539],\n",
       "       [0.26830706],\n",
       "       [0.27142521],\n",
       "       [0.27732658],\n",
       "       [0.27639494],\n",
       "       [0.27300915],\n",
       "       [0.25313607],\n",
       "       [0.24384597],\n",
       "       [0.24903509],\n",
       "       [0.24784018],\n",
       "       [0.25155359],\n",
       "       [0.25355435],\n",
       "       [0.24724347],\n",
       "       [0.24536409],\n",
       "       [0.23164102],\n",
       "       [0.23280082],\n",
       "       [0.2252102 ],\n",
       "       [0.22072165],\n",
       "       [0.21942145],\n",
       "       [0.20815106],\n",
       "       [0.22283503],\n",
       "       [0.23490542],\n",
       "       [0.25010274],\n",
       "       [0.2669308 ],\n",
       "       [0.2692036 ],\n",
       "       [0.25760999],\n",
       "       [0.24878938],\n",
       "       [0.24051136],\n",
       "       [0.23593506],\n",
       "       [0.22547493],\n",
       "       [0.20709949],\n",
       "       [0.19284259],\n",
       "       [0.20596309],\n",
       "       [0.20001784],\n",
       "       [0.20769767],\n",
       "       [0.20877996],\n",
       "       [0.20506217],\n",
       "       [0.20566035],\n",
       "       [0.20770791],\n",
       "       [0.20246468],\n",
       "       [0.20587827],\n",
       "       [0.20708633],\n",
       "       [0.19919443],\n",
       "       [0.19964197],\n",
       "       [0.21421186],\n",
       "       [0.21368241],\n",
       "       [0.22337763],\n",
       "       [0.24064738],\n",
       "       [0.23015654],\n",
       "       [0.23120664],\n",
       "       [0.22062658],\n",
       "       [0.21032733],\n",
       "       [0.20968089],\n",
       "       [0.21632524],\n",
       "       [0.21201804],\n",
       "       [0.22043938],\n",
       "       [0.21654023],\n",
       "       [0.2011206 ],\n",
       "       [0.20143651],\n",
       "       [0.2050022 ],\n",
       "       [0.19865767],\n",
       "       [0.18640446],\n",
       "       [0.19088424],\n",
       "       [0.18546258],\n",
       "       [0.17956413],\n",
       "       [0.18506769],\n",
       "       [0.18517153],\n",
       "       [0.17853742],\n",
       "       [0.1932287 ],\n",
       "       [0.19437241],\n",
       "       [0.19298592],\n",
       "       [0.18804251],\n",
       "       [0.1777769 ],\n",
       "       [0.18129432],\n",
       "       [0.17510775],\n",
       "       [0.16975337],\n",
       "       [0.16964222],\n",
       "       [0.17630997],\n",
       "       [0.16943161],\n",
       "       [0.16755516],\n",
       "       [0.16687362],\n",
       "       [0.16171375],\n",
       "       [0.16528237],\n",
       "       [0.16343371],\n",
       "       [0.16946525],\n",
       "       [0.16887146],\n",
       "       [0.17297244],\n",
       "       [0.17920727],\n",
       "       [0.17275013],\n",
       "       [0.1730207 ],\n",
       "       [0.17761602],\n",
       "       [0.18821363],\n",
       "       [0.19819259],\n",
       "       [0.19009447],\n",
       "       [0.19719513],\n",
       "       [0.21015914],\n",
       "       [0.20712436],\n",
       "       [0.20977595],\n",
       "       [0.20793314],\n",
       "       [0.20005879],\n",
       "       [0.20516162],\n",
       "       [0.20164858],\n",
       "       [0.21267618],\n",
       "       [0.21580311],\n",
       "       [0.25136638],\n",
       "       [0.20823589],\n",
       "       [0.21216283],\n",
       "       [0.2069664 ],\n",
       "       [0.20953171],\n",
       "       [0.21718375],\n",
       "       [0.1954196 ],\n",
       "       [0.20042443],\n",
       "       [0.20335537],\n",
       "       [0.20897155],\n",
       "       [0.21205167],\n",
       "       [0.20866734],\n",
       "       [0.20244713],\n",
       "       [0.20365666],\n",
       "       [0.20713606],\n",
       "       [0.20452249],\n",
       "       [0.19792201],\n",
       "       [0.19796589],\n",
       "       [0.19481557],\n",
       "       [0.19146048],\n",
       "       [0.22950424],\n",
       "       [0.1999725 ],\n",
       "       [0.20279961],\n",
       "       [0.19938164],\n",
       "       [0.19596513],\n",
       "       [0.18503991],\n",
       "       [0.19266855],\n",
       "       [0.18998477],\n",
       "       [0.18791088],\n",
       "       [0.19710884],\n",
       "       [0.18631671],\n",
       "       [0.18554302],\n",
       "       [0.18500334],\n",
       "       [0.18014038],\n",
       "       [0.15179184],\n",
       "       [0.15713452],\n",
       "       [0.12218551],\n",
       "       [0.11939205],\n",
       "       [0.12767006],\n",
       "       [0.12981269],\n",
       "       [0.13426907],\n",
       "       [0.12695341],\n",
       "       [0.13042257],\n",
       "       [0.12082242],\n",
       "       [0.12531829],\n",
       "       [0.12130213],\n",
       "       [0.12201293],\n",
       "       [0.12441443],\n",
       "       [0.12024325],\n",
       "       [0.12080487],\n",
       "       [0.11985129],\n",
       "       [0.11292906],\n",
       "       [0.11743809],\n",
       "       [0.11817521],\n",
       "       [0.11941399],\n",
       "       [0.12699729],\n",
       "       [0.12406342],\n",
       "       [0.11703004],\n",
       "       [0.11953977],\n",
       "       [0.11613203],\n",
       "       [0.11808453],\n",
       "       [0.11728306],\n",
       "       [0.11918583],\n",
       "       [0.11623587],\n",
       "       [0.1146651 ],\n",
       "       [0.11451446],\n",
       "       [0.10883685],\n",
       "       [0.10070656],\n",
       "       [0.09257626],\n",
       "       [0.07734384],\n",
       "       [0.07978776],\n",
       "       [0.0906223 ],\n",
       "       [0.07896434],\n",
       "       [0.08183971],\n",
       "       [0.07601439],\n",
       "       [0.08681383],\n",
       "       [0.08649353],\n",
       "       [0.09438251],\n",
       "       [0.08873708],\n",
       "       [0.09213165],\n",
       "       [0.09665384],\n",
       "       [0.09867069],\n",
       "       [0.10550663],\n",
       "       [0.10413476],\n",
       "       [0.09494705],\n",
       "       [0.10008205],\n",
       "       [0.09513572],\n",
       "       [0.09526588],\n",
       "       [0.0960308 ],\n",
       "       [0.09673428],\n",
       "       [0.1000879 ],\n",
       "       [0.09669918],\n",
       "       [0.0987877 ],\n",
       "       [0.10176836],\n",
       "       [0.09977345],\n",
       "       [0.1001464 ],\n",
       "       [0.09685713],\n",
       "       [0.08893598],\n",
       "       [0.0863619 ],\n",
       "       [0.08909101]])"
      ]
     },
     "execution_count": 23,
     "metadata": {},
     "output_type": "execute_result"
    }
   ],
   "source": [
    "test_scaled"
   ]
  },
  {
   "cell_type": "code",
   "execution_count": 24,
   "id": "6c69a441",
   "metadata": {},
   "outputs": [],
   "source": [
    "# convert an array of values into a dataset matrix\n",
    "def create_dataset(dataset, time_step=1):\n",
    "    dataX, dataY = [], []\n",
    "    for i in range(len(dataset)-time_step-1):\n",
    "        a = dataset[i:(i+time_step), 0]   ###i=0, 0,1,2,3-----99   100 \n",
    "        dataX.append(a)\n",
    "        dataY.append(dataset[i + time_step, 0])\n",
    "    return np.array(dataX), np.array(dataY)"
   ]
  },
  {
   "cell_type": "code",
   "execution_count": 25,
   "id": "7e257e59",
   "metadata": {},
   "outputs": [],
   "source": [
    "# reshape into X=t,t+1,t+2,t+3 and Y=t+4\n",
    "time_step = 30\n",
    "X_train, y_train = create_dataset(train_scaled, time_step)\n",
    "X_test, ytest = create_dataset(test_scaled, time_step)"
   ]
  },
  {
   "cell_type": "code",
   "execution_count": 26,
   "id": "70cf0a45",
   "metadata": {},
   "outputs": [
    {
     "name": "stdout",
     "output_type": "stream",
     "text": [
      "(1336, 30)\n",
      "(1336,)\n"
     ]
    },
    {
     "data": {
      "text/plain": [
       "(None, None)"
      ]
     },
     "execution_count": 26,
     "metadata": {},
     "output_type": "execute_result"
    }
   ],
   "source": [
    "print(X_train.shape), print(y_train.shape)"
   ]
  },
  {
   "cell_type": "code",
   "execution_count": 27,
   "id": "561ed04b",
   "metadata": {},
   "outputs": [
    {
     "name": "stdout",
     "output_type": "stream",
     "text": [
      "(310, 30)\n",
      "(310,)\n"
     ]
    },
    {
     "data": {
      "text/plain": [
       "(None, None)"
      ]
     },
     "execution_count": 27,
     "metadata": {},
     "output_type": "execute_result"
    }
   ],
   "source": [
    "print(X_test.shape), print(ytest.shape)"
   ]
  },
  {
   "cell_type": "code",
   "execution_count": 28,
   "id": "17ba53b9",
   "metadata": {},
   "outputs": [],
   "source": [
    "# reshape input to be [samples, time steps, features] which is required for LSTM\n",
    "X_train =X_train.reshape(X_train.shape[0],X_train.shape[1] , 1)\n",
    "X_test = X_test.reshape(X_test.shape[0],X_test.shape[1] , 1)"
   ]
  },
  {
   "cell_type": "code",
   "execution_count": 29,
   "id": "f8732a2d",
   "metadata": {},
   "outputs": [
    {
     "name": "stdout",
     "output_type": "stream",
     "text": [
      "(1336, 30, 1)\n",
      "(1336,)\n"
     ]
    },
    {
     "data": {
      "text/plain": [
       "(None, None)"
      ]
     },
     "execution_count": 29,
     "metadata": {},
     "output_type": "execute_result"
    }
   ],
   "source": [
    "print(X_train.shape), print(y_train.shape)"
   ]
  },
  {
   "cell_type": "code",
   "execution_count": 30,
   "id": "29d30983",
   "metadata": {},
   "outputs": [
    {
     "name": "stdout",
     "output_type": "stream",
     "text": [
      "(310, 30, 1)\n",
      "(310,)\n"
     ]
    },
    {
     "data": {
      "text/plain": [
       "(None, None)"
      ]
     },
     "execution_count": 30,
     "metadata": {},
     "output_type": "execute_result"
    }
   ],
   "source": [
    "print(X_test.shape), print(ytest.shape)"
   ]
  },
  {
   "cell_type": "code",
   "execution_count": 31,
   "id": "8784e8dc",
   "metadata": {},
   "outputs": [
    {
     "data": {
      "text/plain": [
       "array([[[0.37924266],\n",
       "        [0.34955882],\n",
       "        [0.37420565],\n",
       "        ...,\n",
       "        [0.43179488],\n",
       "        [0.43635071],\n",
       "        [0.4584922 ]],\n",
       "\n",
       "       [[0.34955882],\n",
       "        [0.37420565],\n",
       "        [0.37483162],\n",
       "        ...,\n",
       "        [0.43635071],\n",
       "        [0.4584922 ],\n",
       "        [0.45006501]],\n",
       "\n",
       "       [[0.37420565],\n",
       "        [0.37483162],\n",
       "        [0.38644132],\n",
       "        ...,\n",
       "        [0.4584922 ],\n",
       "        [0.45006501],\n",
       "        [0.36959425]],\n",
       "\n",
       "       ...,\n",
       "\n",
       "       [[0.10883685],\n",
       "        [0.10070656],\n",
       "        [0.09257626],\n",
       "        ...,\n",
       "        [0.10176836],\n",
       "        [0.09977345],\n",
       "        [0.1001464 ]],\n",
       "\n",
       "       [[0.10070656],\n",
       "        [0.09257626],\n",
       "        [0.07734384],\n",
       "        ...,\n",
       "        [0.09977345],\n",
       "        [0.1001464 ],\n",
       "        [0.09685713]],\n",
       "\n",
       "       [[0.09257626],\n",
       "        [0.07734384],\n",
       "        [0.07978776],\n",
       "        ...,\n",
       "        [0.1001464 ],\n",
       "        [0.09685713],\n",
       "        [0.08893598]]])"
      ]
     },
     "execution_count": 31,
     "metadata": {},
     "output_type": "execute_result"
    }
   ],
   "source": [
    "X_test"
   ]
  },
  {
   "cell_type": "code",
   "execution_count": 32,
   "id": "e4d85568",
   "metadata": {},
   "outputs": [
    {
     "data": {
      "text/plain": [
       "array([0.45006501, 0.36959425, 0.37452156, 0.36791524, 0.34946668,\n",
       "       0.35158737, 0.36502086, 0.34350534, 0.35052995, 0.36075023,\n",
       "       0.35322981, 0.34939063, 0.3515201 , 0.33946287, 0.30133282,\n",
       "       0.29249319, 0.32734713, 0.3273091 , 0.30481368, 0.30362755,\n",
       "       0.29824831, 0.29137434, 0.28631685, 0.28934725, 0.2971982 ,\n",
       "       0.32464435, 0.31897405, 0.32279861, 0.3507391 , 0.36706697,\n",
       "       0.37162719, 0.35376803, 0.35512527, 0.35913996, 0.33458235,\n",
       "       0.33706575, 0.3293713 , 0.33862921, 0.33819191, 0.34039889,\n",
       "       0.34553243, 0.34641874, 0.36014181, 0.35795823, 0.37010467,\n",
       "       0.35298996, 0.35566642, 0.36665306, 0.40367743, 0.38562814,\n",
       "       0.37250179, 0.34611453, 0.43789955, 0.41948024, 0.39094889,\n",
       "       0.40835172, 0.39589668, 0.39793401, 0.39250211, 0.38354109,\n",
       "       0.38088657, 0.38151985, 0.38797992, 0.41144501, 0.39852634,\n",
       "       0.37246815, 0.38045073, 0.37788688, 0.38123904, 0.38300287,\n",
       "       0.37366744, 0.34546954, 0.34581763, 0.32226478, 0.33941606,\n",
       "       0.33929028, 0.32949707, 0.31976822, 0.32976618, 0.32291123,\n",
       "       0.31486869, 0.29228843, 0.29881139, 0.3019193 , 0.31318529,\n",
       "       0.31251252, 0.30486633, 0.30521588, 0.29098092, 0.26006268,\n",
       "       0.24895026, 0.25940015, 0.25706739, 0.26049852, 0.24636009,\n",
       "       0.23895668, 0.24568   , 0.24695534, 0.228928  , 0.26196985,\n",
       "       0.2633227 , 0.2521664 , 0.24566684, 0.25062487, 0.24649464,\n",
       "       0.24319806, 0.24883325, 0.25181539, 0.26830706, 0.27142521,\n",
       "       0.27732658, 0.27639494, 0.27300915, 0.25313607, 0.24384597,\n",
       "       0.24903509, 0.24784018, 0.25155359, 0.25355435, 0.24724347,\n",
       "       0.24536409, 0.23164102, 0.23280082, 0.2252102 , 0.22072165,\n",
       "       0.21942145, 0.20815106, 0.22283503, 0.23490542, 0.25010274,\n",
       "       0.2669308 , 0.2692036 , 0.25760999, 0.24878938, 0.24051136,\n",
       "       0.23593506, 0.22547493, 0.20709949, 0.19284259, 0.20596309,\n",
       "       0.20001784, 0.20769767, 0.20877996, 0.20506217, 0.20566035,\n",
       "       0.20770791, 0.20246468, 0.20587827, 0.20708633, 0.19919443,\n",
       "       0.19964197, 0.21421186, 0.21368241, 0.22337763, 0.24064738,\n",
       "       0.23015654, 0.23120664, 0.22062658, 0.21032733, 0.20968089,\n",
       "       0.21632524, 0.21201804, 0.22043938, 0.21654023, 0.2011206 ,\n",
       "       0.20143651, 0.2050022 , 0.19865767, 0.18640446, 0.19088424,\n",
       "       0.18546258, 0.17956413, 0.18506769, 0.18517153, 0.17853742,\n",
       "       0.1932287 , 0.19437241, 0.19298592, 0.18804251, 0.1777769 ,\n",
       "       0.18129432, 0.17510775, 0.16975337, 0.16964222, 0.17630997,\n",
       "       0.16943161, 0.16755516, 0.16687362, 0.16171375, 0.16528237,\n",
       "       0.16343371, 0.16946525, 0.16887146, 0.17297244, 0.17920727,\n",
       "       0.17275013, 0.1730207 , 0.17761602, 0.18821363, 0.19819259,\n",
       "       0.19009447, 0.19719513, 0.21015914, 0.20712436, 0.20977595,\n",
       "       0.20793314, 0.20005879, 0.20516162, 0.20164858, 0.21267618,\n",
       "       0.21580311, 0.25136638, 0.20823589, 0.21216283, 0.2069664 ,\n",
       "       0.20953171, 0.21718375, 0.1954196 , 0.20042443, 0.20335537,\n",
       "       0.20897155, 0.21205167, 0.20866734, 0.20244713, 0.20365666,\n",
       "       0.20713606, 0.20452249, 0.19792201, 0.19796589, 0.19481557,\n",
       "       0.19146048, 0.22950424, 0.1999725 , 0.20279961, 0.19938164,\n",
       "       0.19596513, 0.18503991, 0.19266855, 0.18998477, 0.18791088,\n",
       "       0.19710884, 0.18631671, 0.18554302, 0.18500334, 0.18014038,\n",
       "       0.15179184, 0.15713452, 0.12218551, 0.11939205, 0.12767006,\n",
       "       0.12981269, 0.13426907, 0.12695341, 0.13042257, 0.12082242,\n",
       "       0.12531829, 0.12130213, 0.12201293, 0.12441443, 0.12024325,\n",
       "       0.12080487, 0.11985129, 0.11292906, 0.11743809, 0.11817521,\n",
       "       0.11941399, 0.12699729, 0.12406342, 0.11703004, 0.11953977,\n",
       "       0.11613203, 0.11808453, 0.11728306, 0.11918583, 0.11623587,\n",
       "       0.1146651 , 0.11451446, 0.10883685, 0.10070656, 0.09257626,\n",
       "       0.07734384, 0.07978776, 0.0906223 , 0.07896434, 0.08183971,\n",
       "       0.07601439, 0.08681383, 0.08649353, 0.09438251, 0.08873708,\n",
       "       0.09213165, 0.09665384, 0.09867069, 0.10550663, 0.10413476,\n",
       "       0.09494705, 0.10008205, 0.09513572, 0.09526588, 0.0960308 ,\n",
       "       0.09673428, 0.1000879 , 0.09669918, 0.0987877 , 0.10176836,\n",
       "       0.09977345, 0.1001464 , 0.09685713, 0.08893598, 0.0863619 ])"
      ]
     },
     "execution_count": 32,
     "metadata": {},
     "output_type": "execute_result"
    }
   ],
   "source": [
    "ytest"
   ]
  },
  {
   "cell_type": "code",
   "execution_count": 33,
   "id": "77e7a222",
   "metadata": {},
   "outputs": [],
   "source": [
    "np.random.seed(42)\n",
    "tf.random.set_seed(42)\n",
    "window_len = 30\n",
    "test_size = 0.2\n",
    "zero_base = True\n",
    "lstm_neurons = 100\n",
    "epochs = 100\n",
    "batch_size = 32\n",
    "loss = 'mse'\n",
    "dropout = 0.2\n",
    "optimizer = 'adam'\n",
    "activ_func = \"relu\""
   ]
  },
  {
   "cell_type": "code",
   "execution_count": 34,
   "id": "084c168b",
   "metadata": {},
   "outputs": [],
   "source": [
    "# model = Sequential()\n",
    "# model.add(LSTM(100, input_shape=(X_train.shape[1], X_train.shape[2])))\n",
    "# model.add(Dropout(dropout))\n",
    "# model.add(Dense(units=1))\n",
    "# model.add(Activation(activ_func))\n",
    "# model.compile(loss=loss, optimizer=optimizer)\n",
    "# model.summary()"
   ]
  },
  {
   "cell_type": "code",
   "execution_count": 35,
   "id": "76e505f6",
   "metadata": {},
   "outputs": [],
   "source": [
    "model=Sequential()\n",
    "model.add(LSTM(50,return_sequences=True,input_shape=(X_train.shape[1], X_train.shape[2])))\n",
    "model.add(LSTM(50,return_sequences=True))\n",
    "model.add(LSTM(50))\n",
    "model.add(Dense(1))\n",
    "model.compile(loss='mean_squared_error',optimizer='adam')"
   ]
  },
  {
   "cell_type": "code",
   "execution_count": 36,
   "id": "eba7e5d9",
   "metadata": {},
   "outputs": [
    {
     "name": "stdout",
     "output_type": "stream",
     "text": [
      "Epoch 1/100\n",
      "42/42 [==============================] - 9s 36ms/step - loss: 0.0047\n",
      "Epoch 2/100\n",
      "42/42 [==============================] - 1s 35ms/step - loss: 0.0019\n",
      "Epoch 3/100\n",
      "42/42 [==============================] - 1s 35ms/step - loss: 0.0019\n",
      "Epoch 4/100\n",
      "42/42 [==============================] - 1s 34ms/step - loss: 0.0016\n",
      "Epoch 5/100\n",
      "42/42 [==============================] - 1s 34ms/step - loss: 0.0014\n",
      "Epoch 6/100\n",
      "42/42 [==============================] - 1s 35ms/step - loss: 0.0014\n",
      "Epoch 7/100\n",
      "42/42 [==============================] - 1s 35ms/step - loss: 0.0021\n",
      "Epoch 8/100\n",
      "42/42 [==============================] - 1s 34ms/step - loss: 0.0014\n",
      "Epoch 9/100\n",
      "42/42 [==============================] - 1s 34ms/step - loss: 0.0013\n",
      "Epoch 10/100\n",
      "42/42 [==============================] - 2s 43ms/step - loss: 0.0012\n",
      "Epoch 11/100\n",
      "42/42 [==============================] - 2s 40ms/step - loss: 0.0011\n",
      "Epoch 12/100\n",
      "42/42 [==============================] - 2s 40ms/step - loss: 0.0012\n",
      "Epoch 13/100\n",
      "42/42 [==============================] - 2s 38ms/step - loss: 0.0011\n",
      "Epoch 14/100\n",
      "42/42 [==============================] - 2s 40ms/step - loss: 9.3216e-04\n",
      "Epoch 15/100\n",
      "42/42 [==============================] - 2s 42ms/step - loss: 7.9466e-04\n",
      "Epoch 16/100\n",
      "42/42 [==============================] - 2s 45ms/step - loss: 8.0352e-04\n",
      "Epoch 17/100\n",
      "42/42 [==============================] - 2s 45ms/step - loss: 6.6239e-04\n",
      "Epoch 18/100\n",
      "42/42 [==============================] - 2s 43ms/step - loss: 5.6587e-04\n",
      "Epoch 19/100\n",
      "42/42 [==============================] - 2s 45ms/step - loss: 5.7925e-04\n",
      "Epoch 20/100\n",
      "42/42 [==============================] - 2s 44ms/step - loss: 6.0650e-04\n",
      "Epoch 21/100\n",
      "42/42 [==============================] - 2s 46ms/step - loss: 4.9710e-04\n",
      "Epoch 22/100\n",
      "42/42 [==============================] - 2s 45ms/step - loss: 4.0924e-04\n",
      "Epoch 23/100\n",
      "42/42 [==============================] - 2s 44ms/step - loss: 4.5193e-04\n",
      "Epoch 24/100\n",
      "42/42 [==============================] - 2s 41ms/step - loss: 4.8849e-04\n",
      "Epoch 25/100\n",
      "42/42 [==============================] - 2s 41ms/step - loss: 6.4014e-04\n",
      "Epoch 26/100\n",
      "42/42 [==============================] - 2s 41ms/step - loss: 4.2956e-04\n",
      "Epoch 27/100\n",
      "42/42 [==============================] - 2s 40ms/step - loss: 5.7761e-04\n",
      "Epoch 28/100\n",
      "42/42 [==============================] - 2s 41ms/step - loss: 4.3097e-04\n",
      "Epoch 29/100\n",
      "42/42 [==============================] - 2s 42ms/step - loss: 4.0949e-04\n",
      "Epoch 30/100\n",
      "42/42 [==============================] - 2s 40ms/step - loss: 4.3219e-04\n",
      "Epoch 31/100\n",
      "42/42 [==============================] - 2s 41ms/step - loss: 3.7982e-04\n",
      "Epoch 32/100\n",
      "42/42 [==============================] - 2s 41ms/step - loss: 4.5821e-04\n",
      "Epoch 33/100\n",
      "42/42 [==============================] - 2s 40ms/step - loss: 4.5644e-04\n",
      "Epoch 34/100\n",
      "42/42 [==============================] - 2s 40ms/step - loss: 4.5260e-04\n",
      "Epoch 35/100\n",
      "42/42 [==============================] - 2s 41ms/step - loss: 3.9620e-04\n",
      "Epoch 36/100\n",
      "42/42 [==============================] - 2s 40ms/step - loss: 4.1301e-04\n",
      "Epoch 37/100\n",
      "42/42 [==============================] - 2s 41ms/step - loss: 4.1963e-04\n",
      "Epoch 38/100\n",
      "42/42 [==============================] - 2s 40ms/step - loss: 4.1461e-04\n",
      "Epoch 39/100\n",
      "42/42 [==============================] - 2s 40ms/step - loss: 3.7575e-04\n",
      "Epoch 40/100\n",
      "42/42 [==============================] - 2s 41ms/step - loss: 3.9919e-04\n",
      "Epoch 41/100\n",
      "42/42 [==============================] - 2s 41ms/step - loss: 3.7375e-04\n",
      "Epoch 42/100\n",
      "42/42 [==============================] - 2s 40ms/step - loss: 3.8165e-04\n",
      "Epoch 43/100\n",
      "42/42 [==============================] - 2s 39ms/step - loss: 4.3070e-04\n",
      "Epoch 44/100\n",
      "42/42 [==============================] - 2s 38ms/step - loss: 3.7703e-04\n",
      "Epoch 45/100\n",
      "42/42 [==============================] - 2s 38ms/step - loss: 4.5792e-04\n",
      "Epoch 46/100\n",
      "42/42 [==============================] - 2s 39ms/step - loss: 4.5476e-04\n",
      "Epoch 47/100\n",
      "42/42 [==============================] - 2s 38ms/step - loss: 4.2675e-04\n",
      "Epoch 48/100\n",
      "42/42 [==============================] - 2s 38ms/step - loss: 3.6753e-04\n",
      "Epoch 49/100\n",
      "42/42 [==============================] - 2s 38ms/step - loss: 4.4966e-04\n",
      "Epoch 50/100\n",
      "42/42 [==============================] - 2s 39ms/step - loss: 5.2385e-04\n",
      "Epoch 51/100\n",
      "42/42 [==============================] - 2s 38ms/step - loss: 3.7938e-04\n",
      "Epoch 52/100\n",
      "42/42 [==============================] - 2s 38ms/step - loss: 3.7721e-04\n",
      "Epoch 53/100\n",
      "42/42 [==============================] - 2s 40ms/step - loss: 3.6802e-04\n",
      "Epoch 54/100\n",
      "42/42 [==============================] - 2s 40ms/step - loss: 3.8754e-04\n",
      "Epoch 55/100\n",
      "42/42 [==============================] - 2s 40ms/step - loss: 4.2030e-04\n",
      "Epoch 56/100\n",
      "42/42 [==============================] - 2s 41ms/step - loss: 3.5437e-04\n",
      "Epoch 57/100\n",
      "42/42 [==============================] - 2s 42ms/step - loss: 4.4756e-04\n",
      "Epoch 58/100\n",
      "42/42 [==============================] - 2s 43ms/step - loss: 3.7363e-04\n",
      "Epoch 59/100\n",
      "42/42 [==============================] - 2s 42ms/step - loss: 4.7308e-04\n",
      "Epoch 60/100\n",
      "42/42 [==============================] - 2s 39ms/step - loss: 4.3279e-04\n",
      "Epoch 61/100\n",
      "42/42 [==============================] - 2s 40ms/step - loss: 5.0646e-04\n",
      "Epoch 62/100\n",
      "42/42 [==============================] - 2s 40ms/step - loss: 4.2424e-04\n",
      "Epoch 63/100\n",
      "42/42 [==============================] - 2s 38ms/step - loss: 3.6400e-04\n",
      "Epoch 64/100\n",
      "42/42 [==============================] - 2s 38ms/step - loss: 4.0924e-04\n",
      "Epoch 65/100\n",
      "42/42 [==============================] - 2s 39ms/step - loss: 4.0553e-04\n",
      "Epoch 66/100\n",
      "42/42 [==============================] - 2s 38ms/step - loss: 3.5394e-04\n",
      "Epoch 67/100\n",
      "42/42 [==============================] - 2s 38ms/step - loss: 3.7974e-04\n",
      "Epoch 68/100\n",
      "42/42 [==============================] - 2s 38ms/step - loss: 4.0036e-04\n",
      "Epoch 69/100\n",
      "42/42 [==============================] - 2s 37ms/step - loss: 3.5362e-04\n",
      "Epoch 70/100\n",
      "42/42 [==============================] - 2s 38ms/step - loss: 3.5742e-04\n",
      "Epoch 71/100\n",
      "42/42 [==============================] - 2s 38ms/step - loss: 3.6306e-04\n",
      "Epoch 72/100\n",
      "42/42 [==============================] - 2s 38ms/step - loss: 4.2029e-04\n",
      "Epoch 73/100\n",
      "42/42 [==============================] - 2s 37ms/step - loss: 3.4166e-04\n",
      "Epoch 74/100\n",
      "42/42 [==============================] - 2s 37ms/step - loss: 3.7414e-04\n",
      "Epoch 75/100\n",
      "42/42 [==============================] - 2s 38ms/step - loss: 4.1715e-04\n",
      "Epoch 76/100\n",
      "42/42 [==============================] - 2s 37ms/step - loss: 4.0711e-04\n",
      "Epoch 77/100\n",
      "42/42 [==============================] - 2s 37ms/step - loss: 3.2482e-04\n",
      "Epoch 78/100\n",
      "42/42 [==============================] - 2s 37ms/step - loss: 3.7417e-04\n",
      "Epoch 79/100\n",
      "42/42 [==============================] - 2s 37ms/step - loss: 4.0216e-04\n",
      "Epoch 80/100\n",
      "42/42 [==============================] - 2s 36ms/step - loss: 3.6662e-04\n",
      "Epoch 81/100\n",
      "42/42 [==============================] - 2s 46ms/step - loss: 3.9350e-04\n",
      "Epoch 82/100\n",
      "42/42 [==============================] - 2s 44ms/step - loss: 4.3295e-04\n",
      "Epoch 83/100\n",
      "42/42 [==============================] - 2s 45ms/step - loss: 3.2530e-04\n",
      "Epoch 84/100\n",
      "42/42 [==============================] - 2s 43ms/step - loss: 3.6862e-04\n",
      "Epoch 85/100\n",
      "42/42 [==============================] - 2s 42ms/step - loss: 3.4634e-04\n",
      "Epoch 86/100\n",
      "42/42 [==============================] - 2s 44ms/step - loss: 3.7881e-04\n",
      "Epoch 87/100\n",
      "42/42 [==============================] - 2s 43ms/step - loss: 3.8366e-04\n",
      "Epoch 88/100\n",
      "42/42 [==============================] - 2s 42ms/step - loss: 3.6387e-04\n",
      "Epoch 89/100\n",
      "42/42 [==============================] - 2s 42ms/step - loss: 3.2445e-04\n",
      "Epoch 90/100\n",
      "42/42 [==============================] - 2s 41ms/step - loss: 3.1588e-04\n",
      "Epoch 91/100\n",
      "42/42 [==============================] - 2s 39ms/step - loss: 4.0135e-04\n",
      "Epoch 92/100\n",
      "42/42 [==============================] - 2s 44ms/step - loss: 3.5496e-04\n",
      "Epoch 93/100\n",
      "42/42 [==============================] - 2s 41ms/step - loss: 3.5404e-04\n",
      "Epoch 94/100\n",
      "42/42 [==============================] - 2s 43ms/step - loss: 3.5950e-04\n",
      "Epoch 95/100\n",
      "42/42 [==============================] - 2s 41ms/step - loss: 3.3184e-04\n",
      "Epoch 96/100\n",
      "42/42 [==============================] - 2s 41ms/step - loss: 3.1184e-04\n"
     ]
    },
    {
     "name": "stdout",
     "output_type": "stream",
     "text": [
      "Epoch 97/100\n",
      "42/42 [==============================] - 2s 41ms/step - loss: 3.7667e-04\n",
      "Epoch 98/100\n",
      "42/42 [==============================] - 2s 40ms/step - loss: 4.0034e-04\n",
      "Epoch 99/100\n",
      "42/42 [==============================] - 2s 39ms/step - loss: 4.3321e-04\n",
      "Epoch 100/100\n",
      "42/42 [==============================] - 2s 41ms/step - loss: 3.3079e-04\n"
     ]
    }
   ],
   "source": [
    "history = model.fit(\n",
    "    X_train, y_train, epochs=epochs, batch_size=batch_size, verbose=1, shuffle=True)"
   ]
  },
  {
   "cell_type": "code",
   "execution_count": 37,
   "id": "baa9a840",
   "metadata": {},
   "outputs": [
    {
     "name": "stdout",
     "output_type": "stream",
     "text": [
      "42/42 [==============================] - 2s 13ms/step\n",
      "10/10 [==============================] - 0s 14ms/step\n"
     ]
    }
   ],
   "source": [
    "### Lets Do the prediction and check performance metrics\n",
    "train_predict=model.predict(X_train)\n",
    "test_predict=model.predict(X_test)"
   ]
  },
  {
   "cell_type": "code",
   "execution_count": 38,
   "id": "bdb24023",
   "metadata": {},
   "outputs": [
    {
     "data": {
      "text/plain": [
       "array([[0.42563495],\n",
       "       [0.4266775 ],\n",
       "       [0.37729084],\n",
       "       [0.33833635],\n",
       "       [0.32313964],\n",
       "       [0.31877548],\n",
       "       [0.32384562],\n",
       "       [0.33750883],\n",
       "       [0.3350613 ],\n",
       "       [0.32986096],\n",
       "       [0.33133477],\n",
       "       [0.33103845],\n",
       "       [0.32871953],\n",
       "       [0.32851365],\n",
       "       [0.3230735 ],\n",
       "       [0.29797533],\n",
       "       [0.2735891 ],\n",
       "       [0.28103787],\n",
       "       [0.29900843],\n",
       "       [0.29987565],\n",
       "       [0.29128212],\n",
       "       [0.279274  ],\n",
       "       [0.26823413],\n",
       "       [0.2612589 ],\n",
       "       [0.2620825 ],\n",
       "       [0.27072954],\n",
       "       [0.29335472],\n",
       "       [0.30698657],\n",
       "       [0.3105216 ],\n",
       "       [0.32188064],\n",
       "       [0.33860397],\n",
       "       [0.3501516 ],\n",
       "       [0.34201   ],\n",
       "       [0.32999122],\n",
       "       [0.32524312],\n",
       "       [0.31380817],\n",
       "       [0.3082261 ],\n",
       "       [0.30488285],\n",
       "       [0.30994326],\n",
       "       [0.31615534],\n",
       "       [0.3209802 ],\n",
       "       [0.3255237 ],\n",
       "       [0.32810813],\n",
       "       [0.3362367 ],\n",
       "       [0.34136072],\n",
       "       [0.34926033],\n",
       "       [0.3443274 ],\n",
       "       [0.3377637 ],\n",
       "       [0.33985984],\n",
       "       [0.36518526],\n",
       "       [0.37606728],\n",
       "       [0.3660022 ],\n",
       "       [0.33651644],\n",
       "       [0.36565214],\n",
       "       [0.39459687],\n",
       "       [0.39119145],\n",
       "       [0.3844261 ],\n",
       "       [0.37180084],\n",
       "       [0.36542514],\n",
       "       [0.36354458],\n",
       "       [0.36097494],\n",
       "       [0.35880142],\n",
       "       [0.35858807],\n",
       "       [0.36294007],\n",
       "       [0.37991866],\n",
       "       [0.38527682],\n",
       "       [0.36739817],\n",
       "       [0.35358563],\n",
       "       [0.3480008 ],\n",
       "       [0.35198745],\n",
       "       [0.35970154],\n",
       "       [0.35958663],\n",
       "       [0.3399989 ],\n",
       "       [0.32254544],\n",
       "       [0.30290622],\n",
       "       [0.30288163],\n",
       "       [0.3121156 ],\n",
       "       [0.3155753 ],\n",
       "       [0.30912802],\n",
       "       [0.30666256],\n",
       "       [0.3032581 ],\n",
       "       [0.2970831 ],\n",
       "       [0.28126934],\n",
       "       [0.27348942],\n",
       "       [0.27529564],\n",
       "       [0.28672773],\n",
       "       [0.29597124],\n",
       "       [0.29457453],\n",
       "       [0.28855485],\n",
       "       [0.27551043],\n",
       "       [0.2502074 ],\n",
       "       [0.22791365],\n",
       "       [0.22465497],\n",
       "       [0.23113672],\n",
       "       [0.24086703],\n",
       "       [0.23972388],\n",
       "       [0.23022294],\n",
       "       [0.22520031],\n",
       "       [0.22559722],\n",
       "       [0.21940182],\n",
       "       [0.23069465],\n",
       "       [0.24509665],\n",
       "       [0.24731582],\n",
       "       [0.23890659],\n",
       "       [0.23205653],\n",
       "       [0.22709039],\n",
       "       [0.22385815],\n",
       "       [0.22609606],\n",
       "       [0.23127715],\n",
       "       [0.24365433],\n",
       "       [0.25431392],\n",
       "       [0.26133493],\n",
       "       [0.26206875],\n",
       "       [0.25758195],\n",
       "       [0.24287248],\n",
       "       [0.2271964 ],\n",
       "       [0.22273059],\n",
       "       [0.22580725],\n",
       "       [0.23316987],\n",
       "       [0.2399139 ],\n",
       "       [0.2395218 ],\n",
       "       [0.23499337],\n",
       "       [0.22391862],\n",
       "       [0.21645913],\n",
       "       [0.21106806],\n",
       "       [0.20750824],\n",
       "       [0.20623833],\n",
       "       [0.20110811],\n",
       "       [0.20412432],\n",
       "       [0.21540014],\n",
       "       [0.23248048],\n",
       "       [0.25185895],\n",
       "       [0.26255414],\n",
       "       [0.25625876],\n",
       "       [0.23999745],\n",
       "       [0.22322012],\n",
       "       [0.21297859],\n",
       "       [0.20628227],\n",
       "       [0.1958652 ],\n",
       "       [0.18228434],\n",
       "       [0.18068482],\n",
       "       [0.18276347],\n",
       "       [0.18965885],\n",
       "       [0.1963782 ],\n",
       "       [0.19814803],\n",
       "       [0.1973624 ],\n",
       "       [0.19709569],\n",
       "       [0.1947309 ],\n",
       "       [0.19436607],\n",
       "       [0.19562502],\n",
       "       [0.19272384],\n",
       "       [0.18916039],\n",
       "       [0.19390205],\n",
       "       [0.19940339],\n",
       "       [0.20685339],\n",
       "       [0.21980384],\n",
       "       [0.2227133 ],\n",
       "       [0.21948698],\n",
       "       [0.20954552],\n",
       "       [0.19665767],\n",
       "       [0.18925431],\n",
       "       [0.19208711],\n",
       "       [0.19660208],\n",
       "       [0.20417486],\n",
       "       [0.20756745],\n",
       "       [0.19956425],\n",
       "       [0.19068065],\n",
       "       [0.1879255 ],\n",
       "       [0.18658535],\n",
       "       [0.18086477],\n",
       "       [0.17849486],\n",
       "       [0.1763064 ],\n",
       "       [0.17241825],\n",
       "       [0.17233345],\n",
       "       [0.17405663],\n",
       "       [0.17237653],\n",
       "       [0.17702927],\n",
       "       [0.1827425 ],\n",
       "       [0.18510917],\n",
       "       [0.18193047],\n",
       "       [0.17237003],\n",
       "       [0.1661927 ],\n",
       "       [0.16163659],\n",
       "       [0.15747759],\n",
       "       [0.15559518],\n",
       "       [0.15902442],\n",
       "       [0.15992293],\n",
       "       [0.15830742],\n",
       "       [0.15605402],\n",
       "       [0.15224178],\n",
       "       [0.15148528],\n",
       "       [0.15189487],\n",
       "       [0.1557198 ],\n",
       "       [0.15915032],\n",
       "       [0.16266386],\n",
       "       [0.16742899],\n",
       "       [0.16709292],\n",
       "       [0.16442813],\n",
       "       [0.1640742 ],\n",
       "       [0.17005353],\n",
       "       [0.1809342 ],\n",
       "       [0.18442397],\n",
       "       [0.18594015],\n",
       "       [0.19210324],\n",
       "       [0.19562456],\n",
       "       [0.19734076],\n",
       "       [0.19649978],\n",
       "       [0.19101936],\n",
       "       [0.18892418],\n",
       "       [0.18800537],\n",
       "       [0.19388281],\n",
       "       [0.20186923],\n",
       "       [0.22515124],\n",
       "       [0.22144505],\n",
       "       [0.2089721 ],\n",
       "       [0.19633247],\n",
       "       [0.1915492 ],\n",
       "       [0.19708785],\n",
       "       [0.19407459],\n",
       "       [0.19121118],\n",
       "       [0.19134325],\n",
       "       [0.19549632],\n",
       "       [0.20093457],\n",
       "       [0.20242181],\n",
       "       [0.19806771],\n",
       "       [0.19371514],\n",
       "       [0.19322313],\n",
       "       [0.19343859],\n",
       "       [0.1905159 ],\n",
       "       [0.18753593],\n",
       "       [0.1843222 ],\n",
       "       [0.18077883],\n",
       "       [0.19781889],\n",
       "       [0.20100218],\n",
       "       [0.19717264],\n",
       "       [0.1901807 ],\n",
       "       [0.18342309],\n",
       "       [0.1748526 ],\n",
       "       [0.17372231],\n",
       "       [0.17553139],\n",
       "       [0.17693436],\n",
       "       [0.18205842],\n",
       "       [0.18107836],\n",
       "       [0.17714824],\n",
       "       [0.17365263],\n",
       "       [0.1697565 ],\n",
       "       [0.15398751],\n",
       "       [0.14327936],\n",
       "       [0.12391032],\n",
       "       [0.10876527],\n",
       "       [0.10676505],\n",
       "       [0.11304037],\n",
       "       [0.12251066],\n",
       "       [0.12576312],\n",
       "       [0.12617789],\n",
       "       [0.12057032],\n",
       "       [0.11678264],\n",
       "       [0.11371747],\n",
       "       [0.11257605],\n",
       "       [0.11381349],\n",
       "       [0.11332578],\n",
       "       [0.11210933],\n",
       "       [0.11044873],\n",
       "       [0.10568346],\n",
       "       [0.10362876],\n",
       "       [0.10411508],\n",
       "       [0.10612503],\n",
       "       [0.11148574],\n",
       "       [0.11472443],\n",
       "       [0.11217833],\n",
       "       [0.10943183],\n",
       "       [0.10662148],\n",
       "       [0.10617756],\n",
       "       [0.10698629],\n",
       "       [0.10908078],\n",
       "       [0.10957649],\n",
       "       [0.10833798],\n",
       "       [0.10693913],\n",
       "       [0.10344405],\n",
       "       [0.09699094],\n",
       "       [0.08861613],\n",
       "       [0.07656454],\n",
       "       [0.06956405],\n",
       "       [0.07317542],\n",
       "       [0.07525466],\n",
       "       [0.07686284],\n",
       "       [0.07516965],\n",
       "       [0.07750913],\n",
       "       [0.08071678],\n",
       "       [0.08632775],\n",
       "       [0.08783979],\n",
       "       [0.08793786],\n",
       "       [0.08914533],\n",
       "       [0.09089484],\n",
       "       [0.09488194],\n",
       "       [0.09712002],\n",
       "       [0.09289052],\n",
       "       [0.08968157],\n",
       "       [0.08617885],\n",
       "       [0.08416381],\n",
       "       [0.08431038],\n",
       "       [0.08592586],\n",
       "       [0.08928089],\n",
       "       [0.09066659],\n",
       "       [0.0916774 ],\n",
       "       [0.09371491],\n",
       "       [0.09465829],\n",
       "       [0.09499168],\n",
       "       [0.09352637],\n",
       "       [0.08834057]], dtype=float32)"
      ]
     },
     "execution_count": 38,
     "metadata": {},
     "output_type": "execute_result"
    }
   ],
   "source": [
    "test_predict"
   ]
  },
  {
   "cell_type": "code",
   "execution_count": 39,
   "id": "b47aed97",
   "metadata": {},
   "outputs": [
    {
     "data": {
      "text/plain": [
       "0.019547068396064318"
      ]
     },
     "execution_count": 39,
     "metadata": {},
     "output_type": "execute_result"
    }
   ],
   "source": [
    "### Calculate RMSE performance metrics\n",
    "import math\n",
    "from sklearn.metrics import mean_squared_error\n",
    "math.sqrt(mean_squared_error(y_train,train_predict))"
   ]
  },
  {
   "cell_type": "code",
   "execution_count": 40,
   "id": "11bffbf7",
   "metadata": {},
   "outputs": [
    {
     "data": {
      "text/plain": [
       "0.01989260233161144"
      ]
     },
     "execution_count": 40,
     "metadata": {},
     "output_type": "execute_result"
    }
   ],
   "source": [
    "### Test Data RMSE\n",
    "math.sqrt(mean_squared_error(ytest,test_predict))"
   ]
  },
  {
   "cell_type": "code",
   "execution_count": 41,
   "id": "293bb156",
   "metadata": {},
   "outputs": [
    {
     "data": {
      "text/plain": [
       "0.015345383097120793"
      ]
     },
     "execution_count": 41,
     "metadata": {},
     "output_type": "execute_result"
    }
   ],
   "source": [
    "# Calculate the Mean Absolute Error\n",
    "from sklearn.metrics import mean_absolute_error\n",
    "mae=mean_absolute_error(ytest,test_predict)\n",
    "mae"
   ]
  },
  {
   "cell_type": "code",
   "execution_count": 42,
   "id": "580237c2",
   "metadata": {},
   "outputs": [
    {
     "data": {
      "text/plain": [
       "0.06709295657058105"
      ]
     },
     "execution_count": 42,
     "metadata": {},
     "output_type": "execute_result"
    }
   ],
   "source": [
    "# Calculate Mean Absolute error using Sklearn library\n",
    "from sklearn.metrics import mean_absolute_percentage_error\n",
    "mean_absolute_percentage_error(ytest,test_predict)"
   ]
  },
  {
   "cell_type": "code",
   "execution_count": 43,
   "id": "a161a853",
   "metadata": {},
   "outputs": [
    {
     "name": "stdout",
     "output_type": "stream",
     "text": [
      "6.71\n"
     ]
    }
   ],
   "source": [
    "# Manual calculation of Mean Absolute Percentage error.\n",
    "total = 0\n",
    "for i,j in zip(ytest, test_predict):\n",
    "    value = abs(i-j)/abs(i)\n",
    "    total+= value\n",
    "#     print(total)\n",
    "error = float(total*100/(len(ytest))) # Calculate MAPE\n",
    "mape = round(error,2) # round to 3 significant figures\n",
    "print(mape)"
   ]
  },
  {
   "cell_type": "code",
   "execution_count": 44,
   "id": "af9ee899",
   "metadata": {},
   "outputs": [],
   "source": [
    "##Transformback to original form\n",
    "train_predict=scaler.inverse_transform(train_predict)\n",
    "test_predict=scaler.inverse_transform(test_predict)"
   ]
  },
  {
   "cell_type": "code",
   "execution_count": 45,
   "id": "4ed02f56",
   "metadata": {},
   "outputs": [
    {
     "data": {
      "text/plain": [
       "(310, 1)"
      ]
     },
     "execution_count": 45,
     "metadata": {},
     "output_type": "execute_result"
    }
   ],
   "source": [
    "test_predict.shape"
   ]
  },
  {
   "cell_type": "code",
   "execution_count": 46,
   "id": "d8fef7b4",
   "metadata": {},
   "outputs": [
    {
     "data": {
      "text/plain": [
       "date\n",
       "2021-09-07    0.253744\n",
       "2021-09-08    0.257113\n",
       "2021-09-09    0.252596\n",
       "2021-09-10    0.239982\n",
       "2021-09-11    0.241432\n",
       "                ...   \n",
       "2022-07-09    0.069512\n",
       "2022-07-10    0.067263\n",
       "2022-07-11    0.061847\n",
       "2022-07-12    0.060087\n",
       "2022-07-13    0.061953\n",
       "Name: close, Length: 310, dtype: float64"
      ]
     },
     "execution_count": 46,
     "metadata": {},
     "output_type": "execute_result"
    }
   ],
   "source": [
    "targets = test[price_column][window_len+1:]\n",
    "targets"
   ]
  },
  {
   "cell_type": "code",
   "execution_count": 47,
   "id": "031f2558",
   "metadata": {},
   "outputs": [
    {
     "data": {
      "text/plain": [
       "date\n",
       "2021-09-07    0.292061\n",
       "2021-09-08    0.292774\n",
       "2021-09-09    0.259006\n",
       "2021-09-10    0.232372\n",
       "2021-09-11    0.221981\n",
       "                ...   \n",
       "2022-07-09    0.065115\n",
       "2022-07-10    0.065760\n",
       "2022-07-11    0.065988\n",
       "2022-07-12    0.064986\n",
       "2022-07-13    0.061440\n",
       "Length: 310, dtype: float32"
      ]
     },
     "execution_count": 47,
     "metadata": {},
     "output_type": "execute_result"
    }
   ],
   "source": [
    "preds = pd.Series(index=targets.index, data=test_predict.squeeze())\n",
    "preds"
   ]
  },
  {
   "cell_type": "code",
   "execution_count": 48,
   "id": "dd31f161",
   "metadata": {},
   "outputs": [
    {
     "data": {
      "image/png": "[encoded data removed]",
      "text/plain": [
       "<Figure size 936x504 with 1 Axes>"
      ]
     },
     "metadata": {
      "needs_background": "light"
     },
     "output_type": "display_data"
    }
   ],
   "source": [
    "def line_plot(line1, line2, label1=None, label2=None, title='', lw=2):\n",
    "    fig, ax = plt.subplots(1, figsize=(13, 7))\n",
    "    ax.plot(line1, label=label1, linewidth=lw)\n",
    "    ax.plot(line2, label=label2, linewidth=lw)\n",
    "    ax.set_ylabel('Price [USD]', fontsize=14)\n",
    "    ax.set_xlabel('Time', fontsize = 14)\n",
    "    ax.set_title(title, fontsize=16)\n",
    "    ax.legend(loc='best', fontsize=16)\n",
    "line_plot(train[\"close\"], test[\"close\"], 'Training Prices', 'Testing Prices', title='Project Outline')"
   ]
  },
  {
   "cell_type": "code",
   "execution_count": 49,
   "id": "039cec10",
   "metadata": {},
   "outputs": [
    {
     "data": {
      "image/png": "[encoded data removed]",
      "text/plain": [
       "<Figure size 936x504 with 1 Axes>"
      ]
     },
     "metadata": {
      "needs_background": "light"
     },
     "output_type": "display_data"
    }
   ],
   "source": [
    "line_plot(targets, preds, 'actual_value', 'predicted_value', lw=3)"
   ]
  },
  {
   "cell_type": "markdown",
   "id": "dfea169e",
   "metadata": {},
   "source": [
    "### Future Prediction for 30 days"
   ]
  },
  {
   "cell_type": "code",
   "execution_count": 50,
   "id": "4bd4cd7a",
   "metadata": {},
   "outputs": [
    {
     "data": {
      "text/plain": [
       "341"
      ]
     },
     "execution_count": 50,
     "metadata": {},
     "output_type": "execute_result"
    }
   ],
   "source": [
    "len(test)"
   ]
  },
  {
   "cell_type": "code",
   "execution_count": 51,
   "id": "919d9cbc",
   "metadata": {},
   "outputs": [
    {
     "data": {
      "text/plain": [
       "341"
      ]
     },
     "execution_count": 51,
     "metadata": {},
     "output_type": "execute_result"
    }
   ],
   "source": [
    "length = len(test_scaled)\n",
    "length"
   ]
  },
  {
   "cell_type": "code",
   "execution_count": 52,
   "id": "dade5e8c",
   "metadata": {},
   "outputs": [
    {
     "data": {
      "text/plain": [
       "(30, 1)"
      ]
     },
     "execution_count": 52,
     "metadata": {},
     "output_type": "execute_result"
    }
   ],
   "source": [
    "#Getting the last 100 days records\n",
    "fut_inp = test_scaled[length-30:]\n",
    "fut_inp.shape"
   ]
  },
  {
   "cell_type": "code",
   "execution_count": 53,
   "id": "21d4c39c",
   "metadata": {},
   "outputs": [],
   "source": [
    "fut_inp = fut_inp.reshape(1,-1)"
   ]
  },
  {
   "cell_type": "code",
   "execution_count": 54,
   "id": "8db22db2",
   "metadata": {},
   "outputs": [
    {
     "data": {
      "text/plain": [
       "(1, 30)"
      ]
     },
     "execution_count": 54,
     "metadata": {},
     "output_type": "execute_result"
    }
   ],
   "source": [
    "fut_inp.shape"
   ]
  },
  {
   "cell_type": "code",
   "execution_count": 55,
   "id": "73ce36f7",
   "metadata": {},
   "outputs": [
    {
     "data": {
      "text/plain": [
       "array([[0.07978776, 0.0906223 , 0.07896434, 0.08183971, 0.07601439,\n",
       "        0.08681383, 0.08649353, 0.09438251, 0.08873708, 0.09213165,\n",
       "        0.09665384, 0.09867069, 0.10550663, 0.10413476, 0.09494705,\n",
       "        0.10008205, 0.09513572, 0.09526588, 0.0960308 , 0.09673428,\n",
       "        0.1000879 , 0.09669918, 0.0987877 , 0.10176836, 0.09977345,\n",
       "        0.1001464 , 0.09685713, 0.08893598, 0.0863619 , 0.08909101]])"
      ]
     },
     "execution_count": 55,
     "metadata": {},
     "output_type": "execute_result"
    }
   ],
   "source": [
    "fut_inp"
   ]
  },
  {
   "cell_type": "code",
   "execution_count": 56,
   "id": "d47d32ad",
   "metadata": {},
   "outputs": [],
   "source": [
    "tmp_inp = list(fut_inp)"
   ]
  },
  {
   "cell_type": "code",
   "execution_count": 57,
   "id": "d5cdaaff",
   "metadata": {},
   "outputs": [
    {
     "data": {
      "text/plain": [
       "[array([0.07978776, 0.0906223 , 0.07896434, 0.08183971, 0.07601439,\n",
       "        0.08681383, 0.08649353, 0.09438251, 0.08873708, 0.09213165,\n",
       "        0.09665384, 0.09867069, 0.10550663, 0.10413476, 0.09494705,\n",
       "        0.10008205, 0.09513572, 0.09526588, 0.0960308 , 0.09673428,\n",
       "        0.1000879 , 0.09669918, 0.0987877 , 0.10176836, 0.09977345,\n",
       "        0.1001464 , 0.09685713, 0.08893598, 0.0863619 , 0.08909101])]"
      ]
     },
     "execution_count": 57,
     "metadata": {},
     "output_type": "execute_result"
    }
   ],
   "source": [
    "tmp_inp"
   ]
  },
  {
   "cell_type": "code",
   "execution_count": 58,
   "id": "fc1cab74",
   "metadata": {},
   "outputs": [],
   "source": [
    "#Creating list of the last 100 data\n",
    "tmp_inp = tmp_inp[0].tolist()"
   ]
  },
  {
   "cell_type": "code",
   "execution_count": 59,
   "id": "f1cbacea",
   "metadata": {},
   "outputs": [
    {
     "data": {
      "text/plain": [
       "[0.07978775526918898,\n",
       " 0.09062229885965259,\n",
       " 0.0789643416566848,\n",
       " 0.08183970784173493,\n",
       " 0.07601438560620354,\n",
       " 0.0868138280835231,\n",
       " 0.08649353042608364,\n",
       " 0.09438250560520901,\n",
       " 0.08873707657454089,\n",
       " 0.09213164672484678,\n",
       " 0.09665384013490529,\n",
       " 0.09867069159430718,\n",
       " 0.10550663337911105,\n",
       " 0.10413476487373106,\n",
       " 0.09494704850827583,\n",
       " 0.10008204885197423,\n",
       " 0.0951357169914251,\n",
       " 0.09526588361933429,\n",
       " 0.09603079537659838,\n",
       " 0.0967342801858604,\n",
       " 0.10008789903749825,\n",
       " 0.09669917907271636,\n",
       " 0.09878769530478737,\n",
       " 0.10176836482926965,\n",
       " 0.09977345156558277,\n",
       " 0.10014640089273832,\n",
       " 0.09685713408186458,\n",
       " 0.08893598288235716,\n",
       " 0.08636190125179345,\n",
       " 0.08909101279874339]"
      ]
     },
     "execution_count": 59,
     "metadata": {},
     "output_type": "execute_result"
    }
   ],
   "source": [
    "tmp_inp"
   ]
  },
  {
   "cell_type": "code",
   "execution_count": 60,
   "id": "87d8512c",
   "metadata": {},
   "outputs": [
    {
     "name": "stdout",
     "output_type": "stream",
     "text": [
      "[[0.08055642992258072], [0.07738295197486877], [0.07365524768829346], [0.06967257708311081], [0.06566496938467026], [0.061689574271440506], [0.057881612330675125], [0.054247740656137466], [0.05085216462612152], [0.0476473867893219], [0.04465412348508835], [0.04183809086680412], [0.03914369270205498], [0.036538153886795044], [0.03393404185771942], [0.031251952052116394], [0.02850533276796341], [0.025617681443691254], [0.022598519921302795], [0.019451357424259186], [0.016194723546504974], [0.012871998362243176], [0.00949675589799881], [0.006140563637018204], [0.0028531402349472046], [-0.00034052086994051933], [-0.0033887315075844526], [-0.006276756525039673], [-0.009002353996038437], [-0.011530322022736073]]\n"
     ]
    }
   ],
   "source": [
    "#Predicting next 30 days price suing the current data\n",
    "#It will predict in sliding window manner (algorithm) with stride 1\n",
    "lst_output=[]\n",
    "n_steps=30\n",
    "i=0\n",
    "while(i<30):\n",
    "    \n",
    "    if(len(tmp_inp)>30):\n",
    "        fut_inp = np.array(tmp_inp[1:])\n",
    "        fut_inp=fut_inp.reshape(1,-1)\n",
    "        fut_inp = fut_inp.reshape((1, n_steps, 1))\n",
    "        yhat = model.predict(fut_inp, verbose=0)\n",
    "        tmp_inp.extend(yhat[0].tolist())\n",
    "        tmp_inp = tmp_inp[1:]\n",
    "        lst_output.extend(yhat.tolist())\n",
    "        i=i+1\n",
    "    else:\n",
    "        fut_inp = fut_inp.reshape((1, n_steps,1))\n",
    "        yhat = model.predict(fut_inp, verbose=0)\n",
    "        tmp_inp.extend(yhat[0].tolist())\n",
    "        lst_output.extend(yhat.tolist())\n",
    "        i=i+1\n",
    "    \n",
    "\n",
    "print(lst_output)"
   ]
  },
  {
   "cell_type": "code",
   "execution_count": 61,
   "id": "abd2a9a3",
   "metadata": {},
   "outputs": [
    {
     "data": {
      "text/plain": [
       "'2022-07-13'"
      ]
     },
     "execution_count": 61,
     "metadata": {},
     "output_type": "execute_result"
    }
   ],
   "source": [
    "end_date"
   ]
  },
  {
   "cell_type": "code",
   "execution_count": 62,
   "id": "40a3588a",
   "metadata": {},
   "outputs": [
    {
     "data": {
      "text/plain": [
       "'07/13/2022'"
      ]
     },
     "execution_count": 62,
     "metadata": {},
     "output_type": "execute_result"
    }
   ],
   "source": [
    "temp = pd.to_datetime(end_date, format='%Y-%m-%d')\n",
    "temp\n",
    "end_date_new = temp.strftime('%m/%d/%Y')\n",
    "end_date_new"
   ]
  },
  {
   "cell_type": "code",
   "execution_count": 63,
   "id": "58c3c1c5",
   "metadata": {},
   "outputs": [
    {
     "data": {
      "text/plain": [
       "array([[ 0.05611757],\n",
       "       [ 0.05394774],\n",
       "       [ 0.05139897],\n",
       "       [ 0.04867586],\n",
       "       [ 0.0459357 ],\n",
       "       [ 0.04321757],\n",
       "       [ 0.04061392],\n",
       "       [ 0.0381293 ],\n",
       "       [ 0.03580761],\n",
       "       [ 0.03361638],\n",
       "       [ 0.03156977],\n",
       "       [ 0.02964433],\n",
       "       [ 0.02780207],\n",
       "       [ 0.02602056],\n",
       "       [ 0.02424003],\n",
       "       [ 0.02240618],\n",
       "       [ 0.02052821],\n",
       "       [ 0.01855381],\n",
       "       [ 0.01648949],\n",
       "       [ 0.01433765],\n",
       "       [ 0.01211096],\n",
       "       [ 0.00983909],\n",
       "       [ 0.0075313 ],\n",
       "       [ 0.00523654],\n",
       "       [ 0.0029888 ],\n",
       "       [ 0.00080517],\n",
       "       [-0.00127901],\n",
       "       [-0.00325366],\n",
       "       [-0.00511726],\n",
       "       [-0.00684573]])"
      ]
     },
     "execution_count": 63,
     "metadata": {},
     "output_type": "execute_result"
    }
   ],
   "source": [
    "preds = scaler.inverse_transform(lst_output)\n",
    "preds"
   ]
  },
  {
   "cell_type": "code",
   "execution_count": 64,
   "id": "cc2026ab",
   "metadata": {},
   "outputs": [
    {
     "data": {
      "text/plain": [
       "'08/23/2022'"
      ]
     },
     "execution_count": 64,
     "metadata": {},
     "output_type": "execute_result"
    }
   ],
   "source": [
    "import datetime\n",
    "date_future = temp + datetime.timedelta(41)\n",
    "date_future_str = date_future.strftime('%m/%d/%Y')\n",
    "date_future_str"
   ]
  },
  {
   "cell_type": "code",
   "execution_count": 65,
   "id": "feff8df9",
   "metadata": {},
   "outputs": [
    {
     "data": {
      "text/plain": [
       "DatetimeIndex(['2022-07-13', '2022-07-14', '2022-07-15', '2022-07-18',\n",
       "               '2022-07-19', '2022-07-20', '2022-07-21', '2022-07-22',\n",
       "               '2022-07-25', '2022-07-26', '2022-07-27', '2022-07-28',\n",
       "               '2022-07-29', '2022-08-01', '2022-08-02', '2022-08-03',\n",
       "               '2022-08-04', '2022-08-05', '2022-08-08', '2022-08-09',\n",
       "               '2022-08-10', '2022-08-11', '2022-08-12', '2022-08-15',\n",
       "               '2022-08-16', '2022-08-17', '2022-08-18', '2022-08-19',\n",
       "               '2022-08-22', '2022-08-23'],\n",
       "              dtype='datetime64[ns]', freq='B')"
      ]
     },
     "execution_count": 65,
     "metadata": {},
     "output_type": "execute_result"
    }
   ],
   "source": [
    "c = pd.date_range(start=end_date_new, end=date_future_str, freq='B')\n",
    "c"
   ]
  },
  {
   "cell_type": "code",
   "execution_count": 66,
   "id": "e6ab7cdd",
   "metadata": {},
   "outputs": [
    {
     "data": {
      "text/plain": [
       "30"
      ]
     },
     "execution_count": 66,
     "metadata": {},
     "output_type": "execute_result"
    }
   ],
   "source": [
    "len(c)"
   ]
  },
  {
   "cell_type": "code",
   "execution_count": 67,
   "id": "04499e28",
   "metadata": {},
   "outputs": [
    {
     "data": {
      "text/plain": [
       "2022-07-13    0.056118\n",
       "2022-07-14    0.053948\n",
       "2022-07-15    0.051399\n",
       "2022-07-18    0.048676\n",
       "2022-07-19    0.045936\n",
       "2022-07-20    0.043218\n",
       "2022-07-21    0.040614\n",
       "2022-07-22    0.038129\n",
       "2022-07-25    0.035808\n",
       "2022-07-26    0.033616\n",
       "2022-07-27    0.031570\n",
       "2022-07-28    0.029644\n",
       "2022-07-29    0.027802\n",
       "2022-08-01    0.026021\n",
       "2022-08-02    0.024240\n",
       "2022-08-03    0.022406\n",
       "2022-08-04    0.020528\n",
       "2022-08-05    0.018554\n",
       "2022-08-08    0.016489\n",
       "2022-08-09    0.014338\n",
       "2022-08-10    0.012111\n",
       "2022-08-11    0.009839\n",
       "2022-08-12    0.007531\n",
       "2022-08-15    0.005237\n",
       "2022-08-16    0.002989\n",
       "2022-08-17    0.000805\n",
       "2022-08-18   -0.001279\n",
       "2022-08-19   -0.003254\n",
       "2022-08-22   -0.005117\n",
       "2022-08-23   -0.006846\n",
       "Freq: B, dtype: float64"
      ]
     },
     "execution_count": 67,
     "metadata": {},
     "output_type": "execute_result"
    }
   ],
   "source": [
    "fut_preds = pd.Series(index=c, data=preds.squeeze())\n",
    "fut_preds"
   ]
  },
  {
   "cell_type": "code",
   "execution_count": 68,
   "id": "8d8456f7",
   "metadata": {},
   "outputs": [
    {
     "data": {
      "text/plain": [
       "[<matplotlib.lines.Line2D at 0x18ecefe8648>]"
      ]
     },
     "execution_count": 68,
     "metadata": {},
     "output_type": "execute_result"
    },
    {
     "data": {
      "image/png": "[encoded data removed]",
      "text/plain": [
       "<Figure size 936x504 with 1 Axes>"
      ]
     },
     "metadata": {
      "needs_background": "light"
     },
     "output_type": "display_data"
    }
   ],
   "source": [
    "fig, ax = plt.subplots(1, figsize=(13, 7))\n",
    "ax.plot(fut_preds, label=\"predicted value_30\", linewidth=3)"
   ]
  },
  {
   "cell_type": "code",
   "execution_count": 69,
   "id": "8f0a4bab",
   "metadata": {},
   "outputs": [
    {
     "data": {
      "image/png": "[encoded data removed]",
      "text/plain": [
       "<Figure size 936x504 with 1 Axes>"
      ]
     },
     "metadata": {
      "needs_background": "light"
     },
     "output_type": "display_data"
    }
   ],
   "source": [
    "line_plot(test[\"close\"], fut_preds, 'actual_value', 'predicted_value_30', lw=3)"
   ]
  },
  {
   "cell_type": "code",
   "execution_count": null,
   "id": "f7ea1a21",
   "metadata": {},
   "outputs": [],
   "source": []
  },
  {
   "cell_type": "code",
   "execution_count": null,
   "id": "6ee8c1de",
   "metadata": {},
   "outputs": [],
   "source": []
  }
 ],
 "metadata": {
  "kernelspec": {
   "display_name": "mlenv",
   "language": "python",
   "name": "mlenv"
  },
  "language_info": {
   "codemirror_mode": {
    "name": "ipython",
    "version": 3
   },
   "file_extension": ".py",
   "mimetype": "text/x-python",
   "name": "python",
   "nbconvert_exporter": "python",
   "pygments_lexer": "ipython3",
   "version": "3.7.13"
  }
 },
 "nbformat": 4,
 "nbformat_minor": 5
}
