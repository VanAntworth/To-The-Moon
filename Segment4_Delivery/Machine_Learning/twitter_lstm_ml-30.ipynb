{
 "cells": [
  {
   "cell_type": "code",
   "execution_count": 1,
   "id": "62b28d70",
   "metadata": {},
   "outputs": [],
   "source": [
    "import pandas as pd\n",
    "import numpy as np\n",
    "import seaborn as sns\n",
    "import matplotlib.pyplot as plt\n",
    "import math\n",
    "from sklearn.model_selection import train_test_split\n",
    "from sklearn.ensemble import RandomForestClassifier\n",
    "from sklearn.model_selection import GridSearchCV\n",
    "from sklearn.preprocessing import MinMaxScaler\n",
    "from keras.models import Sequential\n",
    "from keras.layers import Activation, Dense,LSTM,Dropout\n",
    "from sklearn.metrics import mean_absolute_error\n",
    "plt.style.use('fivethirtyeight')"
   ]
  },
  {
   "cell_type": "code",
   "execution_count": 2,
   "id": "d50f085d",
   "metadata": {},
   "outputs": [],
   "source": [
    "import requests\n",
    "import tensorflow as tf\n",
    "from keras.models import Sequential\n",
    "from keras.layers import Activation, Dense, Dropout, LSTM\n",
    "import matplotlib.pyplot as plt\n",
    "import numpy as np\n",
    "import pandas as pd\n",
    "from sklearn.metrics import mean_absolute_error\n",
    "%matplotlib inline"
   ]
  },
  {
   "cell_type": "code",
   "execution_count": 3,
   "id": "93968ca1",
   "metadata": {},
   "outputs": [],
   "source": [
    "# Database related all the code is moved to this file\n",
    "%run -i \"SqlConn.py\"\n",
    "#importing local py file\n",
    "import SqlConn "
   ]
  },
  {
   "cell_type": "code",
   "execution_count": 4,
   "id": "2250f32e",
   "metadata": {},
   "outputs": [
    {
     "name": "stdout",
     "output_type": "stream",
     "text": [
      "Data transfer Done\n"
     ]
    }
   ],
   "source": [
    "#Fetch Tweets and Sentiment data - Join from Tweet and Sentiment tables\n",
    "try:\n",
    "    df_dbFinanceData = SqlConn.fetchFinanceData(\"\")\n",
    "    print(\"Data transfer Done\")\n",
    "except BaseException as err:\n",
    "    print(err)"
   ]
  },
  {
   "cell_type": "code",
   "execution_count": 5,
   "id": "3523b0c6",
   "metadata": {},
   "outputs": [
    {
     "data": {
      "text/html": [
       "<div>\n",
       "<style scoped>\n",
       "    .dataframe tbody tr th:only-of-type {\n",
       "        vertical-align: middle;\n",
       "    }\n",
       "\n",
       "    .dataframe tbody tr th {\n",
       "        vertical-align: top;\n",
       "    }\n",
       "\n",
       "    .dataframe thead th {\n",
       "        text-align: right;\n",
       "    }\n",
       "</style>\n",
       "<table border=\"1\" class=\"dataframe\">\n",
       "  <thead>\n",
       "    <tr style=\"text-align: right;\">\n",
       "      <th></th>\n",
       "      <th>financeType</th>\n",
       "      <th>date</th>\n",
       "      <th>open</th>\n",
       "      <th>high</th>\n",
       "      <th>low</th>\n",
       "      <th>close</th>\n",
       "      <th>adjustedClose</th>\n",
       "      <th>volume</th>\n",
       "      <th>id</th>\n",
       "    </tr>\n",
       "  </thead>\n",
       "  <tbody>\n",
       "    <tr>\n",
       "      <th>0</th>\n",
       "      <td>tesla</td>\n",
       "      <td>2010-06-29</td>\n",
       "      <td>3.800000</td>\n",
       "      <td>5.000000</td>\n",
       "      <td>3.508000</td>\n",
       "      <td>4.778000</td>\n",
       "      <td>4.778000</td>\n",
       "      <td>93831500</td>\n",
       "      <td>1</td>\n",
       "    </tr>\n",
       "    <tr>\n",
       "      <th>1</th>\n",
       "      <td>tesla</td>\n",
       "      <td>2010-06-30</td>\n",
       "      <td>5.158000</td>\n",
       "      <td>6.084000</td>\n",
       "      <td>4.660000</td>\n",
       "      <td>4.766000</td>\n",
       "      <td>4.766000</td>\n",
       "      <td>85935500</td>\n",
       "      <td>2</td>\n",
       "    </tr>\n",
       "    <tr>\n",
       "      <th>2</th>\n",
       "      <td>tesla</td>\n",
       "      <td>2010-07-01</td>\n",
       "      <td>5.000000</td>\n",
       "      <td>5.184000</td>\n",
       "      <td>4.054000</td>\n",
       "      <td>4.392000</td>\n",
       "      <td>4.392000</td>\n",
       "      <td>41094000</td>\n",
       "      <td>3</td>\n",
       "    </tr>\n",
       "    <tr>\n",
       "      <th>3</th>\n",
       "      <td>tesla</td>\n",
       "      <td>2010-07-02</td>\n",
       "      <td>4.600000</td>\n",
       "      <td>4.620000</td>\n",
       "      <td>3.742000</td>\n",
       "      <td>3.840000</td>\n",
       "      <td>3.840000</td>\n",
       "      <td>25699000</td>\n",
       "      <td>4</td>\n",
       "    </tr>\n",
       "    <tr>\n",
       "      <th>4</th>\n",
       "      <td>tesla</td>\n",
       "      <td>2010-07-06</td>\n",
       "      <td>4.000000</td>\n",
       "      <td>4.000000</td>\n",
       "      <td>3.166000</td>\n",
       "      <td>3.222000</td>\n",
       "      <td>3.222000</td>\n",
       "      <td>34334500</td>\n",
       "      <td>5</td>\n",
       "    </tr>\n",
       "    <tr>\n",
       "      <th>...</th>\n",
       "      <td>...</td>\n",
       "      <td>...</td>\n",
       "      <td>...</td>\n",
       "      <td>...</td>\n",
       "      <td>...</td>\n",
       "      <td>...</td>\n",
       "      <td>...</td>\n",
       "      <td>...</td>\n",
       "      <td>...</td>\n",
       "    </tr>\n",
       "    <tr>\n",
       "      <th>6916</th>\n",
       "      <td>doge</td>\n",
       "      <td>2022-07-09</td>\n",
       "      <td>0.069224</td>\n",
       "      <td>0.070009</td>\n",
       "      <td>0.068995</td>\n",
       "      <td>0.069512</td>\n",
       "      <td>0.069512</td>\n",
       "      <td>254272147</td>\n",
       "      <td>6917</td>\n",
       "    </tr>\n",
       "    <tr>\n",
       "      <th>6917</th>\n",
       "      <td>doge</td>\n",
       "      <td>2022-07-10</td>\n",
       "      <td>0.069509</td>\n",
       "      <td>0.069509</td>\n",
       "      <td>0.066533</td>\n",
       "      <td>0.067263</td>\n",
       "      <td>0.067263</td>\n",
       "      <td>299810124</td>\n",
       "      <td>6918</td>\n",
       "    </tr>\n",
       "    <tr>\n",
       "      <th>6918</th>\n",
       "      <td>doge</td>\n",
       "      <td>2022-07-11</td>\n",
       "      <td>0.067268</td>\n",
       "      <td>0.067268</td>\n",
       "      <td>0.061535</td>\n",
       "      <td>0.061847</td>\n",
       "      <td>0.061847</td>\n",
       "      <td>326125900</td>\n",
       "      <td>6919</td>\n",
       "    </tr>\n",
       "    <tr>\n",
       "      <th>6919</th>\n",
       "      <td>doge</td>\n",
       "      <td>2022-07-12</td>\n",
       "      <td>0.061851</td>\n",
       "      <td>0.062861</td>\n",
       "      <td>0.060087</td>\n",
       "      <td>0.060087</td>\n",
       "      <td>0.060087</td>\n",
       "      <td>298462083</td>\n",
       "      <td>6920</td>\n",
       "    </tr>\n",
       "    <tr>\n",
       "      <th>6920</th>\n",
       "      <td>doge</td>\n",
       "      <td>2022-07-13</td>\n",
       "      <td>0.060085</td>\n",
       "      <td>0.062011</td>\n",
       "      <td>0.058398</td>\n",
       "      <td>0.061953</td>\n",
       "      <td>0.061953</td>\n",
       "      <td>446505400</td>\n",
       "      <td>6921</td>\n",
       "    </tr>\n",
       "  </tbody>\n",
       "</table>\n",
       "<p>6921 rows × 9 columns</p>\n",
       "</div>"
      ],
      "text/plain": [
       "     financeType        date      open      high       low     close  \\\n",
       "0          tesla  2010-06-29  3.800000  5.000000  3.508000  4.778000   \n",
       "1          tesla  2010-06-30  5.158000  6.084000  4.660000  4.766000   \n",
       "2          tesla  2010-07-01  5.000000  5.184000  4.054000  4.392000   \n",
       "3          tesla  2010-07-02  4.600000  4.620000  3.742000  3.840000   \n",
       "4          tesla  2010-07-06  4.000000  4.000000  3.166000  3.222000   \n",
       "...          ...         ...       ...       ...       ...       ...   \n",
       "6916        doge  2022-07-09  0.069224  0.070009  0.068995  0.069512   \n",
       "6917        doge  2022-07-10  0.069509  0.069509  0.066533  0.067263   \n",
       "6918        doge  2022-07-11  0.067268  0.067268  0.061535  0.061847   \n",
       "6919        doge  2022-07-12  0.061851  0.062861  0.060087  0.060087   \n",
       "6920        doge  2022-07-13  0.060085  0.062011  0.058398  0.061953   \n",
       "\n",
       "      adjustedClose     volume    id  \n",
       "0          4.778000   93831500     1  \n",
       "1          4.766000   85935500     2  \n",
       "2          4.392000   41094000     3  \n",
       "3          3.840000   25699000     4  \n",
       "4          3.222000   34334500     5  \n",
       "...             ...        ...   ...  \n",
       "6916       0.069512  254272147  6917  \n",
       "6917       0.067263  299810124  6918  \n",
       "6918       0.061847  326125900  6919  \n",
       "6919       0.060087  298462083  6920  \n",
       "6920       0.061953  446505400  6921  \n",
       "\n",
       "[6921 rows x 9 columns]"
      ]
     },
     "execution_count": 5,
     "metadata": {},
     "output_type": "execute_result"
    }
   ],
   "source": [
    "df_dbFinanceData"
   ]
  },
  {
   "cell_type": "code",
   "execution_count": 6,
   "id": "5f838703",
   "metadata": {},
   "outputs": [],
   "source": [
    "twitter_price = df_dbFinanceData[df_dbFinanceData[\"financeType\"] == \"twitter\"]"
   ]
  },
  {
   "cell_type": "code",
   "execution_count": 7,
   "id": "f62e6af5",
   "metadata": {},
   "outputs": [
    {
     "data": {
      "text/html": [
       "<div>\n",
       "<style scoped>\n",
       "    .dataframe tbody tr th:only-of-type {\n",
       "        vertical-align: middle;\n",
       "    }\n",
       "\n",
       "    .dataframe tbody tr th {\n",
       "        vertical-align: top;\n",
       "    }\n",
       "\n",
       "    .dataframe thead th {\n",
       "        text-align: right;\n",
       "    }\n",
       "</style>\n",
       "<table border=\"1\" class=\"dataframe\">\n",
       "  <thead>\n",
       "    <tr style=\"text-align: right;\">\n",
       "      <th></th>\n",
       "      <th>financeType</th>\n",
       "      <th>date</th>\n",
       "      <th>open</th>\n",
       "      <th>high</th>\n",
       "      <th>low</th>\n",
       "      <th>close</th>\n",
       "      <th>adjustedClose</th>\n",
       "      <th>volume</th>\n",
       "      <th>id</th>\n",
       "    </tr>\n",
       "  </thead>\n",
       "  <tbody>\n",
       "    <tr>\n",
       "      <th>3030</th>\n",
       "      <td>twitter</td>\n",
       "      <td>2013-11-07</td>\n",
       "      <td>45.099998</td>\n",
       "      <td>50.090000</td>\n",
       "      <td>44.000000</td>\n",
       "      <td>44.900002</td>\n",
       "      <td>44.900002</td>\n",
       "      <td>117701600</td>\n",
       "      <td>3031</td>\n",
       "    </tr>\n",
       "    <tr>\n",
       "      <th>3031</th>\n",
       "      <td>twitter</td>\n",
       "      <td>2013-11-08</td>\n",
       "      <td>45.930000</td>\n",
       "      <td>46.939999</td>\n",
       "      <td>40.689999</td>\n",
       "      <td>41.650002</td>\n",
       "      <td>41.650002</td>\n",
       "      <td>27925300</td>\n",
       "      <td>3032</td>\n",
       "    </tr>\n",
       "    <tr>\n",
       "      <th>3032</th>\n",
       "      <td>twitter</td>\n",
       "      <td>2013-11-11</td>\n",
       "      <td>40.500000</td>\n",
       "      <td>43.000000</td>\n",
       "      <td>39.400002</td>\n",
       "      <td>42.900002</td>\n",
       "      <td>42.900002</td>\n",
       "      <td>16113900</td>\n",
       "      <td>3033</td>\n",
       "    </tr>\n",
       "    <tr>\n",
       "      <th>3033</th>\n",
       "      <td>twitter</td>\n",
       "      <td>2013-11-12</td>\n",
       "      <td>43.660000</td>\n",
       "      <td>43.779999</td>\n",
       "      <td>41.830002</td>\n",
       "      <td>41.900002</td>\n",
       "      <td>41.900002</td>\n",
       "      <td>6316700</td>\n",
       "      <td>3034</td>\n",
       "    </tr>\n",
       "    <tr>\n",
       "      <th>3034</th>\n",
       "      <td>twitter</td>\n",
       "      <td>2013-11-13</td>\n",
       "      <td>41.029999</td>\n",
       "      <td>42.869999</td>\n",
       "      <td>40.759998</td>\n",
       "      <td>42.599998</td>\n",
       "      <td>42.599998</td>\n",
       "      <td>8688300</td>\n",
       "      <td>3035</td>\n",
       "    </tr>\n",
       "    <tr>\n",
       "      <th>...</th>\n",
       "      <td>...</td>\n",
       "      <td>...</td>\n",
       "      <td>...</td>\n",
       "      <td>...</td>\n",
       "      <td>...</td>\n",
       "      <td>...</td>\n",
       "      <td>...</td>\n",
       "      <td>...</td>\n",
       "      <td>...</td>\n",
       "    </tr>\n",
       "    <tr>\n",
       "      <th>5208</th>\n",
       "      <td>twitter</td>\n",
       "      <td>2022-07-06</td>\n",
       "      <td>38.209999</td>\n",
       "      <td>38.450001</td>\n",
       "      <td>37.740002</td>\n",
       "      <td>38.209999</td>\n",
       "      <td>38.209999</td>\n",
       "      <td>4870300</td>\n",
       "      <td>5209</td>\n",
       "    </tr>\n",
       "    <tr>\n",
       "      <th>5209</th>\n",
       "      <td>twitter</td>\n",
       "      <td>2022-07-07</td>\n",
       "      <td>38.320000</td>\n",
       "      <td>39.509998</td>\n",
       "      <td>38.320000</td>\n",
       "      <td>38.790001</td>\n",
       "      <td>38.790001</td>\n",
       "      <td>13214900</td>\n",
       "      <td>5210</td>\n",
       "    </tr>\n",
       "    <tr>\n",
       "      <th>5210</th>\n",
       "      <td>twitter</td>\n",
       "      <td>2022-07-08</td>\n",
       "      <td>37.509998</td>\n",
       "      <td>37.549999</td>\n",
       "      <td>36.799999</td>\n",
       "      <td>36.810001</td>\n",
       "      <td>36.810001</td>\n",
       "      <td>26156700</td>\n",
       "      <td>5211</td>\n",
       "    </tr>\n",
       "    <tr>\n",
       "      <th>5211</th>\n",
       "      <td>twitter</td>\n",
       "      <td>2022-07-11</td>\n",
       "      <td>34.599998</td>\n",
       "      <td>34.900002</td>\n",
       "      <td>32.549999</td>\n",
       "      <td>32.650002</td>\n",
       "      <td>32.650002</td>\n",
       "      <td>67071300</td>\n",
       "      <td>5212</td>\n",
       "    </tr>\n",
       "    <tr>\n",
       "      <th>5212</th>\n",
       "      <td>twitter</td>\n",
       "      <td>2022-07-12</td>\n",
       "      <td>32.759998</td>\n",
       "      <td>34.389999</td>\n",
       "      <td>32.520000</td>\n",
       "      <td>34.060001</td>\n",
       "      <td>34.060001</td>\n",
       "      <td>29539400</td>\n",
       "      <td>5213</td>\n",
       "    </tr>\n",
       "  </tbody>\n",
       "</table>\n",
       "<p>2183 rows × 9 columns</p>\n",
       "</div>"
      ],
      "text/plain": [
       "     financeType        date       open       high        low      close  \\\n",
       "3030     twitter  2013-11-07  45.099998  50.090000  44.000000  44.900002   \n",
       "3031     twitter  2013-11-08  45.930000  46.939999  40.689999  41.650002   \n",
       "3032     twitter  2013-11-11  40.500000  43.000000  39.400002  42.900002   \n",
       "3033     twitter  2013-11-12  43.660000  43.779999  41.830002  41.900002   \n",
       "3034     twitter  2013-11-13  41.029999  42.869999  40.759998  42.599998   \n",
       "...          ...         ...        ...        ...        ...        ...   \n",
       "5208     twitter  2022-07-06  38.209999  38.450001  37.740002  38.209999   \n",
       "5209     twitter  2022-07-07  38.320000  39.509998  38.320000  38.790001   \n",
       "5210     twitter  2022-07-08  37.509998  37.549999  36.799999  36.810001   \n",
       "5211     twitter  2022-07-11  34.599998  34.900002  32.549999  32.650002   \n",
       "5212     twitter  2022-07-12  32.759998  34.389999  32.520000  34.060001   \n",
       "\n",
       "      adjustedClose     volume    id  \n",
       "3030      44.900002  117701600  3031  \n",
       "3031      41.650002   27925300  3032  \n",
       "3032      42.900002   16113900  3033  \n",
       "3033      41.900002    6316700  3034  \n",
       "3034      42.599998    8688300  3035  \n",
       "...             ...        ...   ...  \n",
       "5208      38.209999    4870300  5209  \n",
       "5209      38.790001   13214900  5210  \n",
       "5210      36.810001   26156700  5211  \n",
       "5211      32.650002   67071300  5212  \n",
       "5212      34.060001   29539400  5213  \n",
       "\n",
       "[2183 rows x 9 columns]"
      ]
     },
     "execution_count": 7,
     "metadata": {},
     "output_type": "execute_result"
    }
   ],
   "source": [
    "twitter_price"
   ]
  },
  {
   "cell_type": "code",
   "execution_count": 8,
   "id": "357aa55e",
   "metadata": {},
   "outputs": [
    {
     "data": {
      "text/plain": [
       "'2022-07-12'"
      ]
     },
     "execution_count": 8,
     "metadata": {},
     "output_type": "execute_result"
    }
   ],
   "source": [
    "end_date = twitter_price['date'].iloc[-1]\n",
    "end_date"
   ]
  },
  {
   "cell_type": "code",
   "execution_count": 9,
   "id": "20f77024",
   "metadata": {},
   "outputs": [
    {
     "name": "stderr",
     "output_type": "stream",
     "text": [
      "SqlConn.py:1: SettingWithCopyWarning: \n",
      "A value is trying to be set on a copy of a slice from a DataFrame.\n",
      "Try using .loc[row_indexer,col_indexer] = value instead\n",
      "\n",
      "See the caveats in the documentation: https://pandas.pydata.org/pandas-docs/stable/user_guide/indexing.html#returning-a-view-versus-a-copy\n",
      "  \n"
     ]
    }
   ],
   "source": [
    "twitter_price['date'] = pd.to_datetime(twitter_price['date'], format='%Y-%m-%d')"
   ]
  },
  {
   "cell_type": "code",
   "execution_count": 10,
   "id": "ece62414",
   "metadata": {},
   "outputs": [
    {
     "data": {
      "text/plain": [
       "financeType              object\n",
       "date             datetime64[ns]\n",
       "open                    float64\n",
       "high                    float64\n",
       "low                     float64\n",
       "close                   float64\n",
       "adjustedClose           float64\n",
       "volume                    int64\n",
       "id                        int64\n",
       "dtype: object"
      ]
     },
     "execution_count": 10,
     "metadata": {},
     "output_type": "execute_result"
    }
   ],
   "source": [
    "twitter_price.dtypes"
   ]
  },
  {
   "cell_type": "code",
   "execution_count": 11,
   "id": "95beb949",
   "metadata": {},
   "outputs": [],
   "source": [
    "twitter_price.set_index(\"date\",inplace = True)"
   ]
  },
  {
   "cell_type": "code",
   "execution_count": 12,
   "id": "cf0aa09e",
   "metadata": {},
   "outputs": [
    {
     "data": {
      "image/png": "[encoded data removed]",
      "text/plain": [
       "<Figure size 1152x576 with 1 Axes>"
      ]
     },
     "metadata": {
      "needs_background": "light"
     },
     "output_type": "display_data"
    }
   ],
   "source": [
    "plt.figure(figsize=(16,8))\n",
    "plt.title('Close Price History of Tesla')\n",
    "plt.plot(twitter_price['close'])\n",
    "plt.xlabel('Date',fontsize=18)\n",
    "plt.ylabel('Close Price USD($)',fontsize=18)\n",
    "plt.show()"
   ]
  },
  {
   "cell_type": "code",
   "execution_count": 13,
   "id": "9038167d",
   "metadata": {},
   "outputs": [
    {
     "data": {
      "text/html": [
       "<div>\n",
       "<style scoped>\n",
       "    .dataframe tbody tr th:only-of-type {\n",
       "        vertical-align: middle;\n",
       "    }\n",
       "\n",
       "    .dataframe tbody tr th {\n",
       "        vertical-align: top;\n",
       "    }\n",
       "\n",
       "    .dataframe thead th {\n",
       "        text-align: right;\n",
       "    }\n",
       "</style>\n",
       "<table border=\"1\" class=\"dataframe\">\n",
       "  <thead>\n",
       "    <tr style=\"text-align: right;\">\n",
       "      <th></th>\n",
       "      <th>close</th>\n",
       "    </tr>\n",
       "    <tr>\n",
       "      <th>date</th>\n",
       "      <th></th>\n",
       "    </tr>\n",
       "  </thead>\n",
       "  <tbody>\n",
       "    <tr>\n",
       "      <th>2013-11-07</th>\n",
       "      <td>44.900002</td>\n",
       "    </tr>\n",
       "    <tr>\n",
       "      <th>2013-11-08</th>\n",
       "      <td>41.650002</td>\n",
       "    </tr>\n",
       "    <tr>\n",
       "      <th>2013-11-11</th>\n",
       "      <td>42.900002</td>\n",
       "    </tr>\n",
       "    <tr>\n",
       "      <th>2013-11-12</th>\n",
       "      <td>41.900002</td>\n",
       "    </tr>\n",
       "    <tr>\n",
       "      <th>2013-11-13</th>\n",
       "      <td>42.599998</td>\n",
       "    </tr>\n",
       "  </tbody>\n",
       "</table>\n",
       "</div>"
      ],
      "text/plain": [
       "                close\n",
       "date                 \n",
       "2013-11-07  44.900002\n",
       "2013-11-08  41.650002\n",
       "2013-11-11  42.900002\n",
       "2013-11-12  41.900002\n",
       "2013-11-13  42.599998"
      ]
     },
     "execution_count": 13,
     "metadata": {},
     "output_type": "execute_result"
    }
   ],
   "source": [
    "data = twitter_price.drop(['financeType','open', 'high', 'low', 'adjustedClose', 'volume','id'], axis = 1)\n",
    "price_column = 'close'\n",
    "data.head()"
   ]
  },
  {
   "cell_type": "code",
   "execution_count": 14,
   "id": "1eb5071b",
   "metadata": {},
   "outputs": [],
   "source": [
    "# This function splits the data in 70,30 ratio.\n",
    "def train_test_split(df, test_size=0.3):\n",
    "    split_row = len(df) - int(test_size * len(df))\n",
    "    train_data = df.iloc[:split_row]\n",
    "    test_data = df.iloc[split_row:]\n",
    "    return train_data, test_data"
   ]
  },
  {
   "cell_type": "code",
   "execution_count": 15,
   "id": "46dc1214",
   "metadata": {},
   "outputs": [],
   "source": [
    "train, test = train_test_split(data, test_size=0.2)"
   ]
  },
  {
   "cell_type": "code",
   "execution_count": 16,
   "id": "2326ae5c",
   "metadata": {},
   "outputs": [
    {
     "data": {
      "text/plain": [
       "((1747, 1), (436, 1))"
      ]
     },
     "execution_count": 16,
     "metadata": {},
     "output_type": "execute_result"
    }
   ],
   "source": [
    "train.shape, test.shape"
   ]
  },
  {
   "cell_type": "code",
   "execution_count": 17,
   "id": "fad40f4a",
   "metadata": {},
   "outputs": [
    {
     "data": {
      "text/html": [
       "<div>\n",
       "<style scoped>\n",
       "    .dataframe tbody tr th:only-of-type {\n",
       "        vertical-align: middle;\n",
       "    }\n",
       "\n",
       "    .dataframe tbody tr th {\n",
       "        vertical-align: top;\n",
       "    }\n",
       "\n",
       "    .dataframe thead th {\n",
       "        text-align: right;\n",
       "    }\n",
       "</style>\n",
       "<table border=\"1\" class=\"dataframe\">\n",
       "  <thead>\n",
       "    <tr style=\"text-align: right;\">\n",
       "      <th></th>\n",
       "      <th>close</th>\n",
       "    </tr>\n",
       "    <tr>\n",
       "      <th>date</th>\n",
       "      <th></th>\n",
       "    </tr>\n",
       "  </thead>\n",
       "  <tbody>\n",
       "    <tr>\n",
       "      <th>2013-11-07</th>\n",
       "      <td>44.900002</td>\n",
       "    </tr>\n",
       "    <tr>\n",
       "      <th>2013-11-08</th>\n",
       "      <td>41.650002</td>\n",
       "    </tr>\n",
       "    <tr>\n",
       "      <th>2013-11-11</th>\n",
       "      <td>42.900002</td>\n",
       "    </tr>\n",
       "    <tr>\n",
       "      <th>2013-11-12</th>\n",
       "      <td>41.900002</td>\n",
       "    </tr>\n",
       "    <tr>\n",
       "      <th>2013-11-13</th>\n",
       "      <td>42.599998</td>\n",
       "    </tr>\n",
       "    <tr>\n",
       "      <th>...</th>\n",
       "      <td>...</td>\n",
       "    </tr>\n",
       "    <tr>\n",
       "      <th>2020-10-09</th>\n",
       "      <td>45.900002</td>\n",
       "    </tr>\n",
       "    <tr>\n",
       "      <th>2020-10-12</th>\n",
       "      <td>48.250000</td>\n",
       "    </tr>\n",
       "    <tr>\n",
       "      <th>2020-10-13</th>\n",
       "      <td>47.000000</td>\n",
       "    </tr>\n",
       "    <tr>\n",
       "      <th>2020-10-14</th>\n",
       "      <td>45.980000</td>\n",
       "    </tr>\n",
       "    <tr>\n",
       "      <th>2020-10-15</th>\n",
       "      <td>46.029999</td>\n",
       "    </tr>\n",
       "  </tbody>\n",
       "</table>\n",
       "<p>1747 rows × 1 columns</p>\n",
       "</div>"
      ],
      "text/plain": [
       "                close\n",
       "date                 \n",
       "2013-11-07  44.900002\n",
       "2013-11-08  41.650002\n",
       "2013-11-11  42.900002\n",
       "2013-11-12  41.900002\n",
       "2013-11-13  42.599998\n",
       "...               ...\n",
       "2020-10-09  45.900002\n",
       "2020-10-12  48.250000\n",
       "2020-10-13  47.000000\n",
       "2020-10-14  45.980000\n",
       "2020-10-15  46.029999\n",
       "\n",
       "[1747 rows x 1 columns]"
      ]
     },
     "execution_count": 17,
     "metadata": {},
     "output_type": "execute_result"
    }
   ],
   "source": [
    "train"
   ]
  },
  {
   "cell_type": "code",
   "execution_count": 18,
   "id": "b25ba66a",
   "metadata": {},
   "outputs": [
    {
     "data": {
      "text/html": [
       "<div>\n",
       "<style scoped>\n",
       "    .dataframe tbody tr th:only-of-type {\n",
       "        vertical-align: middle;\n",
       "    }\n",
       "\n",
       "    .dataframe tbody tr th {\n",
       "        vertical-align: top;\n",
       "    }\n",
       "\n",
       "    .dataframe thead th {\n",
       "        text-align: right;\n",
       "    }\n",
       "</style>\n",
       "<table border=\"1\" class=\"dataframe\">\n",
       "  <thead>\n",
       "    <tr style=\"text-align: right;\">\n",
       "      <th></th>\n",
       "      <th>close</th>\n",
       "    </tr>\n",
       "    <tr>\n",
       "      <th>date</th>\n",
       "      <th></th>\n",
       "    </tr>\n",
       "  </thead>\n",
       "  <tbody>\n",
       "    <tr>\n",
       "      <th>2020-10-16</th>\n",
       "      <td>45.810001</td>\n",
       "    </tr>\n",
       "    <tr>\n",
       "      <th>2020-10-19</th>\n",
       "      <td>45.820000</td>\n",
       "    </tr>\n",
       "    <tr>\n",
       "      <th>2020-10-20</th>\n",
       "      <td>46.349998</td>\n",
       "    </tr>\n",
       "    <tr>\n",
       "      <th>2020-10-21</th>\n",
       "      <td>50.240002</td>\n",
       "    </tr>\n",
       "    <tr>\n",
       "      <th>2020-10-22</th>\n",
       "      <td>50.279999</td>\n",
       "    </tr>\n",
       "    <tr>\n",
       "      <th>...</th>\n",
       "      <td>...</td>\n",
       "    </tr>\n",
       "    <tr>\n",
       "      <th>2022-07-06</th>\n",
       "      <td>38.209999</td>\n",
       "    </tr>\n",
       "    <tr>\n",
       "      <th>2022-07-07</th>\n",
       "      <td>38.790001</td>\n",
       "    </tr>\n",
       "    <tr>\n",
       "      <th>2022-07-08</th>\n",
       "      <td>36.810001</td>\n",
       "    </tr>\n",
       "    <tr>\n",
       "      <th>2022-07-11</th>\n",
       "      <td>32.650002</td>\n",
       "    </tr>\n",
       "    <tr>\n",
       "      <th>2022-07-12</th>\n",
       "      <td>34.060001</td>\n",
       "    </tr>\n",
       "  </tbody>\n",
       "</table>\n",
       "<p>436 rows × 1 columns</p>\n",
       "</div>"
      ],
      "text/plain": [
       "                close\n",
       "date                 \n",
       "2020-10-16  45.810001\n",
       "2020-10-19  45.820000\n",
       "2020-10-20  46.349998\n",
       "2020-10-21  50.240002\n",
       "2020-10-22  50.279999\n",
       "...               ...\n",
       "2022-07-06  38.209999\n",
       "2022-07-07  38.790001\n",
       "2022-07-08  36.810001\n",
       "2022-07-11  32.650002\n",
       "2022-07-12  34.060001\n",
       "\n",
       "[436 rows x 1 columns]"
      ]
     },
     "execution_count": 18,
     "metadata": {},
     "output_type": "execute_result"
    }
   ],
   "source": [
    "test"
   ]
  },
  {
   "cell_type": "code",
   "execution_count": 19,
   "id": "2c3f65b5",
   "metadata": {},
   "outputs": [
    {
     "data": {
      "text/plain": [
       "array([[0.48553919],\n",
       "       [0.43445463],\n",
       "       [0.45410254],\n",
       "       ...,\n",
       "       [0.3583779 ],\n",
       "       [0.29298967],\n",
       "       [0.3151525 ]])"
      ]
     },
     "execution_count": 19,
     "metadata": {},
     "output_type": "execute_result"
    }
   ],
   "source": [
    "# Perform MinMax scaling\n",
    "scaler=MinMaxScaler(feature_range=(0,1))\n",
    "df1=scaler.fit_transform(np.array(data).reshape(-1,1))\n",
    "df1"
   ]
  },
  {
   "cell_type": "code",
   "execution_count": 20,
   "id": "48596a15",
   "metadata": {},
   "outputs": [
    {
     "data": {
      "text/plain": [
       "(1746, 1747)"
      ]
     },
     "execution_count": 20,
     "metadata": {},
     "output_type": "execute_result"
    }
   ],
   "source": [
    "##splitting dataset into train and test split\n",
    "training_size=int(len(df1)*0.8)\n",
    "# test_size=len(df1)-training_size\n",
    "\n",
    "test_size = 0.2\n",
    "split_row = len(df1) - int(test_size * len(df1))\n",
    "# train_data = df.iloc[:split_row]\n",
    "# test_data = df.iloc[split_row:]\n",
    "    \n",
    "train_scaled,test_scaled=df1[0:split_row,:],df1[split_row:,]\n",
    "training_size,split_row"
   ]
  },
  {
   "cell_type": "code",
   "execution_count": 21,
   "id": "e8c5cd44",
   "metadata": {},
   "outputs": [
    {
     "data": {
      "text/plain": [
       "((1747, 1), (436, 1))"
      ]
     },
     "execution_count": 21,
     "metadata": {},
     "output_type": "execute_result"
    }
   ],
   "source": [
    "train_scaled.shape,test_scaled.shape"
   ]
  },
  {
   "cell_type": "code",
   "execution_count": 22,
   "id": "119a0282",
   "metadata": {},
   "outputs": [
    {
     "data": {
      "text/plain": [
       "array([[0.48553919],\n",
       "       [0.43445463],\n",
       "       [0.45410254],\n",
       "       ...,\n",
       "       [0.51854765],\n",
       "       [0.50251496],\n",
       "       [0.50330086]])"
      ]
     },
     "execution_count": 22,
     "metadata": {},
     "output_type": "execute_result"
    }
   ],
   "source": [
    "train_scaled"
   ]
  },
  {
   "cell_type": "code",
   "execution_count": 23,
   "id": "a27a7f05",
   "metadata": {},
   "outputs": [
    {
     "data": {
      "text/plain": [
       "array([[0.49984286],\n",
       "       [0.50000002],\n",
       "       [0.50833071],\n",
       "       [0.56947507],\n",
       "       [0.57010375],\n",
       "       [0.57261868],\n",
       "       [0.54998431],\n",
       "       [0.58566491],\n",
       "       [0.54259668],\n",
       "       [0.60389817],\n",
       "       [0.4298963 ],\n",
       "       [0.40018865],\n",
       "       [0.43571206],\n",
       "       [0.45190191],\n",
       "       [0.46683434],\n",
       "       [0.45756052],\n",
       "       [0.4586608 ],\n",
       "       [0.44640052],\n",
       "       [0.4655769 ],\n",
       "       [0.45268787],\n",
       "       [0.46321914],\n",
       "       [0.45143039],\n",
       "       [0.45331656],\n",
       "       [0.46086142],\n",
       "       [0.46541969],\n",
       "       [0.48208113],\n",
       "       [0.48616788],\n",
       "       [0.49072621],\n",
       "       [0.5095882 ],\n",
       "       [0.51210314],\n",
       "       [0.51084564],\n",
       "       [0.51336057],\n",
       "       [0.52216287],\n",
       "       [0.53096515],\n",
       "       [0.53002203],\n",
       "       [0.53269418],\n",
       "       [0.52530653],\n",
       "       [0.52216287],\n",
       "       [0.5847218 ],\n",
       "       [0.58833701],\n",
       "       [0.59745366],\n",
       "       [0.61002832],\n",
       "       [0.62904748],\n",
       "       [0.63847851],\n",
       "       [0.65796921],\n",
       "       [0.63863566],\n",
       "       [0.64287963],\n",
       "       [0.63329143],\n",
       "       [0.62810442],\n",
       "       [0.63533483],\n",
       "       [0.63423456],\n",
       "       [0.63376303],\n",
       "       [0.63093373],\n",
       "       [0.63690665],\n",
       "       [0.62668977],\n",
       "       [0.61694435],\n",
       "       [0.60232637],\n",
       "       [0.58896576],\n",
       "       [0.53709528],\n",
       "       [0.5191764 ],\n",
       "       [0.5220057 ],\n",
       "       [0.49952849],\n",
       "       [0.48994029],\n",
       "       [0.50172904],\n",
       "       [0.52797862],\n",
       "       [0.52043383],\n",
       "       [0.53520909],\n",
       "       [0.53175105],\n",
       "       [0.56051556],\n",
       "       [0.53725245],\n",
       "       [0.59038041],\n",
       "       [0.57403333],\n",
       "       [0.60751339],\n",
       "       [0.62857595],\n",
       "       [0.63769261],\n",
       "       [0.66802892],\n",
       "       [0.67227289],\n",
       "       [0.69459294],\n",
       "       [0.72084252],\n",
       "       [0.84501728],\n",
       "       [0.85743478],\n",
       "       [0.90993406],\n",
       "       [0.94231377],\n",
       "       [0.90820503],\n",
       "       [0.91559266],\n",
       "       [0.91590697],\n",
       "       [0.88777115],\n",
       "       [0.92989627],\n",
       "       [0.91024836],\n",
       "       [0.95221627],\n",
       "       [0.99104057],\n",
       "       [1.        ],\n",
       "       [0.93775544],\n",
       "       [0.89358698],\n",
       "       [0.82898464],\n",
       "       [0.83212825],\n",
       "       [0.7775857 ],\n",
       "       [0.8410877 ],\n",
       "       [0.79880548],\n",
       "       [0.85586296],\n",
       "       [0.85020435],\n",
       "       [0.88447032],\n",
       "       [0.86828046],\n",
       "       [0.88321282],\n",
       "       [0.8285131 ],\n",
       "       [0.82081115],\n",
       "       [0.80477839],\n",
       "       [0.79000313],\n",
       "       [0.75526569],\n",
       "       [0.74174793],\n",
       "       [0.74269098],\n",
       "       [0.76909779],\n",
       "       [0.76988375],\n",
       "       [0.77994347],\n",
       "       [0.78308715],\n",
       "       [0.7895316 ],\n",
       "       [0.83291422],\n",
       "       [0.86419366],\n",
       "       [0.89924558],\n",
       "       [0.89877404],\n",
       "       [0.89358698],\n",
       "       [0.91857906],\n",
       "       [0.87598241],\n",
       "       [0.90694753],\n",
       "       [0.88195545],\n",
       "       [0.84768948],\n",
       "       [0.81248034],\n",
       "       [0.8381013 ],\n",
       "       [0.79063188],\n",
       "       [0.83322854],\n",
       "       [0.8285131 ],\n",
       "       [0.8173531 ],\n",
       "       [0.81248034],\n",
       "       [0.80289215],\n",
       "       [0.64775233],\n",
       "       [0.63769261],\n",
       "       [0.63486331],\n",
       "       [0.6216599 ],\n",
       "       [0.62558948],\n",
       "       [0.62527512],\n",
       "       [0.59415283],\n",
       "       [0.61097144],\n",
       "       [0.57670548],\n",
       "       [0.56743167],\n",
       "       [0.59289534],\n",
       "       [0.60657026],\n",
       "       [0.61584409],\n",
       "       [0.61160012],\n",
       "       [0.63973595],\n",
       "       [0.63564921],\n",
       "       [0.67667405],\n",
       "       [0.67573093],\n",
       "       [0.68909148],\n",
       "       [0.69270676],\n",
       "       [0.69144926],\n",
       "       [0.68264698],\n",
       "       [0.67824587],\n",
       "       [0.67588809],\n",
       "       [0.70716759],\n",
       "       [0.71707015],\n",
       "       [0.70418112],\n",
       "       [0.71832759],\n",
       "       [0.7276014 ],\n",
       "       [0.73074508],\n",
       "       [0.73593216],\n",
       "       [0.72650113],\n",
       "       [0.72178564],\n",
       "       [0.73404592],\n",
       "       [0.73624647],\n",
       "       [0.75369383],\n",
       "       [0.78230118],\n",
       "       [0.82489784],\n",
       "       [0.85256213],\n",
       "       [0.84753226],\n",
       "       [0.85319088],\n",
       "       [0.86435087],\n",
       "       [0.86136436],\n",
       "       [0.85036158],\n",
       "       [0.86749449],\n",
       "       [0.88337004],\n",
       "       [0.86057851],\n",
       "       [0.83024213],\n",
       "       [0.86387934],\n",
       "       [0.87786865],\n",
       "       [0.87378184],\n",
       "       [0.8843131 ],\n",
       "       [0.84973283],\n",
       "       [0.82364047],\n",
       "       [0.81751021],\n",
       "       [0.84768948],\n",
       "       [0.87283879],\n",
       "       [0.87331032],\n",
       "       [0.90663321],\n",
       "       [0.85947822],\n",
       "       [0.85381963],\n",
       "       [0.87944045],\n",
       "       [0.88588503],\n",
       "       [0.87613962],\n",
       "       [0.86639421],\n",
       "       [0.85853505],\n",
       "       [0.85963533],\n",
       "       [0.86875199],\n",
       "       [0.83873005],\n",
       "       [0.83307143],\n",
       "       [0.81216602],\n",
       "       [0.80870798],\n",
       "       [0.8006916 ],\n",
       "       [0.79864826],\n",
       "       [0.78230118],\n",
       "       [0.76815472],\n",
       "       [0.75620876],\n",
       "       [0.75510848],\n",
       "       [0.76249611],\n",
       "       [0.78780257],\n",
       "       [0.78544487],\n",
       "       [0.78843132],\n",
       "       [0.76391077],\n",
       "       [0.77679979],\n",
       "       [0.79676201],\n",
       "       [0.7936184 ],\n",
       "       [0.81012269],\n",
       "       [0.7951902 ],\n",
       "       [0.79613339],\n",
       "       [0.80116324],\n",
       "       [0.75856652],\n",
       "       [0.76155299],\n",
       "       [0.74740653],\n",
       "       [0.71754169],\n",
       "       [0.72587239],\n",
       "       [0.75180764],\n",
       "       [0.75888091],\n",
       "       [0.76171021],\n",
       "       [0.73781835],\n",
       "       [0.76658286],\n",
       "       [0.78968881],\n",
       "       [0.82804157],\n",
       "       [0.83637227],\n",
       "       [0.80729339],\n",
       "       [0.76139584],\n",
       "       [0.7239862 ],\n",
       "       [0.72901605],\n",
       "       [0.75400821],\n",
       "       [0.69757939],\n",
       "       [0.72068537],\n",
       "       [0.74316258],\n",
       "       [0.7852877 ],\n",
       "       [0.78072937],\n",
       "       [0.75589438],\n",
       "       [0.74567751],\n",
       "       [0.75746626],\n",
       "       [0.77271299],\n",
       "       [0.76642569],\n",
       "       [0.79896257],\n",
       "       [0.81892492],\n",
       "       [0.81405227],\n",
       "       [0.80776492],\n",
       "       [0.75809501],\n",
       "       [0.75605161],\n",
       "       [0.74536313],\n",
       "       [0.64130781],\n",
       "       [0.63313428],\n",
       "       [0.62134553],\n",
       "       [0.64602331],\n",
       "       [0.6284188 ],\n",
       "       [0.63690665],\n",
       "       [0.62354608],\n",
       "       [0.6152154 ],\n",
       "       [0.62983345],\n",
       "       [0.62386047],\n",
       "       [0.60232637],\n",
       "       [0.59682493],\n",
       "       [0.60106887],\n",
       "       [0.61207172],\n",
       "       [0.59886832],\n",
       "       [0.57529083],\n",
       "       [0.54369694],\n",
       "       [0.54055334],\n",
       "       [0.52342035],\n",
       "       [0.5207482 ],\n",
       "       [0.52672118],\n",
       "       [0.51964793],\n",
       "       [0.49937127],\n",
       "       [0.47044955],\n",
       "       [0.45284504],\n",
       "       [0.45017295],\n",
       "       [0.44105629],\n",
       "       [0.4787803 ],\n",
       "       [0.47862308],\n",
       "       [0.49842821],\n",
       "       [0.51005974],\n",
       "       [0.49591327],\n",
       "       [0.48082363],\n",
       "       [0.47689405],\n",
       "       [0.47249295],\n",
       "       [0.45771774],\n",
       "       [0.45677462],\n",
       "       [0.45535997],\n",
       "       [0.47705128],\n",
       "       [0.46982086],\n",
       "       [0.4739076 ],\n",
       "       [0.47657975],\n",
       "       [0.46243322],\n",
       "       [0.45190191],\n",
       "       [0.47862308],\n",
       "       [0.45913239],\n",
       "       [0.45033011],\n",
       "       [0.4218799 ],\n",
       "       [0.40066019],\n",
       "       [0.40207484],\n",
       "       [0.40333227],\n",
       "       [0.40804782],\n",
       "       [0.41889345],\n",
       "       [0.41244893],\n",
       "       [0.38808554],\n",
       "       [0.38399874],\n",
       "       [0.36607985],\n",
       "       [0.36686575],\n",
       "       [0.36576548],\n",
       "       [0.32709841],\n",
       "       [0.33087083],\n",
       "       [0.31688147],\n",
       "       [0.3082364 ],\n",
       "       [0.31169445],\n",
       "       [0.33417166],\n",
       "       [0.36938068],\n",
       "       [0.37896888],\n",
       "       [0.35366236],\n",
       "       [0.32175418],\n",
       "       [0.36042125],\n",
       "       [0.34627479],\n",
       "       [0.34533167],\n",
       "       [0.37441061],\n",
       "       [0.36262187],\n",
       "       [0.34313111],\n",
       "       [0.34077334],\n",
       "       [0.36105   ],\n",
       "       [0.34941847],\n",
       "       [0.33668659],\n",
       "       [0.31923925],\n",
       "       [0.29739077],\n",
       "       [0.29471862],\n",
       "       [0.32961334],\n",
       "       [0.33448604],\n",
       "       [0.33857278],\n",
       "       [0.33872999],\n",
       "       [0.32395473],\n",
       "       [0.30619307],\n",
       "       [0.30462119],\n",
       "       [0.28937439],\n",
       "       [0.29346119],\n",
       "       [0.32002515],\n",
       "       [0.31609557],\n",
       "       [0.29849105],\n",
       "       [0.29896259],\n",
       "       [0.31373785],\n",
       "       [0.33574348],\n",
       "       [0.36607985],\n",
       "       [0.37346748],\n",
       "       [0.36828042],\n",
       "       [0.38384158],\n",
       "       [0.3770827 ],\n",
       "       [0.38997173],\n",
       "       [0.38651366],\n",
       "       [0.39468721],\n",
       "       [0.41936498],\n",
       "       [0.39280102],\n",
       "       [0.38792833],\n",
       "       [0.39767372],\n",
       "       [0.5652311 ],\n",
       "       [0.5811066 ],\n",
       "       [0.57780575],\n",
       "       [0.53473751],\n",
       "       [0.50644454],\n",
       "       [0.5187048 ],\n",
       "       [0.47893746],\n",
       "       [0.50047154],\n",
       "       [0.48836849],\n",
       "       [0.54133924],\n",
       "       [0.50534426],\n",
       "       [0.51414653],\n",
       "       [0.51980515],\n",
       "       [0.54888402],\n",
       "       [0.59242381],\n",
       "       [0.56067277],\n",
       "       [0.54432569],\n",
       "       [0.55171334],\n",
       "       [0.55029867],\n",
       "       [0.55218486],\n",
       "       [0.54794091],\n",
       "       [0.55092742],\n",
       "       [0.57136125],\n",
       "       [0.56255895],\n",
       "       [0.53363723],\n",
       "       [0.52263438],\n",
       "       [0.50424397],\n",
       "       [0.48836849],\n",
       "       [0.41983656],\n",
       "       [0.3674945 ],\n",
       "       [0.38211256],\n",
       "       [0.35900659],\n",
       "       [0.3659227 ],\n",
       "       [0.38164103],\n",
       "       [0.37488215],\n",
       "       [0.34187361],\n",
       "       [0.3638793 ],\n",
       "       [0.40097456],\n",
       "       [0.41119144],\n",
       "       [0.40223199],\n",
       "       [0.39751651],\n",
       "       [0.4071047 ],\n",
       "       [0.41103429],\n",
       "       [0.4016033 ],\n",
       "       [0.41056275],\n",
       "       [0.4154354 ],\n",
       "       [0.40113172],\n",
       "       [0.39248666],\n",
       "       [0.3618359 ],\n",
       "       [0.36482242],\n",
       "       [0.37692554],\n",
       "       [0.36702298],\n",
       "       [0.37362465],\n",
       "       [0.39138637],\n",
       "       [0.38541339],\n",
       "       [0.38777116],\n",
       "       [0.39924554],\n",
       "       [0.39578749],\n",
       "       [0.38950019],\n",
       "       [0.37393901],\n",
       "       [0.3674945 ],\n",
       "       [0.38069791],\n",
       "       [0.38305568],\n",
       "       [0.38038353],\n",
       "       [0.38950019],\n",
       "       [0.3583779 ],\n",
       "       [0.29298967],\n",
       "       [0.3151525 ]])"
      ]
     },
     "execution_count": 23,
     "metadata": {},
     "output_type": "execute_result"
    }
   ],
   "source": [
    "test_scaled"
   ]
  },
  {
   "cell_type": "code",
   "execution_count": 24,
   "id": "6c69a441",
   "metadata": {},
   "outputs": [],
   "source": [
    "# convert an array of values into a dataset matrix\n",
    "def create_dataset(dataset, time_step=1):\n",
    "    dataX, dataY = [], []\n",
    "    for i in range(len(dataset)-time_step-1):\n",
    "        a = dataset[i:(i+time_step), 0]   ###i=0, 0,1,2,3-----99   100 \n",
    "        dataX.append(a)\n",
    "        dataY.append(dataset[i + time_step, 0])\n",
    "    return np.array(dataX), np.array(dataY)"
   ]
  },
  {
   "cell_type": "code",
   "execution_count": 25,
   "id": "7e257e59",
   "metadata": {},
   "outputs": [],
   "source": [
    "# reshape into X=t,t+1,t+2,t+3 and Y=t+4\n",
    "time_step = 30\n",
    "X_train, y_train = create_dataset(train_scaled, time_step)\n",
    "X_test, ytest = create_dataset(test_scaled, time_step)"
   ]
  },
  {
   "cell_type": "code",
   "execution_count": 26,
   "id": "70cf0a45",
   "metadata": {},
   "outputs": [
    {
     "name": "stdout",
     "output_type": "stream",
     "text": [
      "(1716, 30)\n",
      "(1716,)\n"
     ]
    },
    {
     "data": {
      "text/plain": [
       "(None, None)"
      ]
     },
     "execution_count": 26,
     "metadata": {},
     "output_type": "execute_result"
    }
   ],
   "source": [
    "print(X_train.shape), print(y_train.shape)"
   ]
  },
  {
   "cell_type": "code",
   "execution_count": 27,
   "id": "561ed04b",
   "metadata": {},
   "outputs": [
    {
     "name": "stdout",
     "output_type": "stream",
     "text": [
      "(405, 30)\n",
      "(405,)\n"
     ]
    },
    {
     "data": {
      "text/plain": [
       "(None, None)"
      ]
     },
     "execution_count": 27,
     "metadata": {},
     "output_type": "execute_result"
    }
   ],
   "source": [
    "print(X_test.shape), print(ytest.shape)"
   ]
  },
  {
   "cell_type": "code",
   "execution_count": 28,
   "id": "17ba53b9",
   "metadata": {},
   "outputs": [],
   "source": [
    "# reshape input to be [samples, time steps, features] which is required for LSTM\n",
    "X_train =X_train.reshape(X_train.shape[0],X_train.shape[1] , 1)\n",
    "X_test = X_test.reshape(X_test.shape[0],X_test.shape[1] , 1)"
   ]
  },
  {
   "cell_type": "code",
   "execution_count": 29,
   "id": "f8732a2d",
   "metadata": {},
   "outputs": [
    {
     "name": "stdout",
     "output_type": "stream",
     "text": [
      "(1716, 30, 1)\n",
      "(1716,)\n"
     ]
    },
    {
     "data": {
      "text/plain": [
       "(None, None)"
      ]
     },
     "execution_count": 29,
     "metadata": {},
     "output_type": "execute_result"
    }
   ],
   "source": [
    "print(X_train.shape), print(y_train.shape)"
   ]
  },
  {
   "cell_type": "code",
   "execution_count": 30,
   "id": "29d30983",
   "metadata": {},
   "outputs": [
    {
     "name": "stdout",
     "output_type": "stream",
     "text": [
      "(405, 30, 1)\n",
      "(405,)\n"
     ]
    },
    {
     "data": {
      "text/plain": [
       "(None, None)"
      ]
     },
     "execution_count": 30,
     "metadata": {},
     "output_type": "execute_result"
    }
   ],
   "source": [
    "print(X_test.shape), print(ytest.shape)"
   ]
  },
  {
   "cell_type": "code",
   "execution_count": 31,
   "id": "8784e8dc",
   "metadata": {},
   "outputs": [
    {
     "data": {
      "text/plain": [
       "array([[[0.49984286],\n",
       "        [0.50000002],\n",
       "        [0.50833071],\n",
       "        ...,\n",
       "        [0.49072621],\n",
       "        [0.5095882 ],\n",
       "        [0.51210314]],\n",
       "\n",
       "       [[0.50000002],\n",
       "        [0.50833071],\n",
       "        [0.56947507],\n",
       "        ...,\n",
       "        [0.5095882 ],\n",
       "        [0.51210314],\n",
       "        [0.51084564]],\n",
       "\n",
       "       [[0.50833071],\n",
       "        [0.56947507],\n",
       "        [0.57010375],\n",
       "        ...,\n",
       "        [0.51210314],\n",
       "        [0.51084564],\n",
       "        [0.51336057]],\n",
       "\n",
       "       ...,\n",
       "\n",
       "       [[0.37488215],\n",
       "        [0.34187361],\n",
       "        [0.3638793 ],\n",
       "        ...,\n",
       "        [0.38069791],\n",
       "        [0.38305568],\n",
       "        [0.38038353]],\n",
       "\n",
       "       [[0.34187361],\n",
       "        [0.3638793 ],\n",
       "        [0.40097456],\n",
       "        ...,\n",
       "        [0.38305568],\n",
       "        [0.38038353],\n",
       "        [0.38950019]],\n",
       "\n",
       "       [[0.3638793 ],\n",
       "        [0.40097456],\n",
       "        [0.41119144],\n",
       "        ...,\n",
       "        [0.38038353],\n",
       "        [0.38950019],\n",
       "        [0.3583779 ]]])"
      ]
     },
     "execution_count": 31,
     "metadata": {},
     "output_type": "execute_result"
    }
   ],
   "source": [
    "X_test"
   ]
  },
  {
   "cell_type": "code",
   "execution_count": 32,
   "id": "e4d85568",
   "metadata": {},
   "outputs": [
    {
     "data": {
      "text/plain": [
       "array([0.51084564, 0.51336057, 0.52216287, 0.53096515, 0.53002203,\n",
       "       0.53269418, 0.52530653, 0.52216287, 0.5847218 , 0.58833701,\n",
       "       0.59745366, 0.61002832, 0.62904748, 0.63847851, 0.65796921,\n",
       "       0.63863566, 0.64287963, 0.63329143, 0.62810442, 0.63533483,\n",
       "       0.63423456, 0.63376303, 0.63093373, 0.63690665, 0.62668977,\n",
       "       0.61694435, 0.60232637, 0.58896576, 0.53709528, 0.5191764 ,\n",
       "       0.5220057 , 0.49952849, 0.48994029, 0.50172904, 0.52797862,\n",
       "       0.52043383, 0.53520909, 0.53175105, 0.56051556, 0.53725245,\n",
       "       0.59038041, 0.57403333, 0.60751339, 0.62857595, 0.63769261,\n",
       "       0.66802892, 0.67227289, 0.69459294, 0.72084252, 0.84501728,\n",
       "       0.85743478, 0.90993406, 0.94231377, 0.90820503, 0.91559266,\n",
       "       0.91590697, 0.88777115, 0.92989627, 0.91024836, 0.95221627,\n",
       "       0.99104057, 1.        , 0.93775544, 0.89358698, 0.82898464,\n",
       "       0.83212825, 0.7775857 , 0.8410877 , 0.79880548, 0.85586296,\n",
       "       0.85020435, 0.88447032, 0.86828046, 0.88321282, 0.8285131 ,\n",
       "       0.82081115, 0.80477839, 0.79000313, 0.75526569, 0.74174793,\n",
       "       0.74269098, 0.76909779, 0.76988375, 0.77994347, 0.78308715,\n",
       "       0.7895316 , 0.83291422, 0.86419366, 0.89924558, 0.89877404,\n",
       "       0.89358698, 0.91857906, 0.87598241, 0.90694753, 0.88195545,\n",
       "       0.84768948, 0.81248034, 0.8381013 , 0.79063188, 0.83322854,\n",
       "       0.8285131 , 0.8173531 , 0.81248034, 0.80289215, 0.64775233,\n",
       "       0.63769261, 0.63486331, 0.6216599 , 0.62558948, 0.62527512,\n",
       "       0.59415283, 0.61097144, 0.57670548, 0.56743167, 0.59289534,\n",
       "       0.60657026, 0.61584409, 0.61160012, 0.63973595, 0.63564921,\n",
       "       0.67667405, 0.67573093, 0.68909148, 0.69270676, 0.69144926,\n",
       "       0.68264698, 0.67824587, 0.67588809, 0.70716759, 0.71707015,\n",
       "       0.70418112, 0.71832759, 0.7276014 , 0.73074508, 0.73593216,\n",
       "       0.72650113, 0.72178564, 0.73404592, 0.73624647, 0.75369383,\n",
       "       0.78230118, 0.82489784, 0.85256213, 0.84753226, 0.85319088,\n",
       "       0.86435087, 0.86136436, 0.85036158, 0.86749449, 0.88337004,\n",
       "       0.86057851, 0.83024213, 0.86387934, 0.87786865, 0.87378184,\n",
       "       0.8843131 , 0.84973283, 0.82364047, 0.81751021, 0.84768948,\n",
       "       0.87283879, 0.87331032, 0.90663321, 0.85947822, 0.85381963,\n",
       "       0.87944045, 0.88588503, 0.87613962, 0.86639421, 0.85853505,\n",
       "       0.85963533, 0.86875199, 0.83873005, 0.83307143, 0.81216602,\n",
       "       0.80870798, 0.8006916 , 0.79864826, 0.78230118, 0.76815472,\n",
       "       0.75620876, 0.75510848, 0.76249611, 0.78780257, 0.78544487,\n",
       "       0.78843132, 0.76391077, 0.77679979, 0.79676201, 0.7936184 ,\n",
       "       0.81012269, 0.7951902 , 0.79613339, 0.80116324, 0.75856652,\n",
       "       0.76155299, 0.74740653, 0.71754169, 0.72587239, 0.75180764,\n",
       "       0.75888091, 0.76171021, 0.73781835, 0.76658286, 0.78968881,\n",
       "       0.82804157, 0.83637227, 0.80729339, 0.76139584, 0.7239862 ,\n",
       "       0.72901605, 0.75400821, 0.69757939, 0.72068537, 0.74316258,\n",
       "       0.7852877 , 0.78072937, 0.75589438, 0.74567751, 0.75746626,\n",
       "       0.77271299, 0.76642569, 0.79896257, 0.81892492, 0.81405227,\n",
       "       0.80776492, 0.75809501, 0.75605161, 0.74536313, 0.64130781,\n",
       "       0.63313428, 0.62134553, 0.64602331, 0.6284188 , 0.63690665,\n",
       "       0.62354608, 0.6152154 , 0.62983345, 0.62386047, 0.60232637,\n",
       "       0.59682493, 0.60106887, 0.61207172, 0.59886832, 0.57529083,\n",
       "       0.54369694, 0.54055334, 0.52342035, 0.5207482 , 0.52672118,\n",
       "       0.51964793, 0.49937127, 0.47044955, 0.45284504, 0.45017295,\n",
       "       0.44105629, 0.4787803 , 0.47862308, 0.49842821, 0.51005974,\n",
       "       0.49591327, 0.48082363, 0.47689405, 0.47249295, 0.45771774,\n",
       "       0.45677462, 0.45535997, 0.47705128, 0.46982086, 0.4739076 ,\n",
       "       0.47657975, 0.46243322, 0.45190191, 0.47862308, 0.45913239,\n",
       "       0.45033011, 0.4218799 , 0.40066019, 0.40207484, 0.40333227,\n",
       "       0.40804782, 0.41889345, 0.41244893, 0.38808554, 0.38399874,\n",
       "       0.36607985, 0.36686575, 0.36576548, 0.32709841, 0.33087083,\n",
       "       0.31688147, 0.3082364 , 0.31169445, 0.33417166, 0.36938068,\n",
       "       0.37896888, 0.35366236, 0.32175418, 0.36042125, 0.34627479,\n",
       "       0.34533167, 0.37441061, 0.36262187, 0.34313111, 0.34077334,\n",
       "       0.36105   , 0.34941847, 0.33668659, 0.31923925, 0.29739077,\n",
       "       0.29471862, 0.32961334, 0.33448604, 0.33857278, 0.33872999,\n",
       "       0.32395473, 0.30619307, 0.30462119, 0.28937439, 0.29346119,\n",
       "       0.32002515, 0.31609557, 0.29849105, 0.29896259, 0.31373785,\n",
       "       0.33574348, 0.36607985, 0.37346748, 0.36828042, 0.38384158,\n",
       "       0.3770827 , 0.38997173, 0.38651366, 0.39468721, 0.41936498,\n",
       "       0.39280102, 0.38792833, 0.39767372, 0.5652311 , 0.5811066 ,\n",
       "       0.57780575, 0.53473751, 0.50644454, 0.5187048 , 0.47893746,\n",
       "       0.50047154, 0.48836849, 0.54133924, 0.50534426, 0.51414653,\n",
       "       0.51980515, 0.54888402, 0.59242381, 0.56067277, 0.54432569,\n",
       "       0.55171334, 0.55029867, 0.55218486, 0.54794091, 0.55092742,\n",
       "       0.57136125, 0.56255895, 0.53363723, 0.52263438, 0.50424397,\n",
       "       0.48836849, 0.41983656, 0.3674945 , 0.38211256, 0.35900659,\n",
       "       0.3659227 , 0.38164103, 0.37488215, 0.34187361, 0.3638793 ,\n",
       "       0.40097456, 0.41119144, 0.40223199, 0.39751651, 0.4071047 ,\n",
       "       0.41103429, 0.4016033 , 0.41056275, 0.4154354 , 0.40113172,\n",
       "       0.39248666, 0.3618359 , 0.36482242, 0.37692554, 0.36702298,\n",
       "       0.37362465, 0.39138637, 0.38541339, 0.38777116, 0.39924554,\n",
       "       0.39578749, 0.38950019, 0.37393901, 0.3674945 , 0.38069791,\n",
       "       0.38305568, 0.38038353, 0.38950019, 0.3583779 , 0.29298967])"
      ]
     },
     "execution_count": 32,
     "metadata": {},
     "output_type": "execute_result"
    }
   ],
   "source": [
    "ytest"
   ]
  },
  {
   "cell_type": "code",
   "execution_count": 33,
   "id": "77e7a222",
   "metadata": {},
   "outputs": [],
   "source": [
    "np.random.seed(42)\n",
    "tf.random.set_seed(42)\n",
    "window_len = 30\n",
    "test_size = 0.2\n",
    "zero_base = True\n",
    "lstm_neurons = 100\n",
    "epochs = 100\n",
    "batch_size = 32\n",
    "loss = 'mse'\n",
    "dropout = 0.2\n",
    "optimizer = 'adam'\n",
    "activ_func = \"relu\""
   ]
  },
  {
   "cell_type": "code",
   "execution_count": 34,
   "id": "084c168b",
   "metadata": {},
   "outputs": [],
   "source": [
    "# model = Sequential()\n",
    "# model.add(LSTM(100, input_shape=(X_train.shape[1], X_train.shape[2])))\n",
    "# model.add(Dropout(dropout))\n",
    "# model.add(Dense(units=1))\n",
    "# model.add(Activation(activ_func))\n",
    "# model.compile(loss=loss, optimizer=optimizer)\n",
    "# model.summary()"
   ]
  },
  {
   "cell_type": "code",
   "execution_count": 35,
   "id": "76e505f6",
   "metadata": {},
   "outputs": [],
   "source": [
    "model=Sequential()\n",
    "model.add(LSTM(50,return_sequences=True,input_shape=(X_train.shape[1], X_train.shape[2])))\n",
    "model.add(LSTM(50,return_sequences=True))\n",
    "model.add(LSTM(50))\n",
    "model.add(Dense(1))\n",
    "model.compile(loss='mean_squared_error',optimizer='adam')"
   ]
  },
  {
   "cell_type": "code",
   "execution_count": 36,
   "id": "eba7e5d9",
   "metadata": {},
   "outputs": [
    {
     "name": "stdout",
     "output_type": "stream",
     "text": [
      "Epoch 1/100\n",
      "54/54 [==============================] - 9s 33ms/step - loss: 0.0088\n",
      "Epoch 2/100\n",
      "54/54 [==============================] - 2s 33ms/step - loss: 0.0026\n",
      "Epoch 3/100\n",
      "54/54 [==============================] - 2s 33ms/step - loss: 0.0021\n",
      "Epoch 4/100\n",
      "54/54 [==============================] - 2s 33ms/step - loss: 0.0019\n",
      "Epoch 5/100\n",
      "54/54 [==============================] - 2s 33ms/step - loss: 0.0016\n",
      "Epoch 6/100\n",
      "54/54 [==============================] - 2s 34ms/step - loss: 0.0015\n",
      "Epoch 7/100\n",
      "54/54 [==============================] - 2s 38ms/step - loss: 0.0016\n",
      "Epoch 8/100\n",
      "54/54 [==============================] - 2s 34ms/step - loss: 0.0014\n",
      "Epoch 9/100\n",
      "54/54 [==============================] - 2s 33ms/step - loss: 0.0012\n",
      "Epoch 10/100\n",
      "54/54 [==============================] - 2s 34ms/step - loss: 0.0011\n",
      "Epoch 11/100\n",
      "54/54 [==============================] - 2s 34ms/step - loss: 0.0010\n",
      "Epoch 12/100\n",
      "54/54 [==============================] - 2s 33ms/step - loss: 0.0010\n",
      "Epoch 13/100\n",
      "54/54 [==============================] - 2s 34ms/step - loss: 9.6791e-04\n",
      "Epoch 14/100\n",
      "54/54 [==============================] - 2s 37ms/step - loss: 9.1246e-04\n",
      "Epoch 15/100\n",
      "54/54 [==============================] - 2s 36ms/step - loss: 9.0939e-04\n",
      "Epoch 16/100\n",
      "54/54 [==============================] - 2s 37ms/step - loss: 9.2690e-04\n",
      "Epoch 17/100\n",
      "54/54 [==============================] - 2s 36ms/step - loss: 8.2010e-04\n",
      "Epoch 18/100\n",
      "54/54 [==============================] - 2s 36ms/step - loss: 7.7632e-04\n",
      "Epoch 19/100\n",
      "54/54 [==============================] - 2s 36ms/step - loss: 8.1473e-04\n",
      "Epoch 20/100\n",
      "54/54 [==============================] - 2s 36ms/step - loss: 7.0742e-04\n",
      "Epoch 21/100\n",
      "54/54 [==============================] - 2s 36ms/step - loss: 6.3067e-04\n",
      "Epoch 22/100\n",
      "54/54 [==============================] - 2s 37ms/step - loss: 5.6816e-04\n",
      "Epoch 23/100\n",
      "54/54 [==============================] - 2s 36ms/step - loss: 5.5583e-04\n",
      "Epoch 24/100\n",
      "54/54 [==============================] - 2s 37ms/step - loss: 5.2939e-04\n",
      "Epoch 25/100\n",
      "54/54 [==============================] - 2s 38ms/step - loss: 4.7200e-04\n",
      "Epoch 26/100\n",
      "54/54 [==============================] - 2s 38ms/step - loss: 4.5385e-04\n",
      "Epoch 27/100\n",
      "54/54 [==============================] - 2s 40ms/step - loss: 6.3723e-04\n",
      "Epoch 28/100\n",
      "54/54 [==============================] - 2s 36ms/step - loss: 5.4780e-04\n",
      "Epoch 29/100\n",
      "54/54 [==============================] - 2s 39ms/step - loss: 4.4860e-04\n",
      "Epoch 30/100\n",
      "54/54 [==============================] - 3s 49ms/step - loss: 4.4734e-04\n",
      "Epoch 31/100\n",
      "54/54 [==============================] - 2s 44ms/step - loss: 4.8665e-04\n",
      "Epoch 32/100\n",
      "54/54 [==============================] - 2s 44ms/step - loss: 4.6484e-04\n",
      "Epoch 33/100\n",
      "54/54 [==============================] - 3s 46ms/step - loss: 4.0871e-04\n",
      "Epoch 34/100\n",
      "54/54 [==============================] - 2s 43ms/step - loss: 4.8991e-04\n",
      "Epoch 35/100\n",
      "54/54 [==============================] - 2s 42ms/step - loss: 4.4792e-04\n",
      "Epoch 36/100\n",
      "54/54 [==============================] - 2s 43ms/step - loss: 4.2340e-04\n",
      "Epoch 37/100\n",
      "54/54 [==============================] - 2s 43ms/step - loss: 4.4043e-04\n",
      "Epoch 38/100\n",
      "54/54 [==============================] - 2s 42ms/step - loss: 4.2440e-04\n",
      "Epoch 39/100\n",
      "54/54 [==============================] - 2s 43ms/step - loss: 4.2920e-04\n",
      "Epoch 40/100\n",
      "54/54 [==============================] - 2s 40ms/step - loss: 4.0699e-04\n",
      "Epoch 41/100\n",
      "54/54 [==============================] - 2s 38ms/step - loss: 4.0074e-04\n",
      "Epoch 42/100\n",
      "54/54 [==============================] - 2s 39ms/step - loss: 4.1207e-04\n",
      "Epoch 43/100\n",
      "54/54 [==============================] - 2s 37ms/step - loss: 4.0390e-04\n",
      "Epoch 44/100\n",
      "54/54 [==============================] - 2s 38ms/step - loss: 4.3983e-04\n",
      "Epoch 45/100\n",
      "54/54 [==============================] - 2s 41ms/step - loss: 4.1913e-04\n",
      "Epoch 46/100\n",
      "54/54 [==============================] - 2s 37ms/step - loss: 4.5443e-04\n",
      "Epoch 47/100\n",
      "54/54 [==============================] - 2s 37ms/step - loss: 4.3046e-04\n",
      "Epoch 48/100\n",
      "54/54 [==============================] - 2s 36ms/step - loss: 5.0796e-04\n",
      "Epoch 49/100\n",
      "54/54 [==============================] - 2s 38ms/step - loss: 3.9246e-04\n",
      "Epoch 50/100\n",
      "54/54 [==============================] - 2s 41ms/step - loss: 4.4165e-04\n",
      "Epoch 51/100\n",
      "54/54 [==============================] - 2s 40ms/step - loss: 3.8597e-04\n",
      "Epoch 52/100\n",
      "54/54 [==============================] - 2s 41ms/step - loss: 4.1024e-04\n",
      "Epoch 53/100\n",
      "54/54 [==============================] - 2s 37ms/step - loss: 4.0058e-04\n",
      "Epoch 54/100\n",
      "54/54 [==============================] - 2s 37ms/step - loss: 4.3685e-04\n",
      "Epoch 55/100\n",
      "54/54 [==============================] - 2s 38ms/step - loss: 4.1233e-04\n",
      "Epoch 56/100\n",
      "54/54 [==============================] - 2s 38ms/step - loss: 3.8613e-04\n",
      "Epoch 57/100\n",
      "54/54 [==============================] - 2s 37ms/step - loss: 4.1187e-04\n",
      "Epoch 58/100\n",
      "54/54 [==============================] - 2s 36ms/step - loss: 3.7995e-04\n",
      "Epoch 59/100\n",
      "54/54 [==============================] - 2s 37ms/step - loss: 3.7495e-04\n",
      "Epoch 60/100\n",
      "54/54 [==============================] - 2s 38ms/step - loss: 3.8162e-04\n",
      "Epoch 61/100\n",
      "54/54 [==============================] - 2s 38ms/step - loss: 4.0319e-04\n",
      "Epoch 62/100\n",
      "54/54 [==============================] - 2s 38ms/step - loss: 3.9993e-04\n",
      "Epoch 63/100\n",
      "54/54 [==============================] - 2s 37ms/step - loss: 3.8931e-04\n",
      "Epoch 64/100\n",
      "54/54 [==============================] - 2s 36ms/step - loss: 3.9276e-04\n",
      "Epoch 65/100\n",
      "54/54 [==============================] - 2s 36ms/step - loss: 3.9254e-04\n",
      "Epoch 66/100\n",
      "54/54 [==============================] - 2s 36ms/step - loss: 4.2747e-04\n",
      "Epoch 67/100\n",
      "54/54 [==============================] - 2s 36ms/step - loss: 4.4200e-04\n",
      "Epoch 68/100\n",
      "54/54 [==============================] - 2s 37ms/step - loss: 3.8500e-04\n",
      "Epoch 69/100\n",
      "54/54 [==============================] - 2s 37ms/step - loss: 3.8891e-04\n",
      "Epoch 70/100\n",
      "54/54 [==============================] - 2s 36ms/step - loss: 3.7830e-04\n",
      "Epoch 71/100\n",
      "54/54 [==============================] - 2s 37ms/step - loss: 4.1223e-04\n",
      "Epoch 72/100\n",
      "54/54 [==============================] - 2s 37ms/step - loss: 4.0876e-04\n",
      "Epoch 73/100\n",
      "54/54 [==============================] - 2s 36ms/step - loss: 3.8494e-04\n",
      "Epoch 74/100\n",
      "54/54 [==============================] - 2s 37ms/step - loss: 3.8009e-04\n",
      "Epoch 75/100\n",
      "54/54 [==============================] - 2s 37ms/step - loss: 4.0844e-04\n",
      "Epoch 76/100\n",
      "54/54 [==============================] - 2s 37ms/step - loss: 4.5924e-04\n",
      "Epoch 77/100\n",
      "54/54 [==============================] - 2s 36ms/step - loss: 4.4640e-04\n",
      "Epoch 78/100\n",
      "54/54 [==============================] - 2s 36ms/step - loss: 3.9366e-04\n",
      "Epoch 79/100\n",
      "54/54 [==============================] - 2s 37ms/step - loss: 3.6752e-04\n",
      "Epoch 80/100\n",
      "54/54 [==============================] - 2s 36ms/step - loss: 4.0707e-04\n",
      "Epoch 81/100\n",
      "54/54 [==============================] - 2s 37ms/step - loss: 4.3796e-04\n",
      "Epoch 82/100\n",
      "54/54 [==============================] - 2s 39ms/step - loss: 4.3008e-04\n",
      "Epoch 83/100\n",
      "54/54 [==============================] - 2s 42ms/step - loss: 4.0809e-04\n",
      "Epoch 84/100\n",
      "54/54 [==============================] - 2s 42ms/step - loss: 3.7326e-04\n",
      "Epoch 85/100\n",
      "54/54 [==============================] - 2s 40ms/step - loss: 3.9338e-04\n",
      "Epoch 86/100\n",
      "54/54 [==============================] - 2s 40ms/step - loss: 3.8678e-04\n",
      "Epoch 87/100\n",
      "54/54 [==============================] - 2s 39ms/step - loss: 3.8503e-04\n",
      "Epoch 88/100\n",
      "54/54 [==============================] - 2s 40ms/step - loss: 3.8619e-04\n",
      "Epoch 89/100\n",
      "54/54 [==============================] - 2s 46ms/step - loss: 3.8963e-04\n",
      "Epoch 90/100\n",
      "54/54 [==============================] - 2s 45ms/step - loss: 3.9861e-04\n",
      "Epoch 91/100\n",
      "54/54 [==============================] - 2s 44ms/step - loss: 3.9216e-04\n",
      "Epoch 92/100\n",
      "54/54 [==============================] - 2s 44ms/step - loss: 3.6751e-04\n",
      "Epoch 93/100\n",
      "54/54 [==============================] - 2s 43ms/step - loss: 3.6530e-04\n",
      "Epoch 94/100\n",
      "54/54 [==============================] - 2s 42ms/step - loss: 3.9376e-04\n",
      "Epoch 95/100\n",
      "54/54 [==============================] - 2s 44ms/step - loss: 4.1835e-04\n",
      "Epoch 96/100\n"
     ]
    },
    {
     "name": "stdout",
     "output_type": "stream",
     "text": [
      "54/54 [==============================] - 2s 43ms/step - loss: 3.9652e-04\n",
      "Epoch 97/100\n",
      "54/54 [==============================] - 2s 42ms/step - loss: 3.7424e-04\n",
      "Epoch 98/100\n",
      "54/54 [==============================] - 2s 42ms/step - loss: 3.6592e-04\n",
      "Epoch 99/100\n",
      "54/54 [==============================] - 2s 42ms/step - loss: 3.8724e-04\n",
      "Epoch 100/100\n",
      "54/54 [==============================] - 2s 42ms/step - loss: 4.1829e-04\n"
     ]
    }
   ],
   "source": [
    "history = model.fit(\n",
    "    X_train, y_train, epochs=epochs, batch_size=batch_size, verbose=1, shuffle=True)"
   ]
  },
  {
   "cell_type": "code",
   "execution_count": 37,
   "id": "baa9a840",
   "metadata": {},
   "outputs": [
    {
     "name": "stdout",
     "output_type": "stream",
     "text": [
      "54/54 [==============================] - 3s 13ms/step\n",
      "13/13 [==============================] - 0s 14ms/step\n"
     ]
    }
   ],
   "source": [
    "### Lets Do the prediction and check performance metrics\n",
    "train_predict=model.predict(X_train)\n",
    "test_predict=model.predict(X_test)"
   ]
  },
  {
   "cell_type": "code",
   "execution_count": 38,
   "id": "bdb24023",
   "metadata": {},
   "outputs": [
    {
     "data": {
      "text/plain": [
       "array([[0.5025765 ],\n",
       "       [0.5010095 ],\n",
       "       [0.5038167 ],\n",
       "       [0.5132473 ],\n",
       "       [0.5223243 ],\n",
       "       [0.52095795],\n",
       "       [0.52340883],\n",
       "       [0.5158166 ],\n",
       "       [0.5128829 ],\n",
       "       [0.57691944],\n",
       "       [0.57662547],\n",
       "       [0.58340883],\n",
       "       [0.59505796],\n",
       "       [0.61404693],\n",
       "       [0.62263227],\n",
       "       [0.6423635 ],\n",
       "       [0.6217087 ],\n",
       "       [0.6300846 ],\n",
       "       [0.6213839 ],\n",
       "       [0.61803305],\n",
       "       [0.6257332 ],\n",
       "       [0.62318265],\n",
       "       [0.62160325],\n",
       "       [0.61768544],\n",
       "       [0.62306356],\n",
       "       [0.6116189 ],\n",
       "       [0.60243416],\n",
       "       [0.58863133],\n",
       "       [0.5764135 ],\n",
       "       [0.5257247 ],\n",
       "       [0.5087268 ],\n",
       "       [0.5116373 ],\n",
       "       [0.4891288 ],\n",
       "       [0.47762787],\n",
       "       [0.4881066 ],\n",
       "       [0.51409984],\n",
       "       [0.5053601 ],\n",
       "       [0.5186621 ],\n",
       "       [0.51518506],\n",
       "       [0.54487085],\n",
       "       [0.5219096 ],\n",
       "       [0.5771523 ],\n",
       "       [0.55937   ],\n",
       "       [0.5945435 ],\n",
       "       [0.61399347],\n",
       "       [0.62143964],\n",
       "       [0.6516259 ],\n",
       "       [0.6528733 ],\n",
       "       [0.6761088 ],\n",
       "       [0.7001167 ],\n",
       "       [0.8186497 ],\n",
       "       [0.79802454],\n",
       "       [0.85025454],\n",
       "       [0.8674431 ],\n",
       "       [0.8341908 ],\n",
       "       [0.8615583 ],\n",
       "       [0.8629683 ],\n",
       "       [0.84180504],\n",
       "       [0.8900814 ],\n",
       "       [0.85758865],\n",
       "       [0.9025557 ],\n",
       "       [0.9206229 ],\n",
       "       [0.91615456],\n",
       "       [0.8601185 ],\n",
       "       [0.84391433],\n",
       "       [0.79873794],\n",
       "       [0.815774  ],\n",
       "       [0.7635921 ],\n",
       "       [0.82593805],\n",
       "       [0.7702015 ],\n",
       "       [0.8249522 ],\n",
       "       [0.80298823],\n",
       "       [0.83308566],\n",
       "       [0.8088815 ],\n",
       "       [0.8280425 ],\n",
       "       [0.77719545],\n",
       "       [0.785995  ],\n",
       "       [0.77412575],\n",
       "       [0.7645857 ],\n",
       "       [0.734819  ],\n",
       "       [0.7262607 ],\n",
       "       [0.7265201 ],\n",
       "       [0.74780947],\n",
       "       [0.7409452 ],\n",
       "       [0.74728966],\n",
       "       [0.7468783 ],\n",
       "       [0.7522002 ],\n",
       "       [0.79177564],\n",
       "       [0.8119279 ],\n",
       "       [0.83790874],\n",
       "       [0.83058155],\n",
       "       [0.83103156],\n",
       "       [0.85925496],\n",
       "       [0.8175077 ],\n",
       "       [0.861551  ],\n",
       "       [0.83074844],\n",
       "       [0.8095039 ],\n",
       "       [0.78580374],\n",
       "       [0.8152575 ],\n",
       "       [0.7645212 ],\n",
       "       [0.8100359 ],\n",
       "       [0.79318905],\n",
       "       [0.7817084 ],\n",
       "       [0.7774117 ],\n",
       "       [0.76874423],\n",
       "       [0.6307806 ],\n",
       "       [0.63685083],\n",
       "       [0.63332725],\n",
       "       [0.6173707 ],\n",
       "       [0.6158001 ],\n",
       "       [0.6100319 ],\n",
       "       [0.57542336],\n",
       "       [0.58988756],\n",
       "       [0.5553478 ],\n",
       "       [0.5467391 ],\n",
       "       [0.57270205],\n",
       "       [0.5864292 ],\n",
       "       [0.5943908 ],\n",
       "       [0.58951414],\n",
       "       [0.61858064],\n",
       "       [0.6137053 ],\n",
       "       [0.656117  ],\n",
       "       [0.6517312 ],\n",
       "       [0.66667604],\n",
       "       [0.67032105],\n",
       "       [0.6708688 ],\n",
       "       [0.664481  ],\n",
       "       [0.6630362 ],\n",
       "       [0.6621752 ],\n",
       "       [0.6931668 ],\n",
       "       [0.6972953 ],\n",
       "       [0.68204117],\n",
       "       [0.69767636],\n",
       "       [0.7046813 ],\n",
       "       [0.70659065],\n",
       "       [0.71153533],\n",
       "       [0.70225465],\n",
       "       [0.7002354 ],\n",
       "       [0.713416  ],\n",
       "       [0.71363676],\n",
       "       [0.72978663],\n",
       "       [0.7535112 ],\n",
       "       [0.7878165 ],\n",
       "       [0.8039153 ],\n",
       "       [0.7940274 ],\n",
       "       [0.8044104 ],\n",
       "       [0.8166915 ],\n",
       "       [0.8144891 ],\n",
       "       [0.80818534],\n",
       "       [0.8284409 ],\n",
       "       [0.8388904 ],\n",
       "       [0.8145087 ],\n",
       "       [0.7938474 ],\n",
       "       [0.831214  ],\n",
       "       [0.83449745],\n",
       "       [0.82660025],\n",
       "       [0.83640313],\n",
       "       [0.8023549 ],\n",
       "       [0.78849095],\n",
       "       [0.7884191 ],\n",
       "       [0.81626594],\n",
       "       [0.8304324 ],\n",
       "       [0.8229355 ],\n",
       "       [0.8519994 ],\n",
       "       [0.8009208 ],\n",
       "       [0.8106959 ],\n",
       "       [0.83533335],\n",
       "       [0.83566743],\n",
       "       [0.82585335],\n",
       "       [0.8200343 ],\n",
       "       [0.8157691 ],\n",
       "       [0.8188118 ],\n",
       "       [0.8263576 ],\n",
       "       [0.7968204 ],\n",
       "       [0.7984915 ],\n",
       "       [0.77998656],\n",
       "       [0.7804172 ],\n",
       "       [0.77226555],\n",
       "       [0.7702567 ],\n",
       "       [0.75387377],\n",
       "       [0.7422884 ],\n",
       "       [0.73220694],\n",
       "       [0.73166215],\n",
       "       [0.73709655],\n",
       "       [0.7576883 ],\n",
       "       [0.74938196],\n",
       "       [0.7519964 ],\n",
       "       [0.7291534 ],\n",
       "       [0.7468318 ],\n",
       "       [0.7639656 ],\n",
       "       [0.7577242 ],\n",
       "       [0.77415496],\n",
       "       [0.75748336],\n",
       "       [0.76285356],\n",
       "       [0.7681655 ],\n",
       "       [0.7287937 ],\n",
       "       [0.74013305],\n",
       "       [0.72617364],\n",
       "       [0.699893  ],\n",
       "       [0.7103328 ],\n",
       "       [0.7317918 ],\n",
       "       [0.7318723 ],\n",
       "       [0.73104596],\n",
       "       [0.70717996],\n",
       "       [0.7386829 ],\n",
       "       [0.7559823 ],\n",
       "       [0.78774184],\n",
       "       [0.78725517],\n",
       "       [0.76080614],\n",
       "       [0.7286287 ],\n",
       "       [0.7058052 ],\n",
       "       [0.71762   ],\n",
       "       [0.7397852 ],\n",
       "       [0.68016416],\n",
       "       [0.70690495],\n",
       "       [0.7227361 ],\n",
       "       [0.75654876],\n",
       "       [0.7416593 ],\n",
       "       [0.71913815],\n",
       "       [0.71572703],\n",
       "       [0.7307214 ],\n",
       "       [0.74451715],\n",
       "       [0.7362879 ],\n",
       "       [0.7683593 ],\n",
       "       [0.7803856 ],\n",
       "       [0.77209   ],\n",
       "       [0.7689474 ],\n",
       "       [0.7264629 ],\n",
       "       [0.7361857 ],\n",
       "       [0.72704047],\n",
       "       [0.63148886],\n",
       "       [0.63171726],\n",
       "       [0.618425  ],\n",
       "       [0.63894945],\n",
       "       [0.61542785],\n",
       "       [0.6196999 ],\n",
       "       [0.6029366 ],\n",
       "       [0.59393704],\n",
       "       [0.60849047],\n",
       "       [0.6021119 ],\n",
       "       [0.5818025 ],\n",
       "       [0.57867503],\n",
       "       [0.58457476],\n",
       "       [0.596086  ],\n",
       "       [0.5823724 ],\n",
       "       [0.5597673 ],\n",
       "       [0.5301511 ],\n",
       "       [0.5283765 ],\n",
       "       [0.5122411 ],\n",
       "       [0.50920826],\n",
       "       [0.5146078 ],\n",
       "       [0.50670636],\n",
       "       [0.48545116],\n",
       "       [0.45634434],\n",
       "       [0.438764  ],\n",
       "       [0.43666717],\n",
       "       [0.4290528 ],\n",
       "       [0.46612954],\n",
       "       [0.4679633 ],\n",
       "       [0.48585954],\n",
       "       [0.49681884],\n",
       "       [0.48227906],\n",
       "       [0.46793357],\n",
       "       [0.46566916],\n",
       "       [0.46326333],\n",
       "       [0.4496666 ],\n",
       "       [0.44855216],\n",
       "       [0.4473429 ],\n",
       "       [0.46861303],\n",
       "       [0.46133968],\n",
       "       [0.46375892],\n",
       "       [0.46600768],\n",
       "       [0.45191678],\n",
       "       [0.44134086],\n",
       "       [0.46849027],\n",
       "       [0.45078805],\n",
       "       [0.44089848],\n",
       "       [0.41274798],\n",
       "       [0.3910308 ],\n",
       "       [0.39185977],\n",
       "       [0.39466485],\n",
       "       [0.39969912],\n",
       "       [0.4101242 ],\n",
       "       [0.40374526],\n",
       "       [0.37876305],\n",
       "       [0.37276727],\n",
       "       [0.35673642],\n",
       "       [0.35693562],\n",
       "       [0.3574411 ],\n",
       "       [0.32204306],\n",
       "       [0.32053444],\n",
       "       [0.309617  ],\n",
       "       [0.30089518],\n",
       "       [0.30340248],\n",
       "       [0.325228  ],\n",
       "       [0.36188915],\n",
       "       [0.37425047],\n",
       "       [0.34846362],\n",
       "       [0.31459174],\n",
       "       [0.3472166 ],\n",
       "       [0.34176308],\n",
       "       [0.33975667],\n",
       "       [0.36707658],\n",
       "       [0.35901138],\n",
       "       [0.33797064],\n",
       "       [0.33280367],\n",
       "       [0.35230926],\n",
       "       [0.3446083 ],\n",
       "       [0.33076403],\n",
       "       [0.3126531 ],\n",
       "       [0.29082656],\n",
       "       [0.28609455],\n",
       "       [0.31891736],\n",
       "       [0.330419  ],\n",
       "       [0.33375612],\n",
       "       [0.33254048],\n",
       "       [0.3177641 ],\n",
       "       [0.29936746],\n",
       "       [0.29614803],\n",
       "       [0.28381547],\n",
       "       [0.28624982],\n",
       "       [0.3119893 ],\n",
       "       [0.3131725 ],\n",
       "       [0.29532027],\n",
       "       [0.2917061 ],\n",
       "       [0.30523172],\n",
       "       [0.32859224],\n",
       "       [0.3601986 ],\n",
       "       [0.36930788],\n",
       "       [0.36269224],\n",
       "       [0.37590653],\n",
       "       [0.37092015],\n",
       "       [0.38298422],\n",
       "       [0.38111356],\n",
       "       [0.38866293],\n",
       "       [0.41344953],\n",
       "       [0.38827515],\n",
       "       [0.3804424 ],\n",
       "       [0.3896882 ],\n",
       "       [0.5613646 ],\n",
       "       [0.57377344],\n",
       "       [0.5595016 ],\n",
       "       [0.5162351 ],\n",
       "       [0.49543402],\n",
       "       [0.51365036],\n",
       "       [0.47647044],\n",
       "       [0.49827683],\n",
       "       [0.48559853],\n",
       "       [0.5372329 ],\n",
       "       [0.49666956],\n",
       "       [0.5031657 ],\n",
       "       [0.50817597],\n",
       "       [0.5376051 ],\n",
       "       [0.5807086 ],\n",
       "       [0.54399735],\n",
       "       [0.5299159 ],\n",
       "       [0.5402156 ],\n",
       "       [0.5407749 ],\n",
       "       [0.5434899 ],\n",
       "       [0.53904915],\n",
       "       [0.5417519 ],\n",
       "       [0.56180847],\n",
       "       [0.55102503],\n",
       "       [0.5214395 ],\n",
       "       [0.5114175 ],\n",
       "       [0.49407226],\n",
       "       [0.47866768],\n",
       "       [0.41120133],\n",
       "       [0.35690084],\n",
       "       [0.36590332],\n",
       "       [0.3495322 ],\n",
       "       [0.35396183],\n",
       "       [0.36986437],\n",
       "       [0.36501572],\n",
       "       [0.3322874 ],\n",
       "       [0.34802976],\n",
       "       [0.38800764],\n",
       "       [0.4031317 ],\n",
       "       [0.39407513],\n",
       "       [0.3880271 ],\n",
       "       [0.39764762],\n",
       "       [0.403634  ],\n",
       "       [0.3954155 ],\n",
       "       [0.40356025],\n",
       "       [0.40929967],\n",
       "       [0.39532948],\n",
       "       [0.385265  ],\n",
       "       [0.3551723 ],\n",
       "       [0.35525757],\n",
       "       [0.36845186],\n",
       "       [0.3610084 ],\n",
       "       [0.36553094],\n",
       "       [0.3828574 ],\n",
       "       [0.37834588],\n",
       "       [0.37913698],\n",
       "       [0.3903081 ],\n",
       "       [0.38821772],\n",
       "       [0.38183844],\n",
       "       [0.36660275],\n",
       "       [0.35960203],\n",
       "       [0.37259755],\n",
       "       [0.37710428],\n",
       "       [0.37433505],\n",
       "       [0.3820537 ],\n",
       "       [0.3525953 ]], dtype=float32)"
      ]
     },
     "execution_count": 38,
     "metadata": {},
     "output_type": "execute_result"
    }
   ],
   "source": [
    "test_predict"
   ]
  },
  {
   "cell_type": "code",
   "execution_count": 39,
   "id": "b47aed97",
   "metadata": {},
   "outputs": [
    {
     "data": {
      "text/plain": [
       "0.01961006122259445"
      ]
     },
     "execution_count": 39,
     "metadata": {},
     "output_type": "execute_result"
    }
   ],
   "source": [
    "### Calculate RMSE performance metrics\n",
    "import math\n",
    "from sklearn.metrics import mean_squared_error\n",
    "math.sqrt(mean_squared_error(y_train,train_predict))"
   ]
  },
  {
   "cell_type": "code",
   "execution_count": 40,
   "id": "11bffbf7",
   "metadata": {},
   "outputs": [
    {
     "data": {
      "text/plain": [
       "0.035690827229633924"
      ]
     },
     "execution_count": 40,
     "metadata": {},
     "output_type": "execute_result"
    }
   ],
   "source": [
    "### Test Data RMSE\n",
    "math.sqrt(mean_squared_error(ytest,test_predict))"
   ]
  },
  {
   "cell_type": "code",
   "execution_count": 41,
   "id": "293bb156",
   "metadata": {},
   "outputs": [
    {
     "data": {
      "text/plain": [
       "0.026535311882672413"
      ]
     },
     "execution_count": 41,
     "metadata": {},
     "output_type": "execute_result"
    }
   ],
   "source": [
    "# Calculate the Mean Absolute Error\n",
    "from sklearn.metrics import mean_absolute_error\n",
    "mae=mean_absolute_error(ytest,test_predict)\n",
    "mae"
   ]
  },
  {
   "cell_type": "code",
   "execution_count": 42,
   "id": "580237c2",
   "metadata": {},
   "outputs": [
    {
     "data": {
      "text/plain": [
       "0.04183003854401259"
      ]
     },
     "execution_count": 42,
     "metadata": {},
     "output_type": "execute_result"
    }
   ],
   "source": [
    "# Calculate Mean Absolute error using Sklearn library\n",
    "from sklearn.metrics import mean_absolute_percentage_error\n",
    "mean_absolute_percentage_error(ytest,test_predict)"
   ]
  },
  {
   "cell_type": "code",
   "execution_count": 43,
   "id": "a161a853",
   "metadata": {},
   "outputs": [
    {
     "name": "stdout",
     "output_type": "stream",
     "text": [
      "4.18\n"
     ]
    }
   ],
   "source": [
    "# Manual calculation of Mean Absolute Percentage error.\n",
    "total = 0\n",
    "for i,j in zip(ytest, test_predict):\n",
    "    value = abs(i-j)/abs(i)\n",
    "    total+= value\n",
    "#     print(total)\n",
    "error = float(total*100/(len(ytest))) # Calculate MAPE\n",
    "mape = round(error,2) # round to 3 significant figures\n",
    "print(mape)"
   ]
  },
  {
   "cell_type": "code",
   "execution_count": 44,
   "id": "af9ee899",
   "metadata": {},
   "outputs": [],
   "source": [
    "##Transformback to original form\n",
    "train_predict=scaler.inverse_transform(train_predict)\n",
    "test_predict=scaler.inverse_transform(test_predict)"
   ]
  },
  {
   "cell_type": "code",
   "execution_count": 45,
   "id": "4ed02f56",
   "metadata": {},
   "outputs": [
    {
     "data": {
      "text/plain": [
       "(405, 1)"
      ]
     },
     "execution_count": 45,
     "metadata": {},
     "output_type": "execute_result"
    }
   ],
   "source": [
    "test_predict.shape"
   ]
  },
  {
   "cell_type": "code",
   "execution_count": 46,
   "id": "d8fef7b4",
   "metadata": {},
   "outputs": [
    {
     "data": {
      "text/plain": [
       "date\n",
       "2020-12-01    46.669998\n",
       "2020-12-02    47.230000\n",
       "2020-12-03    47.790001\n",
       "2020-12-04    47.730000\n",
       "2020-12-07    47.900002\n",
       "                ...    \n",
       "2022-07-06    38.209999\n",
       "2022-07-07    38.790001\n",
       "2022-07-08    36.810001\n",
       "2022-07-11    32.650002\n",
       "2022-07-12    34.060001\n",
       "Name: close, Length: 405, dtype: float64"
      ]
     },
     "execution_count": 46,
     "metadata": {},
     "output_type": "execute_result"
    }
   ],
   "source": [
    "targets = test[price_column][window_len+1:]\n",
    "targets"
   ]
  },
  {
   "cell_type": "code",
   "execution_count": 47,
   "id": "031f2558",
   "metadata": {},
   "outputs": [
    {
     "data": {
      "text/plain": [
       "date\n",
       "2020-12-01    45.983913\n",
       "2020-12-02    45.884224\n",
       "2020-12-03    46.062817\n",
       "2020-12-04    46.662792\n",
       "2020-12-07    47.240273\n",
       "                ...    \n",
       "2022-07-06    37.714657\n",
       "2022-07-07    38.001373\n",
       "2022-07-08    37.825195\n",
       "2022-07-11    38.316257\n",
       "2022-07-12    36.442112\n",
       "Length: 405, dtype: float32"
      ]
     },
     "execution_count": 47,
     "metadata": {},
     "output_type": "execute_result"
    }
   ],
   "source": [
    "preds = pd.Series(index=targets.index, data=test_predict.squeeze())\n",
    "preds"
   ]
  },
  {
   "cell_type": "code",
   "execution_count": 48,
   "id": "dd31f161",
   "metadata": {},
   "outputs": [
    {
     "data": {
      "image/png": "[encoded data removed]",
      "text/plain": [
       "<Figure size 936x504 with 1 Axes>"
      ]
     },
     "metadata": {
      "needs_background": "light"
     },
     "output_type": "display_data"
    }
   ],
   "source": [
    "def line_plot(line1, line2, label1=None, label2=None, title='', lw=2):\n",
    "    fig, ax = plt.subplots(1, figsize=(13, 7))\n",
    "    ax.plot(line1, label=label1, linewidth=lw)\n",
    "    ax.plot(line2, label=label2, linewidth=lw)\n",
    "    ax.set_ylabel('Price [USD]', fontsize=14)\n",
    "    ax.set_xlabel('Time', fontsize = 14)\n",
    "    ax.set_title(title, fontsize=16)\n",
    "    ax.legend(loc='best', fontsize=16)\n",
    "line_plot(train[\"close\"], test[\"close\"], 'Training Prices', 'Testing Prices', title='Project Outline')"
   ]
  },
  {
   "cell_type": "code",
   "execution_count": 49,
   "id": "039cec10",
   "metadata": {},
   "outputs": [
    {
     "data": {
      "image/png": "[encoded data removed]",
      "text/plain": [
       "<Figure size 936x504 with 1 Axes>"
      ]
     },
     "metadata": {
      "needs_background": "light"
     },
     "output_type": "display_data"
    }
   ],
   "source": [
    "line_plot(targets, preds, 'actual_value', 'predicted_value', lw=3)"
   ]
  },
  {
   "cell_type": "markdown",
   "id": "dfea169e",
   "metadata": {},
   "source": [
    "### Future Prediction for 30 days"
   ]
  },
  {
   "cell_type": "code",
   "execution_count": 70,
   "id": "4bd4cd7a",
   "metadata": {},
   "outputs": [
    {
     "data": {
      "text/plain": [
       "436"
      ]
     },
     "execution_count": 70,
     "metadata": {},
     "output_type": "execute_result"
    }
   ],
   "source": [
    "len(test)"
   ]
  },
  {
   "cell_type": "code",
   "execution_count": 71,
   "id": "919d9cbc",
   "metadata": {},
   "outputs": [
    {
     "data": {
      "text/plain": [
       "436"
      ]
     },
     "execution_count": 71,
     "metadata": {},
     "output_type": "execute_result"
    }
   ],
   "source": [
    "length = len(test_scaled)\n",
    "length"
   ]
  },
  {
   "cell_type": "code",
   "execution_count": 72,
   "id": "dade5e8c",
   "metadata": {},
   "outputs": [
    {
     "data": {
      "text/plain": [
       "(30, 1)"
      ]
     },
     "execution_count": 72,
     "metadata": {},
     "output_type": "execute_result"
    }
   ],
   "source": [
    "#Getting the last 100 days records\n",
    "fut_inp = test_scaled[length-30:]\n",
    "fut_inp.shape"
   ]
  },
  {
   "cell_type": "code",
   "execution_count": 73,
   "id": "21d4c39c",
   "metadata": {},
   "outputs": [],
   "source": [
    "fut_inp = fut_inp.reshape(1,-1)"
   ]
  },
  {
   "cell_type": "code",
   "execution_count": 74,
   "id": "8db22db2",
   "metadata": {},
   "outputs": [
    {
     "data": {
      "text/plain": [
       "(1, 30)"
      ]
     },
     "execution_count": 74,
     "metadata": {},
     "output_type": "execute_result"
    }
   ],
   "source": [
    "fut_inp.shape"
   ]
  },
  {
   "cell_type": "code",
   "execution_count": 75,
   "id": "73ce36f7",
   "metadata": {},
   "outputs": [
    {
     "data": {
      "text/plain": [
       "array([[0.41119144, 0.40223199, 0.39751651, 0.4071047 , 0.41103429,\n",
       "        0.4016033 , 0.41056275, 0.4154354 , 0.40113172, 0.39248666,\n",
       "        0.3618359 , 0.36482242, 0.37692554, 0.36702298, 0.37362465,\n",
       "        0.39138637, 0.38541339, 0.38777116, 0.39924554, 0.39578749,\n",
       "        0.38950019, 0.37393901, 0.3674945 , 0.38069791, 0.38305568,\n",
       "        0.38038353, 0.38950019, 0.3583779 , 0.29298967, 0.3151525 ]])"
      ]
     },
     "execution_count": 75,
     "metadata": {},
     "output_type": "execute_result"
    }
   ],
   "source": [
    "fut_inp"
   ]
  },
  {
   "cell_type": "code",
   "execution_count": 76,
   "id": "d47d32ad",
   "metadata": {},
   "outputs": [],
   "source": [
    "tmp_inp = list(fut_inp)"
   ]
  },
  {
   "cell_type": "code",
   "execution_count": 77,
   "id": "d5cdaaff",
   "metadata": {},
   "outputs": [
    {
     "data": {
      "text/plain": [
       "[array([0.41119144, 0.40223199, 0.39751651, 0.4071047 , 0.41103429,\n",
       "        0.4016033 , 0.41056275, 0.4154354 , 0.40113172, 0.39248666,\n",
       "        0.3618359 , 0.36482242, 0.37692554, 0.36702298, 0.37362465,\n",
       "        0.39138637, 0.38541339, 0.38777116, 0.39924554, 0.39578749,\n",
       "        0.38950019, 0.37393901, 0.3674945 , 0.38069791, 0.38305568,\n",
       "        0.38038353, 0.38950019, 0.3583779 , 0.29298967, 0.3151525 ])]"
      ]
     },
     "execution_count": 77,
     "metadata": {},
     "output_type": "execute_result"
    }
   ],
   "source": [
    "tmp_inp"
   ]
  },
  {
   "cell_type": "code",
   "execution_count": 78,
   "id": "fc1cab74",
   "metadata": {},
   "outputs": [],
   "source": [
    "#Creating list of the last 100 data\n",
    "tmp_inp = tmp_inp[0].tolist()"
   ]
  },
  {
   "cell_type": "code",
   "execution_count": 79,
   "id": "f1cbacea",
   "metadata": {},
   "outputs": [
    {
     "data": {
      "text/plain": [
       "[0.41119143718287177,\n",
       " 0.4022319900455197,\n",
       " 0.3975165072705048,\n",
       " 0.4071047032586309,\n",
       " 0.41103428533641695,\n",
       " 0.4016033040680589,\n",
       " 0.41056275120541097,\n",
       " 0.4154354015452091,\n",
       " 0.4011317227820679,\n",
       " 0.39248665792926696,\n",
       " 0.3618359020042078,\n",
       " 0.36482241581998187,\n",
       " 0.37692554433789094,\n",
       " 0.36702298178354187,\n",
       " 0.3736246482375658,\n",
       " 0.39138637494748685,\n",
       " 0.3854133944709238,\n",
       " 0.3877711594359238,\n",
       " 0.39924553910305893,\n",
       " 0.395787491156279,\n",
       " 0.3895001912684779,\n",
       " 0.37393901480378877,\n",
       " 0.36749450019621976,\n",
       " 0.38069791169590894,\n",
       " 0.3830556766609089,\n",
       " 0.3803835294113579,\n",
       " 0.3895001912684779,\n",
       " 0.35837790121241275,\n",
       " 0.29298967115638175,\n",
       " 0.3151524983567666]"
      ]
     },
     "execution_count": 79,
     "metadata": {},
     "output_type": "execute_result"
    }
   ],
   "source": [
    "tmp_inp"
   ]
  },
  {
   "cell_type": "code",
   "execution_count": 80,
   "id": "87d8512c",
   "metadata": {},
   "outputs": [
    {
     "name": "stdout",
     "output_type": "stream",
     "text": [
      "[[0.29995670914649963], [0.2932637929916382], [0.2872181236743927], [0.2813528776168823], [0.2754366397857666], [0.26941221952438354], [0.26336604356765747], [0.2574481666088104], [0.25179818272590637], [0.2465047687292099], [0.24160264432430267], [0.2370692789554596], [0.23285919427871704], [0.22891056537628174], [0.22515305876731873], [0.22153247892856598], [0.21801091730594635], [0.21455784142017365], [0.21116118133068085], [0.20782096683979034], [0.20453821122646332], [0.2013174146413803], [0.19816109538078308], [0.1950749158859253], [0.19206896424293518], [0.1891465038061142], [0.18630865216255188], [0.1835588961839676], [0.18088483810424805], [0.17826679348945618]]\n"
     ]
    }
   ],
   "source": [
    "#Predicting next 30 days price suing the current data\n",
    "#It will predict in sliding window manner (algorithm) with stride 1\n",
    "lst_output=[]\n",
    "n_steps=30\n",
    "i=0\n",
    "while(i<30):\n",
    "    \n",
    "    if(len(tmp_inp)>30):\n",
    "        fut_inp = np.array(tmp_inp[1:])\n",
    "        fut_inp=fut_inp.reshape(1,-1)\n",
    "        fut_inp = fut_inp.reshape((1, n_steps, 1))\n",
    "        yhat = model.predict(fut_inp, verbose=0)\n",
    "        tmp_inp.extend(yhat[0].tolist())\n",
    "        tmp_inp = tmp_inp[1:]\n",
    "        lst_output.extend(yhat.tolist())\n",
    "        i=i+1\n",
    "    else:\n",
    "        fut_inp = fut_inp.reshape((1, n_steps,1))\n",
    "        yhat = model.predict(fut_inp, verbose=0)\n",
    "        tmp_inp.extend(yhat[0].tolist())\n",
    "        lst_output.extend(yhat.tolist())\n",
    "        i=i+1\n",
    "    \n",
    "\n",
    "print(lst_output)"
   ]
  },
  {
   "cell_type": "code",
   "execution_count": 81,
   "id": "abd2a9a3",
   "metadata": {},
   "outputs": [
    {
     "data": {
      "text/plain": [
       "'2022-07-12'"
      ]
     },
     "execution_count": 81,
     "metadata": {},
     "output_type": "execute_result"
    }
   ],
   "source": [
    "end_date"
   ]
  },
  {
   "cell_type": "code",
   "execution_count": 82,
   "id": "40a3588a",
   "metadata": {},
   "outputs": [
    {
     "data": {
      "text/plain": [
       "'07/12/2022'"
      ]
     },
     "execution_count": 82,
     "metadata": {},
     "output_type": "execute_result"
    }
   ],
   "source": [
    "temp = pd.to_datetime(end_date, format='%Y-%m-%d')\n",
    "temp\n",
    "end_date_new = temp.strftime('%m/%d/%Y')\n",
    "end_date_new"
   ]
  },
  {
   "cell_type": "code",
   "execution_count": 83,
   "id": "58c3c1c5",
   "metadata": {},
   "outputs": [
    {
     "data": {
      "text/plain": [
       "array([[33.09324494],\n",
       "       [32.66744163],\n",
       "       [32.28281617],\n",
       "       [31.90966923],\n",
       "       [31.5332782 ],\n",
       "       [31.1500046 ],\n",
       "       [30.7653469 ],\n",
       "       [30.38885159],\n",
       "       [30.02939963],\n",
       "       [29.69263265],\n",
       "       [29.38075951],\n",
       "       [29.09234682],\n",
       "       [28.82450124],\n",
       "       [28.57328948],\n",
       "       [28.33423692],\n",
       "       [28.10389564],\n",
       "       [27.8798539 ],\n",
       "       [27.66016923],\n",
       "       [27.44407372],\n",
       "       [27.23156929],\n",
       "       [27.02272038],\n",
       "       [26.81781332],\n",
       "       [26.61700829],\n",
       "       [26.42066556],\n",
       "       [26.22942693],\n",
       "       [26.0435    ],\n",
       "       [25.86295589],\n",
       "       [25.68801642],\n",
       "       [25.51789286],\n",
       "       [25.35133287]])"
      ]
     },
     "execution_count": 83,
     "metadata": {},
     "output_type": "execute_result"
    }
   ],
   "source": [
    "preds = scaler.inverse_transform(lst_output)\n",
    "preds"
   ]
  },
  {
   "cell_type": "code",
   "execution_count": 84,
   "id": "cc2026ab",
   "metadata": {},
   "outputs": [
    {
     "data": {
      "text/plain": [
       "'08/22/2022'"
      ]
     },
     "execution_count": 84,
     "metadata": {},
     "output_type": "execute_result"
    }
   ],
   "source": [
    "import datetime\n",
    "date_future = temp + datetime.timedelta(41)\n",
    "date_future_str = date_future.strftime('%m/%d/%Y')\n",
    "date_future_str"
   ]
  },
  {
   "cell_type": "code",
   "execution_count": 85,
   "id": "feff8df9",
   "metadata": {},
   "outputs": [
    {
     "data": {
      "text/plain": [
       "DatetimeIndex(['2022-07-12', '2022-07-13', '2022-07-14', '2022-07-15',\n",
       "               '2022-07-18', '2022-07-19', '2022-07-20', '2022-07-21',\n",
       "               '2022-07-22', '2022-07-25', '2022-07-26', '2022-07-27',\n",
       "               '2022-07-28', '2022-07-29', '2022-08-01', '2022-08-02',\n",
       "               '2022-08-03', '2022-08-04', '2022-08-05', '2022-08-08',\n",
       "               '2022-08-09', '2022-08-10', '2022-08-11', '2022-08-12',\n",
       "               '2022-08-15', '2022-08-16', '2022-08-17', '2022-08-18',\n",
       "               '2022-08-19', '2022-08-22'],\n",
       "              dtype='datetime64[ns]', freq='B')"
      ]
     },
     "execution_count": 85,
     "metadata": {},
     "output_type": "execute_result"
    }
   ],
   "source": [
    "c = pd.date_range(start=end_date_new, end=date_future_str, freq='B')\n",
    "c"
   ]
  },
  {
   "cell_type": "code",
   "execution_count": 86,
   "id": "e6ab7cdd",
   "metadata": {},
   "outputs": [
    {
     "data": {
      "text/plain": [
       "30"
      ]
     },
     "execution_count": 86,
     "metadata": {},
     "output_type": "execute_result"
    }
   ],
   "source": [
    "len(c)"
   ]
  },
  {
   "cell_type": "code",
   "execution_count": 87,
   "id": "04499e28",
   "metadata": {},
   "outputs": [
    {
     "data": {
      "text/plain": [
       "2022-07-12    33.093245\n",
       "2022-07-13    32.667442\n",
       "2022-07-14    32.282816\n",
       "2022-07-15    31.909669\n",
       "2022-07-18    31.533278\n",
       "2022-07-19    31.150005\n",
       "2022-07-20    30.765347\n",
       "2022-07-21    30.388852\n",
       "2022-07-22    30.029400\n",
       "2022-07-25    29.692633\n",
       "2022-07-26    29.380760\n",
       "2022-07-27    29.092347\n",
       "2022-07-28    28.824501\n",
       "2022-07-29    28.573289\n",
       "2022-08-01    28.334237\n",
       "2022-08-02    28.103896\n",
       "2022-08-03    27.879854\n",
       "2022-08-04    27.660169\n",
       "2022-08-05    27.444074\n",
       "2022-08-08    27.231569\n",
       "2022-08-09    27.022720\n",
       "2022-08-10    26.817813\n",
       "2022-08-11    26.617008\n",
       "2022-08-12    26.420666\n",
       "2022-08-15    26.229427\n",
       "2022-08-16    26.043500\n",
       "2022-08-17    25.862956\n",
       "2022-08-18    25.688016\n",
       "2022-08-19    25.517893\n",
       "2022-08-22    25.351333\n",
       "Freq: B, dtype: float64"
      ]
     },
     "execution_count": 87,
     "metadata": {},
     "output_type": "execute_result"
    }
   ],
   "source": [
    "fut_preds = pd.Series(index=c, data=preds.squeeze())\n",
    "fut_preds"
   ]
  },
  {
   "cell_type": "code",
   "execution_count": 88,
   "id": "8d8456f7",
   "metadata": {},
   "outputs": [
    {
     "data": {
      "text/plain": [
       "[<matplotlib.lines.Line2D at 0x236f43f9fc8>]"
      ]
     },
     "execution_count": 88,
     "metadata": {},
     "output_type": "execute_result"
    },
    {
     "data": {
      "image/png": "[encoded data removed]",
      "text/plain": [
       "<Figure size 936x504 with 1 Axes>"
      ]
     },
     "metadata": {
      "needs_background": "light"
     },
     "output_type": "display_data"
    }
   ],
   "source": [
    "fig, ax = plt.subplots(1, figsize=(13, 7))\n",
    "ax.plot(fut_preds, label=\"predicted value_30\", linewidth=3)"
   ]
  },
  {
   "cell_type": "code",
   "execution_count": 69,
   "id": "8f0a4bab",
   "metadata": {},
   "outputs": [
    {
     "data": {
      "image/png": "[encoded data removed]",
      "text/plain": [
       "<Figure size 936x504 with 1 Axes>"
      ]
     },
     "metadata": {
      "needs_background": "light"
     },
     "output_type": "display_data"
    }
   ],
   "source": [
    "line_plot(test[\"close\"], fut_preds, 'actual_value', 'predicted_value_30', lw=3)"
   ]
  },
  {
   "cell_type": "code",
   "execution_count": null,
   "id": "f7ea1a21",
   "metadata": {},
   "outputs": [],
   "source": []
  }
 ],
 "metadata": {
  "kernelspec": {
   "display_name": "mlenv",
   "language": "python",
   "name": "mlenv"
  },
  "language_info": {
   "codemirror_mode": {
    "name": "ipython",
    "version": 3
   },
   "file_extension": ".py",
   "mimetype": "text/x-python",
   "name": "python",
   "nbconvert_exporter": "python",
   "pygments_lexer": "ipython3",
   "version": "3.7.13"
  }
 },
 "nbformat": 4,
 "nbformat_minor": 5
}
