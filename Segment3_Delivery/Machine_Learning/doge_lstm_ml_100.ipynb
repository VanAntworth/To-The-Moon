{
 "cells": [
  {
   "cell_type": "code",
   "execution_count": 1,
   "id": "62b28d70",
   "metadata": {},
   "outputs": [],
   "source": [
    "import pandas as pd\n",
    "import numpy as np\n",
    "import seaborn as sns\n",
    "import matplotlib.pyplot as plt\n",
    "import math\n",
    "from sklearn.model_selection import train_test_split\n",
    "from sklearn.ensemble import RandomForestClassifier\n",
    "from sklearn.model_selection import GridSearchCV\n",
    "from sklearn.preprocessing import MinMaxScaler\n",
    "from keras.models import Sequential\n",
    "from keras.layers import Activation, Dense,LSTM,Dropout\n",
    "from sklearn.metrics import mean_absolute_error\n",
    "plt.style.use('fivethirtyeight')"
   ]
  },
  {
   "cell_type": "code",
   "execution_count": 2,
   "id": "d50f085d",
   "metadata": {},
   "outputs": [],
   "source": [
    "import requests\n",
    "import tensorflow as tf\n",
    "from keras.models import Sequential\n",
    "from keras.layers import Activation, Dense, Dropout, LSTM\n",
    "import matplotlib.pyplot as plt\n",
    "import numpy as np\n",
    "import pandas as pd\n",
    "from sklearn.metrics import mean_absolute_error\n",
    "%matplotlib inline"
   ]
  },
  {
   "cell_type": "code",
   "execution_count": 3,
   "id": "93968ca1",
   "metadata": {},
   "outputs": [],
   "source": [
    "# Database related all the code is moved to this file\n",
    "%run -i \"SqlConn.py\"\n",
    "#importing local py file\n",
    "import SqlConn "
   ]
  },
  {
   "cell_type": "code",
   "execution_count": 4,
   "id": "2250f32e",
   "metadata": {},
   "outputs": [
    {
     "name": "stdout",
     "output_type": "stream",
     "text": [
      "Data transfer Done\n"
     ]
    }
   ],
   "source": [
    "#Fetch Tweets and Sentiment data - Join from Tweet and Sentiment tables\n",
    "try:\n",
    "    df_dbFinanceData = SqlConn.fetchFinanceData(\"\")\n",
    "    print(\"Data transfer Done\")\n",
    "except BaseException as err:\n",
    "    print(err)"
   ]
  },
  {
   "cell_type": "code",
   "execution_count": 5,
   "id": "3523b0c6",
   "metadata": {},
   "outputs": [
    {
     "data": {
      "text/html": [
       "<div>\n",
       "<style scoped>\n",
       "    .dataframe tbody tr th:only-of-type {\n",
       "        vertical-align: middle;\n",
       "    }\n",
       "\n",
       "    .dataframe tbody tr th {\n",
       "        vertical-align: top;\n",
       "    }\n",
       "\n",
       "    .dataframe thead th {\n",
       "        text-align: right;\n",
       "    }\n",
       "</style>\n",
       "<table border=\"1\" class=\"dataframe\">\n",
       "  <thead>\n",
       "    <tr style=\"text-align: right;\">\n",
       "      <th></th>\n",
       "      <th>financeType</th>\n",
       "      <th>date</th>\n",
       "      <th>open</th>\n",
       "      <th>high</th>\n",
       "      <th>low</th>\n",
       "      <th>close</th>\n",
       "      <th>adjustedClose</th>\n",
       "      <th>volume</th>\n",
       "      <th>id</th>\n",
       "    </tr>\n",
       "  </thead>\n",
       "  <tbody>\n",
       "    <tr>\n",
       "      <th>0</th>\n",
       "      <td>tesla</td>\n",
       "      <td>2010-06-29</td>\n",
       "      <td>3.800000</td>\n",
       "      <td>5.000000</td>\n",
       "      <td>3.508000</td>\n",
       "      <td>4.778000</td>\n",
       "      <td>4.778000</td>\n",
       "      <td>93831500</td>\n",
       "      <td>1</td>\n",
       "    </tr>\n",
       "    <tr>\n",
       "      <th>1</th>\n",
       "      <td>tesla</td>\n",
       "      <td>2010-06-30</td>\n",
       "      <td>5.158000</td>\n",
       "      <td>6.084000</td>\n",
       "      <td>4.660000</td>\n",
       "      <td>4.766000</td>\n",
       "      <td>4.766000</td>\n",
       "      <td>85935500</td>\n",
       "      <td>2</td>\n",
       "    </tr>\n",
       "    <tr>\n",
       "      <th>2</th>\n",
       "      <td>tesla</td>\n",
       "      <td>2010-07-01</td>\n",
       "      <td>5.000000</td>\n",
       "      <td>5.184000</td>\n",
       "      <td>4.054000</td>\n",
       "      <td>4.392000</td>\n",
       "      <td>4.392000</td>\n",
       "      <td>41094000</td>\n",
       "      <td>3</td>\n",
       "    </tr>\n",
       "    <tr>\n",
       "      <th>3</th>\n",
       "      <td>tesla</td>\n",
       "      <td>2010-07-02</td>\n",
       "      <td>4.600000</td>\n",
       "      <td>4.620000</td>\n",
       "      <td>3.742000</td>\n",
       "      <td>3.840000</td>\n",
       "      <td>3.840000</td>\n",
       "      <td>25699000</td>\n",
       "      <td>4</td>\n",
       "    </tr>\n",
       "    <tr>\n",
       "      <th>4</th>\n",
       "      <td>tesla</td>\n",
       "      <td>2010-07-06</td>\n",
       "      <td>4.000000</td>\n",
       "      <td>4.000000</td>\n",
       "      <td>3.166000</td>\n",
       "      <td>3.222000</td>\n",
       "      <td>3.222000</td>\n",
       "      <td>34334500</td>\n",
       "      <td>5</td>\n",
       "    </tr>\n",
       "    <tr>\n",
       "      <th>...</th>\n",
       "      <td>...</td>\n",
       "      <td>...</td>\n",
       "      <td>...</td>\n",
       "      <td>...</td>\n",
       "      <td>...</td>\n",
       "      <td>...</td>\n",
       "      <td>...</td>\n",
       "      <td>...</td>\n",
       "      <td>...</td>\n",
       "    </tr>\n",
       "    <tr>\n",
       "      <th>6916</th>\n",
       "      <td>doge</td>\n",
       "      <td>2022-07-09</td>\n",
       "      <td>0.069224</td>\n",
       "      <td>0.070009</td>\n",
       "      <td>0.068995</td>\n",
       "      <td>0.069512</td>\n",
       "      <td>0.069512</td>\n",
       "      <td>254272147</td>\n",
       "      <td>6917</td>\n",
       "    </tr>\n",
       "    <tr>\n",
       "      <th>6917</th>\n",
       "      <td>doge</td>\n",
       "      <td>2022-07-10</td>\n",
       "      <td>0.069509</td>\n",
       "      <td>0.069509</td>\n",
       "      <td>0.066533</td>\n",
       "      <td>0.067263</td>\n",
       "      <td>0.067263</td>\n",
       "      <td>299810124</td>\n",
       "      <td>6918</td>\n",
       "    </tr>\n",
       "    <tr>\n",
       "      <th>6918</th>\n",
       "      <td>doge</td>\n",
       "      <td>2022-07-11</td>\n",
       "      <td>0.067268</td>\n",
       "      <td>0.067268</td>\n",
       "      <td>0.061535</td>\n",
       "      <td>0.061847</td>\n",
       "      <td>0.061847</td>\n",
       "      <td>326125900</td>\n",
       "      <td>6919</td>\n",
       "    </tr>\n",
       "    <tr>\n",
       "      <th>6919</th>\n",
       "      <td>doge</td>\n",
       "      <td>2022-07-12</td>\n",
       "      <td>0.061851</td>\n",
       "      <td>0.062861</td>\n",
       "      <td>0.060087</td>\n",
       "      <td>0.060087</td>\n",
       "      <td>0.060087</td>\n",
       "      <td>298462083</td>\n",
       "      <td>6920</td>\n",
       "    </tr>\n",
       "    <tr>\n",
       "      <th>6920</th>\n",
       "      <td>doge</td>\n",
       "      <td>2022-07-13</td>\n",
       "      <td>0.060085</td>\n",
       "      <td>0.062011</td>\n",
       "      <td>0.058398</td>\n",
       "      <td>0.061953</td>\n",
       "      <td>0.061953</td>\n",
       "      <td>446505400</td>\n",
       "      <td>6921</td>\n",
       "    </tr>\n",
       "  </tbody>\n",
       "</table>\n",
       "<p>6921 rows × 9 columns</p>\n",
       "</div>"
      ],
      "text/plain": [
       "     financeType        date      open      high       low     close  \\\n",
       "0          tesla  2010-06-29  3.800000  5.000000  3.508000  4.778000   \n",
       "1          tesla  2010-06-30  5.158000  6.084000  4.660000  4.766000   \n",
       "2          tesla  2010-07-01  5.000000  5.184000  4.054000  4.392000   \n",
       "3          tesla  2010-07-02  4.600000  4.620000  3.742000  3.840000   \n",
       "4          tesla  2010-07-06  4.000000  4.000000  3.166000  3.222000   \n",
       "...          ...         ...       ...       ...       ...       ...   \n",
       "6916        doge  2022-07-09  0.069224  0.070009  0.068995  0.069512   \n",
       "6917        doge  2022-07-10  0.069509  0.069509  0.066533  0.067263   \n",
       "6918        doge  2022-07-11  0.067268  0.067268  0.061535  0.061847   \n",
       "6919        doge  2022-07-12  0.061851  0.062861  0.060087  0.060087   \n",
       "6920        doge  2022-07-13  0.060085  0.062011  0.058398  0.061953   \n",
       "\n",
       "      adjustedClose     volume    id  \n",
       "0          4.778000   93831500     1  \n",
       "1          4.766000   85935500     2  \n",
       "2          4.392000   41094000     3  \n",
       "3          3.840000   25699000     4  \n",
       "4          3.222000   34334500     5  \n",
       "...             ...        ...   ...  \n",
       "6916       0.069512  254272147  6917  \n",
       "6917       0.067263  299810124  6918  \n",
       "6918       0.061847  326125900  6919  \n",
       "6919       0.060087  298462083  6920  \n",
       "6920       0.061953  446505400  6921  \n",
       "\n",
       "[6921 rows x 9 columns]"
      ]
     },
     "execution_count": 5,
     "metadata": {},
     "output_type": "execute_result"
    }
   ],
   "source": [
    "df_dbFinanceData"
   ]
  },
  {
   "cell_type": "code",
   "execution_count": 6,
   "id": "5f838703",
   "metadata": {},
   "outputs": [],
   "source": [
    "doge_price = df_dbFinanceData[df_dbFinanceData[\"financeType\"] == \"doge\"]"
   ]
  },
  {
   "cell_type": "code",
   "execution_count": 7,
   "id": "f62e6af5",
   "metadata": {},
   "outputs": [
    {
     "data": {
      "text/html": [
       "<div>\n",
       "<style scoped>\n",
       "    .dataframe tbody tr th:only-of-type {\n",
       "        vertical-align: middle;\n",
       "    }\n",
       "\n",
       "    .dataframe tbody tr th {\n",
       "        vertical-align: top;\n",
       "    }\n",
       "\n",
       "    .dataframe thead th {\n",
       "        text-align: right;\n",
       "    }\n",
       "</style>\n",
       "<table border=\"1\" class=\"dataframe\">\n",
       "  <thead>\n",
       "    <tr style=\"text-align: right;\">\n",
       "      <th></th>\n",
       "      <th>financeType</th>\n",
       "      <th>date</th>\n",
       "      <th>open</th>\n",
       "      <th>high</th>\n",
       "      <th>low</th>\n",
       "      <th>close</th>\n",
       "      <th>adjustedClose</th>\n",
       "      <th>volume</th>\n",
       "      <th>id</th>\n",
       "    </tr>\n",
       "  </thead>\n",
       "  <tbody>\n",
       "    <tr>\n",
       "      <th>5213</th>\n",
       "      <td>doge</td>\n",
       "      <td>2017-11-09</td>\n",
       "      <td>0.001207</td>\n",
       "      <td>0.001415</td>\n",
       "      <td>0.001181</td>\n",
       "      <td>0.001415</td>\n",
       "      <td>0.001415</td>\n",
       "      <td>6259550</td>\n",
       "      <td>5214</td>\n",
       "    </tr>\n",
       "    <tr>\n",
       "      <th>5214</th>\n",
       "      <td>doge</td>\n",
       "      <td>2017-11-10</td>\n",
       "      <td>0.001421</td>\n",
       "      <td>0.001431</td>\n",
       "      <td>0.001125</td>\n",
       "      <td>0.001163</td>\n",
       "      <td>0.001163</td>\n",
       "      <td>4246520</td>\n",
       "      <td>5215</td>\n",
       "    </tr>\n",
       "    <tr>\n",
       "      <th>5215</th>\n",
       "      <td>doge</td>\n",
       "      <td>2017-11-11</td>\n",
       "      <td>0.001146</td>\n",
       "      <td>0.001257</td>\n",
       "      <td>0.001141</td>\n",
       "      <td>0.001201</td>\n",
       "      <td>0.001201</td>\n",
       "      <td>2231080</td>\n",
       "      <td>5216</td>\n",
       "    </tr>\n",
       "    <tr>\n",
       "      <th>5216</th>\n",
       "      <td>doge</td>\n",
       "      <td>2017-11-12</td>\n",
       "      <td>0.001189</td>\n",
       "      <td>0.001210</td>\n",
       "      <td>0.001002</td>\n",
       "      <td>0.001038</td>\n",
       "      <td>0.001038</td>\n",
       "      <td>3288960</td>\n",
       "      <td>5217</td>\n",
       "    </tr>\n",
       "    <tr>\n",
       "      <th>5217</th>\n",
       "      <td>doge</td>\n",
       "      <td>2017-11-13</td>\n",
       "      <td>0.001046</td>\n",
       "      <td>0.001212</td>\n",
       "      <td>0.001019</td>\n",
       "      <td>0.001211</td>\n",
       "      <td>0.001211</td>\n",
       "      <td>2481270</td>\n",
       "      <td>5218</td>\n",
       "    </tr>\n",
       "    <tr>\n",
       "      <th>...</th>\n",
       "      <td>...</td>\n",
       "      <td>...</td>\n",
       "      <td>...</td>\n",
       "      <td>...</td>\n",
       "      <td>...</td>\n",
       "      <td>...</td>\n",
       "      <td>...</td>\n",
       "      <td>...</td>\n",
       "      <td>...</td>\n",
       "    </tr>\n",
       "    <tr>\n",
       "      <th>6916</th>\n",
       "      <td>doge</td>\n",
       "      <td>2022-07-09</td>\n",
       "      <td>0.069224</td>\n",
       "      <td>0.070009</td>\n",
       "      <td>0.068995</td>\n",
       "      <td>0.069512</td>\n",
       "      <td>0.069512</td>\n",
       "      <td>254272147</td>\n",
       "      <td>6917</td>\n",
       "    </tr>\n",
       "    <tr>\n",
       "      <th>6917</th>\n",
       "      <td>doge</td>\n",
       "      <td>2022-07-10</td>\n",
       "      <td>0.069509</td>\n",
       "      <td>0.069509</td>\n",
       "      <td>0.066533</td>\n",
       "      <td>0.067263</td>\n",
       "      <td>0.067263</td>\n",
       "      <td>299810124</td>\n",
       "      <td>6918</td>\n",
       "    </tr>\n",
       "    <tr>\n",
       "      <th>6918</th>\n",
       "      <td>doge</td>\n",
       "      <td>2022-07-11</td>\n",
       "      <td>0.067268</td>\n",
       "      <td>0.067268</td>\n",
       "      <td>0.061535</td>\n",
       "      <td>0.061847</td>\n",
       "      <td>0.061847</td>\n",
       "      <td>326125900</td>\n",
       "      <td>6919</td>\n",
       "    </tr>\n",
       "    <tr>\n",
       "      <th>6919</th>\n",
       "      <td>doge</td>\n",
       "      <td>2022-07-12</td>\n",
       "      <td>0.061851</td>\n",
       "      <td>0.062861</td>\n",
       "      <td>0.060087</td>\n",
       "      <td>0.060087</td>\n",
       "      <td>0.060087</td>\n",
       "      <td>298462083</td>\n",
       "      <td>6920</td>\n",
       "    </tr>\n",
       "    <tr>\n",
       "      <th>6920</th>\n",
       "      <td>doge</td>\n",
       "      <td>2022-07-13</td>\n",
       "      <td>0.060085</td>\n",
       "      <td>0.062011</td>\n",
       "      <td>0.058398</td>\n",
       "      <td>0.061953</td>\n",
       "      <td>0.061953</td>\n",
       "      <td>446505400</td>\n",
       "      <td>6921</td>\n",
       "    </tr>\n",
       "  </tbody>\n",
       "</table>\n",
       "<p>1708 rows × 9 columns</p>\n",
       "</div>"
      ],
      "text/plain": [
       "     financeType        date      open      high       low     close  \\\n",
       "5213        doge  2017-11-09  0.001207  0.001415  0.001181  0.001415   \n",
       "5214        doge  2017-11-10  0.001421  0.001431  0.001125  0.001163   \n",
       "5215        doge  2017-11-11  0.001146  0.001257  0.001141  0.001201   \n",
       "5216        doge  2017-11-12  0.001189  0.001210  0.001002  0.001038   \n",
       "5217        doge  2017-11-13  0.001046  0.001212  0.001019  0.001211   \n",
       "...          ...         ...       ...       ...       ...       ...   \n",
       "6916        doge  2022-07-09  0.069224  0.070009  0.068995  0.069512   \n",
       "6917        doge  2022-07-10  0.069509  0.069509  0.066533  0.067263   \n",
       "6918        doge  2022-07-11  0.067268  0.067268  0.061535  0.061847   \n",
       "6919        doge  2022-07-12  0.061851  0.062861  0.060087  0.060087   \n",
       "6920        doge  2022-07-13  0.060085  0.062011  0.058398  0.061953   \n",
       "\n",
       "      adjustedClose     volume    id  \n",
       "5213       0.001415    6259550  5214  \n",
       "5214       0.001163    4246520  5215  \n",
       "5215       0.001201    2231080  5216  \n",
       "5216       0.001038    3288960  5217  \n",
       "5217       0.001211    2481270  5218  \n",
       "...             ...        ...   ...  \n",
       "6916       0.069512  254272147  6917  \n",
       "6917       0.067263  299810124  6918  \n",
       "6918       0.061847  326125900  6919  \n",
       "6919       0.060087  298462083  6920  \n",
       "6920       0.061953  446505400  6921  \n",
       "\n",
       "[1708 rows x 9 columns]"
      ]
     },
     "execution_count": 7,
     "metadata": {},
     "output_type": "execute_result"
    }
   ],
   "source": [
    "doge_price"
   ]
  },
  {
   "cell_type": "code",
   "execution_count": 8,
   "id": "357aa55e",
   "metadata": {},
   "outputs": [
    {
     "data": {
      "text/plain": [
       "'2022-07-13'"
      ]
     },
     "execution_count": 8,
     "metadata": {},
     "output_type": "execute_result"
    }
   ],
   "source": [
    "end_date = doge_price['date'].iloc[-1]\n",
    "end_date"
   ]
  },
  {
   "cell_type": "code",
   "execution_count": 9,
   "id": "20f77024",
   "metadata": {},
   "outputs": [
    {
     "name": "stderr",
     "output_type": "stream",
     "text": [
      "SqlConn.py:1: SettingWithCopyWarning: \n",
      "A value is trying to be set on a copy of a slice from a DataFrame.\n",
      "Try using .loc[row_indexer,col_indexer] = value instead\n",
      "\n",
      "See the caveats in the documentation: https://pandas.pydata.org/pandas-docs/stable/user_guide/indexing.html#returning-a-view-versus-a-copy\n",
      "  \n"
     ]
    }
   ],
   "source": [
    "doge_price['date'] = pd.to_datetime(doge_price['date'], format='%Y-%m-%d')"
   ]
  },
  {
   "cell_type": "code",
   "execution_count": 10,
   "id": "ece62414",
   "metadata": {},
   "outputs": [
    {
     "data": {
      "text/plain": [
       "financeType              object\n",
       "date             datetime64[ns]\n",
       "open                    float64\n",
       "high                    float64\n",
       "low                     float64\n",
       "close                   float64\n",
       "adjustedClose           float64\n",
       "volume                    int64\n",
       "id                        int64\n",
       "dtype: object"
      ]
     },
     "execution_count": 10,
     "metadata": {},
     "output_type": "execute_result"
    }
   ],
   "source": [
    "doge_price.dtypes"
   ]
  },
  {
   "cell_type": "code",
   "execution_count": 11,
   "id": "95beb949",
   "metadata": {},
   "outputs": [],
   "source": [
    "doge_price.set_index(\"date\",inplace = True)"
   ]
  },
  {
   "cell_type": "code",
   "execution_count": 12,
   "id": "cf0aa09e",
   "metadata": {},
   "outputs": [
    {
     "data": {
      "image/png": "[encoded data removed]",
      "text/plain": [
       "<Figure size 1152x576 with 1 Axes>"
      ]
     },
     "metadata": {
      "needs_background": "light"
     },
     "output_type": "display_data"
    }
   ],
   "source": [
    "plt.figure(figsize=(16,8))\n",
    "plt.title('Close Price History of Tesla')\n",
    "plt.plot(doge_price['close'])\n",
    "plt.xlabel('Date',fontsize=18)\n",
    "plt.ylabel('Close Price USD($)',fontsize=18)\n",
    "plt.show()"
   ]
  },
  {
   "cell_type": "code",
   "execution_count": 13,
   "id": "9038167d",
   "metadata": {},
   "outputs": [
    {
     "data": {
      "text/html": [
       "<div>\n",
       "<style scoped>\n",
       "    .dataframe tbody tr th:only-of-type {\n",
       "        vertical-align: middle;\n",
       "    }\n",
       "\n",
       "    .dataframe tbody tr th {\n",
       "        vertical-align: top;\n",
       "    }\n",
       "\n",
       "    .dataframe thead th {\n",
       "        text-align: right;\n",
       "    }\n",
       "</style>\n",
       "<table border=\"1\" class=\"dataframe\">\n",
       "  <thead>\n",
       "    <tr style=\"text-align: right;\">\n",
       "      <th></th>\n",
       "      <th>close</th>\n",
       "    </tr>\n",
       "    <tr>\n",
       "      <th>date</th>\n",
       "      <th></th>\n",
       "    </tr>\n",
       "  </thead>\n",
       "  <tbody>\n",
       "    <tr>\n",
       "      <th>2017-11-09</th>\n",
       "      <td>0.001415</td>\n",
       "    </tr>\n",
       "    <tr>\n",
       "      <th>2017-11-10</th>\n",
       "      <td>0.001163</td>\n",
       "    </tr>\n",
       "    <tr>\n",
       "      <th>2017-11-11</th>\n",
       "      <td>0.001201</td>\n",
       "    </tr>\n",
       "    <tr>\n",
       "      <th>2017-11-12</th>\n",
       "      <td>0.001038</td>\n",
       "    </tr>\n",
       "    <tr>\n",
       "      <th>2017-11-13</th>\n",
       "      <td>0.001211</td>\n",
       "    </tr>\n",
       "  </tbody>\n",
       "</table>\n",
       "</div>"
      ],
      "text/plain": [
       "               close\n",
       "date                \n",
       "2017-11-09  0.001415\n",
       "2017-11-10  0.001163\n",
       "2017-11-11  0.001201\n",
       "2017-11-12  0.001038\n",
       "2017-11-13  0.001211"
      ]
     },
     "execution_count": 13,
     "metadata": {},
     "output_type": "execute_result"
    }
   ],
   "source": [
    "data = doge_price.drop(['financeType','open', 'high', 'low', 'adjustedClose', 'volume','id'], axis = 1)\n",
    "price_column = 'close'\n",
    "data.head()"
   ]
  },
  {
   "cell_type": "code",
   "execution_count": 14,
   "id": "1eb5071b",
   "metadata": {},
   "outputs": [],
   "source": [
    "# This function splits the data in 70,30 ratio.\n",
    "def train_test_split(df, test_size=0.3):\n",
    "    split_row = len(df) - int(test_size * len(df))\n",
    "    train_data = df.iloc[:split_row]\n",
    "    test_data = df.iloc[split_row:]\n",
    "    return train_data, test_data"
   ]
  },
  {
   "cell_type": "code",
   "execution_count": 15,
   "id": "46dc1214",
   "metadata": {},
   "outputs": [],
   "source": [
    "train, test = train_test_split(data, test_size=0.2)"
   ]
  },
  {
   "cell_type": "code",
   "execution_count": 16,
   "id": "2326ae5c",
   "metadata": {},
   "outputs": [
    {
     "data": {
      "text/plain": [
       "((1367, 1), (341, 1))"
      ]
     },
     "execution_count": 16,
     "metadata": {},
     "output_type": "execute_result"
    }
   ],
   "source": [
    "train.shape, test.shape"
   ]
  },
  {
   "cell_type": "code",
   "execution_count": 17,
   "id": "fad40f4a",
   "metadata": {},
   "outputs": [
    {
     "data": {
      "text/html": [
       "<div>\n",
       "<style scoped>\n",
       "    .dataframe tbody tr th:only-of-type {\n",
       "        vertical-align: middle;\n",
       "    }\n",
       "\n",
       "    .dataframe tbody tr th {\n",
       "        vertical-align: top;\n",
       "    }\n",
       "\n",
       "    .dataframe thead th {\n",
       "        text-align: right;\n",
       "    }\n",
       "</style>\n",
       "<table border=\"1\" class=\"dataframe\">\n",
       "  <thead>\n",
       "    <tr style=\"text-align: right;\">\n",
       "      <th></th>\n",
       "      <th>close</th>\n",
       "    </tr>\n",
       "    <tr>\n",
       "      <th>date</th>\n",
       "      <th></th>\n",
       "    </tr>\n",
       "  </thead>\n",
       "  <tbody>\n",
       "    <tr>\n",
       "      <th>2017-11-09</th>\n",
       "      <td>0.001415</td>\n",
       "    </tr>\n",
       "    <tr>\n",
       "      <th>2017-11-10</th>\n",
       "      <td>0.001163</td>\n",
       "    </tr>\n",
       "    <tr>\n",
       "      <th>2017-11-11</th>\n",
       "      <td>0.001201</td>\n",
       "    </tr>\n",
       "    <tr>\n",
       "      <th>2017-11-12</th>\n",
       "      <td>0.001038</td>\n",
       "    </tr>\n",
       "    <tr>\n",
       "      <th>2017-11-13</th>\n",
       "      <td>0.001211</td>\n",
       "    </tr>\n",
       "    <tr>\n",
       "      <th>...</th>\n",
       "      <td>...</td>\n",
       "    </tr>\n",
       "    <tr>\n",
       "      <th>2021-08-02</th>\n",
       "      <td>0.203600</td>\n",
       "    </tr>\n",
       "    <tr>\n",
       "      <th>2021-08-03</th>\n",
       "      <td>0.195967</td>\n",
       "    </tr>\n",
       "    <tr>\n",
       "      <th>2021-08-04</th>\n",
       "      <td>0.201490</td>\n",
       "    </tr>\n",
       "    <tr>\n",
       "      <th>2021-08-05</th>\n",
       "      <td>0.200974</td>\n",
       "    </tr>\n",
       "    <tr>\n",
       "      <th>2021-08-06</th>\n",
       "      <td>0.204688</td>\n",
       "    </tr>\n",
       "  </tbody>\n",
       "</table>\n",
       "<p>1367 rows × 1 columns</p>\n",
       "</div>"
      ],
      "text/plain": [
       "               close\n",
       "date                \n",
       "2017-11-09  0.001415\n",
       "2017-11-10  0.001163\n",
       "2017-11-11  0.001201\n",
       "2017-11-12  0.001038\n",
       "2017-11-13  0.001211\n",
       "...              ...\n",
       "2021-08-02  0.203600\n",
       "2021-08-03  0.195967\n",
       "2021-08-04  0.201490\n",
       "2021-08-05  0.200974\n",
       "2021-08-06  0.204688\n",
       "\n",
       "[1367 rows x 1 columns]"
      ]
     },
     "execution_count": 17,
     "metadata": {},
     "output_type": "execute_result"
    }
   ],
   "source": [
    "train"
   ]
  },
  {
   "cell_type": "code",
   "execution_count": 18,
   "id": "b25ba66a",
   "metadata": {},
   "outputs": [
    {
     "data": {
      "text/html": [
       "<div>\n",
       "<style scoped>\n",
       "    .dataframe tbody tr th:only-of-type {\n",
       "        vertical-align: middle;\n",
       "    }\n",
       "\n",
       "    .dataframe tbody tr th {\n",
       "        vertical-align: top;\n",
       "    }\n",
       "\n",
       "    .dataframe thead th {\n",
       "        text-align: right;\n",
       "    }\n",
       "</style>\n",
       "<table border=\"1\" class=\"dataframe\">\n",
       "  <thead>\n",
       "    <tr style=\"text-align: right;\">\n",
       "      <th></th>\n",
       "      <th>close</th>\n",
       "    </tr>\n",
       "    <tr>\n",
       "      <th>date</th>\n",
       "      <th></th>\n",
       "    </tr>\n",
       "  </thead>\n",
       "  <tbody>\n",
       "    <tr>\n",
       "      <th>2021-08-07</th>\n",
       "      <td>0.260341</td>\n",
       "    </tr>\n",
       "    <tr>\n",
       "      <th>2021-08-08</th>\n",
       "      <td>0.240045</td>\n",
       "    </tr>\n",
       "    <tr>\n",
       "      <th>2021-08-09</th>\n",
       "      <td>0.256897</td>\n",
       "    </tr>\n",
       "    <tr>\n",
       "      <th>2021-08-10</th>\n",
       "      <td>0.257325</td>\n",
       "    </tr>\n",
       "    <tr>\n",
       "      <th>2021-08-11</th>\n",
       "      <td>0.265263</td>\n",
       "    </tr>\n",
       "    <tr>\n",
       "      <th>...</th>\n",
       "      <td>...</td>\n",
       "    </tr>\n",
       "    <tr>\n",
       "      <th>2022-07-09</th>\n",
       "      <td>0.069512</td>\n",
       "    </tr>\n",
       "    <tr>\n",
       "      <th>2022-07-10</th>\n",
       "      <td>0.067263</td>\n",
       "    </tr>\n",
       "    <tr>\n",
       "      <th>2022-07-11</th>\n",
       "      <td>0.061847</td>\n",
       "    </tr>\n",
       "    <tr>\n",
       "      <th>2022-07-12</th>\n",
       "      <td>0.060087</td>\n",
       "    </tr>\n",
       "    <tr>\n",
       "      <th>2022-07-13</th>\n",
       "      <td>0.061953</td>\n",
       "    </tr>\n",
       "  </tbody>\n",
       "</table>\n",
       "<p>341 rows × 1 columns</p>\n",
       "</div>"
      ],
      "text/plain": [
       "               close\n",
       "date                \n",
       "2021-08-07  0.260341\n",
       "2021-08-08  0.240045\n",
       "2021-08-09  0.256897\n",
       "2021-08-10  0.257325\n",
       "2021-08-11  0.265263\n",
       "...              ...\n",
       "2022-07-09  0.069512\n",
       "2022-07-10  0.067263\n",
       "2022-07-11  0.061847\n",
       "2022-07-12  0.060087\n",
       "2022-07-13  0.061953\n",
       "\n",
       "[341 rows x 1 columns]"
      ]
     },
     "execution_count": 18,
     "metadata": {},
     "output_type": "execute_result"
    }
   ],
   "source": [
    "test"
   ]
  },
  {
   "cell_type": "code",
   "execution_count": 19,
   "id": "2c3f65b5",
   "metadata": {},
   "outputs": [
    {
     "data": {
      "text/plain": [
       "array([[0.00055138],\n",
       "       [0.00018282],\n",
       "       [0.0002384 ],\n",
       "       ...,\n",
       "       [0.08893598],\n",
       "       [0.0863619 ],\n",
       "       [0.08909101]])"
      ]
     },
     "execution_count": 19,
     "metadata": {},
     "output_type": "execute_result"
    }
   ],
   "source": [
    "# Perform MinMax scaling\n",
    "scaler=MinMaxScaler(feature_range=(0,1))\n",
    "df1=scaler.fit_transform(np.array(data).reshape(-1,1))\n",
    "df1"
   ]
  },
  {
   "cell_type": "code",
   "execution_count": 20,
   "id": "48596a15",
   "metadata": {},
   "outputs": [
    {
     "data": {
      "text/plain": [
       "(1366, 1367)"
      ]
     },
     "execution_count": 20,
     "metadata": {},
     "output_type": "execute_result"
    }
   ],
   "source": [
    "##splitting dataset into train and test split\n",
    "training_size=int(len(df1)*0.8)\n",
    "# test_size=len(df1)-training_size\n",
    "\n",
    "test_size = 0.2\n",
    "split_row = len(df1) - int(test_size * len(df1))\n",
    "# train_data = df.iloc[:split_row]\n",
    "# test_data = df.iloc[split_row:]\n",
    "    \n",
    "train_scaled,test_scaled=df1[0:split_row,:],df1[split_row:,]\n",
    "training_size,split_row"
   ]
  },
  {
   "cell_type": "code",
   "execution_count": 21,
   "id": "e8c5cd44",
   "metadata": {},
   "outputs": [
    {
     "data": {
      "text/plain": [
       "((1367, 1), (341, 1))"
      ]
     },
     "execution_count": 21,
     "metadata": {},
     "output_type": "execute_result"
    }
   ],
   "source": [
    "train_scaled.shape,test_scaled.shape"
   ]
  },
  {
   "cell_type": "code",
   "execution_count": 22,
   "id": "119a0282",
   "metadata": {},
   "outputs": [
    {
     "data": {
      "text/plain": [
       "array([[5.51379986e-04],\n",
       "       [1.82818298e-04],\n",
       "       [2.38395060e-04],\n",
       "       ...,\n",
       "       [2.93170347e-01],\n",
       "       [2.92415673e-01],\n",
       "       [2.97847570e-01]])"
      ]
     },
     "execution_count": 22,
     "metadata": {},
     "output_type": "execute_result"
    }
   ],
   "source": [
    "train_scaled"
   ]
  },
  {
   "cell_type": "code",
   "execution_count": 23,
   "id": "a27a7f05",
   "metadata": {},
   "outputs": [
    {
     "data": {
      "text/plain": [
       "array([[0.37924266],\n",
       "       [0.34955882],\n",
       "       [0.37420565],\n",
       "       [0.37483162],\n",
       "       [0.38644132],\n",
       "       [0.38447858],\n",
       "       [0.41795188],\n",
       "       [0.42717323],\n",
       "       [0.49785518],\n",
       "       [0.46754244],\n",
       "       [0.43642969],\n",
       "       [0.44271425],\n",
       "       [0.46231969],\n",
       "       [0.47745265],\n",
       "       [0.46181218],\n",
       "       [0.45912987],\n",
       "       [0.46344585],\n",
       "       [0.42077606],\n",
       "       [0.42587596],\n",
       "       [0.39177376],\n",
       "       [0.4291038 ],\n",
       "       [0.41622754],\n",
       "       [0.40964023],\n",
       "       [0.39647731],\n",
       "       [0.4057323 ],\n",
       "       [0.42905699],\n",
       "       [0.43132979],\n",
       "       [0.43179488],\n",
       "       [0.43635071],\n",
       "       [0.4584922 ],\n",
       "       [0.45006501],\n",
       "       [0.36959425],\n",
       "       [0.37452156],\n",
       "       [0.36791524],\n",
       "       [0.34946668],\n",
       "       [0.35158737],\n",
       "       [0.36502086],\n",
       "       [0.34350534],\n",
       "       [0.35052995],\n",
       "       [0.36075023],\n",
       "       [0.35322981],\n",
       "       [0.34939063],\n",
       "       [0.3515201 ],\n",
       "       [0.33946287],\n",
       "       [0.30133282],\n",
       "       [0.29249319],\n",
       "       [0.32734713],\n",
       "       [0.3273091 ],\n",
       "       [0.30481368],\n",
       "       [0.30362755],\n",
       "       [0.29824831],\n",
       "       [0.29137434],\n",
       "       [0.28631685],\n",
       "       [0.28934725],\n",
       "       [0.2971982 ],\n",
       "       [0.32464435],\n",
       "       [0.31897405],\n",
       "       [0.32279861],\n",
       "       [0.3507391 ],\n",
       "       [0.36706697],\n",
       "       [0.37162719],\n",
       "       [0.35376803],\n",
       "       [0.35512527],\n",
       "       [0.35913996],\n",
       "       [0.33458235],\n",
       "       [0.33706575],\n",
       "       [0.3293713 ],\n",
       "       [0.33862921],\n",
       "       [0.33819191],\n",
       "       [0.34039889],\n",
       "       [0.34553243],\n",
       "       [0.34641874],\n",
       "       [0.36014181],\n",
       "       [0.35795823],\n",
       "       [0.37010467],\n",
       "       [0.35298996],\n",
       "       [0.35566642],\n",
       "       [0.36665306],\n",
       "       [0.40367743],\n",
       "       [0.38562814],\n",
       "       [0.37250179],\n",
       "       [0.34611453],\n",
       "       [0.43789955],\n",
       "       [0.41948024],\n",
       "       [0.39094889],\n",
       "       [0.40835172],\n",
       "       [0.39589668],\n",
       "       [0.39793401],\n",
       "       [0.39250211],\n",
       "       [0.38354109],\n",
       "       [0.38088657],\n",
       "       [0.38151985],\n",
       "       [0.38797992],\n",
       "       [0.41144501],\n",
       "       [0.39852634],\n",
       "       [0.37246815],\n",
       "       [0.38045073],\n",
       "       [0.37788688],\n",
       "       [0.38123904],\n",
       "       [0.38300287],\n",
       "       [0.37366744],\n",
       "       [0.34546954],\n",
       "       [0.34581763],\n",
       "       [0.32226478],\n",
       "       [0.33941606],\n",
       "       [0.33929028],\n",
       "       [0.32949707],\n",
       "       [0.31976822],\n",
       "       [0.32976618],\n",
       "       [0.32291123],\n",
       "       [0.31486869],\n",
       "       [0.29228843],\n",
       "       [0.29881139],\n",
       "       [0.3019193 ],\n",
       "       [0.31318529],\n",
       "       [0.31251252],\n",
       "       [0.30486633],\n",
       "       [0.30521588],\n",
       "       [0.29098092],\n",
       "       [0.26006268],\n",
       "       [0.24895026],\n",
       "       [0.25940015],\n",
       "       [0.25706739],\n",
       "       [0.26049852],\n",
       "       [0.24636009],\n",
       "       [0.23895668],\n",
       "       [0.24568   ],\n",
       "       [0.24695534],\n",
       "       [0.228928  ],\n",
       "       [0.26196985],\n",
       "       [0.2633227 ],\n",
       "       [0.2521664 ],\n",
       "       [0.24566684],\n",
       "       [0.25062487],\n",
       "       [0.24649464],\n",
       "       [0.24319806],\n",
       "       [0.24883325],\n",
       "       [0.25181539],\n",
       "       [0.26830706],\n",
       "       [0.27142521],\n",
       "       [0.27732658],\n",
       "       [0.27639494],\n",
       "       [0.27300915],\n",
       "       [0.25313607],\n",
       "       [0.24384597],\n",
       "       [0.24903509],\n",
       "       [0.24784018],\n",
       "       [0.25155359],\n",
       "       [0.25355435],\n",
       "       [0.24724347],\n",
       "       [0.24536409],\n",
       "       [0.23164102],\n",
       "       [0.23280082],\n",
       "       [0.2252102 ],\n",
       "       [0.22072165],\n",
       "       [0.21942145],\n",
       "       [0.20815106],\n",
       "       [0.22283503],\n",
       "       [0.23490542],\n",
       "       [0.25010274],\n",
       "       [0.2669308 ],\n",
       "       [0.2692036 ],\n",
       "       [0.25760999],\n",
       "       [0.24878938],\n",
       "       [0.24051136],\n",
       "       [0.23593506],\n",
       "       [0.22547493],\n",
       "       [0.20709949],\n",
       "       [0.19284259],\n",
       "       [0.20596309],\n",
       "       [0.20001784],\n",
       "       [0.20769767],\n",
       "       [0.20877996],\n",
       "       [0.20506217],\n",
       "       [0.20566035],\n",
       "       [0.20770791],\n",
       "       [0.20246468],\n",
       "       [0.20587827],\n",
       "       [0.20708633],\n",
       "       [0.19919443],\n",
       "       [0.19964197],\n",
       "       [0.21421186],\n",
       "       [0.21368241],\n",
       "       [0.22337763],\n",
       "       [0.24064738],\n",
       "       [0.23015654],\n",
       "       [0.23120664],\n",
       "       [0.22062658],\n",
       "       [0.21032733],\n",
       "       [0.20968089],\n",
       "       [0.21632524],\n",
       "       [0.21201804],\n",
       "       [0.22043938],\n",
       "       [0.21654023],\n",
       "       [0.2011206 ],\n",
       "       [0.20143651],\n",
       "       [0.2050022 ],\n",
       "       [0.19865767],\n",
       "       [0.18640446],\n",
       "       [0.19088424],\n",
       "       [0.18546258],\n",
       "       [0.17956413],\n",
       "       [0.18506769],\n",
       "       [0.18517153],\n",
       "       [0.17853742],\n",
       "       [0.1932287 ],\n",
       "       [0.19437241],\n",
       "       [0.19298592],\n",
       "       [0.18804251],\n",
       "       [0.1777769 ],\n",
       "       [0.18129432],\n",
       "       [0.17510775],\n",
       "       [0.16975337],\n",
       "       [0.16964222],\n",
       "       [0.17630997],\n",
       "       [0.16943161],\n",
       "       [0.16755516],\n",
       "       [0.16687362],\n",
       "       [0.16171375],\n",
       "       [0.16528237],\n",
       "       [0.16343371],\n",
       "       [0.16946525],\n",
       "       [0.16887146],\n",
       "       [0.17297244],\n",
       "       [0.17920727],\n",
       "       [0.17275013],\n",
       "       [0.1730207 ],\n",
       "       [0.17761602],\n",
       "       [0.18821363],\n",
       "       [0.19819259],\n",
       "       [0.19009447],\n",
       "       [0.19719513],\n",
       "       [0.21015914],\n",
       "       [0.20712436],\n",
       "       [0.20977595],\n",
       "       [0.20793314],\n",
       "       [0.20005879],\n",
       "       [0.20516162],\n",
       "       [0.20164858],\n",
       "       [0.21267618],\n",
       "       [0.21580311],\n",
       "       [0.25136638],\n",
       "       [0.20823589],\n",
       "       [0.21216283],\n",
       "       [0.2069664 ],\n",
       "       [0.20953171],\n",
       "       [0.21718375],\n",
       "       [0.1954196 ],\n",
       "       [0.20042443],\n",
       "       [0.20335537],\n",
       "       [0.20897155],\n",
       "       [0.21205167],\n",
       "       [0.20866734],\n",
       "       [0.20244713],\n",
       "       [0.20365666],\n",
       "       [0.20713606],\n",
       "       [0.20452249],\n",
       "       [0.19792201],\n",
       "       [0.19796589],\n",
       "       [0.19481557],\n",
       "       [0.19146048],\n",
       "       [0.22950424],\n",
       "       [0.1999725 ],\n",
       "       [0.20279961],\n",
       "       [0.19938164],\n",
       "       [0.19596513],\n",
       "       [0.18503991],\n",
       "       [0.19266855],\n",
       "       [0.18998477],\n",
       "       [0.18791088],\n",
       "       [0.19710884],\n",
       "       [0.18631671],\n",
       "       [0.18554302],\n",
       "       [0.18500334],\n",
       "       [0.18014038],\n",
       "       [0.15179184],\n",
       "       [0.15713452],\n",
       "       [0.12218551],\n",
       "       [0.11939205],\n",
       "       [0.12767006],\n",
       "       [0.12981269],\n",
       "       [0.13426907],\n",
       "       [0.12695341],\n",
       "       [0.13042257],\n",
       "       [0.12082242],\n",
       "       [0.12531829],\n",
       "       [0.12130213],\n",
       "       [0.12201293],\n",
       "       [0.12441443],\n",
       "       [0.12024325],\n",
       "       [0.12080487],\n",
       "       [0.11985129],\n",
       "       [0.11292906],\n",
       "       [0.11743809],\n",
       "       [0.11817521],\n",
       "       [0.11941399],\n",
       "       [0.12699729],\n",
       "       [0.12406342],\n",
       "       [0.11703004],\n",
       "       [0.11953977],\n",
       "       [0.11613203],\n",
       "       [0.11808453],\n",
       "       [0.11728306],\n",
       "       [0.11918583],\n",
       "       [0.11623587],\n",
       "       [0.1146651 ],\n",
       "       [0.11451446],\n",
       "       [0.10883685],\n",
       "       [0.10070656],\n",
       "       [0.09257626],\n",
       "       [0.07734384],\n",
       "       [0.07978776],\n",
       "       [0.0906223 ],\n",
       "       [0.07896434],\n",
       "       [0.08183971],\n",
       "       [0.07601439],\n",
       "       [0.08681383],\n",
       "       [0.08649353],\n",
       "       [0.09438251],\n",
       "       [0.08873708],\n",
       "       [0.09213165],\n",
       "       [0.09665384],\n",
       "       [0.09867069],\n",
       "       [0.10550663],\n",
       "       [0.10413476],\n",
       "       [0.09494705],\n",
       "       [0.10008205],\n",
       "       [0.09513572],\n",
       "       [0.09526588],\n",
       "       [0.0960308 ],\n",
       "       [0.09673428],\n",
       "       [0.1000879 ],\n",
       "       [0.09669918],\n",
       "       [0.0987877 ],\n",
       "       [0.10176836],\n",
       "       [0.09977345],\n",
       "       [0.1001464 ],\n",
       "       [0.09685713],\n",
       "       [0.08893598],\n",
       "       [0.0863619 ],\n",
       "       [0.08909101]])"
      ]
     },
     "execution_count": 23,
     "metadata": {},
     "output_type": "execute_result"
    }
   ],
   "source": [
    "test_scaled"
   ]
  },
  {
   "cell_type": "code",
   "execution_count": 24,
   "id": "6c69a441",
   "metadata": {},
   "outputs": [],
   "source": [
    "# convert an array of values into a dataset matrix\n",
    "def create_dataset(dataset, time_step=1):\n",
    "    dataX, dataY = [], []\n",
    "    for i in range(len(dataset)-time_step-1):\n",
    "        a = dataset[i:(i+time_step), 0]   ###i=0, 0,1,2,3-----99   100 \n",
    "        dataX.append(a)\n",
    "        dataY.append(dataset[i + time_step, 0])\n",
    "    return np.array(dataX), np.array(dataY)"
   ]
  },
  {
   "cell_type": "code",
   "execution_count": 25,
   "id": "7e257e59",
   "metadata": {},
   "outputs": [],
   "source": [
    "# reshape into X=t,t+1,t+2,t+3 and Y=t+4\n",
    "time_step = 100\n",
    "X_train, y_train = create_dataset(train_scaled, time_step)\n",
    "X_test, ytest = create_dataset(test_scaled, time_step)"
   ]
  },
  {
   "cell_type": "code",
   "execution_count": 26,
   "id": "70cf0a45",
   "metadata": {},
   "outputs": [
    {
     "name": "stdout",
     "output_type": "stream",
     "text": [
      "(1266, 100)\n",
      "(1266,)\n"
     ]
    },
    {
     "data": {
      "text/plain": [
       "(None, None)"
      ]
     },
     "execution_count": 26,
     "metadata": {},
     "output_type": "execute_result"
    }
   ],
   "source": [
    "print(X_train.shape), print(y_train.shape)"
   ]
  },
  {
   "cell_type": "code",
   "execution_count": 27,
   "id": "561ed04b",
   "metadata": {},
   "outputs": [
    {
     "name": "stdout",
     "output_type": "stream",
     "text": [
      "(240, 100)\n",
      "(240,)\n"
     ]
    },
    {
     "data": {
      "text/plain": [
       "(None, None)"
      ]
     },
     "execution_count": 27,
     "metadata": {},
     "output_type": "execute_result"
    }
   ],
   "source": [
    "print(X_test.shape), print(ytest.shape)"
   ]
  },
  {
   "cell_type": "code",
   "execution_count": 28,
   "id": "17ba53b9",
   "metadata": {},
   "outputs": [],
   "source": [
    "# reshape input to be [samples, time steps, features] which is required for LSTM\n",
    "X_train =X_train.reshape(X_train.shape[0],X_train.shape[1] , 1)\n",
    "X_test = X_test.reshape(X_test.shape[0],X_test.shape[1] , 1)"
   ]
  },
  {
   "cell_type": "code",
   "execution_count": 29,
   "id": "f8732a2d",
   "metadata": {},
   "outputs": [
    {
     "name": "stdout",
     "output_type": "stream",
     "text": [
      "(1266, 100, 1)\n",
      "(1266,)\n"
     ]
    },
    {
     "data": {
      "text/plain": [
       "(None, None)"
      ]
     },
     "execution_count": 29,
     "metadata": {},
     "output_type": "execute_result"
    }
   ],
   "source": [
    "print(X_train.shape), print(y_train.shape)"
   ]
  },
  {
   "cell_type": "code",
   "execution_count": 30,
   "id": "29d30983",
   "metadata": {},
   "outputs": [
    {
     "name": "stdout",
     "output_type": "stream",
     "text": [
      "(240, 100, 1)\n",
      "(240,)\n"
     ]
    },
    {
     "data": {
      "text/plain": [
       "(None, None)"
      ]
     },
     "execution_count": 30,
     "metadata": {},
     "output_type": "execute_result"
    }
   ],
   "source": [
    "print(X_test.shape), print(ytest.shape)"
   ]
  },
  {
   "cell_type": "code",
   "execution_count": 31,
   "id": "8784e8dc",
   "metadata": {},
   "outputs": [
    {
     "data": {
      "text/plain": [
       "array([[[0.37924266],\n",
       "        [0.34955882],\n",
       "        [0.37420565],\n",
       "        ...,\n",
       "        [0.37788688],\n",
       "        [0.38123904],\n",
       "        [0.38300287]],\n",
       "\n",
       "       [[0.34955882],\n",
       "        [0.37420565],\n",
       "        [0.37483162],\n",
       "        ...,\n",
       "        [0.38123904],\n",
       "        [0.38300287],\n",
       "        [0.37366744]],\n",
       "\n",
       "       [[0.37420565],\n",
       "        [0.37483162],\n",
       "        [0.38644132],\n",
       "        ...,\n",
       "        [0.38300287],\n",
       "        [0.37366744],\n",
       "        [0.34546954]],\n",
       "\n",
       "       ...,\n",
       "\n",
       "       [[0.20516162],\n",
       "        [0.20164858],\n",
       "        [0.21267618],\n",
       "        ...,\n",
       "        [0.10176836],\n",
       "        [0.09977345],\n",
       "        [0.1001464 ]],\n",
       "\n",
       "       [[0.20164858],\n",
       "        [0.21267618],\n",
       "        [0.21580311],\n",
       "        ...,\n",
       "        [0.09977345],\n",
       "        [0.1001464 ],\n",
       "        [0.09685713]],\n",
       "\n",
       "       [[0.21267618],\n",
       "        [0.21580311],\n",
       "        [0.25136638],\n",
       "        ...,\n",
       "        [0.1001464 ],\n",
       "        [0.09685713],\n",
       "        [0.08893598]]])"
      ]
     },
     "execution_count": 31,
     "metadata": {},
     "output_type": "execute_result"
    }
   ],
   "source": [
    "X_test"
   ]
  },
  {
   "cell_type": "code",
   "execution_count": 32,
   "id": "e4d85568",
   "metadata": {},
   "outputs": [
    {
     "data": {
      "text/plain": [
       "array([0.37366744, 0.34546954, 0.34581763, 0.32226478, 0.33941606,\n",
       "       0.33929028, 0.32949707, 0.31976822, 0.32976618, 0.32291123,\n",
       "       0.31486869, 0.29228843, 0.29881139, 0.3019193 , 0.31318529,\n",
       "       0.31251252, 0.30486633, 0.30521588, 0.29098092, 0.26006268,\n",
       "       0.24895026, 0.25940015, 0.25706739, 0.26049852, 0.24636009,\n",
       "       0.23895668, 0.24568   , 0.24695534, 0.228928  , 0.26196985,\n",
       "       0.2633227 , 0.2521664 , 0.24566684, 0.25062487, 0.24649464,\n",
       "       0.24319806, 0.24883325, 0.25181539, 0.26830706, 0.27142521,\n",
       "       0.27732658, 0.27639494, 0.27300915, 0.25313607, 0.24384597,\n",
       "       0.24903509, 0.24784018, 0.25155359, 0.25355435, 0.24724347,\n",
       "       0.24536409, 0.23164102, 0.23280082, 0.2252102 , 0.22072165,\n",
       "       0.21942145, 0.20815106, 0.22283503, 0.23490542, 0.25010274,\n",
       "       0.2669308 , 0.2692036 , 0.25760999, 0.24878938, 0.24051136,\n",
       "       0.23593506, 0.22547493, 0.20709949, 0.19284259, 0.20596309,\n",
       "       0.20001784, 0.20769767, 0.20877996, 0.20506217, 0.20566035,\n",
       "       0.20770791, 0.20246468, 0.20587827, 0.20708633, 0.19919443,\n",
       "       0.19964197, 0.21421186, 0.21368241, 0.22337763, 0.24064738,\n",
       "       0.23015654, 0.23120664, 0.22062658, 0.21032733, 0.20968089,\n",
       "       0.21632524, 0.21201804, 0.22043938, 0.21654023, 0.2011206 ,\n",
       "       0.20143651, 0.2050022 , 0.19865767, 0.18640446, 0.19088424,\n",
       "       0.18546258, 0.17956413, 0.18506769, 0.18517153, 0.17853742,\n",
       "       0.1932287 , 0.19437241, 0.19298592, 0.18804251, 0.1777769 ,\n",
       "       0.18129432, 0.17510775, 0.16975337, 0.16964222, 0.17630997,\n",
       "       0.16943161, 0.16755516, 0.16687362, 0.16171375, 0.16528237,\n",
       "       0.16343371, 0.16946525, 0.16887146, 0.17297244, 0.17920727,\n",
       "       0.17275013, 0.1730207 , 0.17761602, 0.18821363, 0.19819259,\n",
       "       0.19009447, 0.19719513, 0.21015914, 0.20712436, 0.20977595,\n",
       "       0.20793314, 0.20005879, 0.20516162, 0.20164858, 0.21267618,\n",
       "       0.21580311, 0.25136638, 0.20823589, 0.21216283, 0.2069664 ,\n",
       "       0.20953171, 0.21718375, 0.1954196 , 0.20042443, 0.20335537,\n",
       "       0.20897155, 0.21205167, 0.20866734, 0.20244713, 0.20365666,\n",
       "       0.20713606, 0.20452249, 0.19792201, 0.19796589, 0.19481557,\n",
       "       0.19146048, 0.22950424, 0.1999725 , 0.20279961, 0.19938164,\n",
       "       0.19596513, 0.18503991, 0.19266855, 0.18998477, 0.18791088,\n",
       "       0.19710884, 0.18631671, 0.18554302, 0.18500334, 0.18014038,\n",
       "       0.15179184, 0.15713452, 0.12218551, 0.11939205, 0.12767006,\n",
       "       0.12981269, 0.13426907, 0.12695341, 0.13042257, 0.12082242,\n",
       "       0.12531829, 0.12130213, 0.12201293, 0.12441443, 0.12024325,\n",
       "       0.12080487, 0.11985129, 0.11292906, 0.11743809, 0.11817521,\n",
       "       0.11941399, 0.12699729, 0.12406342, 0.11703004, 0.11953977,\n",
       "       0.11613203, 0.11808453, 0.11728306, 0.11918583, 0.11623587,\n",
       "       0.1146651 , 0.11451446, 0.10883685, 0.10070656, 0.09257626,\n",
       "       0.07734384, 0.07978776, 0.0906223 , 0.07896434, 0.08183971,\n",
       "       0.07601439, 0.08681383, 0.08649353, 0.09438251, 0.08873708,\n",
       "       0.09213165, 0.09665384, 0.09867069, 0.10550663, 0.10413476,\n",
       "       0.09494705, 0.10008205, 0.09513572, 0.09526588, 0.0960308 ,\n",
       "       0.09673428, 0.1000879 , 0.09669918, 0.0987877 , 0.10176836,\n",
       "       0.09977345, 0.1001464 , 0.09685713, 0.08893598, 0.0863619 ])"
      ]
     },
     "execution_count": 32,
     "metadata": {},
     "output_type": "execute_result"
    }
   ],
   "source": [
    "ytest"
   ]
  },
  {
   "cell_type": "code",
   "execution_count": 33,
   "id": "77e7a222",
   "metadata": {},
   "outputs": [],
   "source": [
    "np.random.seed(42)\n",
    "tf.random.set_seed(42)\n",
    "window_len = 100\n",
    "test_size = 0.2\n",
    "zero_base = True\n",
    "lstm_neurons = 100\n",
    "epochs = 100\n",
    "batch_size = 32\n",
    "loss = 'mse'\n",
    "dropout = 0.2\n",
    "optimizer = 'adam'\n",
    "activ_func = \"relu\""
   ]
  },
  {
   "cell_type": "code",
   "execution_count": 34,
   "id": "084c168b",
   "metadata": {},
   "outputs": [],
   "source": [
    "# model = Sequential()\n",
    "# model.add(LSTM(100, input_shape=(X_train.shape[1], X_train.shape[2])))\n",
    "# model.add(Dropout(dropout))\n",
    "# model.add(Dense(units=1))\n",
    "# model.add(Activation(activ_func))\n",
    "# model.compile(loss=loss, optimizer=optimizer)\n",
    "# model.summary()"
   ]
  },
  {
   "cell_type": "code",
   "execution_count": 35,
   "id": "76e505f6",
   "metadata": {},
   "outputs": [],
   "source": [
    "model=Sequential()\n",
    "model.add(LSTM(50,return_sequences=True,input_shape=(X_train.shape[1], X_train.shape[2])))\n",
    "model.add(LSTM(50,return_sequences=True))\n",
    "model.add(LSTM(50))\n",
    "model.add(Dense(1))\n",
    "model.compile(loss='mean_squared_error',optimizer='adam')"
   ]
  },
  {
   "cell_type": "code",
   "execution_count": 36,
   "id": "eba7e5d9",
   "metadata": {},
   "outputs": [
    {
     "name": "stdout",
     "output_type": "stream",
     "text": [
      "Epoch 1/100\n",
      "40/40 [==============================] - 15s 128ms/step - loss: 0.0038\n",
      "Epoch 2/100\n",
      "40/40 [==============================] - 5s 135ms/step - loss: 0.0024\n",
      "Epoch 3/100\n",
      "40/40 [==============================] - 5s 122ms/step - loss: 0.0019\n",
      "Epoch 4/100\n",
      "40/40 [==============================] - 6s 138ms/step - loss: 0.0017\n",
      "Epoch 5/100\n",
      "40/40 [==============================] - 5s 120ms/step - loss: 0.0017\n",
      "Epoch 6/100\n",
      "40/40 [==============================] - 5s 119ms/step - loss: 0.0016\n",
      "Epoch 7/100\n",
      "40/40 [==============================] - 5s 119ms/step - loss: 0.0014\n",
      "Epoch 8/100\n",
      "40/40 [==============================] - 5s 121ms/step - loss: 0.0013\n",
      "Epoch 9/100\n",
      "40/40 [==============================] - 6s 138ms/step - loss: 0.0012\n",
      "Epoch 10/100\n",
      "40/40 [==============================] - 5s 130ms/step - loss: 0.0013\n",
      "Epoch 11/100\n",
      "40/40 [==============================] - 5s 129ms/step - loss: 0.0010\n",
      "Epoch 12/100\n",
      "40/40 [==============================] - 5s 126ms/step - loss: 0.0011\n",
      "Epoch 13/100\n",
      "40/40 [==============================] - 5s 128ms/step - loss: 0.0010\n",
      "Epoch 14/100\n",
      "40/40 [==============================] - 5s 126ms/step - loss: 8.7778e-04\n",
      "Epoch 15/100\n",
      "40/40 [==============================] - 5s 124ms/step - loss: 8.6644e-04\n",
      "Epoch 16/100\n",
      "40/40 [==============================] - 5s 130ms/step - loss: 8.1151e-04\n",
      "Epoch 17/100\n",
      "40/40 [==============================] - 6s 142ms/step - loss: 8.4566e-04\n",
      "Epoch 18/100\n",
      "40/40 [==============================] - 6s 149ms/step - loss: 8.8557e-04\n",
      "Epoch 19/100\n",
      "40/40 [==============================] - 7s 167ms/step - loss: 6.3200e-04\n",
      "Epoch 20/100\n",
      "40/40 [==============================] - 7s 176ms/step - loss: 5.9449e-04\n",
      "Epoch 21/100\n",
      "40/40 [==============================] - 6s 154ms/step - loss: 5.8377e-04\n",
      "Epoch 22/100\n",
      "40/40 [==============================] - 6s 155ms/step - loss: 4.4478e-04\n",
      "Epoch 23/100\n",
      "40/40 [==============================] - 6s 138ms/step - loss: 4.2693e-04\n",
      "Epoch 24/100\n",
      "40/40 [==============================] - 5s 136ms/step - loss: 4.9138e-04\n",
      "Epoch 25/100\n",
      "40/40 [==============================] - 6s 138ms/step - loss: 4.0675e-04\n",
      "Epoch 26/100\n",
      "40/40 [==============================] - 6s 139ms/step - loss: 5.0027e-04\n",
      "Epoch 27/100\n",
      "40/40 [==============================] - 5s 136ms/step - loss: 4.0512e-04\n",
      "Epoch 28/100\n",
      "40/40 [==============================] - 5s 135ms/step - loss: 3.9032e-04\n",
      "Epoch 29/100\n",
      "40/40 [==============================] - 6s 139ms/step - loss: 3.4074e-04\n",
      "Epoch 30/100\n",
      "40/40 [==============================] - 6s 147ms/step - loss: 4.0735e-04\n",
      "Epoch 31/100\n",
      "40/40 [==============================] - 6s 159ms/step - loss: 3.9636e-04\n",
      "Epoch 32/100\n",
      "40/40 [==============================] - 6s 148ms/step - loss: 3.7256e-04\n",
      "Epoch 33/100\n",
      "40/40 [==============================] - 6s 147ms/step - loss: 3.6477e-04\n",
      "Epoch 34/100\n",
      "40/40 [==============================] - 5s 131ms/step - loss: 3.5383e-04\n",
      "Epoch 35/100\n",
      "40/40 [==============================] - 6s 148ms/step - loss: 3.8614e-04\n",
      "Epoch 36/100\n",
      "40/40 [==============================] - 6s 150ms/step - loss: 4.0173e-04\n",
      "Epoch 37/100\n",
      "40/40 [==============================] - 6s 152ms/step - loss: 3.9108e-04\n",
      "Epoch 38/100\n",
      "40/40 [==============================] - 6s 158ms/step - loss: 4.5736e-04\n",
      "Epoch 39/100\n",
      "40/40 [==============================] - 6s 141ms/step - loss: 4.2645e-04\n",
      "Epoch 40/100\n",
      "40/40 [==============================] - 6s 141ms/step - loss: 4.8400e-04\n",
      "Epoch 41/100\n",
      "40/40 [==============================] - 6s 151ms/step - loss: 4.7353e-04\n",
      "Epoch 42/100\n",
      "40/40 [==============================] - 6s 149ms/step - loss: 3.7231e-04\n",
      "Epoch 43/100\n",
      "40/40 [==============================] - 6s 140ms/step - loss: 3.5430e-04\n",
      "Epoch 44/100\n",
      "40/40 [==============================] - 7s 166ms/step - loss: 3.7233e-04\n",
      "Epoch 45/100\n",
      "40/40 [==============================] - 5s 137ms/step - loss: 3.8858e-04\n",
      "Epoch 46/100\n",
      "40/40 [==============================] - 6s 146ms/step - loss: 3.9095e-04\n",
      "Epoch 47/100\n",
      "40/40 [==============================] - 6s 150ms/step - loss: 3.8517e-04\n",
      "Epoch 48/100\n",
      "40/40 [==============================] - 5s 131ms/step - loss: 3.8324e-04\n",
      "Epoch 49/100\n",
      "40/40 [==============================] - 6s 141ms/step - loss: 3.4462e-04\n",
      "Epoch 50/100\n",
      "40/40 [==============================] - 6s 139ms/step - loss: 3.6659e-04\n",
      "Epoch 51/100\n",
      "40/40 [==============================] - 6s 144ms/step - loss: 3.5398e-04\n",
      "Epoch 52/100\n",
      "40/40 [==============================] - 6s 156ms/step - loss: 3.7224e-04\n",
      "Epoch 53/100\n",
      "40/40 [==============================] - 6s 145ms/step - loss: 3.0762e-04\n",
      "Epoch 54/100\n",
      "40/40 [==============================] - 5s 132ms/step - loss: 3.5703e-04\n",
      "Epoch 55/100\n",
      "40/40 [==============================] - 6s 147ms/step - loss: 3.2171e-04\n",
      "Epoch 56/100\n",
      "40/40 [==============================] - 5s 137ms/step - loss: 3.4861e-04\n",
      "Epoch 57/100\n",
      "40/40 [==============================] - 6s 143ms/step - loss: 5.1542e-04\n",
      "Epoch 58/100\n",
      "40/40 [==============================] - 6s 151ms/step - loss: 3.1593e-04\n",
      "Epoch 59/100\n",
      "40/40 [==============================] - 6s 142ms/step - loss: 3.2931e-04\n",
      "Epoch 60/100\n",
      "40/40 [==============================] - 6s 141ms/step - loss: 3.2855e-04\n",
      "Epoch 61/100\n",
      "40/40 [==============================] - 6s 145ms/step - loss: 3.2496e-04\n",
      "Epoch 62/100\n",
      "40/40 [==============================] - 6s 152ms/step - loss: 4.3018e-04\n",
      "Epoch 63/100\n",
      "40/40 [==============================] - 7s 167ms/step - loss: 4.5694e-04\n",
      "Epoch 64/100\n",
      "40/40 [==============================] - 5s 136ms/step - loss: 4.0895e-04\n",
      "Epoch 65/100\n",
      "40/40 [==============================] - 5s 135ms/step - loss: 3.5180e-04\n",
      "Epoch 66/100\n",
      "40/40 [==============================] - 5s 135ms/step - loss: 3.2719e-04\n",
      "Epoch 67/100\n",
      "40/40 [==============================] - 5s 135ms/step - loss: 3.6691e-04\n",
      "Epoch 68/100\n",
      "40/40 [==============================] - 5s 134ms/step - loss: 3.3568e-04\n",
      "Epoch 69/100\n",
      "40/40 [==============================] - 5s 133ms/step - loss: 3.8484e-04\n",
      "Epoch 70/100\n",
      "40/40 [==============================] - 5s 137ms/step - loss: 3.3898e-04\n",
      "Epoch 71/100\n",
      "40/40 [==============================] - 5s 136ms/step - loss: 3.3563e-04\n",
      "Epoch 72/100\n",
      "40/40 [==============================] - 5s 137ms/step - loss: 3.3088e-04\n",
      "Epoch 73/100\n",
      "40/40 [==============================] - 5s 136ms/step - loss: 3.4812e-04\n",
      "Epoch 74/100\n",
      "40/40 [==============================] - 5s 136ms/step - loss: 3.8121e-04\n",
      "Epoch 75/100\n",
      "40/40 [==============================] - 5s 136ms/step - loss: 3.4875e-04\n",
      "Epoch 76/100\n",
      "40/40 [==============================] - 5s 137ms/step - loss: 3.1032e-04\n",
      "Epoch 77/100\n",
      "40/40 [==============================] - 6s 161ms/step - loss: 3.7129e-04\n",
      "Epoch 78/100\n",
      "40/40 [==============================] - 6s 146ms/step - loss: 3.5080e-04\n",
      "Epoch 79/100\n",
      "40/40 [==============================] - 6s 137ms/step - loss: 3.3285e-04\n",
      "Epoch 80/100\n",
      "40/40 [==============================] - 5s 134ms/step - loss: 3.4231e-04\n",
      "Epoch 81/100\n",
      "40/40 [==============================] - 5s 135ms/step - loss: 3.0705e-04\n",
      "Epoch 82/100\n",
      "40/40 [==============================] - 5s 133ms/step - loss: 3.7891e-04\n",
      "Epoch 83/100\n",
      "40/40 [==============================] - 5s 135ms/step - loss: 3.5424e-04\n",
      "Epoch 84/100\n",
      "40/40 [==============================] - 5s 125ms/step - loss: 3.4613e-04\n",
      "Epoch 85/100\n",
      "40/40 [==============================] - 5s 117ms/step - loss: 3.2698e-04\n",
      "Epoch 86/100\n",
      "40/40 [==============================] - 5s 118ms/step - loss: 4.2824e-04\n",
      "Epoch 87/100\n",
      "40/40 [==============================] - 5s 119ms/step - loss: 3.6288e-04\n",
      "Epoch 88/100\n",
      "40/40 [==============================] - 5s 117ms/step - loss: 3.7649e-04\n",
      "Epoch 89/100\n",
      "40/40 [==============================] - 5s 115ms/step - loss: 3.9653e-04\n",
      "Epoch 90/100\n",
      "40/40 [==============================] - 5s 116ms/step - loss: 3.1463e-04\n",
      "Epoch 91/100\n",
      "40/40 [==============================] - 5s 114ms/step - loss: 3.1058e-04\n",
      "Epoch 92/100\n",
      "40/40 [==============================] - 5s 117ms/step - loss: 3.0488e-04\n",
      "Epoch 93/100\n",
      "40/40 [==============================] - 5s 119ms/step - loss: 2.9520e-04\n",
      "Epoch 94/100\n",
      "40/40 [==============================] - 5s 115ms/step - loss: 3.2959e-04\n",
      "Epoch 95/100\n"
     ]
    },
    {
     "name": "stdout",
     "output_type": "stream",
     "text": [
      "40/40 [==============================] - 5s 119ms/step - loss: 3.2552e-04\n",
      "Epoch 96/100\n",
      "40/40 [==============================] - 5s 124ms/step - loss: 3.8317e-04\n",
      "Epoch 97/100\n",
      "40/40 [==============================] - 5s 120ms/step - loss: 3.9358e-04\n",
      "Epoch 98/100\n",
      "40/40 [==============================] - 5s 118ms/step - loss: 3.0051e-04\n",
      "Epoch 99/100\n",
      "40/40 [==============================] - 5s 119ms/step - loss: 2.9347e-04\n",
      "Epoch 100/100\n",
      "40/40 [==============================] - 5s 117ms/step - loss: 2.6787e-04\n"
     ]
    }
   ],
   "source": [
    "history = model.fit(\n",
    "    X_train, y_train, epochs=epochs, batch_size=batch_size, verbose=1, shuffle=True)"
   ]
  },
  {
   "cell_type": "code",
   "execution_count": 37,
   "id": "baa9a840",
   "metadata": {},
   "outputs": [
    {
     "name": "stdout",
     "output_type": "stream",
     "text": [
      "40/40 [==============================] - 4s 44ms/step\n",
      "8/8 [==============================] - 0s 45ms/step\n"
     ]
    }
   ],
   "source": [
    "### Lets Do the prediction and check performance metrics\n",
    "train_predict=model.predict(X_train)\n",
    "test_predict=model.predict(X_test)"
   ]
  },
  {
   "cell_type": "code",
   "execution_count": 38,
   "id": "bdb24023",
   "metadata": {},
   "outputs": [
    {
     "data": {
      "text/plain": [
       "array([[0.39517537],\n",
       "       [0.3957831 ],\n",
       "       [0.38048348],\n",
       "       [0.36432457],\n",
       "       [0.34652534],\n",
       "       [0.34329078],\n",
       "       [0.348814  ],\n",
       "       [0.35072076],\n",
       "       [0.34403935],\n",
       "       [0.33896068],\n",
       "       [0.3338422 ],\n",
       "       [0.32721484],\n",
       "       [0.31331897],\n",
       "       [0.3045763 ],\n",
       "       [0.30386648],\n",
       "       [0.31148645],\n",
       "       [0.31815878],\n",
       "       [0.3160536 ],\n",
       "       [0.30910254],\n",
       "       [0.29655656],\n",
       "       [0.27429265],\n",
       "       [0.25311205],\n",
       "       [0.24694218],\n",
       "       [0.25032386],\n",
       "       [0.25709555],\n",
       "       [0.25494102],\n",
       "       [0.24438806],\n",
       "       [0.23675826],\n",
       "       [0.23534612],\n",
       "       [0.23075756],\n",
       "       [0.24038385],\n",
       "       [0.2549375 ],\n",
       "       [0.26004997],\n",
       "       [0.25428018],\n",
       "       [0.2480212 ],\n",
       "       [0.24388668],\n",
       "       [0.24209662],\n",
       "       [0.24512506],\n",
       "       [0.2508147 ],\n",
       "       [0.26210216],\n",
       "       [0.2723746 ],\n",
       "       [0.27926874],\n",
       "       [0.28067207],\n",
       "       [0.2774821 ],\n",
       "       [0.26590335],\n",
       "       [0.252554  ],\n",
       "       [0.24822971],\n",
       "       [0.25152692],\n",
       "       [0.25923237],\n",
       "       [0.26659787],\n",
       "       [0.26757684],\n",
       "       [0.26395187],\n",
       "       [0.25455612],\n",
       "       [0.24777749],\n",
       "       [0.2436986 ],\n",
       "       [0.24170947],\n",
       "       [0.24153094],\n",
       "       [0.23779419],\n",
       "       [0.23957135],\n",
       "       [0.24893497],\n",
       "       [0.2643765 ],\n",
       "       [0.28263995],\n",
       "       [0.29395285],\n",
       "       [0.28986743],\n",
       "       [0.27514365],\n",
       "       [0.25884783],\n",
       "       [0.24810709],\n",
       "       [0.24093854],\n",
       "       [0.23024993],\n",
       "       [0.21501485],\n",
       "       [0.20816967],\n",
       "       [0.2057361 ],\n",
       "       [0.20850739],\n",
       "       [0.21252492],\n",
       "       [0.21320911],\n",
       "       [0.2118034 ],\n",
       "       [0.21129757],\n",
       "       [0.21007107],\n",
       "       [0.2109643 ],\n",
       "       [0.21374781],\n",
       "       [0.2132153 ],\n",
       "       [0.21107839],\n",
       "       [0.21527511],\n",
       "       [0.22088863],\n",
       "       [0.22813556],\n",
       "       [0.23992887],\n",
       "       [0.24382655],\n",
       "       [0.24106365],\n",
       "       [0.23165596],\n",
       "       [0.21909381],\n",
       "       [0.21097672],\n",
       "       [0.21234111],\n",
       "       [0.21655168],\n",
       "       [0.22325203],\n",
       "       [0.2263531 ],\n",
       "       [0.2191922 ],\n",
       "       [0.20990007],\n",
       "       [0.20632438],\n",
       "       [0.2060078 ],\n",
       "       [0.20293333],\n",
       "       [0.2017555 ],\n",
       "       [0.20063691],\n",
       "       [0.19778296],\n",
       "       [0.19762142],\n",
       "       [0.19953623],\n",
       "       [0.19894981],\n",
       "       [0.20315655],\n",
       "       [0.20909034],\n",
       "       [0.21237452],\n",
       "       [0.21018508],\n",
       "       [0.20141481],\n",
       "       [0.19431645],\n",
       "       [0.18899246],\n",
       "       [0.18424645],\n",
       "       [0.18114142],\n",
       "       [0.18237412],\n",
       "       [0.18192038],\n",
       "       [0.17882659],\n",
       "       [0.17478864],\n",
       "       [0.16965161],\n",
       "       [0.1674611 ],\n",
       "       [0.16720699],\n",
       "       [0.17043388],\n",
       "       [0.17391878],\n",
       "       [0.17741781],\n",
       "       [0.181993  ],\n",
       "       [0.18250436],\n",
       "       [0.1804463 ],\n",
       "       [0.18017142],\n",
       "       [0.18595484],\n",
       "       [0.19700678],\n",
       "       [0.20242885],\n",
       "       [0.20461196],\n",
       "       [0.2099098 ],\n",
       "       [0.21380457],\n",
       "       [0.21623427],\n",
       "       [0.21634577],\n",
       "       [0.21218504],\n",
       "       [0.21011406],\n",
       "       [0.20946117],\n",
       "       [0.21481511],\n",
       "       [0.22295699],\n",
       "       [0.24432282],\n",
       "       [0.2455731 ],\n",
       "       [0.23541431],\n",
       "       [0.22318247],\n",
       "       [0.21805039],\n",
       "       [0.22363545],\n",
       "       [0.22406563],\n",
       "       [0.2227857 ],\n",
       "       [0.22278056],\n",
       "       [0.22605711],\n",
       "       [0.23110415],\n",
       "       [0.23331335],\n",
       "       [0.23014924],\n",
       "       [0.22600338],\n",
       "       [0.22503692],\n",
       "       [0.22533084],\n",
       "       [0.22298096],\n",
       "       [0.2196559 ],\n",
       "       [0.21556862],\n",
       "       [0.21087135],\n",
       "       [0.22331314],\n",
       "       [0.22716515],\n",
       "       [0.22333956],\n",
       "       [0.21527733],\n",
       "       [0.20706183],\n",
       "       [0.19789629],\n",
       "       [0.19518751],\n",
       "       [0.19609495],\n",
       "       [0.19691265],\n",
       "       [0.20043159],\n",
       "       [0.19899248],\n",
       "       [0.19442192],\n",
       "       [0.19008268],\n",
       "       [0.18608332],\n",
       "       [0.17244   ],\n",
       "       [0.16139987],\n",
       "       [0.1432927 ],\n",
       "       [0.12725043],\n",
       "       [0.12267935],\n",
       "       [0.127298  ],\n",
       "       [0.13618086],\n",
       "       [0.14004725],\n",
       "       [0.1402086 ],\n",
       "       [0.134681  ],\n",
       "       [0.13050269],\n",
       "       [0.12813728],\n",
       "       [0.12835677],\n",
       "       [0.13102724],\n",
       "       [0.13204727],\n",
       "       [0.13135462],\n",
       "       [0.1292804 ],\n",
       "       [0.12409345],\n",
       "       [0.12071016],\n",
       "       [0.11999731],\n",
       "       [0.12110975],\n",
       "       [0.12532178],\n",
       "       [0.1279221 ],\n",
       "       [0.12496179],\n",
       "       [0.12085522],\n",
       "       [0.11687095],\n",
       "       [0.11557162],\n",
       "       [0.11619485],\n",
       "       [0.11834557],\n",
       "       [0.11925081],\n",
       "       [0.11831357],\n",
       "       [0.11684992],\n",
       "       [0.11376317],\n",
       "       [0.10798941],\n",
       "       [0.10011391],\n",
       "       [0.08860158],\n",
       "       [0.08076936],\n",
       "       [0.08301876],\n",
       "       [0.08582217],\n",
       "       [0.08804151],\n",
       "       [0.08681624],\n",
       "       [0.08846587],\n",
       "       [0.0917904 ],\n",
       "       [0.09803677],\n",
       "       [0.10147636],\n",
       "       [0.10309485],\n",
       "       [0.1052153 ],\n",
       "       [0.10784706],\n",
       "       [0.11237765],\n",
       "       [0.11540472],\n",
       "       [0.11199667],\n",
       "       [0.10790772],\n",
       "       [0.10329872],\n",
       "       [0.09992021],\n",
       "       [0.09855904],\n",
       "       [0.09868492],\n",
       "       [0.10036601],\n",
       "       [0.10041231],\n",
       "       [0.09984799],\n",
       "       [0.10036792],\n",
       "       [0.1006098 ],\n",
       "       [0.10074482],\n",
       "       [0.09964889],\n",
       "       [0.09530374]], dtype=float32)"
      ]
     },
     "execution_count": 38,
     "metadata": {},
     "output_type": "execute_result"
    }
   ],
   "source": [
    "test_predict"
   ]
  },
  {
   "cell_type": "code",
   "execution_count": 39,
   "id": "b47aed97",
   "metadata": {},
   "outputs": [
    {
     "data": {
      "text/plain": [
       "0.016140599397660948"
      ]
     },
     "execution_count": 39,
     "metadata": {},
     "output_type": "execute_result"
    }
   ],
   "source": [
    "### Calculate RMSE performance metrics\n",
    "import math\n",
    "from sklearn.metrics import mean_squared_error\n",
    "math.sqrt(mean_squared_error(y_train,train_predict))"
   ]
  },
  {
   "cell_type": "code",
   "execution_count": 40,
   "id": "11bffbf7",
   "metadata": {},
   "outputs": [
    {
     "data": {
      "text/plain": [
       "0.016292693597420218"
      ]
     },
     "execution_count": 40,
     "metadata": {},
     "output_type": "execute_result"
    }
   ],
   "source": [
    "### Test Data RMSE\n",
    "math.sqrt(mean_squared_error(ytest,test_predict))"
   ]
  },
  {
   "cell_type": "code",
   "execution_count": 41,
   "id": "7288a85c",
   "metadata": {},
   "outputs": [
    {
     "data": {
      "text/plain": [
       "0.012702571644052687"
      ]
     },
     "execution_count": 41,
     "metadata": {},
     "output_type": "execute_result"
    }
   ],
   "source": [
    "# Calculate the Mean Absolute Error\n",
    "from sklearn.metrics import mean_absolute_error\n",
    "mae=mean_absolute_error(ytest,test_predict)\n",
    "mae"
   ]
  },
  {
   "cell_type": "code",
   "execution_count": 42,
   "id": "99f6f381",
   "metadata": {},
   "outputs": [
    {
     "data": {
      "text/plain": [
       "0.06811788128171062"
      ]
     },
     "execution_count": 42,
     "metadata": {},
     "output_type": "execute_result"
    }
   ],
   "source": [
    "# Calculate Mean Absolute error using Sklearn library\n",
    "from sklearn.metrics import mean_absolute_percentage_error\n",
    "mean_absolute_percentage_error(ytest,test_predict)"
   ]
  },
  {
   "cell_type": "code",
   "execution_count": 43,
   "id": "c782d07e",
   "metadata": {},
   "outputs": [
    {
     "name": "stdout",
     "output_type": "stream",
     "text": [
      "6.81\n"
     ]
    }
   ],
   "source": [
    "# Manual calculation of Mean Absolute Percentage error.\n",
    "total = 0\n",
    "for i,j in zip(ytest, test_predict):\n",
    "    value = abs(i-j)/abs(i)\n",
    "    total+= value\n",
    "#     print(total)\n",
    "error = float(total*100/(len(ytest))) # Calculate MAPE\n",
    "mape = round(error,2) # round to 3 significant figures\n",
    "print(mape)"
   ]
  },
  {
   "cell_type": "code",
   "execution_count": 44,
   "id": "af9ee899",
   "metadata": {},
   "outputs": [],
   "source": [
    "##Transformback to original form\n",
    "train_predict=scaler.inverse_transform(train_predict)\n",
    "test_predict=scaler.inverse_transform(test_predict)"
   ]
  },
  {
   "cell_type": "code",
   "execution_count": 45,
   "id": "3bc7859e",
   "metadata": {},
   "outputs": [
    {
     "data": {
      "text/plain": [
       "array([[0.2712348 ],\n",
       "       [0.27165034],\n",
       "       [0.2611894 ],\n",
       "       [0.25014094],\n",
       "       [0.23797089],\n",
       "       [0.2357593 ],\n",
       "       [0.23953575],\n",
       "       [0.24083947],\n",
       "       [0.23627113],\n",
       "       [0.23279864],\n",
       "       [0.22929893],\n",
       "       [0.22476755],\n",
       "       [0.2152664 ],\n",
       "       [0.2092887 ],\n",
       "       [0.20880337],\n",
       "       [0.21401344],\n",
       "       [0.21857557],\n",
       "       [0.21713617],\n",
       "       [0.21238346],\n",
       "       [0.2038053 ],\n",
       "       [0.18858258],\n",
       "       [0.17410058],\n",
       "       [0.169882  ],\n",
       "       [0.1721942 ],\n",
       "       [0.17682426],\n",
       "       [0.17535111],\n",
       "       [0.16813566],\n",
       "       [0.16291887],\n",
       "       [0.16195333],\n",
       "       [0.15881595],\n",
       "       [0.16539782],\n",
       "       [0.17534871],\n",
       "       [0.17884432],\n",
       "       [0.17489928],\n",
       "       [0.17061977],\n",
       "       [0.16779284],\n",
       "       [0.1665689 ],\n",
       "       [0.16863957],\n",
       "       [0.1725298 ],\n",
       "       [0.18024747],\n",
       "       [0.18727115],\n",
       "       [0.19198494],\n",
       "       [0.19294445],\n",
       "       [0.19076334],\n",
       "       [0.1828465 ],\n",
       "       [0.17371902],\n",
       "       [0.17076235],\n",
       "       [0.17301677],\n",
       "       [0.17828529],\n",
       "       [0.18332136],\n",
       "       [0.18399073],\n",
       "       [0.18151219],\n",
       "       [0.17508796],\n",
       "       [0.17045315],\n",
       "       [0.16766424],\n",
       "       [0.1663042 ],\n",
       "       [0.16618213],\n",
       "       [0.16362716],\n",
       "       [0.16484228],\n",
       "       [0.17124455],\n",
       "       [0.18180253],\n",
       "       [0.19428997],\n",
       "       [0.20202504],\n",
       "       [0.19923167],\n",
       "       [0.18916444],\n",
       "       [0.17802237],\n",
       "       [0.1706785 ],\n",
       "       [0.16577709],\n",
       "       [0.15846886],\n",
       "       [0.14805204],\n",
       "       [0.14337173],\n",
       "       [0.14170781],\n",
       "       [0.14360264],\n",
       "       [0.14634958],\n",
       "       [0.14681739],\n",
       "       [0.14585626],\n",
       "       [0.14551039],\n",
       "       [0.14467178],\n",
       "       [0.14528254],\n",
       "       [0.14718573],\n",
       "       [0.14682162],\n",
       "       [0.14536053],\n",
       "       [0.14822999],\n",
       "       [0.15206818],\n",
       "       [0.15702318],\n",
       "       [0.16508673],\n",
       "       [0.16775173],\n",
       "       [0.16586262],\n",
       "       [0.15943022],\n",
       "       [0.150841  ],\n",
       "       [0.14529102],\n",
       "       [0.1462239 ],\n",
       "       [0.14910284],\n",
       "       [0.15368412],\n",
       "       [0.15580444],\n",
       "       [0.15090826],\n",
       "       [0.14455487],\n",
       "       [0.14211003],\n",
       "       [0.14189357],\n",
       "       [0.13979143],\n",
       "       [0.13898611],\n",
       "       [0.13822128],\n",
       "       [0.13626993],\n",
       "       [0.13615948],\n",
       "       [0.13746871],\n",
       "       [0.13706775],\n",
       "       [0.13994406],\n",
       "       [0.14400122],\n",
       "       [0.14624675],\n",
       "       [0.14474975],\n",
       "       [0.13875316],\n",
       "       [0.13389973],\n",
       "       [0.13025951],\n",
       "       [0.12701449],\n",
       "       [0.12489146],\n",
       "       [0.1257343 ],\n",
       "       [0.12542406],\n",
       "       [0.12330872],\n",
       "       [0.12054782],\n",
       "       [0.11703543],\n",
       "       [0.11553769],\n",
       "       [0.11536394],\n",
       "       [0.1175703 ],\n",
       "       [0.11995306],\n",
       "       [0.12234548],\n",
       "       [0.12547371],\n",
       "       [0.12582335],\n",
       "       [0.12441617],\n",
       "       [0.12422823],\n",
       "       [0.12818258],\n",
       "       [0.13573922],\n",
       "       [0.1394465 ],\n",
       "       [0.14093918],\n",
       "       [0.14456151],\n",
       "       [0.14722453],\n",
       "       [0.1488858 ],\n",
       "       [0.14896205],\n",
       "       [0.1461172 ],\n",
       "       [0.14470118],\n",
       "       [0.14425477],\n",
       "       [0.14791547],\n",
       "       [0.15348239],\n",
       "       [0.16809104],\n",
       "       [0.16894591],\n",
       "       [0.16199996],\n",
       "       [0.15363656],\n",
       "       [0.15012756],\n",
       "       [0.15394628],\n",
       "       [0.15424041],\n",
       "       [0.15336527],\n",
       "       [0.15336175],\n",
       "       [0.15560207],\n",
       "       [0.15905292],\n",
       "       [0.16056344],\n",
       "       [0.15840001],\n",
       "       [0.15556534],\n",
       "       [0.15490453],\n",
       "       [0.15510549],\n",
       "       [0.15349878],\n",
       "       [0.15122531],\n",
       "       [0.14843068],\n",
       "       [0.14521897],\n",
       "       [0.1537259 ],\n",
       "       [0.15635967],\n",
       "       [0.15374397],\n",
       "       [0.1482315 ],\n",
       "       [0.14261425],\n",
       "       [0.13634741],\n",
       "       [0.13449532],\n",
       "       [0.13511577],\n",
       "       [0.13567486],\n",
       "       [0.1380809 ],\n",
       "       [0.13709693],\n",
       "       [0.13397186],\n",
       "       [0.13100494],\n",
       "       [0.12827043],\n",
       "       [0.11894196],\n",
       "       [0.11139339],\n",
       "       [0.09901281],\n",
       "       [0.08804409],\n",
       "       [0.08491866],\n",
       "       [0.08807661],\n",
       "       [0.09415017],\n",
       "       [0.09679377],\n",
       "       [0.09690409],\n",
       "       [0.09312466],\n",
       "       [0.09026778],\n",
       "       [0.08865046],\n",
       "       [0.08880053],\n",
       "       [0.09062643],\n",
       "       [0.09132387],\n",
       "       [0.09085028],\n",
       "       [0.08943206],\n",
       "       [0.08588553],\n",
       "       [0.08357224],\n",
       "       [0.08308484],\n",
       "       [0.08384546],\n",
       "       [0.08672539],\n",
       "       [0.08850334],\n",
       "       [0.08647925],\n",
       "       [0.08367143],\n",
       "       [0.08094723],\n",
       "       [0.08005882],\n",
       "       [0.08048495],\n",
       "       [0.08195548],\n",
       "       [0.08257443],\n",
       "       [0.0819336 ],\n",
       "       [0.08093285],\n",
       "       [0.07882231],\n",
       "       [0.07487457],\n",
       "       [0.06948978],\n",
       "       [0.06161836],\n",
       "       [0.05626316],\n",
       "       [0.05780116],\n",
       "       [0.05971796],\n",
       "       [0.06123542],\n",
       "       [0.06039765],\n",
       "       [0.06152556],\n",
       "       [0.06379867],\n",
       "       [0.06806956],\n",
       "       [0.07042135],\n",
       "       [0.07152797],\n",
       "       [0.0729778 ],\n",
       "       [0.07477724],\n",
       "       [0.07787498],\n",
       "       [0.07994471],\n",
       "       [0.07761449],\n",
       "       [0.07481872],\n",
       "       [0.07166737],\n",
       "       [0.06935734],\n",
       "       [0.06842665],\n",
       "       [0.06851273],\n",
       "       [0.06966215],\n",
       "       [0.06969381],\n",
       "       [0.06930796],\n",
       "       [0.06966346],\n",
       "       [0.06982885],\n",
       "       [0.06992117],\n",
       "       [0.06917183],\n",
       "       [0.06620089]], dtype=float32)"
      ]
     },
     "execution_count": 45,
     "metadata": {},
     "output_type": "execute_result"
    }
   ],
   "source": [
    "test_predict"
   ]
  },
  {
   "cell_type": "code",
   "execution_count": 46,
   "id": "4ed02f56",
   "metadata": {},
   "outputs": [
    {
     "data": {
      "text/plain": [
       "(240, 1)"
      ]
     },
     "execution_count": 46,
     "metadata": {},
     "output_type": "execute_result"
    }
   ],
   "source": [
    "test_predict.shape"
   ]
  },
  {
   "cell_type": "code",
   "execution_count": 47,
   "id": "d8fef7b4",
   "metadata": {},
   "outputs": [
    {
     "data": {
      "text/plain": [
       "date\n",
       "2021-11-16    0.237249\n",
       "2021-11-17    0.237487\n",
       "2021-11-18    0.221383\n",
       "2021-11-19    0.233110\n",
       "2021-11-20    0.233024\n",
       "                ...   \n",
       "2022-07-09    0.069512\n",
       "2022-07-10    0.067263\n",
       "2022-07-11    0.061847\n",
       "2022-07-12    0.060087\n",
       "2022-07-13    0.061953\n",
       "Name: close, Length: 240, dtype: float64"
      ]
     },
     "execution_count": 47,
     "metadata": {},
     "output_type": "execute_result"
    }
   ],
   "source": [
    "targets = test[price_column][window_len+1:]\n",
    "targets"
   ]
  },
  {
   "cell_type": "code",
   "execution_count": 48,
   "id": "031f2558",
   "metadata": {},
   "outputs": [
    {
     "data": {
      "text/plain": [
       "date\n",
       "2021-11-16    0.271235\n",
       "2021-11-17    0.271650\n",
       "2021-11-18    0.261189\n",
       "2021-11-19    0.250141\n",
       "2021-11-20    0.237971\n",
       "                ...   \n",
       "2022-07-09    0.069663\n",
       "2022-07-10    0.069829\n",
       "2022-07-11    0.069921\n",
       "2022-07-12    0.069172\n",
       "2022-07-13    0.066201\n",
       "Length: 240, dtype: float32"
      ]
     },
     "execution_count": 48,
     "metadata": {},
     "output_type": "execute_result"
    }
   ],
   "source": [
    "preds = pd.Series(index=targets.index, data=test_predict.squeeze())\n",
    "preds"
   ]
  },
  {
   "cell_type": "code",
   "execution_count": 49,
   "id": "dd31f161",
   "metadata": {},
   "outputs": [
    {
     "data": {
      "image/png": "[encoded data removed]",
      "text/plain": [
       "<Figure size 936x504 with 1 Axes>"
      ]
     },
     "metadata": {
      "needs_background": "light"
     },
     "output_type": "display_data"
    }
   ],
   "source": [
    "def line_plot(line1, line2, label1=None, label2=None, title='', lw=2):\n",
    "    fig, ax = plt.subplots(1, figsize=(13, 7))\n",
    "    ax.plot(line1, label=label1, linewidth=lw)\n",
    "    ax.plot(line2, label=label2, linewidth=lw)\n",
    "    ax.set_ylabel('Price [USD]', fontsize=14)\n",
    "    ax.set_xlabel('Time', fontsize = 14)\n",
    "    ax.set_title(title, fontsize=16)\n",
    "    ax.legend(loc='best', fontsize=16)\n",
    "line_plot(train[\"close\"], test[\"close\"], 'Training Prices', 'Testing Prices', title='Project Outline')"
   ]
  },
  {
   "cell_type": "code",
   "execution_count": 50,
   "id": "039cec10",
   "metadata": {},
   "outputs": [
    {
     "data": {
      "image/png": "[encoded data removed]",
      "text/plain": [
       "<Figure size 936x504 with 1 Axes>"
      ]
     },
     "metadata": {
      "needs_background": "light"
     },
     "output_type": "display_data"
    }
   ],
   "source": [
    "line_plot(targets, preds, 'actual_value', 'predicted_value', lw=3)"
   ]
  },
  {
   "cell_type": "markdown",
   "id": "dfea169e",
   "metadata": {},
   "source": [
    "### Future Prediction for 30 days"
   ]
  },
  {
   "cell_type": "code",
   "execution_count": 51,
   "id": "4bd4cd7a",
   "metadata": {},
   "outputs": [
    {
     "data": {
      "text/plain": [
       "341"
      ]
     },
     "execution_count": 51,
     "metadata": {},
     "output_type": "execute_result"
    }
   ],
   "source": [
    "len(test)"
   ]
  },
  {
   "cell_type": "code",
   "execution_count": 52,
   "id": "919d9cbc",
   "metadata": {},
   "outputs": [
    {
     "data": {
      "text/plain": [
       "341"
      ]
     },
     "execution_count": 52,
     "metadata": {},
     "output_type": "execute_result"
    }
   ],
   "source": [
    "length = len(test_scaled)\n",
    "length"
   ]
  },
  {
   "cell_type": "code",
   "execution_count": 53,
   "id": "dade5e8c",
   "metadata": {},
   "outputs": [
    {
     "data": {
      "text/plain": [
       "(100, 1)"
      ]
     },
     "execution_count": 53,
     "metadata": {},
     "output_type": "execute_result"
    }
   ],
   "source": [
    "#Getting the last 100 days records\n",
    "fut_inp = test_scaled[length-100:]\n",
    "fut_inp.shape"
   ]
  },
  {
   "cell_type": "code",
   "execution_count": 54,
   "id": "21d4c39c",
   "metadata": {},
   "outputs": [],
   "source": [
    "fut_inp = fut_inp.reshape(1,-1)"
   ]
  },
  {
   "cell_type": "code",
   "execution_count": 55,
   "id": "8db22db2",
   "metadata": {},
   "outputs": [
    {
     "data": {
      "text/plain": [
       "(1, 100)"
      ]
     },
     "execution_count": 55,
     "metadata": {},
     "output_type": "execute_result"
    }
   ],
   "source": [
    "fut_inp.shape"
   ]
  },
  {
   "cell_type": "code",
   "execution_count": 56,
   "id": "73ce36f7",
   "metadata": {},
   "outputs": [
    {
     "data": {
      "text/plain": [
       "array([[0.25136638, 0.20823589, 0.21216283, 0.2069664 , 0.20953171,\n",
       "        0.21718375, 0.1954196 , 0.20042443, 0.20335537, 0.20897155,\n",
       "        0.21205167, 0.20866734, 0.20244713, 0.20365666, 0.20713606,\n",
       "        0.20452249, 0.19792201, 0.19796589, 0.19481557, 0.19146048,\n",
       "        0.22950424, 0.1999725 , 0.20279961, 0.19938164, 0.19596513,\n",
       "        0.18503991, 0.19266855, 0.18998477, 0.18791088, 0.19710884,\n",
       "        0.18631671, 0.18554302, 0.18500334, 0.18014038, 0.15179184,\n",
       "        0.15713452, 0.12218551, 0.11939205, 0.12767006, 0.12981269,\n",
       "        0.13426907, 0.12695341, 0.13042257, 0.12082242, 0.12531829,\n",
       "        0.12130213, 0.12201293, 0.12441443, 0.12024325, 0.12080487,\n",
       "        0.11985129, 0.11292906, 0.11743809, 0.11817521, 0.11941399,\n",
       "        0.12699729, 0.12406342, 0.11703004, 0.11953977, 0.11613203,\n",
       "        0.11808453, 0.11728306, 0.11918583, 0.11623587, 0.1146651 ,\n",
       "        0.11451446, 0.10883685, 0.10070656, 0.09257626, 0.07734384,\n",
       "        0.07978776, 0.0906223 , 0.07896434, 0.08183971, 0.07601439,\n",
       "        0.08681383, 0.08649353, 0.09438251, 0.08873708, 0.09213165,\n",
       "        0.09665384, 0.09867069, 0.10550663, 0.10413476, 0.09494705,\n",
       "        0.10008205, 0.09513572, 0.09526588, 0.0960308 , 0.09673428,\n",
       "        0.1000879 , 0.09669918, 0.0987877 , 0.10176836, 0.09977345,\n",
       "        0.1001464 , 0.09685713, 0.08893598, 0.0863619 , 0.08909101]])"
      ]
     },
     "execution_count": 56,
     "metadata": {},
     "output_type": "execute_result"
    }
   ],
   "source": [
    "fut_inp"
   ]
  },
  {
   "cell_type": "code",
   "execution_count": 57,
   "id": "d47d32ad",
   "metadata": {},
   "outputs": [],
   "source": [
    "tmp_inp = list(fut_inp)"
   ]
  },
  {
   "cell_type": "code",
   "execution_count": 58,
   "id": "d5cdaaff",
   "metadata": {},
   "outputs": [
    {
     "data": {
      "text/plain": [
       "[array([0.25136638, 0.20823589, 0.21216283, 0.2069664 , 0.20953171,\n",
       "        0.21718375, 0.1954196 , 0.20042443, 0.20335537, 0.20897155,\n",
       "        0.21205167, 0.20866734, 0.20244713, 0.20365666, 0.20713606,\n",
       "        0.20452249, 0.19792201, 0.19796589, 0.19481557, 0.19146048,\n",
       "        0.22950424, 0.1999725 , 0.20279961, 0.19938164, 0.19596513,\n",
       "        0.18503991, 0.19266855, 0.18998477, 0.18791088, 0.19710884,\n",
       "        0.18631671, 0.18554302, 0.18500334, 0.18014038, 0.15179184,\n",
       "        0.15713452, 0.12218551, 0.11939205, 0.12767006, 0.12981269,\n",
       "        0.13426907, 0.12695341, 0.13042257, 0.12082242, 0.12531829,\n",
       "        0.12130213, 0.12201293, 0.12441443, 0.12024325, 0.12080487,\n",
       "        0.11985129, 0.11292906, 0.11743809, 0.11817521, 0.11941399,\n",
       "        0.12699729, 0.12406342, 0.11703004, 0.11953977, 0.11613203,\n",
       "        0.11808453, 0.11728306, 0.11918583, 0.11623587, 0.1146651 ,\n",
       "        0.11451446, 0.10883685, 0.10070656, 0.09257626, 0.07734384,\n",
       "        0.07978776, 0.0906223 , 0.07896434, 0.08183971, 0.07601439,\n",
       "        0.08681383, 0.08649353, 0.09438251, 0.08873708, 0.09213165,\n",
       "        0.09665384, 0.09867069, 0.10550663, 0.10413476, 0.09494705,\n",
       "        0.10008205, 0.09513572, 0.09526588, 0.0960308 , 0.09673428,\n",
       "        0.1000879 , 0.09669918, 0.0987877 , 0.10176836, 0.09977345,\n",
       "        0.1001464 , 0.09685713, 0.08893598, 0.0863619 , 0.08909101])]"
      ]
     },
     "execution_count": 58,
     "metadata": {},
     "output_type": "execute_result"
    }
   ],
   "source": [
    "tmp_inp"
   ]
  },
  {
   "cell_type": "code",
   "execution_count": 59,
   "id": "fc1cab74",
   "metadata": {},
   "outputs": [],
   "source": [
    "#Creating list of the last 100 data\n",
    "tmp_inp = tmp_inp[0].tolist()"
   ]
  },
  {
   "cell_type": "code",
   "execution_count": 60,
   "id": "f1cbacea",
   "metadata": {},
   "outputs": [
    {
     "data": {
      "text/plain": [
       "[0.2513663839564512,\n",
       " 0.20823589118069905,\n",
       " 0.21216282821368976,\n",
       " 0.20696640092198926,\n",
       " 0.20953170727426693,\n",
       " 0.21718374993966996,\n",
       " 0.1954195972439776,\n",
       " 0.20042443095976684,\n",
       " 0.20335537390729505,\n",
       " 0.20897155201034312,\n",
       " 0.21205167468873357,\n",
       " 0.2086673423630947,\n",
       " 0.20244713260469274,\n",
       " 0.20365665846178146,\n",
       " 0.20713605630218548,\n",
       " 0.20452248591933472,\n",
       " 0.19792201410187218,\n",
       " 0.19796589049330227,\n",
       " 0.19481556558862373,\n",
       " 0.1914604841906049,\n",
       " 0.22950424065323172,\n",
       " 0.19997250412803716,\n",
       " 0.20279960628251423,\n",
       " 0.19938163539011233,\n",
       " 0.19596512704409141,\n",
       " 0.18503990557800565,\n",
       " 0.19266854750131265,\n",
       " 0.18998477489217377,\n",
       " 0.18791088412391277,\n",
       " 0.19710883831403506,\n",
       " 0.18631670856862048,\n",
       " 0.18554302153307037,\n",
       " 0.1850033419184806,\n",
       " 0.18014037520164858,\n",
       " 0.15179183869868473,\n",
       " 0.15713452062848543,\n",
       " 0.12218551230805907,\n",
       " 0.11939204872034505,\n",
       " 0.12767006123681698,\n",
       " 0.12981269168498508,\n",
       " 0.1342690705078985,\n",
       " 0.12695341351012596,\n",
       " 0.13042257352586295,\n",
       " 0.12082241908096511,\n",
       " 0.1253182866561656,\n",
       " 0.1213021342939338,\n",
       " 0.12201293183510083,\n",
       " 0.1244144329927063,\n",
       " 0.12024325071408827,\n",
       " 0.1208048685243931,\n",
       " 0.11985128828397972,\n",
       " 0.11292905626269674,\n",
       " 0.11743808675532624,\n",
       " 0.1181752101313513,\n",
       " 0.11941398691606007,\n",
       " 0.126997289901556,\n",
       " 0.12406342186126579,\n",
       " 0.11703003631502665,\n",
       " 0.11953976590482626,\n",
       " 0.11613203283709135,\n",
       " 0.11808453225572917,\n",
       " 0.11728305683894001,\n",
       " 0.11918582968062376,\n",
       " 0.1162358736301425,\n",
       " 0.11466509881694623,\n",
       " 0.11451445653970303,\n",
       " 0.10883685148865282,\n",
       " 0.10070655615666212,\n",
       " 0.09257626082467141,\n",
       " 0.07734384026653446,\n",
       " 0.07978775526918898,\n",
       " 0.09062229885965259,\n",
       " 0.0789643416566848,\n",
       " 0.08183970784173493,\n",
       " 0.07601438560620354,\n",
       " 0.0868138280835231,\n",
       " 0.08649353042608364,\n",
       " 0.09438250560520901,\n",
       " 0.08873707657454089,\n",
       " 0.09213164672484678,\n",
       " 0.09665384013490529,\n",
       " 0.09867069159430718,\n",
       " 0.10550663337911105,\n",
       " 0.10413476487373106,\n",
       " 0.09494704850827583,\n",
       " 0.10008204885197423,\n",
       " 0.0951357169914251,\n",
       " 0.09526588361933429,\n",
       " 0.09603079537659838,\n",
       " 0.0967342801858604,\n",
       " 0.10008789903749825,\n",
       " 0.09669917907271636,\n",
       " 0.09878769530478737,\n",
       " 0.10176836482926965,\n",
       " 0.09977345156558277,\n",
       " 0.10014640089273832,\n",
       " 0.09685713408186458,\n",
       " 0.08893598288235716,\n",
       " 0.08636190125179345,\n",
       " 0.08909101279874339]"
      ]
     },
     "execution_count": 60,
     "metadata": {},
     "output_type": "execute_result"
    }
   ],
   "source": [
    "tmp_inp"
   ]
  },
  {
   "cell_type": "code",
   "execution_count": 61,
   "id": "87d8512c",
   "metadata": {},
   "outputs": [
    {
     "name": "stdout",
     "output_type": "stream",
     "text": [
      "[[0.08790405094623566], [0.08834324777126312], [0.09022680670022964], [0.09282909333705902], [0.09587164223194122], [0.09927099943161011], [0.10304669290781021], [0.10729184001684189], [0.11203880608081818], [0.11730664223432541], [0.12305194139480591], [0.129182368516922], [0.13557153940200806], [0.14207270741462708], [0.14852988719940186], [0.154809832572937], [0.16082124412059784], [0.16651390492916107], [0.17186985909938812], [0.17692680656909943], [0.181757390499115], [0.18639548122882843], [0.191059410572052], [0.195852130651474], [0.2009580135345459], [0.20656432211399078], [0.21288098394870758], [0.22007012367248535], [0.22833043336868286], [0.2378196120262146]]\n"
     ]
    }
   ],
   "source": [
    "#Predicting next 30 days price suing the current data\n",
    "#It will predict in sliding window manner (algorithm) with stride 1\n",
    "lst_output=[]\n",
    "n_steps=100\n",
    "i=0\n",
    "while(i<30):\n",
    "    \n",
    "    if(len(tmp_inp)>100):\n",
    "        fut_inp = np.array(tmp_inp[1:])\n",
    "        fut_inp=fut_inp.reshape(1,-1)\n",
    "        fut_inp = fut_inp.reshape((1, n_steps, 1))\n",
    "        yhat = model.predict(fut_inp, verbose=0)\n",
    "        tmp_inp.extend(yhat[0].tolist())\n",
    "        tmp_inp = tmp_inp[1:]\n",
    "        lst_output.extend(yhat.tolist())\n",
    "        i=i+1\n",
    "    else:\n",
    "        fut_inp = fut_inp.reshape((1, n_steps,1))\n",
    "        yhat = model.predict(fut_inp, verbose=0)\n",
    "        tmp_inp.extend(yhat[0].tolist())\n",
    "        lst_output.extend(yhat.tolist())\n",
    "        i=i+1\n",
    "    \n",
    "\n",
    "print(lst_output)"
   ]
  },
  {
   "cell_type": "code",
   "execution_count": 62,
   "id": "abd2a9a3",
   "metadata": {},
   "outputs": [
    {
     "data": {
      "text/plain": [
       "'2022-07-13'"
      ]
     },
     "execution_count": 62,
     "metadata": {},
     "output_type": "execute_result"
    }
   ],
   "source": [
    "end_date"
   ]
  },
  {
   "cell_type": "code",
   "execution_count": 63,
   "id": "40a3588a",
   "metadata": {},
   "outputs": [
    {
     "data": {
      "text/plain": [
       "'07/13/2022'"
      ]
     },
     "execution_count": 63,
     "metadata": {},
     "output_type": "execute_result"
    }
   ],
   "source": [
    "temp = pd.to_datetime(end_date, format='%Y-%m-%d')\n",
    "temp\n",
    "end_date_new = temp.strftime('%m/%d/%Y')\n",
    "end_date_new"
   ]
  },
  {
   "cell_type": "code",
   "execution_count": 64,
   "id": "58c3c1c5",
   "metadata": {},
   "outputs": [
    {
     "data": {
      "text/plain": [
       "array([[0.06114143],\n",
       "       [0.06144172],\n",
       "       [0.06272959],\n",
       "       [0.06450887],\n",
       "       [0.06658918],\n",
       "       [0.06891345],\n",
       "       [0.07149504],\n",
       "       [0.07439762],\n",
       "       [0.0776433 ],\n",
       "       [0.08124513],\n",
       "       [0.08517341],\n",
       "       [0.08936502],\n",
       "       [0.09373355],\n",
       "       [0.09817865],\n",
       "       [0.10259368],\n",
       "       [0.10688752],\n",
       "       [0.11099776],\n",
       "       [0.11489005],\n",
       "       [0.11855213],\n",
       "       [0.12200976],\n",
       "       [0.12531262],\n",
       "       [0.12848386],\n",
       "       [0.13167277],\n",
       "       [0.13494974],\n",
       "       [0.13844083],\n",
       "       [0.14227408],\n",
       "       [0.14659303],\n",
       "       [0.15150853],\n",
       "       [0.15715642],\n",
       "       [0.16364454]])"
      ]
     },
     "execution_count": 64,
     "metadata": {},
     "output_type": "execute_result"
    }
   ],
   "source": [
    "preds = scaler.inverse_transform(lst_output)\n",
    "preds"
   ]
  },
  {
   "cell_type": "code",
   "execution_count": 65,
   "id": "cc2026ab",
   "metadata": {},
   "outputs": [
    {
     "data": {
      "text/plain": [
       "'08/23/2022'"
      ]
     },
     "execution_count": 65,
     "metadata": {},
     "output_type": "execute_result"
    }
   ],
   "source": [
    "import datetime\n",
    "date_future = temp + datetime.timedelta(41)\n",
    "date_future_str = date_future.strftime('%m/%d/%Y')\n",
    "date_future_str"
   ]
  },
  {
   "cell_type": "code",
   "execution_count": 66,
   "id": "feff8df9",
   "metadata": {},
   "outputs": [
    {
     "data": {
      "text/plain": [
       "DatetimeIndex(['2022-07-13', '2022-07-14', '2022-07-15', '2022-07-18',\n",
       "               '2022-07-19', '2022-07-20', '2022-07-21', '2022-07-22',\n",
       "               '2022-07-25', '2022-07-26', '2022-07-27', '2022-07-28',\n",
       "               '2022-07-29', '2022-08-01', '2022-08-02', '2022-08-03',\n",
       "               '2022-08-04', '2022-08-05', '2022-08-08', '2022-08-09',\n",
       "               '2022-08-10', '2022-08-11', '2022-08-12', '2022-08-15',\n",
       "               '2022-08-16', '2022-08-17', '2022-08-18', '2022-08-19',\n",
       "               '2022-08-22', '2022-08-23'],\n",
       "              dtype='datetime64[ns]', freq='B')"
      ]
     },
     "execution_count": 66,
     "metadata": {},
     "output_type": "execute_result"
    }
   ],
   "source": [
    "c = pd.date_range(start=end_date_new, end=date_future_str, freq='B')\n",
    "c"
   ]
  },
  {
   "cell_type": "code",
   "execution_count": 67,
   "id": "e6ab7cdd",
   "metadata": {},
   "outputs": [
    {
     "data": {
      "text/plain": [
       "30"
      ]
     },
     "execution_count": 67,
     "metadata": {},
     "output_type": "execute_result"
    }
   ],
   "source": [
    "len(c)"
   ]
  },
  {
   "cell_type": "code",
   "execution_count": 68,
   "id": "04499e28",
   "metadata": {},
   "outputs": [
    {
     "data": {
      "text/plain": [
       "2022-07-13    0.061141\n",
       "2022-07-14    0.061442\n",
       "2022-07-15    0.062730\n",
       "2022-07-18    0.064509\n",
       "2022-07-19    0.066589\n",
       "2022-07-20    0.068913\n",
       "2022-07-21    0.071495\n",
       "2022-07-22    0.074398\n",
       "2022-07-25    0.077643\n",
       "2022-07-26    0.081245\n",
       "2022-07-27    0.085173\n",
       "2022-07-28    0.089365\n",
       "2022-07-29    0.093734\n",
       "2022-08-01    0.098179\n",
       "2022-08-02    0.102594\n",
       "2022-08-03    0.106888\n",
       "2022-08-04    0.110998\n",
       "2022-08-05    0.114890\n",
       "2022-08-08    0.118552\n",
       "2022-08-09    0.122010\n",
       "2022-08-10    0.125313\n",
       "2022-08-11    0.128484\n",
       "2022-08-12    0.131673\n",
       "2022-08-15    0.134950\n",
       "2022-08-16    0.138441\n",
       "2022-08-17    0.142274\n",
       "2022-08-18    0.146593\n",
       "2022-08-19    0.151509\n",
       "2022-08-22    0.157156\n",
       "2022-08-23    0.163645\n",
       "Freq: B, dtype: float64"
      ]
     },
     "execution_count": 68,
     "metadata": {},
     "output_type": "execute_result"
    }
   ],
   "source": [
    "fut_preds = pd.Series(index=c, data=preds.squeeze())\n",
    "fut_preds"
   ]
  },
  {
   "cell_type": "code",
   "execution_count": 69,
   "id": "8d8456f7",
   "metadata": {},
   "outputs": [
    {
     "data": {
      "text/plain": [
       "[<matplotlib.lines.Line2D at 0x29756193608>]"
      ]
     },
     "execution_count": 69,
     "metadata": {},
     "output_type": "execute_result"
    },
    {
     "data": {
      "image/png": "[encoded data removed]",
      "text/plain": [
       "<Figure size 936x504 with 1 Axes>"
      ]
     },
     "metadata": {
      "needs_background": "light"
     },
     "output_type": "display_data"
    }
   ],
   "source": [
    "fig, ax = plt.subplots(1, figsize=(13, 7))\n",
    "ax.plot(fut_preds, label=\"predicted value_30\", linewidth=3)"
   ]
  },
  {
   "cell_type": "code",
   "execution_count": 70,
   "id": "c7a4f347",
   "metadata": {},
   "outputs": [
    {
     "data": {
      "image/png": "[encoded data removed]",
      "text/plain": [
       "<Figure size 936x504 with 1 Axes>"
      ]
     },
     "metadata": {
      "needs_background": "light"
     },
     "output_type": "display_data"
    }
   ],
   "source": [
    "line_plot(test[\"close\"], fut_preds, 'actual_value', 'predicted_value_30', lw=3)"
   ]
  },
  {
   "cell_type": "code",
   "execution_count": null,
   "id": "f7ea1a21",
   "metadata": {},
   "outputs": [],
   "source": []
  }
 ],
 "metadata": {
  "kernelspec": {
   "display_name": "mlenv",
   "language": "python",
   "name": "mlenv"
  },
  "language_info": {
   "codemirror_mode": {
    "name": "ipython",
    "version": 3
   },
   "file_extension": ".py",
   "mimetype": "text/x-python",
   "name": "python",
   "nbconvert_exporter": "python",
   "pygments_lexer": "ipython3",
   "version": "3.7.13"
  }
 },
 "nbformat": 4,
 "nbformat_minor": 5
}
