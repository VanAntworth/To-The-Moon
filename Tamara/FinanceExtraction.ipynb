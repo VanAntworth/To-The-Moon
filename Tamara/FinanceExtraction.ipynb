{
 "cells": [
  {
   "cell_type": "code",
   "execution_count": 1,
   "id": "c79a54e0",
   "metadata": {},
   "outputs": [],
   "source": [
    "import time\n",
    "import datetime\n",
    "import pandas as pd"
   ]
  },
  {
   "cell_type": "code",
   "execution_count": 2,
   "id": "bd2ece14",
   "metadata": {},
   "outputs": [],
   "source": [
    "coin = \"DOGE-USD\"\n",
    "period1 = datetime.datetime()\n",
    "period2 = \n",
    "query_string = f'https://query1.finance.yahoo.com/v7/finance/download/DOGE-USD?period1={1625541896}&period2={1657077896}&interval={1d}&events=history&includeAdjustedClose=true'"
   ]
  },
  {
   "cell_type": "code",
   "execution_count": null,
   "id": "634398f6",
   "metadata": {},
   "outputs": [],
   "source": []
  }
 ],
 "metadata": {
  "kernelspec": {
   "display_name": "mlenv",
   "language": "python",
   "name": "mlenv"
  },
  "language_info": {
   "codemirror_mode": {
    "name": "ipython",
    "version": 3
   },
   "file_extension": ".py",
   "mimetype": "text/x-python",
   "name": "python",
   "nbconvert_exporter": "python",
   "pygments_lexer": "ipython3",
   "version": "3.7.13"
  }
 },
 "nbformat": 4,
 "nbformat_minor": 5
}
