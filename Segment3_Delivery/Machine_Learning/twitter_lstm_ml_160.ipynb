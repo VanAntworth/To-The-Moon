{
 "cells": [
  {
   "cell_type": "code",
   "execution_count": 1,
   "id": "62b28d70",
   "metadata": {},
   "outputs": [],
   "source": [
    "import pandas as pd\n",
    "import numpy as np\n",
    "import seaborn as sns\n",
    "import matplotlib.pyplot as plt\n",
    "import math\n",
    "from sklearn.model_selection import train_test_split\n",
    "from sklearn.ensemble import RandomForestClassifier\n",
    "from sklearn.model_selection import GridSearchCV\n",
    "from sklearn.preprocessing import MinMaxScaler\n",
    "from keras.models import Sequential\n",
    "from keras.layers import Activation, Dense,LSTM,Dropout\n",
    "from sklearn.metrics import mean_absolute_error\n",
    "plt.style.use('fivethirtyeight')"
   ]
  },
  {
   "cell_type": "code",
   "execution_count": 2,
   "id": "d50f085d",
   "metadata": {},
   "outputs": [],
   "source": [
    "import requests\n",
    "import tensorflow as tf\n",
    "from keras.models import Sequential\n",
    "from keras.layers import Activation, Dense, Dropout, LSTM\n",
    "import matplotlib.pyplot as plt\n",
    "import numpy as np\n",
    "import pandas as pd\n",
    "from sklearn.metrics import mean_absolute_error\n",
    "%matplotlib inline"
   ]
  },
  {
   "cell_type": "code",
   "execution_count": 3,
   "id": "93968ca1",
   "metadata": {},
   "outputs": [],
   "source": [
    "# Database related all the code is moved to this file\n",
    "%run -i \"SqlConn.py\"\n",
    "#importing local py file\n",
    "import SqlConn "
   ]
  },
  {
   "cell_type": "code",
   "execution_count": 4,
   "id": "2250f32e",
   "metadata": {},
   "outputs": [
    {
     "name": "stdout",
     "output_type": "stream",
     "text": [
      "Data transfer Done\n"
     ]
    }
   ],
   "source": [
    "#Fetch Tweets and Sentiment data - Join from Tweet and Sentiment tables\n",
    "try:\n",
    "    df_dbFinanceData = SqlConn.fetchFinanceData(\"\")\n",
    "    print(\"Data transfer Done\")\n",
    "except BaseException as err:\n",
    "    print(err)"
   ]
  },
  {
   "cell_type": "code",
   "execution_count": 5,
   "id": "3523b0c6",
   "metadata": {},
   "outputs": [
    {
     "data": {
      "text/html": [
       "<div>\n",
       "<style scoped>\n",
       "    .dataframe tbody tr th:only-of-type {\n",
       "        vertical-align: middle;\n",
       "    }\n",
       "\n",
       "    .dataframe tbody tr th {\n",
       "        vertical-align: top;\n",
       "    }\n",
       "\n",
       "    .dataframe thead th {\n",
       "        text-align: right;\n",
       "    }\n",
       "</style>\n",
       "<table border=\"1\" class=\"dataframe\">\n",
       "  <thead>\n",
       "    <tr style=\"text-align: right;\">\n",
       "      <th></th>\n",
       "      <th>financeType</th>\n",
       "      <th>date</th>\n",
       "      <th>open</th>\n",
       "      <th>high</th>\n",
       "      <th>low</th>\n",
       "      <th>close</th>\n",
       "      <th>adjustedClose</th>\n",
       "      <th>volume</th>\n",
       "      <th>id</th>\n",
       "    </tr>\n",
       "  </thead>\n",
       "  <tbody>\n",
       "    <tr>\n",
       "      <th>0</th>\n",
       "      <td>tesla</td>\n",
       "      <td>2010-06-29</td>\n",
       "      <td>3.800000</td>\n",
       "      <td>5.000000</td>\n",
       "      <td>3.508000</td>\n",
       "      <td>4.778000</td>\n",
       "      <td>4.778000</td>\n",
       "      <td>93831500</td>\n",
       "      <td>1</td>\n",
       "    </tr>\n",
       "    <tr>\n",
       "      <th>1</th>\n",
       "      <td>tesla</td>\n",
       "      <td>2010-06-30</td>\n",
       "      <td>5.158000</td>\n",
       "      <td>6.084000</td>\n",
       "      <td>4.660000</td>\n",
       "      <td>4.766000</td>\n",
       "      <td>4.766000</td>\n",
       "      <td>85935500</td>\n",
       "      <td>2</td>\n",
       "    </tr>\n",
       "    <tr>\n",
       "      <th>2</th>\n",
       "      <td>tesla</td>\n",
       "      <td>2010-07-01</td>\n",
       "      <td>5.000000</td>\n",
       "      <td>5.184000</td>\n",
       "      <td>4.054000</td>\n",
       "      <td>4.392000</td>\n",
       "      <td>4.392000</td>\n",
       "      <td>41094000</td>\n",
       "      <td>3</td>\n",
       "    </tr>\n",
       "    <tr>\n",
       "      <th>3</th>\n",
       "      <td>tesla</td>\n",
       "      <td>2010-07-02</td>\n",
       "      <td>4.600000</td>\n",
       "      <td>4.620000</td>\n",
       "      <td>3.742000</td>\n",
       "      <td>3.840000</td>\n",
       "      <td>3.840000</td>\n",
       "      <td>25699000</td>\n",
       "      <td>4</td>\n",
       "    </tr>\n",
       "    <tr>\n",
       "      <th>4</th>\n",
       "      <td>tesla</td>\n",
       "      <td>2010-07-06</td>\n",
       "      <td>4.000000</td>\n",
       "      <td>4.000000</td>\n",
       "      <td>3.166000</td>\n",
       "      <td>3.222000</td>\n",
       "      <td>3.222000</td>\n",
       "      <td>34334500</td>\n",
       "      <td>5</td>\n",
       "    </tr>\n",
       "    <tr>\n",
       "      <th>...</th>\n",
       "      <td>...</td>\n",
       "      <td>...</td>\n",
       "      <td>...</td>\n",
       "      <td>...</td>\n",
       "      <td>...</td>\n",
       "      <td>...</td>\n",
       "      <td>...</td>\n",
       "      <td>...</td>\n",
       "      <td>...</td>\n",
       "    </tr>\n",
       "    <tr>\n",
       "      <th>6916</th>\n",
       "      <td>doge</td>\n",
       "      <td>2022-07-09</td>\n",
       "      <td>0.069224</td>\n",
       "      <td>0.070009</td>\n",
       "      <td>0.068995</td>\n",
       "      <td>0.069512</td>\n",
       "      <td>0.069512</td>\n",
       "      <td>254272147</td>\n",
       "      <td>6917</td>\n",
       "    </tr>\n",
       "    <tr>\n",
       "      <th>6917</th>\n",
       "      <td>doge</td>\n",
       "      <td>2022-07-10</td>\n",
       "      <td>0.069509</td>\n",
       "      <td>0.069509</td>\n",
       "      <td>0.066533</td>\n",
       "      <td>0.067263</td>\n",
       "      <td>0.067263</td>\n",
       "      <td>299810124</td>\n",
       "      <td>6918</td>\n",
       "    </tr>\n",
       "    <tr>\n",
       "      <th>6918</th>\n",
       "      <td>doge</td>\n",
       "      <td>2022-07-11</td>\n",
       "      <td>0.067268</td>\n",
       "      <td>0.067268</td>\n",
       "      <td>0.061535</td>\n",
       "      <td>0.061847</td>\n",
       "      <td>0.061847</td>\n",
       "      <td>326125900</td>\n",
       "      <td>6919</td>\n",
       "    </tr>\n",
       "    <tr>\n",
       "      <th>6919</th>\n",
       "      <td>doge</td>\n",
       "      <td>2022-07-12</td>\n",
       "      <td>0.061851</td>\n",
       "      <td>0.062861</td>\n",
       "      <td>0.060087</td>\n",
       "      <td>0.060087</td>\n",
       "      <td>0.060087</td>\n",
       "      <td>298462083</td>\n",
       "      <td>6920</td>\n",
       "    </tr>\n",
       "    <tr>\n",
       "      <th>6920</th>\n",
       "      <td>doge</td>\n",
       "      <td>2022-07-13</td>\n",
       "      <td>0.060085</td>\n",
       "      <td>0.062011</td>\n",
       "      <td>0.058398</td>\n",
       "      <td>0.061953</td>\n",
       "      <td>0.061953</td>\n",
       "      <td>446505400</td>\n",
       "      <td>6921</td>\n",
       "    </tr>\n",
       "  </tbody>\n",
       "</table>\n",
       "<p>6921 rows × 9 columns</p>\n",
       "</div>"
      ],
      "text/plain": [
       "     financeType        date      open      high       low     close  \\\n",
       "0          tesla  2010-06-29  3.800000  5.000000  3.508000  4.778000   \n",
       "1          tesla  2010-06-30  5.158000  6.084000  4.660000  4.766000   \n",
       "2          tesla  2010-07-01  5.000000  5.184000  4.054000  4.392000   \n",
       "3          tesla  2010-07-02  4.600000  4.620000  3.742000  3.840000   \n",
       "4          tesla  2010-07-06  4.000000  4.000000  3.166000  3.222000   \n",
       "...          ...         ...       ...       ...       ...       ...   \n",
       "6916        doge  2022-07-09  0.069224  0.070009  0.068995  0.069512   \n",
       "6917        doge  2022-07-10  0.069509  0.069509  0.066533  0.067263   \n",
       "6918        doge  2022-07-11  0.067268  0.067268  0.061535  0.061847   \n",
       "6919        doge  2022-07-12  0.061851  0.062861  0.060087  0.060087   \n",
       "6920        doge  2022-07-13  0.060085  0.062011  0.058398  0.061953   \n",
       "\n",
       "      adjustedClose     volume    id  \n",
       "0          4.778000   93831500     1  \n",
       "1          4.766000   85935500     2  \n",
       "2          4.392000   41094000     3  \n",
       "3          3.840000   25699000     4  \n",
       "4          3.222000   34334500     5  \n",
       "...             ...        ...   ...  \n",
       "6916       0.069512  254272147  6917  \n",
       "6917       0.067263  299810124  6918  \n",
       "6918       0.061847  326125900  6919  \n",
       "6919       0.060087  298462083  6920  \n",
       "6920       0.061953  446505400  6921  \n",
       "\n",
       "[6921 rows x 9 columns]"
      ]
     },
     "execution_count": 5,
     "metadata": {},
     "output_type": "execute_result"
    }
   ],
   "source": [
    "df_dbFinanceData"
   ]
  },
  {
   "cell_type": "code",
   "execution_count": 6,
   "id": "5f838703",
   "metadata": {},
   "outputs": [],
   "source": [
    "twitter_price = df_dbFinanceData[df_dbFinanceData[\"financeType\"] == \"twitter\"]"
   ]
  },
  {
   "cell_type": "code",
   "execution_count": 7,
   "id": "f62e6af5",
   "metadata": {},
   "outputs": [
    {
     "data": {
      "text/html": [
       "<div>\n",
       "<style scoped>\n",
       "    .dataframe tbody tr th:only-of-type {\n",
       "        vertical-align: middle;\n",
       "    }\n",
       "\n",
       "    .dataframe tbody tr th {\n",
       "        vertical-align: top;\n",
       "    }\n",
       "\n",
       "    .dataframe thead th {\n",
       "        text-align: right;\n",
       "    }\n",
       "</style>\n",
       "<table border=\"1\" class=\"dataframe\">\n",
       "  <thead>\n",
       "    <tr style=\"text-align: right;\">\n",
       "      <th></th>\n",
       "      <th>financeType</th>\n",
       "      <th>date</th>\n",
       "      <th>open</th>\n",
       "      <th>high</th>\n",
       "      <th>low</th>\n",
       "      <th>close</th>\n",
       "      <th>adjustedClose</th>\n",
       "      <th>volume</th>\n",
       "      <th>id</th>\n",
       "    </tr>\n",
       "  </thead>\n",
       "  <tbody>\n",
       "    <tr>\n",
       "      <th>3030</th>\n",
       "      <td>twitter</td>\n",
       "      <td>2013-11-07</td>\n",
       "      <td>45.099998</td>\n",
       "      <td>50.090000</td>\n",
       "      <td>44.000000</td>\n",
       "      <td>44.900002</td>\n",
       "      <td>44.900002</td>\n",
       "      <td>117701600</td>\n",
       "      <td>3031</td>\n",
       "    </tr>\n",
       "    <tr>\n",
       "      <th>3031</th>\n",
       "      <td>twitter</td>\n",
       "      <td>2013-11-08</td>\n",
       "      <td>45.930000</td>\n",
       "      <td>46.939999</td>\n",
       "      <td>40.689999</td>\n",
       "      <td>41.650002</td>\n",
       "      <td>41.650002</td>\n",
       "      <td>27925300</td>\n",
       "      <td>3032</td>\n",
       "    </tr>\n",
       "    <tr>\n",
       "      <th>3032</th>\n",
       "      <td>twitter</td>\n",
       "      <td>2013-11-11</td>\n",
       "      <td>40.500000</td>\n",
       "      <td>43.000000</td>\n",
       "      <td>39.400002</td>\n",
       "      <td>42.900002</td>\n",
       "      <td>42.900002</td>\n",
       "      <td>16113900</td>\n",
       "      <td>3033</td>\n",
       "    </tr>\n",
       "    <tr>\n",
       "      <th>3033</th>\n",
       "      <td>twitter</td>\n",
       "      <td>2013-11-12</td>\n",
       "      <td>43.660000</td>\n",
       "      <td>43.779999</td>\n",
       "      <td>41.830002</td>\n",
       "      <td>41.900002</td>\n",
       "      <td>41.900002</td>\n",
       "      <td>6316700</td>\n",
       "      <td>3034</td>\n",
       "    </tr>\n",
       "    <tr>\n",
       "      <th>3034</th>\n",
       "      <td>twitter</td>\n",
       "      <td>2013-11-13</td>\n",
       "      <td>41.029999</td>\n",
       "      <td>42.869999</td>\n",
       "      <td>40.759998</td>\n",
       "      <td>42.599998</td>\n",
       "      <td>42.599998</td>\n",
       "      <td>8688300</td>\n",
       "      <td>3035</td>\n",
       "    </tr>\n",
       "    <tr>\n",
       "      <th>...</th>\n",
       "      <td>...</td>\n",
       "      <td>...</td>\n",
       "      <td>...</td>\n",
       "      <td>...</td>\n",
       "      <td>...</td>\n",
       "      <td>...</td>\n",
       "      <td>...</td>\n",
       "      <td>...</td>\n",
       "      <td>...</td>\n",
       "    </tr>\n",
       "    <tr>\n",
       "      <th>5208</th>\n",
       "      <td>twitter</td>\n",
       "      <td>2022-07-06</td>\n",
       "      <td>38.209999</td>\n",
       "      <td>38.450001</td>\n",
       "      <td>37.740002</td>\n",
       "      <td>38.209999</td>\n",
       "      <td>38.209999</td>\n",
       "      <td>4870300</td>\n",
       "      <td>5209</td>\n",
       "    </tr>\n",
       "    <tr>\n",
       "      <th>5209</th>\n",
       "      <td>twitter</td>\n",
       "      <td>2022-07-07</td>\n",
       "      <td>38.320000</td>\n",
       "      <td>39.509998</td>\n",
       "      <td>38.320000</td>\n",
       "      <td>38.790001</td>\n",
       "      <td>38.790001</td>\n",
       "      <td>13214900</td>\n",
       "      <td>5210</td>\n",
       "    </tr>\n",
       "    <tr>\n",
       "      <th>5210</th>\n",
       "      <td>twitter</td>\n",
       "      <td>2022-07-08</td>\n",
       "      <td>37.509998</td>\n",
       "      <td>37.549999</td>\n",
       "      <td>36.799999</td>\n",
       "      <td>36.810001</td>\n",
       "      <td>36.810001</td>\n",
       "      <td>26156700</td>\n",
       "      <td>5211</td>\n",
       "    </tr>\n",
       "    <tr>\n",
       "      <th>5211</th>\n",
       "      <td>twitter</td>\n",
       "      <td>2022-07-11</td>\n",
       "      <td>34.599998</td>\n",
       "      <td>34.900002</td>\n",
       "      <td>32.549999</td>\n",
       "      <td>32.650002</td>\n",
       "      <td>32.650002</td>\n",
       "      <td>67071300</td>\n",
       "      <td>5212</td>\n",
       "    </tr>\n",
       "    <tr>\n",
       "      <th>5212</th>\n",
       "      <td>twitter</td>\n",
       "      <td>2022-07-12</td>\n",
       "      <td>32.759998</td>\n",
       "      <td>34.389999</td>\n",
       "      <td>32.520000</td>\n",
       "      <td>34.060001</td>\n",
       "      <td>34.060001</td>\n",
       "      <td>29539400</td>\n",
       "      <td>5213</td>\n",
       "    </tr>\n",
       "  </tbody>\n",
       "</table>\n",
       "<p>2183 rows × 9 columns</p>\n",
       "</div>"
      ],
      "text/plain": [
       "     financeType        date       open       high        low      close  \\\n",
       "3030     twitter  2013-11-07  45.099998  50.090000  44.000000  44.900002   \n",
       "3031     twitter  2013-11-08  45.930000  46.939999  40.689999  41.650002   \n",
       "3032     twitter  2013-11-11  40.500000  43.000000  39.400002  42.900002   \n",
       "3033     twitter  2013-11-12  43.660000  43.779999  41.830002  41.900002   \n",
       "3034     twitter  2013-11-13  41.029999  42.869999  40.759998  42.599998   \n",
       "...          ...         ...        ...        ...        ...        ...   \n",
       "5208     twitter  2022-07-06  38.209999  38.450001  37.740002  38.209999   \n",
       "5209     twitter  2022-07-07  38.320000  39.509998  38.320000  38.790001   \n",
       "5210     twitter  2022-07-08  37.509998  37.549999  36.799999  36.810001   \n",
       "5211     twitter  2022-07-11  34.599998  34.900002  32.549999  32.650002   \n",
       "5212     twitter  2022-07-12  32.759998  34.389999  32.520000  34.060001   \n",
       "\n",
       "      adjustedClose     volume    id  \n",
       "3030      44.900002  117701600  3031  \n",
       "3031      41.650002   27925300  3032  \n",
       "3032      42.900002   16113900  3033  \n",
       "3033      41.900002    6316700  3034  \n",
       "3034      42.599998    8688300  3035  \n",
       "...             ...        ...   ...  \n",
       "5208      38.209999    4870300  5209  \n",
       "5209      38.790001   13214900  5210  \n",
       "5210      36.810001   26156700  5211  \n",
       "5211      32.650002   67071300  5212  \n",
       "5212      34.060001   29539400  5213  \n",
       "\n",
       "[2183 rows x 9 columns]"
      ]
     },
     "execution_count": 7,
     "metadata": {},
     "output_type": "execute_result"
    }
   ],
   "source": [
    "twitter_price"
   ]
  },
  {
   "cell_type": "code",
   "execution_count": 8,
   "id": "357aa55e",
   "metadata": {},
   "outputs": [
    {
     "data": {
      "text/plain": [
       "'2022-07-12'"
      ]
     },
     "execution_count": 8,
     "metadata": {},
     "output_type": "execute_result"
    }
   ],
   "source": [
    "end_date = twitter_price['date'].iloc[-1]\n",
    "end_date"
   ]
  },
  {
   "cell_type": "code",
   "execution_count": 9,
   "id": "20f77024",
   "metadata": {},
   "outputs": [
    {
     "name": "stderr",
     "output_type": "stream",
     "text": [
      "SqlConn.py:1: SettingWithCopyWarning: \n",
      "A value is trying to be set on a copy of a slice from a DataFrame.\n",
      "Try using .loc[row_indexer,col_indexer] = value instead\n",
      "\n",
      "See the caveats in the documentation: https://pandas.pydata.org/pandas-docs/stable/user_guide/indexing.html#returning-a-view-versus-a-copy\n",
      "  \n"
     ]
    }
   ],
   "source": [
    "twitter_price['date'] = pd.to_datetime(twitter_price['date'], format='%Y-%m-%d')"
   ]
  },
  {
   "cell_type": "code",
   "execution_count": 10,
   "id": "ece62414",
   "metadata": {},
   "outputs": [
    {
     "data": {
      "text/plain": [
       "financeType              object\n",
       "date             datetime64[ns]\n",
       "open                    float64\n",
       "high                    float64\n",
       "low                     float64\n",
       "close                   float64\n",
       "adjustedClose           float64\n",
       "volume                    int64\n",
       "id                        int64\n",
       "dtype: object"
      ]
     },
     "execution_count": 10,
     "metadata": {},
     "output_type": "execute_result"
    }
   ],
   "source": [
    "twitter_price.dtypes"
   ]
  },
  {
   "cell_type": "code",
   "execution_count": 11,
   "id": "95beb949",
   "metadata": {},
   "outputs": [],
   "source": [
    "twitter_price.set_index(\"date\",inplace = True)"
   ]
  },
  {
   "cell_type": "code",
   "execution_count": 12,
   "id": "cf0aa09e",
   "metadata": {},
   "outputs": [
    {
     "data": {
      "image/png": "[encoded data removed]",
      "text/plain": [
       "<Figure size 1152x576 with 1 Axes>"
      ]
     },
     "metadata": {
      "needs_background": "light"
     },
     "output_type": "display_data"
    }
   ],
   "source": [
    "plt.figure(figsize=(16,8))\n",
    "plt.title('Close Price History of Tesla')\n",
    "plt.plot(twitter_price['close'])\n",
    "plt.xlabel('Date',fontsize=18)\n",
    "plt.ylabel('Close Price USD($)',fontsize=18)\n",
    "plt.show()"
   ]
  },
  {
   "cell_type": "code",
   "execution_count": 13,
   "id": "9038167d",
   "metadata": {},
   "outputs": [
    {
     "data": {
      "text/html": [
       "<div>\n",
       "<style scoped>\n",
       "    .dataframe tbody tr th:only-of-type {\n",
       "        vertical-align: middle;\n",
       "    }\n",
       "\n",
       "    .dataframe tbody tr th {\n",
       "        vertical-align: top;\n",
       "    }\n",
       "\n",
       "    .dataframe thead th {\n",
       "        text-align: right;\n",
       "    }\n",
       "</style>\n",
       "<table border=\"1\" class=\"dataframe\">\n",
       "  <thead>\n",
       "    <tr style=\"text-align: right;\">\n",
       "      <th></th>\n",
       "      <th>close</th>\n",
       "    </tr>\n",
       "    <tr>\n",
       "      <th>date</th>\n",
       "      <th></th>\n",
       "    </tr>\n",
       "  </thead>\n",
       "  <tbody>\n",
       "    <tr>\n",
       "      <th>2013-11-07</th>\n",
       "      <td>44.900002</td>\n",
       "    </tr>\n",
       "    <tr>\n",
       "      <th>2013-11-08</th>\n",
       "      <td>41.650002</td>\n",
       "    </tr>\n",
       "    <tr>\n",
       "      <th>2013-11-11</th>\n",
       "      <td>42.900002</td>\n",
       "    </tr>\n",
       "    <tr>\n",
       "      <th>2013-11-12</th>\n",
       "      <td>41.900002</td>\n",
       "    </tr>\n",
       "    <tr>\n",
       "      <th>2013-11-13</th>\n",
       "      <td>42.599998</td>\n",
       "    </tr>\n",
       "  </tbody>\n",
       "</table>\n",
       "</div>"
      ],
      "text/plain": [
       "                close\n",
       "date                 \n",
       "2013-11-07  44.900002\n",
       "2013-11-08  41.650002\n",
       "2013-11-11  42.900002\n",
       "2013-11-12  41.900002\n",
       "2013-11-13  42.599998"
      ]
     },
     "execution_count": 13,
     "metadata": {},
     "output_type": "execute_result"
    }
   ],
   "source": [
    "data = twitter_price.drop(['financeType','open', 'high', 'low', 'adjustedClose', 'volume','id'], axis = 1)\n",
    "price_column = 'close'\n",
    "data.head()"
   ]
  },
  {
   "cell_type": "code",
   "execution_count": 14,
   "id": "1eb5071b",
   "metadata": {},
   "outputs": [],
   "source": [
    "# This function splits the data in 70,30 ratio.\n",
    "def train_test_split(df, test_size=0.3):\n",
    "    split_row = len(df) - int(test_size * len(df))\n",
    "    train_data = df.iloc[:split_row]\n",
    "    test_data = df.iloc[split_row:]\n",
    "    return train_data, test_data"
   ]
  },
  {
   "cell_type": "code",
   "execution_count": 15,
   "id": "46dc1214",
   "metadata": {},
   "outputs": [],
   "source": [
    "train, test = train_test_split(data, test_size=0.2)"
   ]
  },
  {
   "cell_type": "code",
   "execution_count": 16,
   "id": "2326ae5c",
   "metadata": {},
   "outputs": [
    {
     "data": {
      "text/plain": [
       "((1747, 1), (436, 1))"
      ]
     },
     "execution_count": 16,
     "metadata": {},
     "output_type": "execute_result"
    }
   ],
   "source": [
    "train.shape, test.shape"
   ]
  },
  {
   "cell_type": "code",
   "execution_count": 17,
   "id": "fad40f4a",
   "metadata": {},
   "outputs": [
    {
     "data": {
      "text/html": [
       "<div>\n",
       "<style scoped>\n",
       "    .dataframe tbody tr th:only-of-type {\n",
       "        vertical-align: middle;\n",
       "    }\n",
       "\n",
       "    .dataframe tbody tr th {\n",
       "        vertical-align: top;\n",
       "    }\n",
       "\n",
       "    .dataframe thead th {\n",
       "        text-align: right;\n",
       "    }\n",
       "</style>\n",
       "<table border=\"1\" class=\"dataframe\">\n",
       "  <thead>\n",
       "    <tr style=\"text-align: right;\">\n",
       "      <th></th>\n",
       "      <th>close</th>\n",
       "    </tr>\n",
       "    <tr>\n",
       "      <th>date</th>\n",
       "      <th></th>\n",
       "    </tr>\n",
       "  </thead>\n",
       "  <tbody>\n",
       "    <tr>\n",
       "      <th>2013-11-07</th>\n",
       "      <td>44.900002</td>\n",
       "    </tr>\n",
       "    <tr>\n",
       "      <th>2013-11-08</th>\n",
       "      <td>41.650002</td>\n",
       "    </tr>\n",
       "    <tr>\n",
       "      <th>2013-11-11</th>\n",
       "      <td>42.900002</td>\n",
       "    </tr>\n",
       "    <tr>\n",
       "      <th>2013-11-12</th>\n",
       "      <td>41.900002</td>\n",
       "    </tr>\n",
       "    <tr>\n",
       "      <th>2013-11-13</th>\n",
       "      <td>42.599998</td>\n",
       "    </tr>\n",
       "    <tr>\n",
       "      <th>...</th>\n",
       "      <td>...</td>\n",
       "    </tr>\n",
       "    <tr>\n",
       "      <th>2020-10-09</th>\n",
       "      <td>45.900002</td>\n",
       "    </tr>\n",
       "    <tr>\n",
       "      <th>2020-10-12</th>\n",
       "      <td>48.250000</td>\n",
       "    </tr>\n",
       "    <tr>\n",
       "      <th>2020-10-13</th>\n",
       "      <td>47.000000</td>\n",
       "    </tr>\n",
       "    <tr>\n",
       "      <th>2020-10-14</th>\n",
       "      <td>45.980000</td>\n",
       "    </tr>\n",
       "    <tr>\n",
       "      <th>2020-10-15</th>\n",
       "      <td>46.029999</td>\n",
       "    </tr>\n",
       "  </tbody>\n",
       "</table>\n",
       "<p>1747 rows × 1 columns</p>\n",
       "</div>"
      ],
      "text/plain": [
       "                close\n",
       "date                 \n",
       "2013-11-07  44.900002\n",
       "2013-11-08  41.650002\n",
       "2013-11-11  42.900002\n",
       "2013-11-12  41.900002\n",
       "2013-11-13  42.599998\n",
       "...               ...\n",
       "2020-10-09  45.900002\n",
       "2020-10-12  48.250000\n",
       "2020-10-13  47.000000\n",
       "2020-10-14  45.980000\n",
       "2020-10-15  46.029999\n",
       "\n",
       "[1747 rows x 1 columns]"
      ]
     },
     "execution_count": 17,
     "metadata": {},
     "output_type": "execute_result"
    }
   ],
   "source": [
    "train"
   ]
  },
  {
   "cell_type": "code",
   "execution_count": 18,
   "id": "b25ba66a",
   "metadata": {},
   "outputs": [
    {
     "data": {
      "text/html": [
       "<div>\n",
       "<style scoped>\n",
       "    .dataframe tbody tr th:only-of-type {\n",
       "        vertical-align: middle;\n",
       "    }\n",
       "\n",
       "    .dataframe tbody tr th {\n",
       "        vertical-align: top;\n",
       "    }\n",
       "\n",
       "    .dataframe thead th {\n",
       "        text-align: right;\n",
       "    }\n",
       "</style>\n",
       "<table border=\"1\" class=\"dataframe\">\n",
       "  <thead>\n",
       "    <tr style=\"text-align: right;\">\n",
       "      <th></th>\n",
       "      <th>close</th>\n",
       "    </tr>\n",
       "    <tr>\n",
       "      <th>date</th>\n",
       "      <th></th>\n",
       "    </tr>\n",
       "  </thead>\n",
       "  <tbody>\n",
       "    <tr>\n",
       "      <th>2020-10-16</th>\n",
       "      <td>45.810001</td>\n",
       "    </tr>\n",
       "    <tr>\n",
       "      <th>2020-10-19</th>\n",
       "      <td>45.820000</td>\n",
       "    </tr>\n",
       "    <tr>\n",
       "      <th>2020-10-20</th>\n",
       "      <td>46.349998</td>\n",
       "    </tr>\n",
       "    <tr>\n",
       "      <th>2020-10-21</th>\n",
       "      <td>50.240002</td>\n",
       "    </tr>\n",
       "    <tr>\n",
       "      <th>2020-10-22</th>\n",
       "      <td>50.279999</td>\n",
       "    </tr>\n",
       "    <tr>\n",
       "      <th>...</th>\n",
       "      <td>...</td>\n",
       "    </tr>\n",
       "    <tr>\n",
       "      <th>2022-07-06</th>\n",
       "      <td>38.209999</td>\n",
       "    </tr>\n",
       "    <tr>\n",
       "      <th>2022-07-07</th>\n",
       "      <td>38.790001</td>\n",
       "    </tr>\n",
       "    <tr>\n",
       "      <th>2022-07-08</th>\n",
       "      <td>36.810001</td>\n",
       "    </tr>\n",
       "    <tr>\n",
       "      <th>2022-07-11</th>\n",
       "      <td>32.650002</td>\n",
       "    </tr>\n",
       "    <tr>\n",
       "      <th>2022-07-12</th>\n",
       "      <td>34.060001</td>\n",
       "    </tr>\n",
       "  </tbody>\n",
       "</table>\n",
       "<p>436 rows × 1 columns</p>\n",
       "</div>"
      ],
      "text/plain": [
       "                close\n",
       "date                 \n",
       "2020-10-16  45.810001\n",
       "2020-10-19  45.820000\n",
       "2020-10-20  46.349998\n",
       "2020-10-21  50.240002\n",
       "2020-10-22  50.279999\n",
       "...               ...\n",
       "2022-07-06  38.209999\n",
       "2022-07-07  38.790001\n",
       "2022-07-08  36.810001\n",
       "2022-07-11  32.650002\n",
       "2022-07-12  34.060001\n",
       "\n",
       "[436 rows x 1 columns]"
      ]
     },
     "execution_count": 18,
     "metadata": {},
     "output_type": "execute_result"
    }
   ],
   "source": [
    "test"
   ]
  },
  {
   "cell_type": "code",
   "execution_count": 19,
   "id": "2c3f65b5",
   "metadata": {},
   "outputs": [
    {
     "data": {
      "text/plain": [
       "array([[0.48553919],\n",
       "       [0.43445463],\n",
       "       [0.45410254],\n",
       "       ...,\n",
       "       [0.3583779 ],\n",
       "       [0.29298967],\n",
       "       [0.3151525 ]])"
      ]
     },
     "execution_count": 19,
     "metadata": {},
     "output_type": "execute_result"
    }
   ],
   "source": [
    "# Perform MinMax scaling\n",
    "scaler=MinMaxScaler(feature_range=(0,1))\n",
    "df1=scaler.fit_transform(np.array(data).reshape(-1,1))\n",
    "df1"
   ]
  },
  {
   "cell_type": "code",
   "execution_count": 20,
   "id": "48596a15",
   "metadata": {},
   "outputs": [
    {
     "data": {
      "text/plain": [
       "(1746, 1747)"
      ]
     },
     "execution_count": 20,
     "metadata": {},
     "output_type": "execute_result"
    }
   ],
   "source": [
    "##splitting dataset into train and test split\n",
    "training_size=int(len(df1)*0.8)\n",
    "# test_size=len(df1)-training_size\n",
    "\n",
    "test_size = 0.2\n",
    "split_row = len(df1) - int(test_size * len(df1))\n",
    "# train_data = df.iloc[:split_row]\n",
    "# test_data = df.iloc[split_row:]\n",
    "    \n",
    "train_scaled,test_scaled=df1[0:split_row,:],df1[split_row:,]\n",
    "training_size,split_row"
   ]
  },
  {
   "cell_type": "code",
   "execution_count": 21,
   "id": "e8c5cd44",
   "metadata": {},
   "outputs": [
    {
     "data": {
      "text/plain": [
       "((1747, 1), (436, 1))"
      ]
     },
     "execution_count": 21,
     "metadata": {},
     "output_type": "execute_result"
    }
   ],
   "source": [
    "train_scaled.shape,test_scaled.shape"
   ]
  },
  {
   "cell_type": "code",
   "execution_count": 22,
   "id": "119a0282",
   "metadata": {},
   "outputs": [
    {
     "data": {
      "text/plain": [
       "array([[0.48553919],\n",
       "       [0.43445463],\n",
       "       [0.45410254],\n",
       "       ...,\n",
       "       [0.51854765],\n",
       "       [0.50251496],\n",
       "       [0.50330086]])"
      ]
     },
     "execution_count": 22,
     "metadata": {},
     "output_type": "execute_result"
    }
   ],
   "source": [
    "train_scaled"
   ]
  },
  {
   "cell_type": "code",
   "execution_count": 23,
   "id": "a27a7f05",
   "metadata": {},
   "outputs": [
    {
     "data": {
      "text/plain": [
       "array([[0.49984286],\n",
       "       [0.50000002],\n",
       "       [0.50833071],\n",
       "       [0.56947507],\n",
       "       [0.57010375],\n",
       "       [0.57261868],\n",
       "       [0.54998431],\n",
       "       [0.58566491],\n",
       "       [0.54259668],\n",
       "       [0.60389817],\n",
       "       [0.4298963 ],\n",
       "       [0.40018865],\n",
       "       [0.43571206],\n",
       "       [0.45190191],\n",
       "       [0.46683434],\n",
       "       [0.45756052],\n",
       "       [0.4586608 ],\n",
       "       [0.44640052],\n",
       "       [0.4655769 ],\n",
       "       [0.45268787],\n",
       "       [0.46321914],\n",
       "       [0.45143039],\n",
       "       [0.45331656],\n",
       "       [0.46086142],\n",
       "       [0.46541969],\n",
       "       [0.48208113],\n",
       "       [0.48616788],\n",
       "       [0.49072621],\n",
       "       [0.5095882 ],\n",
       "       [0.51210314],\n",
       "       [0.51084564],\n",
       "       [0.51336057],\n",
       "       [0.52216287],\n",
       "       [0.53096515],\n",
       "       [0.53002203],\n",
       "       [0.53269418],\n",
       "       [0.52530653],\n",
       "       [0.52216287],\n",
       "       [0.5847218 ],\n",
       "       [0.58833701],\n",
       "       [0.59745366],\n",
       "       [0.61002832],\n",
       "       [0.62904748],\n",
       "       [0.63847851],\n",
       "       [0.65796921],\n",
       "       [0.63863566],\n",
       "       [0.64287963],\n",
       "       [0.63329143],\n",
       "       [0.62810442],\n",
       "       [0.63533483],\n",
       "       [0.63423456],\n",
       "       [0.63376303],\n",
       "       [0.63093373],\n",
       "       [0.63690665],\n",
       "       [0.62668977],\n",
       "       [0.61694435],\n",
       "       [0.60232637],\n",
       "       [0.58896576],\n",
       "       [0.53709528],\n",
       "       [0.5191764 ],\n",
       "       [0.5220057 ],\n",
       "       [0.49952849],\n",
       "       [0.48994029],\n",
       "       [0.50172904],\n",
       "       [0.52797862],\n",
       "       [0.52043383],\n",
       "       [0.53520909],\n",
       "       [0.53175105],\n",
       "       [0.56051556],\n",
       "       [0.53725245],\n",
       "       [0.59038041],\n",
       "       [0.57403333],\n",
       "       [0.60751339],\n",
       "       [0.62857595],\n",
       "       [0.63769261],\n",
       "       [0.66802892],\n",
       "       [0.67227289],\n",
       "       [0.69459294],\n",
       "       [0.72084252],\n",
       "       [0.84501728],\n",
       "       [0.85743478],\n",
       "       [0.90993406],\n",
       "       [0.94231377],\n",
       "       [0.90820503],\n",
       "       [0.91559266],\n",
       "       [0.91590697],\n",
       "       [0.88777115],\n",
       "       [0.92989627],\n",
       "       [0.91024836],\n",
       "       [0.95221627],\n",
       "       [0.99104057],\n",
       "       [1.        ],\n",
       "       [0.93775544],\n",
       "       [0.89358698],\n",
       "       [0.82898464],\n",
       "       [0.83212825],\n",
       "       [0.7775857 ],\n",
       "       [0.8410877 ],\n",
       "       [0.79880548],\n",
       "       [0.85586296],\n",
       "       [0.85020435],\n",
       "       [0.88447032],\n",
       "       [0.86828046],\n",
       "       [0.88321282],\n",
       "       [0.8285131 ],\n",
       "       [0.82081115],\n",
       "       [0.80477839],\n",
       "       [0.79000313],\n",
       "       [0.75526569],\n",
       "       [0.74174793],\n",
       "       [0.74269098],\n",
       "       [0.76909779],\n",
       "       [0.76988375],\n",
       "       [0.77994347],\n",
       "       [0.78308715],\n",
       "       [0.7895316 ],\n",
       "       [0.83291422],\n",
       "       [0.86419366],\n",
       "       [0.89924558],\n",
       "       [0.89877404],\n",
       "       [0.89358698],\n",
       "       [0.91857906],\n",
       "       [0.87598241],\n",
       "       [0.90694753],\n",
       "       [0.88195545],\n",
       "       [0.84768948],\n",
       "       [0.81248034],\n",
       "       [0.8381013 ],\n",
       "       [0.79063188],\n",
       "       [0.83322854],\n",
       "       [0.8285131 ],\n",
       "       [0.8173531 ],\n",
       "       [0.81248034],\n",
       "       [0.80289215],\n",
       "       [0.64775233],\n",
       "       [0.63769261],\n",
       "       [0.63486331],\n",
       "       [0.6216599 ],\n",
       "       [0.62558948],\n",
       "       [0.62527512],\n",
       "       [0.59415283],\n",
       "       [0.61097144],\n",
       "       [0.57670548],\n",
       "       [0.56743167],\n",
       "       [0.59289534],\n",
       "       [0.60657026],\n",
       "       [0.61584409],\n",
       "       [0.61160012],\n",
       "       [0.63973595],\n",
       "       [0.63564921],\n",
       "       [0.67667405],\n",
       "       [0.67573093],\n",
       "       [0.68909148],\n",
       "       [0.69270676],\n",
       "       [0.69144926],\n",
       "       [0.68264698],\n",
       "       [0.67824587],\n",
       "       [0.67588809],\n",
       "       [0.70716759],\n",
       "       [0.71707015],\n",
       "       [0.70418112],\n",
       "       [0.71832759],\n",
       "       [0.7276014 ],\n",
       "       [0.73074508],\n",
       "       [0.73593216],\n",
       "       [0.72650113],\n",
       "       [0.72178564],\n",
       "       [0.73404592],\n",
       "       [0.73624647],\n",
       "       [0.75369383],\n",
       "       [0.78230118],\n",
       "       [0.82489784],\n",
       "       [0.85256213],\n",
       "       [0.84753226],\n",
       "       [0.85319088],\n",
       "       [0.86435087],\n",
       "       [0.86136436],\n",
       "       [0.85036158],\n",
       "       [0.86749449],\n",
       "       [0.88337004],\n",
       "       [0.86057851],\n",
       "       [0.83024213],\n",
       "       [0.86387934],\n",
       "       [0.87786865],\n",
       "       [0.87378184],\n",
       "       [0.8843131 ],\n",
       "       [0.84973283],\n",
       "       [0.82364047],\n",
       "       [0.81751021],\n",
       "       [0.84768948],\n",
       "       [0.87283879],\n",
       "       [0.87331032],\n",
       "       [0.90663321],\n",
       "       [0.85947822],\n",
       "       [0.85381963],\n",
       "       [0.87944045],\n",
       "       [0.88588503],\n",
       "       [0.87613962],\n",
       "       [0.86639421],\n",
       "       [0.85853505],\n",
       "       [0.85963533],\n",
       "       [0.86875199],\n",
       "       [0.83873005],\n",
       "       [0.83307143],\n",
       "       [0.81216602],\n",
       "       [0.80870798],\n",
       "       [0.8006916 ],\n",
       "       [0.79864826],\n",
       "       [0.78230118],\n",
       "       [0.76815472],\n",
       "       [0.75620876],\n",
       "       [0.75510848],\n",
       "       [0.76249611],\n",
       "       [0.78780257],\n",
       "       [0.78544487],\n",
       "       [0.78843132],\n",
       "       [0.76391077],\n",
       "       [0.77679979],\n",
       "       [0.79676201],\n",
       "       [0.7936184 ],\n",
       "       [0.81012269],\n",
       "       [0.7951902 ],\n",
       "       [0.79613339],\n",
       "       [0.80116324],\n",
       "       [0.75856652],\n",
       "       [0.76155299],\n",
       "       [0.74740653],\n",
       "       [0.71754169],\n",
       "       [0.72587239],\n",
       "       [0.75180764],\n",
       "       [0.75888091],\n",
       "       [0.76171021],\n",
       "       [0.73781835],\n",
       "       [0.76658286],\n",
       "       [0.78968881],\n",
       "       [0.82804157],\n",
       "       [0.83637227],\n",
       "       [0.80729339],\n",
       "       [0.76139584],\n",
       "       [0.7239862 ],\n",
       "       [0.72901605],\n",
       "       [0.75400821],\n",
       "       [0.69757939],\n",
       "       [0.72068537],\n",
       "       [0.74316258],\n",
       "       [0.7852877 ],\n",
       "       [0.78072937],\n",
       "       [0.75589438],\n",
       "       [0.74567751],\n",
       "       [0.75746626],\n",
       "       [0.77271299],\n",
       "       [0.76642569],\n",
       "       [0.79896257],\n",
       "       [0.81892492],\n",
       "       [0.81405227],\n",
       "       [0.80776492],\n",
       "       [0.75809501],\n",
       "       [0.75605161],\n",
       "       [0.74536313],\n",
       "       [0.64130781],\n",
       "       [0.63313428],\n",
       "       [0.62134553],\n",
       "       [0.64602331],\n",
       "       [0.6284188 ],\n",
       "       [0.63690665],\n",
       "       [0.62354608],\n",
       "       [0.6152154 ],\n",
       "       [0.62983345],\n",
       "       [0.62386047],\n",
       "       [0.60232637],\n",
       "       [0.59682493],\n",
       "       [0.60106887],\n",
       "       [0.61207172],\n",
       "       [0.59886832],\n",
       "       [0.57529083],\n",
       "       [0.54369694],\n",
       "       [0.54055334],\n",
       "       [0.52342035],\n",
       "       [0.5207482 ],\n",
       "       [0.52672118],\n",
       "       [0.51964793],\n",
       "       [0.49937127],\n",
       "       [0.47044955],\n",
       "       [0.45284504],\n",
       "       [0.45017295],\n",
       "       [0.44105629],\n",
       "       [0.4787803 ],\n",
       "       [0.47862308],\n",
       "       [0.49842821],\n",
       "       [0.51005974],\n",
       "       [0.49591327],\n",
       "       [0.48082363],\n",
       "       [0.47689405],\n",
       "       [0.47249295],\n",
       "       [0.45771774],\n",
       "       [0.45677462],\n",
       "       [0.45535997],\n",
       "       [0.47705128],\n",
       "       [0.46982086],\n",
       "       [0.4739076 ],\n",
       "       [0.47657975],\n",
       "       [0.46243322],\n",
       "       [0.45190191],\n",
       "       [0.47862308],\n",
       "       [0.45913239],\n",
       "       [0.45033011],\n",
       "       [0.4218799 ],\n",
       "       [0.40066019],\n",
       "       [0.40207484],\n",
       "       [0.40333227],\n",
       "       [0.40804782],\n",
       "       [0.41889345],\n",
       "       [0.41244893],\n",
       "       [0.38808554],\n",
       "       [0.38399874],\n",
       "       [0.36607985],\n",
       "       [0.36686575],\n",
       "       [0.36576548],\n",
       "       [0.32709841],\n",
       "       [0.33087083],\n",
       "       [0.31688147],\n",
       "       [0.3082364 ],\n",
       "       [0.31169445],\n",
       "       [0.33417166],\n",
       "       [0.36938068],\n",
       "       [0.37896888],\n",
       "       [0.35366236],\n",
       "       [0.32175418],\n",
       "       [0.36042125],\n",
       "       [0.34627479],\n",
       "       [0.34533167],\n",
       "       [0.37441061],\n",
       "       [0.36262187],\n",
       "       [0.34313111],\n",
       "       [0.34077334],\n",
       "       [0.36105   ],\n",
       "       [0.34941847],\n",
       "       [0.33668659],\n",
       "       [0.31923925],\n",
       "       [0.29739077],\n",
       "       [0.29471862],\n",
       "       [0.32961334],\n",
       "       [0.33448604],\n",
       "       [0.33857278],\n",
       "       [0.33872999],\n",
       "       [0.32395473],\n",
       "       [0.30619307],\n",
       "       [0.30462119],\n",
       "       [0.28937439],\n",
       "       [0.29346119],\n",
       "       [0.32002515],\n",
       "       [0.31609557],\n",
       "       [0.29849105],\n",
       "       [0.29896259],\n",
       "       [0.31373785],\n",
       "       [0.33574348],\n",
       "       [0.36607985],\n",
       "       [0.37346748],\n",
       "       [0.36828042],\n",
       "       [0.38384158],\n",
       "       [0.3770827 ],\n",
       "       [0.38997173],\n",
       "       [0.38651366],\n",
       "       [0.39468721],\n",
       "       [0.41936498],\n",
       "       [0.39280102],\n",
       "       [0.38792833],\n",
       "       [0.39767372],\n",
       "       [0.5652311 ],\n",
       "       [0.5811066 ],\n",
       "       [0.57780575],\n",
       "       [0.53473751],\n",
       "       [0.50644454],\n",
       "       [0.5187048 ],\n",
       "       [0.47893746],\n",
       "       [0.50047154],\n",
       "       [0.48836849],\n",
       "       [0.54133924],\n",
       "       [0.50534426],\n",
       "       [0.51414653],\n",
       "       [0.51980515],\n",
       "       [0.54888402],\n",
       "       [0.59242381],\n",
       "       [0.56067277],\n",
       "       [0.54432569],\n",
       "       [0.55171334],\n",
       "       [0.55029867],\n",
       "       [0.55218486],\n",
       "       [0.54794091],\n",
       "       [0.55092742],\n",
       "       [0.57136125],\n",
       "       [0.56255895],\n",
       "       [0.53363723],\n",
       "       [0.52263438],\n",
       "       [0.50424397],\n",
       "       [0.48836849],\n",
       "       [0.41983656],\n",
       "       [0.3674945 ],\n",
       "       [0.38211256],\n",
       "       [0.35900659],\n",
       "       [0.3659227 ],\n",
       "       [0.38164103],\n",
       "       [0.37488215],\n",
       "       [0.34187361],\n",
       "       [0.3638793 ],\n",
       "       [0.40097456],\n",
       "       [0.41119144],\n",
       "       [0.40223199],\n",
       "       [0.39751651],\n",
       "       [0.4071047 ],\n",
       "       [0.41103429],\n",
       "       [0.4016033 ],\n",
       "       [0.41056275],\n",
       "       [0.4154354 ],\n",
       "       [0.40113172],\n",
       "       [0.39248666],\n",
       "       [0.3618359 ],\n",
       "       [0.36482242],\n",
       "       [0.37692554],\n",
       "       [0.36702298],\n",
       "       [0.37362465],\n",
       "       [0.39138637],\n",
       "       [0.38541339],\n",
       "       [0.38777116],\n",
       "       [0.39924554],\n",
       "       [0.39578749],\n",
       "       [0.38950019],\n",
       "       [0.37393901],\n",
       "       [0.3674945 ],\n",
       "       [0.38069791],\n",
       "       [0.38305568],\n",
       "       [0.38038353],\n",
       "       [0.38950019],\n",
       "       [0.3583779 ],\n",
       "       [0.29298967],\n",
       "       [0.3151525 ]])"
      ]
     },
     "execution_count": 23,
     "metadata": {},
     "output_type": "execute_result"
    }
   ],
   "source": [
    "test_scaled"
   ]
  },
  {
   "cell_type": "code",
   "execution_count": 24,
   "id": "6c69a441",
   "metadata": {},
   "outputs": [],
   "source": [
    "# convert an array of values into a dataset matrix\n",
    "def create_dataset(dataset, time_step=1):\n",
    "    dataX, dataY = [], []\n",
    "    for i in range(len(dataset)-time_step-1):\n",
    "        a = dataset[i:(i+time_step), 0]   ###i=0, 0,1,2,3-----99   100 \n",
    "        dataX.append(a)\n",
    "        dataY.append(dataset[i + time_step, 0])\n",
    "    return np.array(dataX), np.array(dataY)"
   ]
  },
  {
   "cell_type": "code",
   "execution_count": 25,
   "id": "7e257e59",
   "metadata": {},
   "outputs": [],
   "source": [
    "# reshape into X=t,t+1,t+2,t+3 and Y=t+4\n",
    "time_step = 160\n",
    "X_train, y_train = create_dataset(train_scaled, time_step)\n",
    "X_test, ytest = create_dataset(test_scaled, time_step)"
   ]
  },
  {
   "cell_type": "code",
   "execution_count": 26,
   "id": "70cf0a45",
   "metadata": {},
   "outputs": [
    {
     "name": "stdout",
     "output_type": "stream",
     "text": [
      "(1586, 160)\n",
      "(1586,)\n"
     ]
    },
    {
     "data": {
      "text/plain": [
       "(None, None)"
      ]
     },
     "execution_count": 26,
     "metadata": {},
     "output_type": "execute_result"
    }
   ],
   "source": [
    "print(X_train.shape), print(y_train.shape)"
   ]
  },
  {
   "cell_type": "code",
   "execution_count": 27,
   "id": "561ed04b",
   "metadata": {},
   "outputs": [
    {
     "name": "stdout",
     "output_type": "stream",
     "text": [
      "(275, 160)\n",
      "(275,)\n"
     ]
    },
    {
     "data": {
      "text/plain": [
       "(None, None)"
      ]
     },
     "execution_count": 27,
     "metadata": {},
     "output_type": "execute_result"
    }
   ],
   "source": [
    "print(X_test.shape), print(ytest.shape)"
   ]
  },
  {
   "cell_type": "code",
   "execution_count": 28,
   "id": "17ba53b9",
   "metadata": {},
   "outputs": [],
   "source": [
    "# reshape input to be [samples, time steps, features] which is required for LSTM\n",
    "X_train =X_train.reshape(X_train.shape[0],X_train.shape[1] , 1)\n",
    "X_test = X_test.reshape(X_test.shape[0],X_test.shape[1] , 1)"
   ]
  },
  {
   "cell_type": "code",
   "execution_count": 29,
   "id": "f8732a2d",
   "metadata": {},
   "outputs": [
    {
     "name": "stdout",
     "output_type": "stream",
     "text": [
      "(1586, 160, 1)\n",
      "(1586,)\n"
     ]
    },
    {
     "data": {
      "text/plain": [
       "(None, None)"
      ]
     },
     "execution_count": 29,
     "metadata": {},
     "output_type": "execute_result"
    }
   ],
   "source": [
    "print(X_train.shape), print(y_train.shape)"
   ]
  },
  {
   "cell_type": "code",
   "execution_count": 30,
   "id": "29d30983",
   "metadata": {},
   "outputs": [
    {
     "name": "stdout",
     "output_type": "stream",
     "text": [
      "(275, 160, 1)\n",
      "(275,)\n"
     ]
    },
    {
     "data": {
      "text/plain": [
       "(None, None)"
      ]
     },
     "execution_count": 30,
     "metadata": {},
     "output_type": "execute_result"
    }
   ],
   "source": [
    "print(X_test.shape), print(ytest.shape)"
   ]
  },
  {
   "cell_type": "code",
   "execution_count": 31,
   "id": "8784e8dc",
   "metadata": {},
   "outputs": [
    {
     "data": {
      "text/plain": [
       "array([[[0.49984286],\n",
       "        [0.50000002],\n",
       "        [0.50833071],\n",
       "        ...,\n",
       "        [0.67588809],\n",
       "        [0.70716759],\n",
       "        [0.71707015]],\n",
       "\n",
       "       [[0.50000002],\n",
       "        [0.50833071],\n",
       "        [0.56947507],\n",
       "        ...,\n",
       "        [0.70716759],\n",
       "        [0.71707015],\n",
       "        [0.70418112]],\n",
       "\n",
       "       [[0.50833071],\n",
       "        [0.56947507],\n",
       "        [0.57010375],\n",
       "        ...,\n",
       "        [0.71707015],\n",
       "        [0.70418112],\n",
       "        [0.71832759]],\n",
       "\n",
       "       ...,\n",
       "\n",
       "       [[0.61207172],\n",
       "        [0.59886832],\n",
       "        [0.57529083],\n",
       "        ...,\n",
       "        [0.38069791],\n",
       "        [0.38305568],\n",
       "        [0.38038353]],\n",
       "\n",
       "       [[0.59886832],\n",
       "        [0.57529083],\n",
       "        [0.54369694],\n",
       "        ...,\n",
       "        [0.38305568],\n",
       "        [0.38038353],\n",
       "        [0.38950019]],\n",
       "\n",
       "       [[0.57529083],\n",
       "        [0.54369694],\n",
       "        [0.54055334],\n",
       "        ...,\n",
       "        [0.38038353],\n",
       "        [0.38950019],\n",
       "        [0.3583779 ]]])"
      ]
     },
     "execution_count": 31,
     "metadata": {},
     "output_type": "execute_result"
    }
   ],
   "source": [
    "X_test"
   ]
  },
  {
   "cell_type": "code",
   "execution_count": 32,
   "id": "e4d85568",
   "metadata": {},
   "outputs": [
    {
     "data": {
      "text/plain": [
       "array([0.70418112, 0.71832759, 0.7276014 , 0.73074508, 0.73593216,\n",
       "       0.72650113, 0.72178564, 0.73404592, 0.73624647, 0.75369383,\n",
       "       0.78230118, 0.82489784, 0.85256213, 0.84753226, 0.85319088,\n",
       "       0.86435087, 0.86136436, 0.85036158, 0.86749449, 0.88337004,\n",
       "       0.86057851, 0.83024213, 0.86387934, 0.87786865, 0.87378184,\n",
       "       0.8843131 , 0.84973283, 0.82364047, 0.81751021, 0.84768948,\n",
       "       0.87283879, 0.87331032, 0.90663321, 0.85947822, 0.85381963,\n",
       "       0.87944045, 0.88588503, 0.87613962, 0.86639421, 0.85853505,\n",
       "       0.85963533, 0.86875199, 0.83873005, 0.83307143, 0.81216602,\n",
       "       0.80870798, 0.8006916 , 0.79864826, 0.78230118, 0.76815472,\n",
       "       0.75620876, 0.75510848, 0.76249611, 0.78780257, 0.78544487,\n",
       "       0.78843132, 0.76391077, 0.77679979, 0.79676201, 0.7936184 ,\n",
       "       0.81012269, 0.7951902 , 0.79613339, 0.80116324, 0.75856652,\n",
       "       0.76155299, 0.74740653, 0.71754169, 0.72587239, 0.75180764,\n",
       "       0.75888091, 0.76171021, 0.73781835, 0.76658286, 0.78968881,\n",
       "       0.82804157, 0.83637227, 0.80729339, 0.76139584, 0.7239862 ,\n",
       "       0.72901605, 0.75400821, 0.69757939, 0.72068537, 0.74316258,\n",
       "       0.7852877 , 0.78072937, 0.75589438, 0.74567751, 0.75746626,\n",
       "       0.77271299, 0.76642569, 0.79896257, 0.81892492, 0.81405227,\n",
       "       0.80776492, 0.75809501, 0.75605161, 0.74536313, 0.64130781,\n",
       "       0.63313428, 0.62134553, 0.64602331, 0.6284188 , 0.63690665,\n",
       "       0.62354608, 0.6152154 , 0.62983345, 0.62386047, 0.60232637,\n",
       "       0.59682493, 0.60106887, 0.61207172, 0.59886832, 0.57529083,\n",
       "       0.54369694, 0.54055334, 0.52342035, 0.5207482 , 0.52672118,\n",
       "       0.51964793, 0.49937127, 0.47044955, 0.45284504, 0.45017295,\n",
       "       0.44105629, 0.4787803 , 0.47862308, 0.49842821, 0.51005974,\n",
       "       0.49591327, 0.48082363, 0.47689405, 0.47249295, 0.45771774,\n",
       "       0.45677462, 0.45535997, 0.47705128, 0.46982086, 0.4739076 ,\n",
       "       0.47657975, 0.46243322, 0.45190191, 0.47862308, 0.45913239,\n",
       "       0.45033011, 0.4218799 , 0.40066019, 0.40207484, 0.40333227,\n",
       "       0.40804782, 0.41889345, 0.41244893, 0.38808554, 0.38399874,\n",
       "       0.36607985, 0.36686575, 0.36576548, 0.32709841, 0.33087083,\n",
       "       0.31688147, 0.3082364 , 0.31169445, 0.33417166, 0.36938068,\n",
       "       0.37896888, 0.35366236, 0.32175418, 0.36042125, 0.34627479,\n",
       "       0.34533167, 0.37441061, 0.36262187, 0.34313111, 0.34077334,\n",
       "       0.36105   , 0.34941847, 0.33668659, 0.31923925, 0.29739077,\n",
       "       0.29471862, 0.32961334, 0.33448604, 0.33857278, 0.33872999,\n",
       "       0.32395473, 0.30619307, 0.30462119, 0.28937439, 0.29346119,\n",
       "       0.32002515, 0.31609557, 0.29849105, 0.29896259, 0.31373785,\n",
       "       0.33574348, 0.36607985, 0.37346748, 0.36828042, 0.38384158,\n",
       "       0.3770827 , 0.38997173, 0.38651366, 0.39468721, 0.41936498,\n",
       "       0.39280102, 0.38792833, 0.39767372, 0.5652311 , 0.5811066 ,\n",
       "       0.57780575, 0.53473751, 0.50644454, 0.5187048 , 0.47893746,\n",
       "       0.50047154, 0.48836849, 0.54133924, 0.50534426, 0.51414653,\n",
       "       0.51980515, 0.54888402, 0.59242381, 0.56067277, 0.54432569,\n",
       "       0.55171334, 0.55029867, 0.55218486, 0.54794091, 0.55092742,\n",
       "       0.57136125, 0.56255895, 0.53363723, 0.52263438, 0.50424397,\n",
       "       0.48836849, 0.41983656, 0.3674945 , 0.38211256, 0.35900659,\n",
       "       0.3659227 , 0.38164103, 0.37488215, 0.34187361, 0.3638793 ,\n",
       "       0.40097456, 0.41119144, 0.40223199, 0.39751651, 0.4071047 ,\n",
       "       0.41103429, 0.4016033 , 0.41056275, 0.4154354 , 0.40113172,\n",
       "       0.39248666, 0.3618359 , 0.36482242, 0.37692554, 0.36702298,\n",
       "       0.37362465, 0.39138637, 0.38541339, 0.38777116, 0.39924554,\n",
       "       0.39578749, 0.38950019, 0.37393901, 0.3674945 , 0.38069791,\n",
       "       0.38305568, 0.38038353, 0.38950019, 0.3583779 , 0.29298967])"
      ]
     },
     "execution_count": 32,
     "metadata": {},
     "output_type": "execute_result"
    }
   ],
   "source": [
    "ytest"
   ]
  },
  {
   "cell_type": "code",
   "execution_count": 33,
   "id": "77e7a222",
   "metadata": {},
   "outputs": [],
   "source": [
    "np.random.seed(42)\n",
    "tf.random.set_seed(42)\n",
    "window_len = 160\n",
    "test_size = 0.2\n",
    "zero_base = True\n",
    "lstm_neurons = 100\n",
    "epochs = 100\n",
    "batch_size = 32\n",
    "loss = 'mse'\n",
    "dropout = 0.2\n",
    "optimizer = 'adam'\n",
    "activ_func = \"relu\""
   ]
  },
  {
   "cell_type": "code",
   "execution_count": 34,
   "id": "084c168b",
   "metadata": {},
   "outputs": [],
   "source": [
    "# model = Sequential()\n",
    "# model.add(LSTM(100, input_shape=(X_train.shape[1], X_train.shape[2])))\n",
    "# model.add(Dropout(dropout))\n",
    "# model.add(Dense(units=1))\n",
    "# model.add(Activation(activ_func))\n",
    "# model.compile(loss=loss, optimizer=optimizer)\n",
    "# model.summary()"
   ]
  },
  {
   "cell_type": "code",
   "execution_count": 35,
   "id": "76e505f6",
   "metadata": {},
   "outputs": [],
   "source": [
    "model=Sequential()\n",
    "model.add(LSTM(50,return_sequences=True,input_shape=(X_train.shape[1], X_train.shape[2])))\n",
    "model.add(LSTM(50,return_sequences=True))\n",
    "model.add(LSTM(50))\n",
    "model.add(Dense(1))\n",
    "model.compile(loss='mean_squared_error',optimizer='adam')"
   ]
  },
  {
   "cell_type": "code",
   "execution_count": 36,
   "id": "eba7e5d9",
   "metadata": {},
   "outputs": [
    {
     "name": "stdout",
     "output_type": "stream",
     "text": [
      "Epoch 1/100\n",
      "50/50 [==============================] - 20s 199ms/step - loss: 0.0089\n",
      "Epoch 2/100\n",
      "50/50 [==============================] - 9s 174ms/step - loss: 0.0022\n",
      "Epoch 3/100\n",
      "50/50 [==============================] - 10s 201ms/step - loss: 0.0019\n",
      "Epoch 4/100\n",
      "50/50 [==============================] - 11s 228ms/step - loss: 0.0016\n",
      "Epoch 5/100\n",
      "50/50 [==============================] - 12s 240ms/step - loss: 0.0015\n",
      "Epoch 6/100\n",
      "50/50 [==============================] - 12s 237ms/step - loss: 0.0014\n",
      "Epoch 7/100\n",
      "50/50 [==============================] - 12s 240ms/step - loss: 0.0013\n",
      "Epoch 8/100\n",
      "50/50 [==============================] - 11s 221ms/step - loss: 0.0011\n",
      "Epoch 9/100\n",
      "50/50 [==============================] - 10s 195ms/step - loss: 0.0010\n",
      "Epoch 10/100\n",
      "50/50 [==============================] - 10s 197ms/step - loss: 9.8106e-04\n",
      "Epoch 11/100\n",
      "50/50 [==============================] - 10s 195ms/step - loss: 8.8041e-04\n",
      "Epoch 12/100\n",
      "50/50 [==============================] - 9s 184ms/step - loss: 7.9453e-04\n",
      "Epoch 13/100\n",
      "50/50 [==============================] - 9s 183ms/step - loss: 8.0465e-04\n",
      "Epoch 14/100\n",
      "50/50 [==============================] - 9s 181ms/step - loss: 8.2457e-04\n",
      "Epoch 15/100\n",
      "50/50 [==============================] - 9s 185ms/step - loss: 8.6283e-04\n",
      "Epoch 16/100\n",
      "50/50 [==============================] - 10s 200ms/step - loss: 6.9432e-04\n",
      "Epoch 17/100\n",
      "50/50 [==============================] - 10s 206ms/step - loss: 6.0090e-04\n",
      "Epoch 18/100\n",
      "50/50 [==============================] - 10s 199ms/step - loss: 5.8616e-04\n",
      "Epoch 19/100\n",
      "50/50 [==============================] - 10s 198ms/step - loss: 5.3721e-04\n",
      "Epoch 20/100\n",
      "50/50 [==============================] - 10s 196ms/step - loss: 5.5360e-04\n",
      "Epoch 21/100\n",
      "50/50 [==============================] - 10s 191ms/step - loss: 5.0966e-04\n",
      "Epoch 22/100\n",
      "50/50 [==============================] - 9s 188ms/step - loss: 4.5386e-04\n",
      "Epoch 23/100\n",
      "50/50 [==============================] - 10s 192ms/step - loss: 4.4392e-04\n",
      "Epoch 24/100\n",
      "50/50 [==============================] - 9s 187ms/step - loss: 4.6154e-04\n",
      "Epoch 25/100\n",
      "50/50 [==============================] - 9s 180ms/step - loss: 5.0180e-04\n",
      "Epoch 26/100\n",
      "50/50 [==============================] - 9s 180ms/step - loss: 4.2347e-04\n",
      "Epoch 27/100\n",
      "50/50 [==============================] - 9s 176ms/step - loss: 3.9694e-04\n",
      "Epoch 28/100\n",
      "50/50 [==============================] - 10s 195ms/step - loss: 3.6723e-04\n",
      "Epoch 29/100\n",
      "50/50 [==============================] - 10s 196ms/step - loss: 3.6044e-04\n",
      "Epoch 30/100\n",
      "50/50 [==============================] - 9s 187ms/step - loss: 4.4531e-04\n",
      "Epoch 31/100\n",
      "50/50 [==============================] - 9s 185ms/step - loss: 4.4573e-04\n",
      "Epoch 32/100\n",
      "50/50 [==============================] - 9s 175ms/step - loss: 3.5188e-04\n",
      "Epoch 33/100\n",
      "50/50 [==============================] - 9s 174ms/step - loss: 3.3206e-04\n",
      "Epoch 34/100\n",
      "50/50 [==============================] - 9s 179ms/step - loss: 3.2563e-04\n",
      "Epoch 35/100\n",
      "50/50 [==============================] - 10s 194ms/step - loss: 3.1114e-04\n",
      "Epoch 36/100\n",
      "50/50 [==============================] - 10s 193ms/step - loss: 3.3257e-04\n",
      "Epoch 37/100\n",
      "50/50 [==============================] - 10s 190ms/step - loss: 3.2033e-04\n",
      "Epoch 38/100\n",
      "50/50 [==============================] - 9s 186ms/step - loss: 3.2327e-04\n",
      "Epoch 39/100\n",
      "50/50 [==============================] - 9s 188ms/step - loss: 3.2549e-04\n",
      "Epoch 40/100\n",
      "50/50 [==============================] - 9s 181ms/step - loss: 3.5195e-04\n",
      "Epoch 41/100\n",
      "50/50 [==============================] - 10s 193ms/step - loss: 3.2738e-04\n",
      "Epoch 42/100\n",
      "50/50 [==============================] - 10s 196ms/step - loss: 3.1537e-04\n",
      "Epoch 43/100\n",
      "50/50 [==============================] - 9s 185ms/step - loss: 3.4473e-04\n",
      "Epoch 44/100\n",
      "50/50 [==============================] - 9s 178ms/step - loss: 3.5463e-04\n",
      "Epoch 45/100\n",
      "50/50 [==============================] - 9s 186ms/step - loss: 3.1079e-04\n",
      "Epoch 46/100\n",
      "50/50 [==============================] - 9s 175ms/step - loss: 3.0271e-04\n",
      "Epoch 47/100\n",
      "50/50 [==============================] - 9s 175ms/step - loss: 3.0951e-04\n",
      "Epoch 48/100\n",
      "50/50 [==============================] - 9s 183ms/step - loss: 3.1942e-04\n",
      "Epoch 49/100\n",
      "50/50 [==============================] - 9s 189ms/step - loss: 3.1559e-04\n",
      "Epoch 50/100\n",
      "50/50 [==============================] - 9s 174ms/step - loss: 3.1633e-04\n",
      "Epoch 51/100\n",
      "50/50 [==============================] - 9s 175ms/step - loss: 3.3302e-04\n",
      "Epoch 52/100\n",
      "50/50 [==============================] - 9s 175ms/step - loss: 3.0046e-04\n",
      "Epoch 53/100\n",
      "50/50 [==============================] - 9s 175ms/step - loss: 2.9651e-04\n",
      "Epoch 54/100\n",
      "50/50 [==============================] - 9s 187ms/step - loss: 2.9334e-04\n",
      "Epoch 55/100\n",
      "50/50 [==============================] - 10s 193ms/step - loss: 3.0842e-04\n",
      "Epoch 56/100\n",
      "50/50 [==============================] - 9s 187ms/step - loss: 3.0504e-04\n",
      "Epoch 57/100\n",
      "50/50 [==============================] - 10s 201ms/step - loss: 3.1009e-04\n",
      "Epoch 58/100\n",
      "50/50 [==============================] - 10s 191ms/step - loss: 3.1603e-04\n",
      "Epoch 59/100\n",
      "50/50 [==============================] - 9s 184ms/step - loss: 3.3213e-04\n",
      "Epoch 60/100\n",
      "50/50 [==============================] - 9s 187ms/step - loss: 2.9012e-04\n",
      "Epoch 61/100\n",
      "50/50 [==============================] - 9s 181ms/step - loss: 3.3814e-04\n",
      "Epoch 62/100\n",
      "50/50 [==============================] - 10s 192ms/step - loss: 3.4588e-04\n",
      "Epoch 63/100\n",
      "50/50 [==============================] - 9s 179ms/step - loss: 3.0730e-04\n",
      "Epoch 64/100\n",
      "50/50 [==============================] - 9s 177ms/step - loss: 2.9624e-04\n",
      "Epoch 65/100\n",
      "50/50 [==============================] - 9s 178ms/step - loss: 3.0710e-04\n",
      "Epoch 66/100\n",
      "50/50 [==============================] - 9s 178ms/step - loss: 3.0181e-04\n",
      "Epoch 67/100\n",
      "50/50 [==============================] - 10s 207ms/step - loss: 3.1137e-04\n",
      "Epoch 68/100\n",
      "50/50 [==============================] - 10s 209ms/step - loss: 2.9225e-04\n",
      "Epoch 69/100\n",
      "50/50 [==============================] - 10s 204ms/step - loss: 2.9464e-04\n",
      "Epoch 70/100\n",
      "50/50 [==============================] - 9s 186ms/step - loss: 2.9210e-04\n",
      "Epoch 71/100\n",
      "50/50 [==============================] - 9s 183ms/step - loss: 2.9882e-04\n",
      "Epoch 72/100\n",
      "50/50 [==============================] - 9s 180ms/step - loss: 3.1498e-04\n",
      "Epoch 73/100\n",
      "50/50 [==============================] - 9s 181ms/step - loss: 3.0356e-04\n",
      "Epoch 74/100\n",
      "50/50 [==============================] - 9s 181ms/step - loss: 2.9800e-04\n",
      "Epoch 75/100\n",
      "50/50 [==============================] - 10s 190ms/step - loss: 3.0364e-04\n",
      "Epoch 76/100\n",
      "50/50 [==============================] - 9s 177ms/step - loss: 3.0664e-04\n",
      "Epoch 77/100\n",
      "50/50 [==============================] - 9s 177ms/step - loss: 3.0272e-04\n",
      "Epoch 78/100\n",
      "50/50 [==============================] - 9s 178ms/step - loss: 2.9531e-04\n",
      "Epoch 79/100\n",
      "50/50 [==============================] - 10s 191ms/step - loss: 2.8267e-04\n",
      "Epoch 80/100\n",
      "50/50 [==============================] - 11s 213ms/step - loss: 3.0950e-04\n",
      "Epoch 81/100\n",
      "50/50 [==============================] - 11s 211ms/step - loss: 3.3205e-04\n",
      "Epoch 82/100\n",
      "50/50 [==============================] - 11s 228ms/step - loss: 2.9137e-04\n",
      "Epoch 83/100\n",
      "50/50 [==============================] - 11s 226ms/step - loss: 2.8338e-04\n",
      "Epoch 84/100\n",
      "50/50 [==============================] - 10s 207ms/step - loss: 3.1293e-04\n",
      "Epoch 85/100\n",
      "50/50 [==============================] - 10s 207ms/step - loss: 3.0505e-04\n",
      "Epoch 86/100\n",
      "50/50 [==============================] - 10s 198ms/step - loss: 3.3419e-04\n",
      "Epoch 87/100\n",
      "50/50 [==============================] - 10s 197ms/step - loss: 3.1750e-04\n",
      "Epoch 88/100\n",
      "50/50 [==============================] - 9s 182ms/step - loss: 3.2350e-04\n",
      "Epoch 89/100\n",
      "50/50 [==============================] - 9s 182ms/step - loss: 3.0021e-04\n",
      "Epoch 90/100\n",
      "50/50 [==============================] - 9s 181ms/step - loss: 2.8179e-04\n",
      "Epoch 91/100\n",
      "50/50 [==============================] - 9s 188ms/step - loss: 2.8776e-04\n",
      "Epoch 92/100\n",
      "50/50 [==============================] - 10s 206ms/step - loss: 2.8362e-04\n",
      "Epoch 93/100\n",
      "50/50 [==============================] - 10s 207ms/step - loss: 2.9482e-04\n",
      "Epoch 94/100\n",
      "50/50 [==============================] - 10s 207ms/step - loss: 2.7510e-04\n",
      "Epoch 95/100\n"
     ]
    },
    {
     "name": "stdout",
     "output_type": "stream",
     "text": [
      "50/50 [==============================] - 9s 186ms/step - loss: 2.7771e-04\n",
      "Epoch 96/100\n",
      "50/50 [==============================] - 9s 182ms/step - loss: 2.9575e-04\n",
      "Epoch 97/100\n",
      "50/50 [==============================] - 9s 175ms/step - loss: 3.1323e-04\n",
      "Epoch 98/100\n",
      "50/50 [==============================] - 9s 175ms/step - loss: 2.9269e-04\n",
      "Epoch 99/100\n",
      "50/50 [==============================] - 9s 182ms/step - loss: 3.0467e-04\n",
      "Epoch 100/100\n",
      "50/50 [==============================] - 9s 178ms/step - loss: 2.7097e-04\n"
     ]
    }
   ],
   "source": [
    "history = model.fit(\n",
    "    X_train, y_train, epochs=epochs, batch_size=batch_size, verbose=1, shuffle=True)"
   ]
  },
  {
   "cell_type": "code",
   "execution_count": 37,
   "id": "baa9a840",
   "metadata": {},
   "outputs": [
    {
     "name": "stdout",
     "output_type": "stream",
     "text": [
      "50/50 [==============================] - 6s 73ms/step\n",
      "9/9 [==============================] - 1s 67ms/step\n"
     ]
    }
   ],
   "source": [
    "### Lets Do the prediction and check performance metrics\n",
    "train_predict=model.predict(X_train)\n",
    "test_predict=model.predict(X_test)"
   ]
  },
  {
   "cell_type": "code",
   "execution_count": 38,
   "id": "bdb24023",
   "metadata": {},
   "outputs": [
    {
     "data": {
      "text/plain": [
       "array([[0.6920206 ],\n",
       "       [0.6806201 ],\n",
       "       [0.69950294],\n",
       "       [0.70359117],\n",
       "       [0.70695627],\n",
       "       [0.7125636 ],\n",
       "       [0.7021043 ],\n",
       "       [0.7008558 ],\n",
       "       [0.7131286 ],\n",
       "       [0.7113568 ],\n",
       "       [0.7304468 ],\n",
       "       [0.75434905],\n",
       "       [0.7917197 ],\n",
       "       [0.8111981 ],\n",
       "       [0.8060322 ],\n",
       "       [0.81897193],\n",
       "       [0.82737213],\n",
       "       [0.8229857 ],\n",
       "       [0.81510425],\n",
       "       [0.8347271 ],\n",
       "       [0.8416286 ],\n",
       "       [0.8171369 ],\n",
       "       [0.7967658 ],\n",
       "       [0.8350056 ],\n",
       "       [0.8304162 ],\n",
       "       [0.8297715 ],\n",
       "       [0.8421005 ],\n",
       "       [0.8026362 ],\n",
       "       [0.7916415 ],\n",
       "       [0.78504294],\n",
       "       [0.81329083],\n",
       "       [0.8259075 ],\n",
       "       [0.82401377],\n",
       "       [0.86116236],\n",
       "       [0.80190647],\n",
       "       [0.82322526],\n",
       "       [0.83712006],\n",
       "       [0.8366821 ],\n",
       "       [0.82920814],\n",
       "       [0.8233572 ],\n",
       "       [0.81671685],\n",
       "       [0.8186404 ],\n",
       "       [0.8253428 ],\n",
       "       [0.79167825],\n",
       "       [0.798662  ],\n",
       "       [0.77111286],\n",
       "       [0.7752222 ],\n",
       "       [0.7622013 ],\n",
       "       [0.7628221 ],\n",
       "       [0.74413884],\n",
       "       [0.7348243 ],\n",
       "       [0.72343177],\n",
       "       [0.72388434],\n",
       "       [0.7296601 ],\n",
       "       [0.75327075],\n",
       "       [0.744394  ],\n",
       "       [0.7533602 ],\n",
       "       [0.7266585 ],\n",
       "       [0.7494242 ],\n",
       "       [0.7610667 ],\n",
       "       [0.7553382 ],\n",
       "       [0.7763764 ],\n",
       "       [0.75521153],\n",
       "       [0.7653193 ],\n",
       "       [0.7664575 ],\n",
       "       [0.7222414 ],\n",
       "       [0.7397086 ],\n",
       "       [0.7152068 ],\n",
       "       [0.69017345],\n",
       "       [0.70397156],\n",
       "       [0.7232547 ],\n",
       "       [0.72452104],\n",
       "       [0.7292343 ],\n",
       "       [0.70484334],\n",
       "       [0.7426352 ],\n",
       "       [0.75366557],\n",
       "       [0.7915437 ],\n",
       "       [0.7915332 ],\n",
       "       [0.7682024 ],\n",
       "       [0.7321072 ],\n",
       "       [0.7025451 ],\n",
       "       [0.711168  ],\n",
       "       [0.7287222 ],\n",
       "       [0.6623661 ],\n",
       "       [0.70648444],\n",
       "       [0.712575  ],\n",
       "       [0.7542591 ],\n",
       "       [0.7396316 ],\n",
       "       [0.72385496],\n",
       "       [0.7197116 ],\n",
       "       [0.7317405 ],\n",
       "       [0.74274075],\n",
       "       [0.73389673],\n",
       "       [0.7712989 ],\n",
       "       [0.7800013 ],\n",
       "       [0.7759983 ],\n",
       "       [0.77437955],\n",
       "       [0.72468984],\n",
       "       [0.73790765],\n",
       "       [0.717126  ],\n",
       "       [0.60987884],\n",
       "       [0.6279004 ],\n",
       "       [0.60095537],\n",
       "       [0.6298165 ],\n",
       "       [0.60221535],\n",
       "       [0.61795336],\n",
       "       [0.59969586],\n",
       "       [0.59549886],\n",
       "       [0.6114717 ],\n",
       "       [0.6021089 ],\n",
       "       [0.5828367 ],\n",
       "       [0.5812577 ],\n",
       "       [0.58537877],\n",
       "       [0.59602654],\n",
       "       [0.58066577],\n",
       "       [0.55958647],\n",
       "       [0.5294599 ],\n",
       "       [0.52983403],\n",
       "       [0.5101957 ],\n",
       "       [0.50966096],\n",
       "       [0.51531386],\n",
       "       [0.50706357],\n",
       "       [0.48704246],\n",
       "       [0.45888266],\n",
       "       [0.44277355],\n",
       "       [0.44091997],\n",
       "       [0.43178234],\n",
       "       [0.47120336],\n",
       "       [0.46914986],\n",
       "       [0.4900726 ],\n",
       "       [0.5005857 ],\n",
       "       [0.48576263],\n",
       "       [0.47213653],\n",
       "       [0.4693837 ],\n",
       "       [0.4652445 ],\n",
       "       [0.4506023 ],\n",
       "       [0.45076787],\n",
       "       [0.44925252],\n",
       "       [0.47160497],\n",
       "       [0.46285728],\n",
       "       [0.467778  ],\n",
       "       [0.47004998],\n",
       "       [0.45545343],\n",
       "       [0.44568765],\n",
       "       [0.47358015],\n",
       "       [0.45211628],\n",
       "       [0.44485772],\n",
       "       [0.4158858 ],\n",
       "       [0.39533645],\n",
       "       [0.39723447],\n",
       "       [0.39888802],\n",
       "       [0.4039177 ],\n",
       "       [0.4148211 ],\n",
       "       [0.40817544],\n",
       "       [0.3835193 ],\n",
       "       [0.3791998 ],\n",
       "       [0.3616785 ],\n",
       "       [0.3624637 ],\n",
       "       [0.36208582],\n",
       "       [0.32457587],\n",
       "       [0.32619122],\n",
       "       [0.31399533],\n",
       "       [0.3052529 ],\n",
       "       [0.3083029 ],\n",
       "       [0.33054486],\n",
       "       [0.36662582],\n",
       "       [0.37785402],\n",
       "       [0.35207364],\n",
       "       [0.31856784],\n",
       "       [0.35393202],\n",
       "       [0.34440404],\n",
       "       [0.3427433 ],\n",
       "       [0.3711187 ],\n",
       "       [0.3613687 ],\n",
       "       [0.34108505],\n",
       "       [0.33742017],\n",
       "       [0.35741463],\n",
       "       [0.3478286 ],\n",
       "       [0.3345218 ],\n",
       "       [0.31677225],\n",
       "       [0.29489335],\n",
       "       [0.29105926],\n",
       "       [0.3248341 ],\n",
       "       [0.3341517 ],\n",
       "       [0.33774066],\n",
       "       [0.33715412],\n",
       "       [0.32223517],\n",
       "       [0.30375353],\n",
       "       [0.3010021 ],\n",
       "       [0.287528  ],\n",
       "       [0.29047182],\n",
       "       [0.31673056],\n",
       "       [0.31651282],\n",
       "       [0.29867122],\n",
       "       [0.29642943],\n",
       "       [0.31050467],\n",
       "       [0.33337137],\n",
       "       [0.36435655],\n",
       "       [0.37288004],\n",
       "       [0.36675882],\n",
       "       [0.38082096],\n",
       "       [0.37466297],\n",
       "       [0.38708422],\n",
       "       [0.38424033],\n",
       "       [0.392295  ],\n",
       "       [0.41710052],\n",
       "       [0.3906434 ],\n",
       "       [0.38529077],\n",
       "       [0.39492068],\n",
       "       [0.56084627],\n",
       "       [0.5701656 ],\n",
       "       [0.56854844],\n",
       "       [0.5260149 ],\n",
       "       [0.5023933 ],\n",
       "       [0.5167795 ],\n",
       "       [0.4728522 ],\n",
       "       [0.4999663 ],\n",
       "       [0.48365924],\n",
       "       [0.539705  ],\n",
       "       [0.49608865],\n",
       "       [0.5107661 ],\n",
       "       [0.5139095 ],\n",
       "       [0.54340917],\n",
       "       [0.5845932 ],\n",
       "       [0.54757375],\n",
       "       [0.5381497 ],\n",
       "       [0.5463463 ],\n",
       "       [0.5431902 ],\n",
       "       [0.5457894 ],\n",
       "       [0.5409004 ],\n",
       "       [0.54455626],\n",
       "       [0.564839  ],\n",
       "       [0.55269575],\n",
       "       [0.52491695],\n",
       "       [0.51673687],\n",
       "       [0.49718422],\n",
       "       [0.4820613 ],\n",
       "       [0.4109615 ],\n",
       "       [0.3611182 ],\n",
       "       [0.3762782 ],\n",
       "       [0.35394496],\n",
       "       [0.3608    ],\n",
       "       [0.3769345 ],\n",
       "       [0.37085852],\n",
       "       [0.3377299 ],\n",
       "       [0.35723397],\n",
       "       [0.39563188],\n",
       "       [0.40748248],\n",
       "       [0.39817333],\n",
       "       [0.3928495 ],\n",
       "       [0.40237418],\n",
       "       [0.40677947],\n",
       "       [0.3976147 ],\n",
       "       [0.40672883],\n",
       "       [0.41180807],\n",
       "       [0.39742082],\n",
       "       [0.3886475 ],\n",
       "       [0.3579089 ],\n",
       "       [0.36039087],\n",
       "       [0.37312597],\n",
       "       [0.36419943],\n",
       "       [0.37017876],\n",
       "       [0.38786766],\n",
       "       [0.38238052],\n",
       "       [0.3841317 ],\n",
       "       [0.39543155],\n",
       "       [0.39228737],\n",
       "       [0.38596374],\n",
       "       [0.37047735],\n",
       "       [0.3639651 ],\n",
       "       [0.3773134 ],\n",
       "       [0.3806225 ],\n",
       "       [0.37805358],\n",
       "       [0.38679248],\n",
       "       [0.3561017 ]], dtype=float32)"
      ]
     },
     "execution_count": 38,
     "metadata": {},
     "output_type": "execute_result"
    }
   ],
   "source": [
    "test_predict"
   ]
  },
  {
   "cell_type": "code",
   "execution_count": 39,
   "id": "b47aed97",
   "metadata": {},
   "outputs": [
    {
     "data": {
      "text/plain": [
       "0.016442843087485223"
      ]
     },
     "execution_count": 39,
     "metadata": {},
     "output_type": "execute_result"
    }
   ],
   "source": [
    "### Calculate RMSE performance metrics\n",
    "import math\n",
    "from sklearn.metrics import mean_squared_error\n",
    "math.sqrt(mean_squared_error(y_train,train_predict))"
   ]
  },
  {
   "cell_type": "code",
   "execution_count": 40,
   "id": "11bffbf7",
   "metadata": {},
   "outputs": [
    {
     "data": {
      "text/plain": [
       "0.030682119473707265"
      ]
     },
     "execution_count": 40,
     "metadata": {},
     "output_type": "execute_result"
    }
   ],
   "source": [
    "### Test Data RMSE\n",
    "math.sqrt(mean_squared_error(ytest,test_predict))"
   ]
  },
  {
   "cell_type": "code",
   "execution_count": 41,
   "id": "7288a85c",
   "metadata": {},
   "outputs": [
    {
     "data": {
      "text/plain": [
       "0.023134586044822797"
      ]
     },
     "execution_count": 41,
     "metadata": {},
     "output_type": "execute_result"
    }
   ],
   "source": [
    "# Calculate the Mean Absolute Error\n",
    "from sklearn.metrics import mean_absolute_error\n",
    "mae=mean_absolute_error(ytest,test_predict)\n",
    "mae"
   ]
  },
  {
   "cell_type": "code",
   "execution_count": 42,
   "id": "99f6f381",
   "metadata": {},
   "outputs": [
    {
     "data": {
      "text/plain": [
       "0.03993560146233313"
      ]
     },
     "execution_count": 42,
     "metadata": {},
     "output_type": "execute_result"
    }
   ],
   "source": [
    "# Calculate Mean Absolute error using Sklearn library\n",
    "from sklearn.metrics import mean_absolute_percentage_error\n",
    "mean_absolute_percentage_error(ytest,test_predict)"
   ]
  },
  {
   "cell_type": "code",
   "execution_count": 43,
   "id": "c782d07e",
   "metadata": {},
   "outputs": [
    {
     "name": "stdout",
     "output_type": "stream",
     "text": [
      "3.99\n"
     ]
    }
   ],
   "source": [
    "# Manual calculation of Mean Absolute Percentage error.\n",
    "total = 0\n",
    "for i,j in zip(ytest, test_predict):\n",
    "    value = abs(i-j)/abs(i)\n",
    "    total+= value\n",
    "#     print(total)\n",
    "error = float(total*100/(len(ytest))) # Calculate MAPE\n",
    "mape = round(error,2) # round to 3 significant figures\n",
    "print(mape)"
   ]
  },
  {
   "cell_type": "code",
   "execution_count": 44,
   "id": "af9ee899",
   "metadata": {},
   "outputs": [],
   "source": [
    "##Transformback to original form\n",
    "train_predict=scaler.inverse_transform(train_predict)\n",
    "test_predict=scaler.inverse_transform(test_predict)"
   ]
  },
  {
   "cell_type": "code",
   "execution_count": 45,
   "id": "3bc7859e",
   "metadata": {},
   "outputs": [
    {
     "data": {
      "text/plain": [
       "array([[58.036346],\n",
       "       [57.311047],\n",
       "       [58.512375],\n",
       "       [58.77247 ],\n",
       "       [58.986553],\n",
       "       [59.343292],\n",
       "       [58.67787 ],\n",
       "       [58.598442],\n",
       "       [59.379242],\n",
       "       [59.266518],\n",
       "       [60.48102 ],\n",
       "       [62.001682],\n",
       "       [64.3792  ],\n",
       "       [65.61842 ],\n",
       "       [65.289764],\n",
       "       [66.11299 ],\n",
       "       [66.647415],\n",
       "       [66.368355],\n",
       "       [65.86693 ],\n",
       "       [67.11534 ],\n",
       "       [67.55441 ],\n",
       "       [65.99625 ],\n",
       "       [64.70024 ],\n",
       "       [67.13306 ],\n",
       "       [66.84107 ],\n",
       "       [66.800064],\n",
       "       [67.584435],\n",
       "       [65.073715],\n",
       "       [64.37423 ],\n",
       "       [63.954433],\n",
       "       [65.75156 ],\n",
       "       [66.55424 ],\n",
       "       [66.433754],\n",
       "       [68.79715 ],\n",
       "       [65.02728 ],\n",
       "       [66.38359 ],\n",
       "       [67.26758 ],\n",
       "       [67.23971 ],\n",
       "       [66.76422 ],\n",
       "       [66.39198 ],\n",
       "       [65.96953 ],\n",
       "       [66.0919  ],\n",
       "       [66.5183  ],\n",
       "       [64.37657 ],\n",
       "       [64.82088 ],\n",
       "       [63.068195],\n",
       "       [63.32963 ],\n",
       "       [62.501244],\n",
       "       [62.540737],\n",
       "       [61.35211 ],\n",
       "       [60.759518],\n",
       "       [60.034725],\n",
       "       [60.06352 ],\n",
       "       [60.430973],\n",
       "       [61.933083],\n",
       "       [61.368343],\n",
       "       [61.938774],\n",
       "       [60.240013],\n",
       "       [61.688366],\n",
       "       [62.429058],\n",
       "       [62.064613],\n",
       "       [63.403065],\n",
       "       [62.056557],\n",
       "       [62.69961 ],\n",
       "       [62.772022],\n",
       "       [59.958996],\n",
       "       [61.07026 ],\n",
       "       [59.511456],\n",
       "       [57.91883 ],\n",
       "       [58.79667 ],\n",
       "       [60.02346 ],\n",
       "       [60.104027],\n",
       "       [60.40388 ],\n",
       "       [58.85213 ],\n",
       "       [61.256447],\n",
       "       [61.958202],\n",
       "       [64.36801 ],\n",
       "       [64.36734 ],\n",
       "       [62.883034],\n",
       "       [60.58666 ],\n",
       "       [58.705917],\n",
       "       [59.254505],\n",
       "       [60.371304],\n",
       "       [56.149727],\n",
       "       [58.956535],\n",
       "       [59.34402 ],\n",
       "       [61.99596 ],\n",
       "       [61.06536 ],\n",
       "       [60.06165 ],\n",
       "       [59.79805 ],\n",
       "       [60.563328],\n",
       "       [61.263165],\n",
       "       [60.70051 ],\n",
       "       [63.080032],\n",
       "       [63.63368 ],\n",
       "       [63.37901 ],\n",
       "       [63.276024],\n",
       "       [60.114765],\n",
       "       [60.95568 ],\n",
       "       [59.633553],\n",
       "       [52.81049 ],\n",
       "       [53.957024],\n",
       "       [52.24278 ],\n",
       "       [54.078922],\n",
       "       [52.322937],\n",
       "       [53.324192],\n",
       "       [52.162647],\n",
       "       [51.895634],\n",
       "       [52.911827],\n",
       "       [52.316166],\n",
       "       [51.09007 ],\n",
       "       [50.989613],\n",
       "       [51.251793],\n",
       "       [51.929207],\n",
       "       [50.951954],\n",
       "       [49.61089 ],\n",
       "       [47.694237],\n",
       "       [47.71804 ],\n",
       "       [46.468647],\n",
       "       [46.434628],\n",
       "       [46.794266],\n",
       "       [46.269382],\n",
       "       [44.99564 ],\n",
       "       [43.204113],\n",
       "       [42.179253],\n",
       "       [42.06133 ],\n",
       "       [41.479992],\n",
       "       [43.987957],\n",
       "       [43.857315],\n",
       "       [45.188416],\n",
       "       [45.857258],\n",
       "       [44.91422 ],\n",
       "       [44.047325],\n",
       "       [43.87219 ],\n",
       "       [43.608856],\n",
       "       [42.677315],\n",
       "       [42.68785 ],\n",
       "       [42.591446],\n",
       "       [44.013508],\n",
       "       [43.45698 ],\n",
       "       [43.770035],\n",
       "       [43.914577],\n",
       "       [42.985947],\n",
       "       [42.364647],\n",
       "       [44.139168],\n",
       "       [42.773636],\n",
       "       [42.311848],\n",
       "       [40.468655],\n",
       "       [39.161304],\n",
       "       [39.28206 ],\n",
       "       [39.387257],\n",
       "       [39.707245],\n",
       "       [40.400917],\n",
       "       [39.978123],\n",
       "       [38.409496],\n",
       "       [38.13469 ],\n",
       "       [37.01999 ],\n",
       "       [37.06994 ],\n",
       "       [37.0459  ],\n",
       "       [34.65952 ],\n",
       "       [34.762287],\n",
       "       [33.98638 ],\n",
       "       [33.430187],\n",
       "       [33.624233],\n",
       "       [35.039265],\n",
       "       [37.334736],\n",
       "       [38.049072],\n",
       "       [36.408924],\n",
       "       [34.277287],\n",
       "       [36.527153],\n",
       "       [35.920982],\n",
       "       [35.81533 ],\n",
       "       [37.62057 ],\n",
       "       [37.000275],\n",
       "       [35.70983 ],\n",
       "       [35.47667 ],\n",
       "       [36.74872 ],\n",
       "       [36.138855],\n",
       "       [35.29228 ],\n",
       "       [34.16305 ],\n",
       "       [32.771114],\n",
       "       [32.527187],\n",
       "       [34.675945],\n",
       "       [35.26873 ],\n",
       "       [35.49706 ],\n",
       "       [35.459747],\n",
       "       [34.5106  ],\n",
       "       [33.3348  ],\n",
       "       [33.15975 ],\n",
       "       [32.302532],\n",
       "       [32.48982 ],\n",
       "       [34.160397],\n",
       "       [34.146545],\n",
       "       [33.011463],\n",
       "       [32.86884 ],\n",
       "       [33.764305],\n",
       "       [35.219086],\n",
       "       [37.190365],\n",
       "       [37.732628],\n",
       "       [37.343193],\n",
       "       [38.23783 ],\n",
       "       [37.846058],\n",
       "       [38.6363  ],\n",
       "       [38.455368],\n",
       "       [38.967808],\n",
       "       [40.545937],\n",
       "       [38.862732],\n",
       "       [38.522198],\n",
       "       [39.134853],\n",
       "       [49.691036],\n",
       "       [50.28393 ],\n",
       "       [50.18105 ],\n",
       "       [47.475067],\n",
       "       [45.97226 ],\n",
       "       [46.88751 ],\n",
       "       [44.092857],\n",
       "       [45.817856],\n",
       "       [44.7804  ],\n",
       "       [48.346027],\n",
       "       [45.57116 ],\n",
       "       [46.504936],\n",
       "       [46.70492 ],\n",
       "       [48.581688],\n",
       "       [51.201817],\n",
       "       [48.846638],\n",
       "       [48.24708 ],\n",
       "       [48.76855 ],\n",
       "       [48.567757],\n",
       "       [48.73312 ],\n",
       "       [48.42208 ],\n",
       "       [48.654667],\n",
       "       [49.945057],\n",
       "       [49.1725  ],\n",
       "       [47.405212],\n",
       "       [46.884796],\n",
       "       [45.640858],\n",
       "       [44.67874 ],\n",
       "       [40.15537 ],\n",
       "       [36.984337],\n",
       "       [37.94882 ],\n",
       "       [36.527977],\n",
       "       [36.964096],\n",
       "       [37.990574],\n",
       "       [37.60402 ],\n",
       "       [35.496376],\n",
       "       [36.737225],\n",
       "       [39.1801  ],\n",
       "       [39.934036],\n",
       "       [39.341785],\n",
       "       [39.003082],\n",
       "       [39.609047],\n",
       "       [39.88931 ],\n",
       "       [39.306248],\n",
       "       [39.88609 ],\n",
       "       [40.20923 ],\n",
       "       [39.29391 ],\n",
       "       [38.735752],\n",
       "       [36.780163],\n",
       "       [36.93807 ],\n",
       "       [37.748272],\n",
       "       [37.180367],\n",
       "       [37.560772],\n",
       "       [38.686142],\n",
       "       [38.337048],\n",
       "       [38.44846 ],\n",
       "       [39.167355],\n",
       "       [38.96732 ],\n",
       "       [38.56501 ],\n",
       "       [37.57977 ],\n",
       "       [37.16546 ],\n",
       "       [38.01468 ],\n",
       "       [38.2252  ],\n",
       "       [38.061768],\n",
       "       [38.617737],\n",
       "       [36.665188]], dtype=float32)"
      ]
     },
     "execution_count": 45,
     "metadata": {},
     "output_type": "execute_result"
    }
   ],
   "source": [
    "test_predict"
   ]
  },
  {
   "cell_type": "code",
   "execution_count": 46,
   "id": "4ed02f56",
   "metadata": {},
   "outputs": [
    {
     "data": {
      "text/plain": [
       "(275, 1)"
      ]
     },
     "execution_count": 46,
     "metadata": {},
     "output_type": "execute_result"
    }
   ],
   "source": [
    "test_predict.shape"
   ]
  },
  {
   "cell_type": "code",
   "execution_count": 47,
   "id": "d8fef7b4",
   "metadata": {},
   "outputs": [
    {
     "data": {
      "text/plain": [
       "date\n",
       "2021-06-09    59.709999\n",
       "2021-06-10    60.299999\n",
       "2021-06-11    60.500000\n",
       "2021-06-14    60.830002\n",
       "2021-06-15    60.230000\n",
       "                ...    \n",
       "2022-07-06    38.209999\n",
       "2022-07-07    38.790001\n",
       "2022-07-08    36.810001\n",
       "2022-07-11    32.650002\n",
       "2022-07-12    34.060001\n",
       "Name: close, Length: 275, dtype: float64"
      ]
     },
     "execution_count": 47,
     "metadata": {},
     "output_type": "execute_result"
    }
   ],
   "source": [
    "targets = test[price_column][window_len+1:]\n",
    "targets"
   ]
  },
  {
   "cell_type": "code",
   "execution_count": 48,
   "id": "031f2558",
   "metadata": {},
   "outputs": [
    {
     "data": {
      "text/plain": [
       "date\n",
       "2021-06-09    58.036346\n",
       "2021-06-10    57.311047\n",
       "2021-06-11    58.512375\n",
       "2021-06-14    58.772469\n",
       "2021-06-15    58.986553\n",
       "                ...    \n",
       "2022-07-06    38.014679\n",
       "2022-07-07    38.225201\n",
       "2022-07-08    38.061768\n",
       "2022-07-11    38.617737\n",
       "2022-07-12    36.665188\n",
       "Length: 275, dtype: float32"
      ]
     },
     "execution_count": 48,
     "metadata": {},
     "output_type": "execute_result"
    }
   ],
   "source": [
    "preds = pd.Series(index=targets.index, data=test_predict.squeeze())\n",
    "preds"
   ]
  },
  {
   "cell_type": "code",
   "execution_count": 49,
   "id": "dd31f161",
   "metadata": {},
   "outputs": [
    {
     "data": {
      "image/png": "[encoded data removed]",
      "text/plain": [
       "<Figure size 936x504 with 1 Axes>"
      ]
     },
     "metadata": {
      "needs_background": "light"
     },
     "output_type": "display_data"
    }
   ],
   "source": [
    "def line_plot(line1, line2, label1=None, label2=None, title='', lw=2):\n",
    "    fig, ax = plt.subplots(1, figsize=(13, 7))\n",
    "    ax.plot(line1, label=label1, linewidth=lw)\n",
    "    ax.plot(line2, label=label2, linewidth=lw)\n",
    "    ax.set_ylabel('Price [USD]', fontsize=14)\n",
    "    ax.set_xlabel('Time', fontsize = 14)\n",
    "    ax.set_title(title, fontsize=16)\n",
    "    ax.legend(loc='best', fontsize=16)\n",
    "line_plot(train[\"close\"], test[\"close\"], 'Training Prices', 'Testing Prices', title='Project Outline')"
   ]
  },
  {
   "cell_type": "code",
   "execution_count": 50,
   "id": "039cec10",
   "metadata": {},
   "outputs": [
    {
     "data": {
      "image/png": "[encoded data removed]",
      "text/plain": [
       "<Figure size 936x504 with 1 Axes>"
      ]
     },
     "metadata": {
      "needs_background": "light"
     },
     "output_type": "display_data"
    }
   ],
   "source": [
    "line_plot(targets, preds, 'actual_value', 'predicted_value', lw=3)"
   ]
  },
  {
   "cell_type": "markdown",
   "id": "dfea169e",
   "metadata": {},
   "source": [
    "### Future Prediction for 30 days"
   ]
  },
  {
   "cell_type": "code",
   "execution_count": 51,
   "id": "4bd4cd7a",
   "metadata": {},
   "outputs": [
    {
     "data": {
      "text/plain": [
       "436"
      ]
     },
     "execution_count": 51,
     "metadata": {},
     "output_type": "execute_result"
    }
   ],
   "source": [
    "len(test)"
   ]
  },
  {
   "cell_type": "code",
   "execution_count": 52,
   "id": "919d9cbc",
   "metadata": {},
   "outputs": [
    {
     "data": {
      "text/plain": [
       "436"
      ]
     },
     "execution_count": 52,
     "metadata": {},
     "output_type": "execute_result"
    }
   ],
   "source": [
    "length = len(test_scaled)\n",
    "length"
   ]
  },
  {
   "cell_type": "code",
   "execution_count": 53,
   "id": "dade5e8c",
   "metadata": {},
   "outputs": [
    {
     "data": {
      "text/plain": [
       "(160, 1)"
      ]
     },
     "execution_count": 53,
     "metadata": {},
     "output_type": "execute_result"
    }
   ],
   "source": [
    "#Getting the last 100 days records\n",
    "fut_inp = test_scaled[length-160:]\n",
    "fut_inp.shape"
   ]
  },
  {
   "cell_type": "code",
   "execution_count": 54,
   "id": "21d4c39c",
   "metadata": {},
   "outputs": [],
   "source": [
    "fut_inp = fut_inp.reshape(1,-1)"
   ]
  },
  {
   "cell_type": "code",
   "execution_count": 55,
   "id": "8db22db2",
   "metadata": {},
   "outputs": [
    {
     "data": {
      "text/plain": [
       "(1, 160)"
      ]
     },
     "execution_count": 55,
     "metadata": {},
     "output_type": "execute_result"
    }
   ],
   "source": [
    "fut_inp.shape"
   ]
  },
  {
   "cell_type": "code",
   "execution_count": 56,
   "id": "73ce36f7",
   "metadata": {},
   "outputs": [
    {
     "data": {
      "text/plain": [
       "array([[0.54055334, 0.52342035, 0.5207482 , 0.52672118, 0.51964793,\n",
       "        0.49937127, 0.47044955, 0.45284504, 0.45017295, 0.44105629,\n",
       "        0.4787803 , 0.47862308, 0.49842821, 0.51005974, 0.49591327,\n",
       "        0.48082363, 0.47689405, 0.47249295, 0.45771774, 0.45677462,\n",
       "        0.45535997, 0.47705128, 0.46982086, 0.4739076 , 0.47657975,\n",
       "        0.46243322, 0.45190191, 0.47862308, 0.45913239, 0.45033011,\n",
       "        0.4218799 , 0.40066019, 0.40207484, 0.40333227, 0.40804782,\n",
       "        0.41889345, 0.41244893, 0.38808554, 0.38399874, 0.36607985,\n",
       "        0.36686575, 0.36576548, 0.32709841, 0.33087083, 0.31688147,\n",
       "        0.3082364 , 0.31169445, 0.33417166, 0.36938068, 0.37896888,\n",
       "        0.35366236, 0.32175418, 0.36042125, 0.34627479, 0.34533167,\n",
       "        0.37441061, 0.36262187, 0.34313111, 0.34077334, 0.36105   ,\n",
       "        0.34941847, 0.33668659, 0.31923925, 0.29739077, 0.29471862,\n",
       "        0.32961334, 0.33448604, 0.33857278, 0.33872999, 0.32395473,\n",
       "        0.30619307, 0.30462119, 0.28937439, 0.29346119, 0.32002515,\n",
       "        0.31609557, 0.29849105, 0.29896259, 0.31373785, 0.33574348,\n",
       "        0.36607985, 0.37346748, 0.36828042, 0.38384158, 0.3770827 ,\n",
       "        0.38997173, 0.38651366, 0.39468721, 0.41936498, 0.39280102,\n",
       "        0.38792833, 0.39767372, 0.5652311 , 0.5811066 , 0.57780575,\n",
       "        0.53473751, 0.50644454, 0.5187048 , 0.47893746, 0.50047154,\n",
       "        0.48836849, 0.54133924, 0.50534426, 0.51414653, 0.51980515,\n",
       "        0.54888402, 0.59242381, 0.56067277, 0.54432569, 0.55171334,\n",
       "        0.55029867, 0.55218486, 0.54794091, 0.55092742, 0.57136125,\n",
       "        0.56255895, 0.53363723, 0.52263438, 0.50424397, 0.48836849,\n",
       "        0.41983656, 0.3674945 , 0.38211256, 0.35900659, 0.3659227 ,\n",
       "        0.38164103, 0.37488215, 0.34187361, 0.3638793 , 0.40097456,\n",
       "        0.41119144, 0.40223199, 0.39751651, 0.4071047 , 0.41103429,\n",
       "        0.4016033 , 0.41056275, 0.4154354 , 0.40113172, 0.39248666,\n",
       "        0.3618359 , 0.36482242, 0.37692554, 0.36702298, 0.37362465,\n",
       "        0.39138637, 0.38541339, 0.38777116, 0.39924554, 0.39578749,\n",
       "        0.38950019, 0.37393901, 0.3674945 , 0.38069791, 0.38305568,\n",
       "        0.38038353, 0.38950019, 0.3583779 , 0.29298967, 0.3151525 ]])"
      ]
     },
     "execution_count": 56,
     "metadata": {},
     "output_type": "execute_result"
    }
   ],
   "source": [
    "fut_inp"
   ]
  },
  {
   "cell_type": "code",
   "execution_count": 57,
   "id": "d47d32ad",
   "metadata": {},
   "outputs": [],
   "source": [
    "tmp_inp = list(fut_inp)"
   ]
  },
  {
   "cell_type": "code",
   "execution_count": 58,
   "id": "d5cdaaff",
   "metadata": {},
   "outputs": [
    {
     "data": {
      "text/plain": [
       "[array([0.54055334, 0.52342035, 0.5207482 , 0.52672118, 0.51964793,\n",
       "        0.49937127, 0.47044955, 0.45284504, 0.45017295, 0.44105629,\n",
       "        0.4787803 , 0.47862308, 0.49842821, 0.51005974, 0.49591327,\n",
       "        0.48082363, 0.47689405, 0.47249295, 0.45771774, 0.45677462,\n",
       "        0.45535997, 0.47705128, 0.46982086, 0.4739076 , 0.47657975,\n",
       "        0.46243322, 0.45190191, 0.47862308, 0.45913239, 0.45033011,\n",
       "        0.4218799 , 0.40066019, 0.40207484, 0.40333227, 0.40804782,\n",
       "        0.41889345, 0.41244893, 0.38808554, 0.38399874, 0.36607985,\n",
       "        0.36686575, 0.36576548, 0.32709841, 0.33087083, 0.31688147,\n",
       "        0.3082364 , 0.31169445, 0.33417166, 0.36938068, 0.37896888,\n",
       "        0.35366236, 0.32175418, 0.36042125, 0.34627479, 0.34533167,\n",
       "        0.37441061, 0.36262187, 0.34313111, 0.34077334, 0.36105   ,\n",
       "        0.34941847, 0.33668659, 0.31923925, 0.29739077, 0.29471862,\n",
       "        0.32961334, 0.33448604, 0.33857278, 0.33872999, 0.32395473,\n",
       "        0.30619307, 0.30462119, 0.28937439, 0.29346119, 0.32002515,\n",
       "        0.31609557, 0.29849105, 0.29896259, 0.31373785, 0.33574348,\n",
       "        0.36607985, 0.37346748, 0.36828042, 0.38384158, 0.3770827 ,\n",
       "        0.38997173, 0.38651366, 0.39468721, 0.41936498, 0.39280102,\n",
       "        0.38792833, 0.39767372, 0.5652311 , 0.5811066 , 0.57780575,\n",
       "        0.53473751, 0.50644454, 0.5187048 , 0.47893746, 0.50047154,\n",
       "        0.48836849, 0.54133924, 0.50534426, 0.51414653, 0.51980515,\n",
       "        0.54888402, 0.59242381, 0.56067277, 0.54432569, 0.55171334,\n",
       "        0.55029867, 0.55218486, 0.54794091, 0.55092742, 0.57136125,\n",
       "        0.56255895, 0.53363723, 0.52263438, 0.50424397, 0.48836849,\n",
       "        0.41983656, 0.3674945 , 0.38211256, 0.35900659, 0.3659227 ,\n",
       "        0.38164103, 0.37488215, 0.34187361, 0.3638793 , 0.40097456,\n",
       "        0.41119144, 0.40223199, 0.39751651, 0.4071047 , 0.41103429,\n",
       "        0.4016033 , 0.41056275, 0.4154354 , 0.40113172, 0.39248666,\n",
       "        0.3618359 , 0.36482242, 0.37692554, 0.36702298, 0.37362465,\n",
       "        0.39138637, 0.38541339, 0.38777116, 0.39924554, 0.39578749,\n",
       "        0.38950019, 0.37393901, 0.3674945 , 0.38069791, 0.38305568,\n",
       "        0.38038353, 0.38950019, 0.3583779 , 0.29298967, 0.3151525 ])]"
      ]
     },
     "execution_count": 58,
     "metadata": {},
     "output_type": "execute_result"
    }
   ],
   "source": [
    "tmp_inp"
   ]
  },
  {
   "cell_type": "code",
   "execution_count": 59,
   "id": "fc1cab74",
   "metadata": {},
   "outputs": [],
   "source": [
    "#Creating list of the last 100 data\n",
    "tmp_inp = tmp_inp[0].tolist()"
   ]
  },
  {
   "cell_type": "code",
   "execution_count": 60,
   "id": "f1cbacea",
   "metadata": {},
   "outputs": [
    {
     "data": {
      "text/plain": [
       "[0.5405533420569006,\n",
       " 0.5234203484794253,\n",
       " 0.5207482012298742,\n",
       " 0.5267211817064373,\n",
       " 0.5196479339664224,\n",
       " 0.4993712747267183,\n",
       " 0.47044955063421323,\n",
       " 0.4528450386440602,\n",
       " 0.45017295426782233,\n",
       " 0.4410562924107021,\n",
       " 0.4787802960757762,\n",
       " 0.4786230813560082,\n",
       " 0.4984282064647063,\n",
       " 0.5100597379782963,\n",
       " 0.49591327393492324,\n",
       " 0.48082363160124,\n",
       " 0.47689404952345393,\n",
       " 0.4724929490329902,\n",
       " 0.45771773613884315,\n",
       " 0.45677462072184616,\n",
       " 0.4553599711738432,\n",
       " 0.4770512799615503,\n",
       " 0.46982086465675243,\n",
       " 0.4739075985809932,\n",
       " 0.4765797458305443,\n",
       " 0.462433218913858,\n",
       " 0.45190190750873493,\n",
       " 0.4786230813560082,\n",
       " 0.4591323856868462,\n",
       " 0.45033010611427704,\n",
       " 0.4218799004344498,\n",
       " 0.4006601886510619,\n",
       " 0.402074838199065,\n",
       " 0.4033322730272998,\n",
       " 0.408047818675628,\n",
       " 0.41889344949198903,\n",
       " 0.4124489348844199,\n",
       " 0.38808554172047505,\n",
       " 0.38399874492292096,\n",
       " 0.3660798506482167,\n",
       " 0.3668657513454455,\n",
       " 0.3657654840819937,\n",
       " 0.32709841215490776,\n",
       " 0.3308708266679107,\n",
       " 0.3168814673160075,\n",
       " 0.3082364024632066,\n",
       " 0.31169445040998667,\n",
       " 0.3341716598949226,\n",
       " 0.3693806838752287,\n",
       " 0.3789688798633548,\n",
       " 0.35366235556408465,\n",
       " 0.32175418052911875,\n",
       " 0.3604212524562048,\n",
       " 0.34627478841283177,\n",
       " 0.3453316729958348,\n",
       " 0.374410611808108,\n",
       " 0.36262186557474996,\n",
       " 0.3431311070322748,\n",
       " 0.3407733420672747,\n",
       " 0.36105000130697884,\n",
       " 0.34941846979338886,\n",
       " 0.33668659242470567,\n",
       " 0.3192392479993357,\n",
       " 0.29739077164684546,\n",
       " 0.29471862439729446,\n",
       " 0.3296133446846907,\n",
       " 0.33448604217947375,\n",
       " 0.3385727761037146,\n",
       " 0.33872999082348265,\n",
       " 0.32395473077435066,\n",
       " 0.30619306693774273,\n",
       " 0.30462118695164353,\n",
       " 0.28937439277150534,\n",
       " 0.2934611895690594,\n",
       " 0.3200251486965646,\n",
       " 0.3160955666187786,\n",
       " 0.2984910546286256,\n",
       " 0.29896258875963155,\n",
       " 0.31373784880876365,\n",
       " 0.3357434770077087,\n",
       " 0.3660798506482167,\n",
       " 0.3734674806727828,\n",
       " 0.3682804166117769,\n",
       " 0.38384157735813773,\n",
       " 0.37708269618434587,\n",
       " 0.389971725399484,\n",
       " 0.3865136617343756,\n",
       " 0.39468720817449887,\n",
       " 0.419364983622995,\n",
       " 0.3928010244954899,\n",
       " 0.3879283270007069,\n",
       " 0.39767372199027284,\n",
       " 0.5652311017870686,\n",
       " 0.5811065976629957,\n",
       " 0.5778057487176554,\n",
       " 0.5347375134267923,\n",
       " 0.5064445381850614,\n",
       " 0.5187048028310972,\n",
       " 0.4789374636405592,\n",
       " 0.5004715419901701,\n",
       " 0.4883684920639024,\n",
       " 0.5413392427541296,\n",
       " 0.5053442552032813,\n",
       " 0.5141465347758504,\n",
       " 0.5198051486861905,\n",
       " 0.5488840246251504,\n",
       " 0.5924238097653477,\n",
       " 0.5606727708585084,\n",
       " 0.5443256936965903,\n",
       " 0.5517133394394845,\n",
       " 0.5502986741731534,\n",
       " 0.5521848578521623,\n",
       " 0.5479409092081534,\n",
       " 0.5509274230239274,\n",
       " 0.5713612498284146,\n",
       " 0.5625589545375174,\n",
       " 0.5336372304450123,\n",
       " 0.5226343849088833,\n",
       " 0.5042439722215013,\n",
       " 0.4883684920639024,\n",
       " 0.419836564908986,\n",
       " 0.36749450019621976,\n",
       " 0.3821125612439119,\n",
       " 0.35900658718987355,\n",
       " 0.36592269880176187,\n",
       " 0.38164102711290593,\n",
       " 0.37488214593911395,\n",
       " 0.34187360933072664,\n",
       " 0.3638793004029848,\n",
       " 0.40097455521728487,\n",
       " 0.41119143718287177,\n",
       " 0.4022319900455197,\n",
       " 0.3975165072705048,\n",
       " 0.4071047032586309,\n",
       " 0.41103428533641695,\n",
       " 0.4016033040680589,\n",
       " 0.41056275120541097,\n",
       " 0.4154354015452091,\n",
       " 0.4011317227820679,\n",
       " 0.39248665792926696,\n",
       " 0.3618359020042078,\n",
       " 0.36482241581998187,\n",
       " 0.37692554433789094,\n",
       " 0.36702298178354187,\n",
       " 0.3736246482375658,\n",
       " 0.39138637494748685,\n",
       " 0.3854133944709238,\n",
       " 0.3877711594359238,\n",
       " 0.39924553910305893,\n",
       " 0.395787491156279,\n",
       " 0.3895001912684779,\n",
       " 0.37393901480378877,\n",
       " 0.36749450019621976,\n",
       " 0.38069791169590894,\n",
       " 0.3830556766609089,\n",
       " 0.3803835294113579,\n",
       " 0.3895001912684779,\n",
       " 0.35837790121241275,\n",
       " 0.29298967115638175,\n",
       " 0.3151524983567666]"
      ]
     },
     "execution_count": 60,
     "metadata": {},
     "output_type": "execute_result"
    }
   ],
   "source": [
    "tmp_inp"
   ]
  },
  {
   "cell_type": "code",
   "execution_count": 61,
   "id": "87d8512c",
   "metadata": {},
   "outputs": [
    {
     "name": "stdout",
     "output_type": "stream",
     "text": [
      "[[0.30812868475914], [0.30582574009895325], [0.3041519224643707], [0.3027026355266571], [0.3011774718761444], [0.2994649112224579], [0.2975657880306244], [0.2955389618873596], [0.29346123337745667], [0.2914018929004669], [0.28940942883491516], [0.28750813007354736], [0.28570058941841125], [0.2839747369289398], [0.2823099195957184], [0.2806834578514099], [0.2790750563144684], [0.2774691581726074], [0.27585646510124207], [0.27423295378685], [0.27259960770606995], [0.27096056938171387], [0.26932191848754883], [0.2676907479763031], [0.2660735249519348], [0.26447632908821106], [0.26290377974510193], [0.26135924458503723], [0.2598450481891632], [0.2583622336387634]]\n"
     ]
    }
   ],
   "source": [
    "#Predicting next 30 days price suing the current data\n",
    "#It will predict in sliding window manner (algorithm) with stride 1\n",
    "lst_output=[]\n",
    "n_steps=160\n",
    "i=0\n",
    "while(i<30):\n",
    "    \n",
    "    if(len(tmp_inp)>160):\n",
    "        fut_inp = np.array(tmp_inp[1:])\n",
    "        fut_inp=fut_inp.reshape(1,-1)\n",
    "        fut_inp = fut_inp.reshape((1, n_steps, 1))\n",
    "        yhat = model.predict(fut_inp, verbose=0)\n",
    "        tmp_inp.extend(yhat[0].tolist())\n",
    "        tmp_inp = tmp_inp[1:]\n",
    "        lst_output.extend(yhat.tolist())\n",
    "        i=i+1\n",
    "    else:\n",
    "        fut_inp = fut_inp.reshape((1, n_steps,1))\n",
    "        yhat = model.predict(fut_inp, verbose=0)\n",
    "        tmp_inp.extend(yhat[0].tolist())\n",
    "        lst_output.extend(yhat.tolist())\n",
    "        i=i+1\n",
    "    \n",
    "\n",
    "print(lst_output)"
   ]
  },
  {
   "cell_type": "code",
   "execution_count": 62,
   "id": "abd2a9a3",
   "metadata": {},
   "outputs": [
    {
     "data": {
      "text/plain": [
       "'2022-07-12'"
      ]
     },
     "execution_count": 62,
     "metadata": {},
     "output_type": "execute_result"
    }
   ],
   "source": [
    "end_date"
   ]
  },
  {
   "cell_type": "code",
   "execution_count": 63,
   "id": "40a3588a",
   "metadata": {},
   "outputs": [
    {
     "data": {
      "text/plain": [
       "'07/12/2022'"
      ]
     },
     "execution_count": 63,
     "metadata": {},
     "output_type": "execute_result"
    }
   ],
   "source": [
    "temp = pd.to_datetime(end_date, format='%Y-%m-%d')\n",
    "temp\n",
    "end_date_new = temp.strftime('%m/%d/%Y')\n",
    "end_date_new"
   ]
  },
  {
   "cell_type": "code",
   "execution_count": 64,
   "id": "58c3c1c5",
   "metadata": {},
   "outputs": [
    {
     "data": {
      "text/plain": [
       "array([[33.613146  ],\n",
       "       [33.46663267],\n",
       "       [33.36014439],\n",
       "       [33.26794076],\n",
       "       [33.17090986],\n",
       "       [33.06195675],\n",
       "       [32.94113454],\n",
       "       [32.81218787],\n",
       "       [32.68000279],\n",
       "       [32.54898755],\n",
       "       [32.42222699],\n",
       "       [32.30126637],\n",
       "       [32.18627064],\n",
       "       [32.07647191],\n",
       "       [31.97055624],\n",
       "       [31.86708075],\n",
       "       [31.76475425],\n",
       "       [31.66258701],\n",
       "       [31.55998748],\n",
       "       [31.4566997 ],\n",
       "       [31.35278622],\n",
       "       [31.24851061],\n",
       "       [31.14425965],\n",
       "       [31.04048458],\n",
       "       [30.93759686],\n",
       "       [30.83598326],\n",
       "       [30.73593768],\n",
       "       [30.63767436],\n",
       "       [30.54134119],\n",
       "       [30.44700453]])"
      ]
     },
     "execution_count": 64,
     "metadata": {},
     "output_type": "execute_result"
    }
   ],
   "source": [
    "preds = scaler.inverse_transform(lst_output)\n",
    "preds"
   ]
  },
  {
   "cell_type": "code",
   "execution_count": 65,
   "id": "cc2026ab",
   "metadata": {},
   "outputs": [
    {
     "data": {
      "text/plain": [
       "'08/22/2022'"
      ]
     },
     "execution_count": 65,
     "metadata": {},
     "output_type": "execute_result"
    }
   ],
   "source": [
    "import datetime\n",
    "date_future = temp + datetime.timedelta(41)\n",
    "date_future_str = date_future.strftime('%m/%d/%Y')\n",
    "date_future_str"
   ]
  },
  {
   "cell_type": "code",
   "execution_count": 66,
   "id": "feff8df9",
   "metadata": {},
   "outputs": [
    {
     "data": {
      "text/plain": [
       "DatetimeIndex(['2022-07-12', '2022-07-13', '2022-07-14', '2022-07-15',\n",
       "               '2022-07-18', '2022-07-19', '2022-07-20', '2022-07-21',\n",
       "               '2022-07-22', '2022-07-25', '2022-07-26', '2022-07-27',\n",
       "               '2022-07-28', '2022-07-29', '2022-08-01', '2022-08-02',\n",
       "               '2022-08-03', '2022-08-04', '2022-08-05', '2022-08-08',\n",
       "               '2022-08-09', '2022-08-10', '2022-08-11', '2022-08-12',\n",
       "               '2022-08-15', '2022-08-16', '2022-08-17', '2022-08-18',\n",
       "               '2022-08-19', '2022-08-22'],\n",
       "              dtype='datetime64[ns]', freq='B')"
      ]
     },
     "execution_count": 66,
     "metadata": {},
     "output_type": "execute_result"
    }
   ],
   "source": [
    "c = pd.date_range(start=end_date_new, end=date_future_str, freq='B')\n",
    "c"
   ]
  },
  {
   "cell_type": "code",
   "execution_count": 67,
   "id": "e6ab7cdd",
   "metadata": {},
   "outputs": [
    {
     "data": {
      "text/plain": [
       "30"
      ]
     },
     "execution_count": 67,
     "metadata": {},
     "output_type": "execute_result"
    }
   ],
   "source": [
    "len(c)"
   ]
  },
  {
   "cell_type": "code",
   "execution_count": 68,
   "id": "04499e28",
   "metadata": {},
   "outputs": [
    {
     "data": {
      "text/plain": [
       "2022-07-12    33.613146\n",
       "2022-07-13    33.466633\n",
       "2022-07-14    33.360144\n",
       "2022-07-15    33.267941\n",
       "2022-07-18    33.170910\n",
       "2022-07-19    33.061957\n",
       "2022-07-20    32.941135\n",
       "2022-07-21    32.812188\n",
       "2022-07-22    32.680003\n",
       "2022-07-25    32.548988\n",
       "2022-07-26    32.422227\n",
       "2022-07-27    32.301266\n",
       "2022-07-28    32.186271\n",
       "2022-07-29    32.076472\n",
       "2022-08-01    31.970556\n",
       "2022-08-02    31.867081\n",
       "2022-08-03    31.764754\n",
       "2022-08-04    31.662587\n",
       "2022-08-05    31.559987\n",
       "2022-08-08    31.456700\n",
       "2022-08-09    31.352786\n",
       "2022-08-10    31.248511\n",
       "2022-08-11    31.144260\n",
       "2022-08-12    31.040485\n",
       "2022-08-15    30.937597\n",
       "2022-08-16    30.835983\n",
       "2022-08-17    30.735938\n",
       "2022-08-18    30.637674\n",
       "2022-08-19    30.541341\n",
       "2022-08-22    30.447005\n",
       "Freq: B, dtype: float64"
      ]
     },
     "execution_count": 68,
     "metadata": {},
     "output_type": "execute_result"
    }
   ],
   "source": [
    "fut_preds = pd.Series(index=c, data=preds.squeeze())\n",
    "fut_preds"
   ]
  },
  {
   "cell_type": "code",
   "execution_count": 69,
   "id": "8d8456f7",
   "metadata": {},
   "outputs": [
    {
     "data": {
      "text/plain": [
       "[<matplotlib.lines.Line2D at 0x1f9211e7308>]"
      ]
     },
     "execution_count": 69,
     "metadata": {},
     "output_type": "execute_result"
    },
    {
     "data": {
      "image/png": "[encoded data removed]",
      "text/plain": [
       "<Figure size 936x504 with 1 Axes>"
      ]
     },
     "metadata": {
      "needs_background": "light"
     },
     "output_type": "display_data"
    }
   ],
   "source": [
    "fig, ax = plt.subplots(1, figsize=(13, 7))\n",
    "ax.plot(fut_preds, label=\"predicted value_30\", linewidth=3)"
   ]
  },
  {
   "cell_type": "code",
   "execution_count": 70,
   "id": "8f0a4bab",
   "metadata": {},
   "outputs": [
    {
     "data": {
      "image/png": "[encoded data removed]",
      "text/plain": [
       "<Figure size 936x504 with 1 Axes>"
      ]
     },
     "metadata": {
      "needs_background": "light"
     },
     "output_type": "display_data"
    }
   ],
   "source": [
    "line_plot(test[\"close\"], fut_preds, 'actual_value', 'predicted_value_30', lw=3)"
   ]
  },
  {
   "cell_type": "code",
   "execution_count": null,
   "id": "f7ea1a21",
   "metadata": {},
   "outputs": [],
   "source": []
  }
 ],
 "metadata": {
  "kernelspec": {
   "display_name": "mlenv",
   "language": "python",
   "name": "mlenv"
  },
  "language_info": {
   "codemirror_mode": {
    "name": "ipython",
    "version": 3
   },
   "file_extension": ".py",
   "mimetype": "text/x-python",
   "name": "python",
   "nbconvert_exporter": "python",
   "pygments_lexer": "ipython3",
   "version": "3.7.13"
  }
 },
 "nbformat": 4,
 "nbformat_minor": 5
}
