{
 "cells": [
  {
   "cell_type": "code",
   "execution_count": 1,
   "id": "054fb6bf",
   "metadata": {},
   "outputs": [],
   "source": [
    "import pandas as pd\n",
    "import tweepy as tw\n",
    "import webbrowser\n",
    "import time\n",
    "\n",
    "from config import api_key\n",
    "from config import api_key_secret\n",
    "from config import bearer_token\n",
    "from config import access_token\n",
    "from config import access_token_secret"
   ]
  },
  {
   "cell_type": "code",
   "execution_count": 2,
   "id": "2b703c4c",
   "metadata": {},
   "outputs": [
    {
     "name": "stdout",
     "output_type": "stream",
     "text": [
      "momsthatcode90s\n"
     ]
    }
   ],
   "source": [
    "auth = tw.OAuth1UserHandler(\n",
    "   api_key, api_key_secret, access_token, access_token_secret\n",
    ")\n",
    "\n",
    "api = tw.API(auth)\n",
    "\n",
    "print(api.verify_credentials().screen_name)\n"
   ]
  },
  {
   "cell_type": "code",
   "execution_count": 3,
   "id": "1f873199",
   "metadata": {},
   "outputs": [],
   "source": [
    "client = tw.Client(bearer_token=bearer_token)"
   ]
  },
  {
   "cell_type": "code",
   "execution_count": 4,
   "id": "bf746735",
   "metadata": {},
   "outputs": [],
   "source": [
    "client = tw.Client(\n",
    "    consumer_key=api_key, consumer_secret=api_key_secret,\n",
    "    access_token=access_token, access_token_secret=access_token_secret\n",
    ")"
   ]
  },
  {
   "cell_type": "markdown",
   "id": "3961afad",
   "metadata": {},
   "source": [
    "## user info"
   ]
  },
  {
   "cell_type": "code",
   "execution_count": 5,
   "id": "f781dc9d",
   "metadata": {},
   "outputs": [],
   "source": [
    "user = 'elonmusk'"
   ]
  },
  {
   "cell_type": "code",
   "execution_count": 6,
   "id": "30b498ef",
   "metadata": {},
   "outputs": [],
   "source": [
    "# user_info = api.get_user(screen_name=user)\n",
    "# user_info"
   ]
  },
  {
   "cell_type": "markdown",
   "id": "2d943a33",
   "metadata": {},
   "source": [
    "## API user_timeline method"
   ]
  },
  {
   "cell_type": "code",
   "execution_count": 7,
   "id": "01115548",
   "metadata": {},
   "outputs": [],
   "source": [
    "#tweets = api.user_timeline(screen_name=user, count=500, tweet_mode='extended')"
   ]
  },
  {
   "cell_type": "code",
   "execution_count": 8,
   "id": "e8be43d7",
   "metadata": {},
   "outputs": [],
   "source": [
    "# for tweet in tweets:\n",
    "#         print(tweet.full_text)"
   ]
  },
  {
   "cell_type": "code",
   "execution_count": 9,
   "id": "00d07f81",
   "metadata": {},
   "outputs": [],
   "source": [
    "# columns = ['User','Date','Tweet']\n",
    "# data= []"
   ]
  },
  {
   "cell_type": "code",
   "execution_count": 10,
   "id": "a707958a",
   "metadata": {},
   "outputs": [],
   "source": [
    "# for tweet in tweets:\n",
    "#         data.append([tweet.user.screen_name, tweet.created_at, tweet.full_text])"
   ]
  },
  {
   "cell_type": "code",
   "execution_count": 11,
   "id": "6e5804a4",
   "metadata": {},
   "outputs": [],
   "source": [
    "# tweet_df = pd.DataFrame(data, columns=columns)\n",
    "# tweet_df"
   ]
  },
  {
   "cell_type": "markdown",
   "id": "8ec6ff47",
   "metadata": {},
   "source": [
    "## API user_timeline method more than 200"
   ]
  },
  {
   "cell_type": "code",
   "execution_count": 12,
   "id": "45e62f91",
   "metadata": {},
   "outputs": [],
   "source": [
    "tweet_id = []\n",
    "date_created = []\n",
    "text = []\n",
    "likes_count = []\n",
    "retweet_counts = []\n",
    "replies_count =[]"
   ]
  },
  {
   "cell_type": "code",
   "execution_count": 13,
   "id": "c2326f08",
   "metadata": {},
   "outputs": [
    {
     "ename": "AttributeError",
     "evalue": "'Status' object has no attribute 'replies_count'",
     "output_type": "error",
     "traceback": [
      "\u001b[1;31m---------------------------------------------------------------------------\u001b[0m",
      "\u001b[1;31mAttributeError\u001b[0m                            Traceback (most recent call last)",
      "Input \u001b[1;32mIn [13]\u001b[0m, in \u001b[0;36m<cell line: 1>\u001b[1;34m()\u001b[0m\n\u001b[0;32m      6\u001b[0m likes_count\u001b[38;5;241m.\u001b[39mappend(tweet\u001b[38;5;241m.\u001b[39mfavorite_count)\n\u001b[0;32m      7\u001b[0m retweet_counts\u001b[38;5;241m.\u001b[39mappend(tweet\u001b[38;5;241m.\u001b[39mretweet_count)\n\u001b[1;32m----> 8\u001b[0m replies_count\u001b[38;5;241m.\u001b[39mappend(\u001b[43mtweet\u001b[49m\u001b[38;5;241;43m.\u001b[39;49m\u001b[43mreplies_count\u001b[49m)\n",
      "\u001b[1;31mAttributeError\u001b[0m: 'Status' object has no attribute 'replies_count'"
     ]
    }
   ],
   "source": [
    "for tweet in tw.Cursor(api.user_timeline,screen_name=user, tweet_mode='extended').items(38000):\n",
    "    tweet_id.append(tweet.id)\n",
    "    date_created.append(tweet.created_at)\n",
    "    text.append(tweet.full_text)\n",
    "\n",
    "    likes_count.append(tweet.favorite_count)\n",
    "    retweet_counts.append(tweet.retweet_count)\n",
    "    replies_count.append(tweet.replies_count)\n",
    " \n"
   ]
  },
  {
   "cell_type": "code",
   "execution_count": null,
   "id": "8ac48b5c",
   "metadata": {},
   "outputs": [],
   "source": [
    "date_created"
   ]
  },
  {
   "cell_type": "code",
   "execution_count": null,
   "id": "4a285928",
   "metadata": {},
   "outputs": [],
   "source": [
    "len(date_created)"
   ]
  },
  {
   "cell_type": "code",
   "execution_count": null,
   "id": "7f61a68a",
   "metadata": {},
   "outputs": [],
   "source": [
    "text"
   ]
  },
  {
   "cell_type": "code",
   "execution_count": null,
   "id": "80153eb8",
   "metadata": {},
   "outputs": [],
   "source": [
    "len(text)"
   ]
  },
  {
   "cell_type": "code",
   "execution_count": null,
   "id": "08330b80",
   "metadata": {},
   "outputs": [],
   "source": [
    "elon_1000_df = pd.DataFrame(\n",
    "    {'Tweet_ID': tweet_id,\n",
    "     'Date': date_created,\n",
    "     'Tweet_Text': text,\n",
    "     'likes_count': likes_count,\n",
    "     'retweet_counts': retweet_counts\n",
    "     'replies_counts': replies_count\n",
    "    })"
   ]
  },
  {
   "cell_type": "code",
   "execution_count": null,
   "id": "eee403a9",
   "metadata": {},
   "outputs": [],
   "source": [
    "elon_1000_df"
   ]
  },
  {
   "cell_type": "code",
   "execution_count": null,
   "id": "f708151a",
   "metadata": {},
   "outputs": [],
   "source": [
    "elon_1000_df.tail()"
   ]
  },
  {
   "cell_type": "code",
   "execution_count": null,
   "id": "aafe7296",
   "metadata": {},
   "outputs": [],
   "source": [
    "#elon_1000_df.to_csv('elon_tweets_2.csv')"
   ]
  },
  {
   "cell_type": "code",
   "execution_count": null,
   "id": "d00d44d8",
   "metadata": {},
   "outputs": [],
   "source": []
  },
  {
   "cell_type": "code",
   "execution_count": null,
   "id": "59a60e3b",
   "metadata": {},
   "outputs": [],
   "source": [
    "# tweet_id_1 = []\n",
    "# date_created_1 = []\n",
    "# text_1 = []\n",
    "# likes_count_1 = []\n",
    "# retweet_counts_1 = []"
   ]
  },
  {
   "cell_type": "code",
   "execution_count": null,
   "id": "80305c11",
   "metadata": {},
   "outputs": [],
   "source": [
    "# max_id = elon_1000_df['Tweet_ID'].values[3199]\n",
    "# max_id"
   ]
  },
  {
   "cell_type": "code",
   "execution_count": null,
   "id": "962f46f0",
   "metadata": {},
   "outputs": [],
   "source": [
    "# for tweet1 in tw.Cursor(api.user_timeline,screen_name=user, tweet_mode='extended', max_id= max_id).items(38000):\n",
    "#     tweet_id_1.append(tweet1.id) \n",
    "#     date_created_1.append(tweet1.created_at)\n",
    "#     text_1.append(tweet1.full_text)\n",
    "\n",
    "#     likes_count_1.append(tweet1.favorite_count)\n",
    "#     retweet_counts_1.append(tweet1.retweet_count)\n",
    " "
   ]
  },
  {
   "cell_type": "code",
   "execution_count": null,
   "id": "d7d615b4",
   "metadata": {},
   "outputs": [],
   "source": [
    "# elon_1000_df_1 = pd.DataFrame(\n",
    "#     {'Tweet_ID': tweet_id_1,\n",
    "#      'Date': date_created_1,\n",
    "#      'Tweet_Text': text_1,\n",
    "#      'likes_count': likes_count_1,\n",
    "#      'retweet_counts': retweet_counts_1\n",
    "#     })"
   ]
  },
  {
   "cell_type": "code",
   "execution_count": null,
   "id": "676f23f0",
   "metadata": {},
   "outputs": [],
   "source": [
    "# elon_1000_df_1"
   ]
  },
  {
   "cell_type": "code",
   "execution_count": null,
   "id": "0de02f6f",
   "metadata": {},
   "outputs": [],
   "source": [
    "#Filter the dogecoin tweets from the df_tweets_new dataset\n",
    "df_twitter = pd.DataFrame(columns = ['Date', 'Tweet'])\n",
    "\n",
    "for i in range(len(elon_1000_dfl)):\n",
    "    cur = df_tweets_final.loc[i].tweet\n",
    "    cur = cur.lower()\n",
    "    if 'twitter' in cur:\n",
    "        df_twitter = df_twitter.append({'Date' : df_tweets_final.loc[i].date, 'Tweet' : df_tweets_final.loc[i].tweet}, \n",
    "                ignore_index = True)\n",
    "\n",
    "df_doge['Date'] = pd.to_datetime(df_doge['Date'], format='%Y-%m-%d')\n",
    "df_doge\n"
   ]
  }
 ],
 "metadata": {
  "kernelspec": {
   "display_name": "moon",
   "language": "python",
   "name": "moon"
  },
  "language_info": {
   "codemirror_mode": {
    "name": "ipython",
    "version": 3
   },
   "file_extension": ".py",
   "mimetype": "text/x-python",
   "name": "python",
   "nbconvert_exporter": "python",
   "pygments_lexer": "ipython3",
   "version": "3.9.12"
  }
 },
 "nbformat": 4,
 "nbformat_minor": 5
}
