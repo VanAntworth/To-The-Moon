{
 "cells": [
  {
   "cell_type": "code",
   "execution_count": 1,
   "id": "62b28d70",
   "metadata": {},
   "outputs": [],
   "source": [
    "import pandas as pd\n",
    "import numpy as np\n",
    "import seaborn as sns\n",
    "import matplotlib.pyplot as plt\n",
    "import math\n",
    "from sklearn.model_selection import train_test_split\n",
    "from sklearn.ensemble import RandomForestClassifier\n",
    "from sklearn.model_selection import GridSearchCV\n",
    "from sklearn.preprocessing import MinMaxScaler\n",
    "from keras.models import Sequential\n",
    "from keras.layers import Activation, Dense,LSTM,Dropout\n",
    "from sklearn.metrics import mean_absolute_error\n",
    "plt.style.use('fivethirtyeight')"
   ]
  },
  {
   "cell_type": "code",
   "execution_count": 2,
   "id": "d50f085d",
   "metadata": {},
   "outputs": [],
   "source": [
    "import requests\n",
    "import tensorflow as tf\n",
    "from keras.models import Sequential\n",
    "from keras.layers import Activation, Dense, Dropout, LSTM\n",
    "import matplotlib.pyplot as plt\n",
    "import numpy as np\n",
    "import pandas as pd\n",
    "from sklearn.metrics import mean_absolute_error\n",
    "%matplotlib inline"
   ]
  },
  {
   "cell_type": "code",
   "execution_count": 3,
   "id": "93968ca1",
   "metadata": {},
   "outputs": [],
   "source": [
    "# Database related all the code is moved to this file\n",
    "%run -i \"SqlConn.py\"\n",
    "#importing local py file\n",
    "import SqlConn "
   ]
  },
  {
   "cell_type": "code",
   "execution_count": 4,
   "id": "2250f32e",
   "metadata": {},
   "outputs": [
    {
     "name": "stdout",
     "output_type": "stream",
     "text": [
      "Data transfer Done\n"
     ]
    }
   ],
   "source": [
    "#Fetch Tweets and Sentiment data - Join from Tweet and Sentiment tables\n",
    "try:\n",
    "    df_dbFinanceData = SqlConn.fetchFinanceData(\"\")\n",
    "    print(\"Data transfer Done\")\n",
    "except BaseException as err:\n",
    "    print(err)"
   ]
  },
  {
   "cell_type": "code",
   "execution_count": 5,
   "id": "3523b0c6",
   "metadata": {},
   "outputs": [
    {
     "data": {
      "text/html": [
       "<div>\n",
       "<style scoped>\n",
       "    .dataframe tbody tr th:only-of-type {\n",
       "        vertical-align: middle;\n",
       "    }\n",
       "\n",
       "    .dataframe tbody tr th {\n",
       "        vertical-align: top;\n",
       "    }\n",
       "\n",
       "    .dataframe thead th {\n",
       "        text-align: right;\n",
       "    }\n",
       "</style>\n",
       "<table border=\"1\" class=\"dataframe\">\n",
       "  <thead>\n",
       "    <tr style=\"text-align: right;\">\n",
       "      <th></th>\n",
       "      <th>financeType</th>\n",
       "      <th>date</th>\n",
       "      <th>open</th>\n",
       "      <th>high</th>\n",
       "      <th>low</th>\n",
       "      <th>close</th>\n",
       "      <th>adjustedClose</th>\n",
       "      <th>volume</th>\n",
       "      <th>id</th>\n",
       "    </tr>\n",
       "  </thead>\n",
       "  <tbody>\n",
       "    <tr>\n",
       "      <th>0</th>\n",
       "      <td>tesla</td>\n",
       "      <td>2010-06-29</td>\n",
       "      <td>3.800000</td>\n",
       "      <td>5.000000</td>\n",
       "      <td>3.508000</td>\n",
       "      <td>4.778000</td>\n",
       "      <td>4.778000</td>\n",
       "      <td>93831500</td>\n",
       "      <td>1</td>\n",
       "    </tr>\n",
       "    <tr>\n",
       "      <th>1</th>\n",
       "      <td>tesla</td>\n",
       "      <td>2010-06-30</td>\n",
       "      <td>5.158000</td>\n",
       "      <td>6.084000</td>\n",
       "      <td>4.660000</td>\n",
       "      <td>4.766000</td>\n",
       "      <td>4.766000</td>\n",
       "      <td>85935500</td>\n",
       "      <td>2</td>\n",
       "    </tr>\n",
       "    <tr>\n",
       "      <th>2</th>\n",
       "      <td>tesla</td>\n",
       "      <td>2010-07-01</td>\n",
       "      <td>5.000000</td>\n",
       "      <td>5.184000</td>\n",
       "      <td>4.054000</td>\n",
       "      <td>4.392000</td>\n",
       "      <td>4.392000</td>\n",
       "      <td>41094000</td>\n",
       "      <td>3</td>\n",
       "    </tr>\n",
       "    <tr>\n",
       "      <th>3</th>\n",
       "      <td>tesla</td>\n",
       "      <td>2010-07-02</td>\n",
       "      <td>4.600000</td>\n",
       "      <td>4.620000</td>\n",
       "      <td>3.742000</td>\n",
       "      <td>3.840000</td>\n",
       "      <td>3.840000</td>\n",
       "      <td>25699000</td>\n",
       "      <td>4</td>\n",
       "    </tr>\n",
       "    <tr>\n",
       "      <th>4</th>\n",
       "      <td>tesla</td>\n",
       "      <td>2010-07-06</td>\n",
       "      <td>4.000000</td>\n",
       "      <td>4.000000</td>\n",
       "      <td>3.166000</td>\n",
       "      <td>3.222000</td>\n",
       "      <td>3.222000</td>\n",
       "      <td>34334500</td>\n",
       "      <td>5</td>\n",
       "    </tr>\n",
       "    <tr>\n",
       "      <th>...</th>\n",
       "      <td>...</td>\n",
       "      <td>...</td>\n",
       "      <td>...</td>\n",
       "      <td>...</td>\n",
       "      <td>...</td>\n",
       "      <td>...</td>\n",
       "      <td>...</td>\n",
       "      <td>...</td>\n",
       "      <td>...</td>\n",
       "    </tr>\n",
       "    <tr>\n",
       "      <th>6916</th>\n",
       "      <td>doge</td>\n",
       "      <td>2022-07-09</td>\n",
       "      <td>0.069224</td>\n",
       "      <td>0.070009</td>\n",
       "      <td>0.068995</td>\n",
       "      <td>0.069512</td>\n",
       "      <td>0.069512</td>\n",
       "      <td>254272147</td>\n",
       "      <td>6917</td>\n",
       "    </tr>\n",
       "    <tr>\n",
       "      <th>6917</th>\n",
       "      <td>doge</td>\n",
       "      <td>2022-07-10</td>\n",
       "      <td>0.069509</td>\n",
       "      <td>0.069509</td>\n",
       "      <td>0.066533</td>\n",
       "      <td>0.067263</td>\n",
       "      <td>0.067263</td>\n",
       "      <td>299810124</td>\n",
       "      <td>6918</td>\n",
       "    </tr>\n",
       "    <tr>\n",
       "      <th>6918</th>\n",
       "      <td>doge</td>\n",
       "      <td>2022-07-11</td>\n",
       "      <td>0.067268</td>\n",
       "      <td>0.067268</td>\n",
       "      <td>0.061535</td>\n",
       "      <td>0.061847</td>\n",
       "      <td>0.061847</td>\n",
       "      <td>326125900</td>\n",
       "      <td>6919</td>\n",
       "    </tr>\n",
       "    <tr>\n",
       "      <th>6919</th>\n",
       "      <td>doge</td>\n",
       "      <td>2022-07-12</td>\n",
       "      <td>0.061851</td>\n",
       "      <td>0.062861</td>\n",
       "      <td>0.060087</td>\n",
       "      <td>0.060087</td>\n",
       "      <td>0.060087</td>\n",
       "      <td>298462083</td>\n",
       "      <td>6920</td>\n",
       "    </tr>\n",
       "    <tr>\n",
       "      <th>6920</th>\n",
       "      <td>doge</td>\n",
       "      <td>2022-07-13</td>\n",
       "      <td>0.060085</td>\n",
       "      <td>0.062011</td>\n",
       "      <td>0.058398</td>\n",
       "      <td>0.061953</td>\n",
       "      <td>0.061953</td>\n",
       "      <td>446505400</td>\n",
       "      <td>6921</td>\n",
       "    </tr>\n",
       "  </tbody>\n",
       "</table>\n",
       "<p>6921 rows × 9 columns</p>\n",
       "</div>"
      ],
      "text/plain": [
       "     financeType        date      open      high       low     close  \\\n",
       "0          tesla  2010-06-29  3.800000  5.000000  3.508000  4.778000   \n",
       "1          tesla  2010-06-30  5.158000  6.084000  4.660000  4.766000   \n",
       "2          tesla  2010-07-01  5.000000  5.184000  4.054000  4.392000   \n",
       "3          tesla  2010-07-02  4.600000  4.620000  3.742000  3.840000   \n",
       "4          tesla  2010-07-06  4.000000  4.000000  3.166000  3.222000   \n",
       "...          ...         ...       ...       ...       ...       ...   \n",
       "6916        doge  2022-07-09  0.069224  0.070009  0.068995  0.069512   \n",
       "6917        doge  2022-07-10  0.069509  0.069509  0.066533  0.067263   \n",
       "6918        doge  2022-07-11  0.067268  0.067268  0.061535  0.061847   \n",
       "6919        doge  2022-07-12  0.061851  0.062861  0.060087  0.060087   \n",
       "6920        doge  2022-07-13  0.060085  0.062011  0.058398  0.061953   \n",
       "\n",
       "      adjustedClose     volume    id  \n",
       "0          4.778000   93831500     1  \n",
       "1          4.766000   85935500     2  \n",
       "2          4.392000   41094000     3  \n",
       "3          3.840000   25699000     4  \n",
       "4          3.222000   34334500     5  \n",
       "...             ...        ...   ...  \n",
       "6916       0.069512  254272147  6917  \n",
       "6917       0.067263  299810124  6918  \n",
       "6918       0.061847  326125900  6919  \n",
       "6919       0.060087  298462083  6920  \n",
       "6920       0.061953  446505400  6921  \n",
       "\n",
       "[6921 rows x 9 columns]"
      ]
     },
     "execution_count": 5,
     "metadata": {},
     "output_type": "execute_result"
    }
   ],
   "source": [
    "df_dbFinanceData"
   ]
  },
  {
   "cell_type": "code",
   "execution_count": 6,
   "id": "5f838703",
   "metadata": {},
   "outputs": [],
   "source": [
    "doge_price = df_dbFinanceData[df_dbFinanceData[\"financeType\"] == \"doge\"]"
   ]
  },
  {
   "cell_type": "code",
   "execution_count": 7,
   "id": "f62e6af5",
   "metadata": {},
   "outputs": [
    {
     "data": {
      "text/html": [
       "<div>\n",
       "<style scoped>\n",
       "    .dataframe tbody tr th:only-of-type {\n",
       "        vertical-align: middle;\n",
       "    }\n",
       "\n",
       "    .dataframe tbody tr th {\n",
       "        vertical-align: top;\n",
       "    }\n",
       "\n",
       "    .dataframe thead th {\n",
       "        text-align: right;\n",
       "    }\n",
       "</style>\n",
       "<table border=\"1\" class=\"dataframe\">\n",
       "  <thead>\n",
       "    <tr style=\"text-align: right;\">\n",
       "      <th></th>\n",
       "      <th>financeType</th>\n",
       "      <th>date</th>\n",
       "      <th>open</th>\n",
       "      <th>high</th>\n",
       "      <th>low</th>\n",
       "      <th>close</th>\n",
       "      <th>adjustedClose</th>\n",
       "      <th>volume</th>\n",
       "      <th>id</th>\n",
       "    </tr>\n",
       "  </thead>\n",
       "  <tbody>\n",
       "    <tr>\n",
       "      <th>5213</th>\n",
       "      <td>doge</td>\n",
       "      <td>2017-11-09</td>\n",
       "      <td>0.001207</td>\n",
       "      <td>0.001415</td>\n",
       "      <td>0.001181</td>\n",
       "      <td>0.001415</td>\n",
       "      <td>0.001415</td>\n",
       "      <td>6259550</td>\n",
       "      <td>5214</td>\n",
       "    </tr>\n",
       "    <tr>\n",
       "      <th>5214</th>\n",
       "      <td>doge</td>\n",
       "      <td>2017-11-10</td>\n",
       "      <td>0.001421</td>\n",
       "      <td>0.001431</td>\n",
       "      <td>0.001125</td>\n",
       "      <td>0.001163</td>\n",
       "      <td>0.001163</td>\n",
       "      <td>4246520</td>\n",
       "      <td>5215</td>\n",
       "    </tr>\n",
       "    <tr>\n",
       "      <th>5215</th>\n",
       "      <td>doge</td>\n",
       "      <td>2017-11-11</td>\n",
       "      <td>0.001146</td>\n",
       "      <td>0.001257</td>\n",
       "      <td>0.001141</td>\n",
       "      <td>0.001201</td>\n",
       "      <td>0.001201</td>\n",
       "      <td>2231080</td>\n",
       "      <td>5216</td>\n",
       "    </tr>\n",
       "    <tr>\n",
       "      <th>5216</th>\n",
       "      <td>doge</td>\n",
       "      <td>2017-11-12</td>\n",
       "      <td>0.001189</td>\n",
       "      <td>0.001210</td>\n",
       "      <td>0.001002</td>\n",
       "      <td>0.001038</td>\n",
       "      <td>0.001038</td>\n",
       "      <td>3288960</td>\n",
       "      <td>5217</td>\n",
       "    </tr>\n",
       "    <tr>\n",
       "      <th>5217</th>\n",
       "      <td>doge</td>\n",
       "      <td>2017-11-13</td>\n",
       "      <td>0.001046</td>\n",
       "      <td>0.001212</td>\n",
       "      <td>0.001019</td>\n",
       "      <td>0.001211</td>\n",
       "      <td>0.001211</td>\n",
       "      <td>2481270</td>\n",
       "      <td>5218</td>\n",
       "    </tr>\n",
       "    <tr>\n",
       "      <th>...</th>\n",
       "      <td>...</td>\n",
       "      <td>...</td>\n",
       "      <td>...</td>\n",
       "      <td>...</td>\n",
       "      <td>...</td>\n",
       "      <td>...</td>\n",
       "      <td>...</td>\n",
       "      <td>...</td>\n",
       "      <td>...</td>\n",
       "    </tr>\n",
       "    <tr>\n",
       "      <th>6916</th>\n",
       "      <td>doge</td>\n",
       "      <td>2022-07-09</td>\n",
       "      <td>0.069224</td>\n",
       "      <td>0.070009</td>\n",
       "      <td>0.068995</td>\n",
       "      <td>0.069512</td>\n",
       "      <td>0.069512</td>\n",
       "      <td>254272147</td>\n",
       "      <td>6917</td>\n",
       "    </tr>\n",
       "    <tr>\n",
       "      <th>6917</th>\n",
       "      <td>doge</td>\n",
       "      <td>2022-07-10</td>\n",
       "      <td>0.069509</td>\n",
       "      <td>0.069509</td>\n",
       "      <td>0.066533</td>\n",
       "      <td>0.067263</td>\n",
       "      <td>0.067263</td>\n",
       "      <td>299810124</td>\n",
       "      <td>6918</td>\n",
       "    </tr>\n",
       "    <tr>\n",
       "      <th>6918</th>\n",
       "      <td>doge</td>\n",
       "      <td>2022-07-11</td>\n",
       "      <td>0.067268</td>\n",
       "      <td>0.067268</td>\n",
       "      <td>0.061535</td>\n",
       "      <td>0.061847</td>\n",
       "      <td>0.061847</td>\n",
       "      <td>326125900</td>\n",
       "      <td>6919</td>\n",
       "    </tr>\n",
       "    <tr>\n",
       "      <th>6919</th>\n",
       "      <td>doge</td>\n",
       "      <td>2022-07-12</td>\n",
       "      <td>0.061851</td>\n",
       "      <td>0.062861</td>\n",
       "      <td>0.060087</td>\n",
       "      <td>0.060087</td>\n",
       "      <td>0.060087</td>\n",
       "      <td>298462083</td>\n",
       "      <td>6920</td>\n",
       "    </tr>\n",
       "    <tr>\n",
       "      <th>6920</th>\n",
       "      <td>doge</td>\n",
       "      <td>2022-07-13</td>\n",
       "      <td>0.060085</td>\n",
       "      <td>0.062011</td>\n",
       "      <td>0.058398</td>\n",
       "      <td>0.061953</td>\n",
       "      <td>0.061953</td>\n",
       "      <td>446505400</td>\n",
       "      <td>6921</td>\n",
       "    </tr>\n",
       "  </tbody>\n",
       "</table>\n",
       "<p>1708 rows × 9 columns</p>\n",
       "</div>"
      ],
      "text/plain": [
       "     financeType        date      open      high       low     close  \\\n",
       "5213        doge  2017-11-09  0.001207  0.001415  0.001181  0.001415   \n",
       "5214        doge  2017-11-10  0.001421  0.001431  0.001125  0.001163   \n",
       "5215        doge  2017-11-11  0.001146  0.001257  0.001141  0.001201   \n",
       "5216        doge  2017-11-12  0.001189  0.001210  0.001002  0.001038   \n",
       "5217        doge  2017-11-13  0.001046  0.001212  0.001019  0.001211   \n",
       "...          ...         ...       ...       ...       ...       ...   \n",
       "6916        doge  2022-07-09  0.069224  0.070009  0.068995  0.069512   \n",
       "6917        doge  2022-07-10  0.069509  0.069509  0.066533  0.067263   \n",
       "6918        doge  2022-07-11  0.067268  0.067268  0.061535  0.061847   \n",
       "6919        doge  2022-07-12  0.061851  0.062861  0.060087  0.060087   \n",
       "6920        doge  2022-07-13  0.060085  0.062011  0.058398  0.061953   \n",
       "\n",
       "      adjustedClose     volume    id  \n",
       "5213       0.001415    6259550  5214  \n",
       "5214       0.001163    4246520  5215  \n",
       "5215       0.001201    2231080  5216  \n",
       "5216       0.001038    3288960  5217  \n",
       "5217       0.001211    2481270  5218  \n",
       "...             ...        ...   ...  \n",
       "6916       0.069512  254272147  6917  \n",
       "6917       0.067263  299810124  6918  \n",
       "6918       0.061847  326125900  6919  \n",
       "6919       0.060087  298462083  6920  \n",
       "6920       0.061953  446505400  6921  \n",
       "\n",
       "[1708 rows x 9 columns]"
      ]
     },
     "execution_count": 7,
     "metadata": {},
     "output_type": "execute_result"
    }
   ],
   "source": [
    "doge_price"
   ]
  },
  {
   "cell_type": "code",
   "execution_count": 8,
   "id": "357aa55e",
   "metadata": {},
   "outputs": [
    {
     "data": {
      "text/plain": [
       "'2022-07-13'"
      ]
     },
     "execution_count": 8,
     "metadata": {},
     "output_type": "execute_result"
    }
   ],
   "source": [
    "end_date = doge_price['date'].iloc[-1]\n",
    "end_date"
   ]
  },
  {
   "cell_type": "code",
   "execution_count": 9,
   "id": "20f77024",
   "metadata": {},
   "outputs": [
    {
     "name": "stderr",
     "output_type": "stream",
     "text": [
      "SqlConn.py:1: SettingWithCopyWarning: \n",
      "A value is trying to be set on a copy of a slice from a DataFrame.\n",
      "Try using .loc[row_indexer,col_indexer] = value instead\n",
      "\n",
      "See the caveats in the documentation: https://pandas.pydata.org/pandas-docs/stable/user_guide/indexing.html#returning-a-view-versus-a-copy\n",
      "  \n"
     ]
    }
   ],
   "source": [
    "doge_price['date'] = pd.to_datetime(doge_price['date'], format='%Y-%m-%d')"
   ]
  },
  {
   "cell_type": "code",
   "execution_count": 10,
   "id": "ece62414",
   "metadata": {},
   "outputs": [
    {
     "data": {
      "text/plain": [
       "financeType              object\n",
       "date             datetime64[ns]\n",
       "open                    float64\n",
       "high                    float64\n",
       "low                     float64\n",
       "close                   float64\n",
       "adjustedClose           float64\n",
       "volume                    int64\n",
       "id                        int64\n",
       "dtype: object"
      ]
     },
     "execution_count": 10,
     "metadata": {},
     "output_type": "execute_result"
    }
   ],
   "source": [
    "doge_price.dtypes"
   ]
  },
  {
   "cell_type": "code",
   "execution_count": 11,
   "id": "95beb949",
   "metadata": {},
   "outputs": [],
   "source": [
    "doge_price.set_index(\"date\",inplace = True)"
   ]
  },
  {
   "cell_type": "code",
   "execution_count": 12,
   "id": "cf0aa09e",
   "metadata": {},
   "outputs": [
    {
     "data": {
      "image/png": "[encoded data removed]",
      "text/plain": [
       "<Figure size 1152x576 with 1 Axes>"
      ]
     },
     "metadata": {
      "needs_background": "light"
     },
     "output_type": "display_data"
    }
   ],
   "source": [
    "plt.figure(figsize=(16,8))\n",
    "plt.title('Close Price History of Doge')\n",
    "plt.plot(doge_price['close'])\n",
    "plt.xlabel('Date',fontsize=18)\n",
    "plt.ylabel('Close Price USD($)',fontsize=18)\n",
    "plt.show()"
   ]
  },
  {
   "cell_type": "code",
   "execution_count": 13,
   "id": "9038167d",
   "metadata": {},
   "outputs": [
    {
     "data": {
      "text/html": [
       "<div>\n",
       "<style scoped>\n",
       "    .dataframe tbody tr th:only-of-type {\n",
       "        vertical-align: middle;\n",
       "    }\n",
       "\n",
       "    .dataframe tbody tr th {\n",
       "        vertical-align: top;\n",
       "    }\n",
       "\n",
       "    .dataframe thead th {\n",
       "        text-align: right;\n",
       "    }\n",
       "</style>\n",
       "<table border=\"1\" class=\"dataframe\">\n",
       "  <thead>\n",
       "    <tr style=\"text-align: right;\">\n",
       "      <th></th>\n",
       "      <th>close</th>\n",
       "    </tr>\n",
       "    <tr>\n",
       "      <th>date</th>\n",
       "      <th></th>\n",
       "    </tr>\n",
       "  </thead>\n",
       "  <tbody>\n",
       "    <tr>\n",
       "      <th>2017-11-09</th>\n",
       "      <td>0.001415</td>\n",
       "    </tr>\n",
       "    <tr>\n",
       "      <th>2017-11-10</th>\n",
       "      <td>0.001163</td>\n",
       "    </tr>\n",
       "    <tr>\n",
       "      <th>2017-11-11</th>\n",
       "      <td>0.001201</td>\n",
       "    </tr>\n",
       "    <tr>\n",
       "      <th>2017-11-12</th>\n",
       "      <td>0.001038</td>\n",
       "    </tr>\n",
       "    <tr>\n",
       "      <th>2017-11-13</th>\n",
       "      <td>0.001211</td>\n",
       "    </tr>\n",
       "  </tbody>\n",
       "</table>\n",
       "</div>"
      ],
      "text/plain": [
       "               close\n",
       "date                \n",
       "2017-11-09  0.001415\n",
       "2017-11-10  0.001163\n",
       "2017-11-11  0.001201\n",
       "2017-11-12  0.001038\n",
       "2017-11-13  0.001211"
      ]
     },
     "execution_count": 13,
     "metadata": {},
     "output_type": "execute_result"
    }
   ],
   "source": [
    "data = doge_price.drop(['financeType','open', 'high', 'low', 'adjustedClose', 'volume','id'], axis = 1)\n",
    "price_column = 'close'\n",
    "data.head()"
   ]
  },
  {
   "cell_type": "code",
   "execution_count": 14,
   "id": "1eb5071b",
   "metadata": {},
   "outputs": [],
   "source": [
    "# This function splits the data in 70,30 ratio.\n",
    "def train_test_split(df, test_size=0.3):\n",
    "    split_row = len(df) - int(test_size * len(df))\n",
    "    train_data = df.iloc[:split_row]\n",
    "    test_data = df.iloc[split_row:]\n",
    "    return train_data, test_data"
   ]
  },
  {
   "cell_type": "code",
   "execution_count": 15,
   "id": "46dc1214",
   "metadata": {},
   "outputs": [],
   "source": [
    "train, test = train_test_split(data, test_size=0.2)"
   ]
  },
  {
   "cell_type": "code",
   "execution_count": 16,
   "id": "2326ae5c",
   "metadata": {},
   "outputs": [
    {
     "data": {
      "text/plain": [
       "((1367, 1), (341, 1))"
      ]
     },
     "execution_count": 16,
     "metadata": {},
     "output_type": "execute_result"
    }
   ],
   "source": [
    "train.shape, test.shape"
   ]
  },
  {
   "cell_type": "code",
   "execution_count": 17,
   "id": "fad40f4a",
   "metadata": {},
   "outputs": [
    {
     "data": {
      "text/html": [
       "<div>\n",
       "<style scoped>\n",
       "    .dataframe tbody tr th:only-of-type {\n",
       "        vertical-align: middle;\n",
       "    }\n",
       "\n",
       "    .dataframe tbody tr th {\n",
       "        vertical-align: top;\n",
       "    }\n",
       "\n",
       "    .dataframe thead th {\n",
       "        text-align: right;\n",
       "    }\n",
       "</style>\n",
       "<table border=\"1\" class=\"dataframe\">\n",
       "  <thead>\n",
       "    <tr style=\"text-align: right;\">\n",
       "      <th></th>\n",
       "      <th>close</th>\n",
       "    </tr>\n",
       "    <tr>\n",
       "      <th>date</th>\n",
       "      <th></th>\n",
       "    </tr>\n",
       "  </thead>\n",
       "  <tbody>\n",
       "    <tr>\n",
       "      <th>2017-11-09</th>\n",
       "      <td>0.001415</td>\n",
       "    </tr>\n",
       "    <tr>\n",
       "      <th>2017-11-10</th>\n",
       "      <td>0.001163</td>\n",
       "    </tr>\n",
       "    <tr>\n",
       "      <th>2017-11-11</th>\n",
       "      <td>0.001201</td>\n",
       "    </tr>\n",
       "    <tr>\n",
       "      <th>2017-11-12</th>\n",
       "      <td>0.001038</td>\n",
       "    </tr>\n",
       "    <tr>\n",
       "      <th>2017-11-13</th>\n",
       "      <td>0.001211</td>\n",
       "    </tr>\n",
       "    <tr>\n",
       "      <th>...</th>\n",
       "      <td>...</td>\n",
       "    </tr>\n",
       "    <tr>\n",
       "      <th>2021-08-02</th>\n",
       "      <td>0.203600</td>\n",
       "    </tr>\n",
       "    <tr>\n",
       "      <th>2021-08-03</th>\n",
       "      <td>0.195967</td>\n",
       "    </tr>\n",
       "    <tr>\n",
       "      <th>2021-08-04</th>\n",
       "      <td>0.201490</td>\n",
       "    </tr>\n",
       "    <tr>\n",
       "      <th>2021-08-05</th>\n",
       "      <td>0.200974</td>\n",
       "    </tr>\n",
       "    <tr>\n",
       "      <th>2021-08-06</th>\n",
       "      <td>0.204688</td>\n",
       "    </tr>\n",
       "  </tbody>\n",
       "</table>\n",
       "<p>1367 rows × 1 columns</p>\n",
       "</div>"
      ],
      "text/plain": [
       "               close\n",
       "date                \n",
       "2017-11-09  0.001415\n",
       "2017-11-10  0.001163\n",
       "2017-11-11  0.001201\n",
       "2017-11-12  0.001038\n",
       "2017-11-13  0.001211\n",
       "...              ...\n",
       "2021-08-02  0.203600\n",
       "2021-08-03  0.195967\n",
       "2021-08-04  0.201490\n",
       "2021-08-05  0.200974\n",
       "2021-08-06  0.204688\n",
       "\n",
       "[1367 rows x 1 columns]"
      ]
     },
     "execution_count": 17,
     "metadata": {},
     "output_type": "execute_result"
    }
   ],
   "source": [
    "train"
   ]
  },
  {
   "cell_type": "code",
   "execution_count": 18,
   "id": "b25ba66a",
   "metadata": {},
   "outputs": [
    {
     "data": {
      "text/html": [
       "<div>\n",
       "<style scoped>\n",
       "    .dataframe tbody tr th:only-of-type {\n",
       "        vertical-align: middle;\n",
       "    }\n",
       "\n",
       "    .dataframe tbody tr th {\n",
       "        vertical-align: top;\n",
       "    }\n",
       "\n",
       "    .dataframe thead th {\n",
       "        text-align: right;\n",
       "    }\n",
       "</style>\n",
       "<table border=\"1\" class=\"dataframe\">\n",
       "  <thead>\n",
       "    <tr style=\"text-align: right;\">\n",
       "      <th></th>\n",
       "      <th>close</th>\n",
       "    </tr>\n",
       "    <tr>\n",
       "      <th>date</th>\n",
       "      <th></th>\n",
       "    </tr>\n",
       "  </thead>\n",
       "  <tbody>\n",
       "    <tr>\n",
       "      <th>2021-08-07</th>\n",
       "      <td>0.260341</td>\n",
       "    </tr>\n",
       "    <tr>\n",
       "      <th>2021-08-08</th>\n",
       "      <td>0.240045</td>\n",
       "    </tr>\n",
       "    <tr>\n",
       "      <th>2021-08-09</th>\n",
       "      <td>0.256897</td>\n",
       "    </tr>\n",
       "    <tr>\n",
       "      <th>2021-08-10</th>\n",
       "      <td>0.257325</td>\n",
       "    </tr>\n",
       "    <tr>\n",
       "      <th>2021-08-11</th>\n",
       "      <td>0.265263</td>\n",
       "    </tr>\n",
       "    <tr>\n",
       "      <th>...</th>\n",
       "      <td>...</td>\n",
       "    </tr>\n",
       "    <tr>\n",
       "      <th>2022-07-09</th>\n",
       "      <td>0.069512</td>\n",
       "    </tr>\n",
       "    <tr>\n",
       "      <th>2022-07-10</th>\n",
       "      <td>0.067263</td>\n",
       "    </tr>\n",
       "    <tr>\n",
       "      <th>2022-07-11</th>\n",
       "      <td>0.061847</td>\n",
       "    </tr>\n",
       "    <tr>\n",
       "      <th>2022-07-12</th>\n",
       "      <td>0.060087</td>\n",
       "    </tr>\n",
       "    <tr>\n",
       "      <th>2022-07-13</th>\n",
       "      <td>0.061953</td>\n",
       "    </tr>\n",
       "  </tbody>\n",
       "</table>\n",
       "<p>341 rows × 1 columns</p>\n",
       "</div>"
      ],
      "text/plain": [
       "               close\n",
       "date                \n",
       "2021-08-07  0.260341\n",
       "2021-08-08  0.240045\n",
       "2021-08-09  0.256897\n",
       "2021-08-10  0.257325\n",
       "2021-08-11  0.265263\n",
       "...              ...\n",
       "2022-07-09  0.069512\n",
       "2022-07-10  0.067263\n",
       "2022-07-11  0.061847\n",
       "2022-07-12  0.060087\n",
       "2022-07-13  0.061953\n",
       "\n",
       "[341 rows x 1 columns]"
      ]
     },
     "execution_count": 18,
     "metadata": {},
     "output_type": "execute_result"
    }
   ],
   "source": [
    "test"
   ]
  },
  {
   "cell_type": "code",
   "execution_count": 19,
   "id": "2c3f65b5",
   "metadata": {},
   "outputs": [
    {
     "data": {
      "text/plain": [
       "array([[0.00055138],\n",
       "       [0.00018282],\n",
       "       [0.0002384 ],\n",
       "       ...,\n",
       "       [0.08893598],\n",
       "       [0.0863619 ],\n",
       "       [0.08909101]])"
      ]
     },
     "execution_count": 19,
     "metadata": {},
     "output_type": "execute_result"
    }
   ],
   "source": [
    "# Perform MinMax scaling\n",
    "scaler=MinMaxScaler(feature_range=(0,1))\n",
    "df1=scaler.fit_transform(np.array(data).reshape(-1,1))\n",
    "df1"
   ]
  },
  {
   "cell_type": "code",
   "execution_count": 20,
   "id": "48596a15",
   "metadata": {},
   "outputs": [
    {
     "data": {
      "text/plain": [
       "(1366, 1367)"
      ]
     },
     "execution_count": 20,
     "metadata": {},
     "output_type": "execute_result"
    }
   ],
   "source": [
    "##splitting dataset into train and test split\n",
    "training_size=int(len(df1)*0.8)\n",
    "# test_size=len(df1)-training_size\n",
    "\n",
    "test_size = 0.2\n",
    "split_row = len(df1) - int(test_size * len(df1))\n",
    "# train_data = df.iloc[:split_row]\n",
    "# test_data = df.iloc[split_row:]\n",
    "    \n",
    "train_scaled,test_scaled=df1[0:split_row,:],df1[split_row:,]\n",
    "training_size,split_row"
   ]
  },
  {
   "cell_type": "code",
   "execution_count": 21,
   "id": "e8c5cd44",
   "metadata": {},
   "outputs": [
    {
     "data": {
      "text/plain": [
       "((1367, 1), (341, 1))"
      ]
     },
     "execution_count": 21,
     "metadata": {},
     "output_type": "execute_result"
    }
   ],
   "source": [
    "train_scaled.shape,test_scaled.shape"
   ]
  },
  {
   "cell_type": "code",
   "execution_count": 22,
   "id": "119a0282",
   "metadata": {},
   "outputs": [
    {
     "data": {
      "text/plain": [
       "array([[5.51379986e-04],\n",
       "       [1.82818298e-04],\n",
       "       [2.38395060e-04],\n",
       "       ...,\n",
       "       [2.93170347e-01],\n",
       "       [2.92415673e-01],\n",
       "       [2.97847570e-01]])"
      ]
     },
     "execution_count": 22,
     "metadata": {},
     "output_type": "execute_result"
    }
   ],
   "source": [
    "train_scaled"
   ]
  },
  {
   "cell_type": "code",
   "execution_count": 23,
   "id": "a27a7f05",
   "metadata": {},
   "outputs": [
    {
     "data": {
      "text/plain": [
       "array([[0.37924266],\n",
       "       [0.34955882],\n",
       "       [0.37420565],\n",
       "       [0.37483162],\n",
       "       [0.38644132],\n",
       "       [0.38447858],\n",
       "       [0.41795188],\n",
       "       [0.42717323],\n",
       "       [0.49785518],\n",
       "       [0.46754244],\n",
       "       [0.43642969],\n",
       "       [0.44271425],\n",
       "       [0.46231969],\n",
       "       [0.47745265],\n",
       "       [0.46181218],\n",
       "       [0.45912987],\n",
       "       [0.46344585],\n",
       "       [0.42077606],\n",
       "       [0.42587596],\n",
       "       [0.39177376],\n",
       "       [0.4291038 ],\n",
       "       [0.41622754],\n",
       "       [0.40964023],\n",
       "       [0.39647731],\n",
       "       [0.4057323 ],\n",
       "       [0.42905699],\n",
       "       [0.43132979],\n",
       "       [0.43179488],\n",
       "       [0.43635071],\n",
       "       [0.4584922 ],\n",
       "       [0.45006501],\n",
       "       [0.36959425],\n",
       "       [0.37452156],\n",
       "       [0.36791524],\n",
       "       [0.34946668],\n",
       "       [0.35158737],\n",
       "       [0.36502086],\n",
       "       [0.34350534],\n",
       "       [0.35052995],\n",
       "       [0.36075023],\n",
       "       [0.35322981],\n",
       "       [0.34939063],\n",
       "       [0.3515201 ],\n",
       "       [0.33946287],\n",
       "       [0.30133282],\n",
       "       [0.29249319],\n",
       "       [0.32734713],\n",
       "       [0.3273091 ],\n",
       "       [0.30481368],\n",
       "       [0.30362755],\n",
       "       [0.29824831],\n",
       "       [0.29137434],\n",
       "       [0.28631685],\n",
       "       [0.28934725],\n",
       "       [0.2971982 ],\n",
       "       [0.32464435],\n",
       "       [0.31897405],\n",
       "       [0.32279861],\n",
       "       [0.3507391 ],\n",
       "       [0.36706697],\n",
       "       [0.37162719],\n",
       "       [0.35376803],\n",
       "       [0.35512527],\n",
       "       [0.35913996],\n",
       "       [0.33458235],\n",
       "       [0.33706575],\n",
       "       [0.3293713 ],\n",
       "       [0.33862921],\n",
       "       [0.33819191],\n",
       "       [0.34039889],\n",
       "       [0.34553243],\n",
       "       [0.34641874],\n",
       "       [0.36014181],\n",
       "       [0.35795823],\n",
       "       [0.37010467],\n",
       "       [0.35298996],\n",
       "       [0.35566642],\n",
       "       [0.36665306],\n",
       "       [0.40367743],\n",
       "       [0.38562814],\n",
       "       [0.37250179],\n",
       "       [0.34611453],\n",
       "       [0.43789955],\n",
       "       [0.41948024],\n",
       "       [0.39094889],\n",
       "       [0.40835172],\n",
       "       [0.39589668],\n",
       "       [0.39793401],\n",
       "       [0.39250211],\n",
       "       [0.38354109],\n",
       "       [0.38088657],\n",
       "       [0.38151985],\n",
       "       [0.38797992],\n",
       "       [0.41144501],\n",
       "       [0.39852634],\n",
       "       [0.37246815],\n",
       "       [0.38045073],\n",
       "       [0.37788688],\n",
       "       [0.38123904],\n",
       "       [0.38300287],\n",
       "       [0.37366744],\n",
       "       [0.34546954],\n",
       "       [0.34581763],\n",
       "       [0.32226478],\n",
       "       [0.33941606],\n",
       "       [0.33929028],\n",
       "       [0.32949707],\n",
       "       [0.31976822],\n",
       "       [0.32976618],\n",
       "       [0.32291123],\n",
       "       [0.31486869],\n",
       "       [0.29228843],\n",
       "       [0.29881139],\n",
       "       [0.3019193 ],\n",
       "       [0.31318529],\n",
       "       [0.31251252],\n",
       "       [0.30486633],\n",
       "       [0.30521588],\n",
       "       [0.29098092],\n",
       "       [0.26006268],\n",
       "       [0.24895026],\n",
       "       [0.25940015],\n",
       "       [0.25706739],\n",
       "       [0.26049852],\n",
       "       [0.24636009],\n",
       "       [0.23895668],\n",
       "       [0.24568   ],\n",
       "       [0.24695534],\n",
       "       [0.228928  ],\n",
       "       [0.26196985],\n",
       "       [0.2633227 ],\n",
       "       [0.2521664 ],\n",
       "       [0.24566684],\n",
       "       [0.25062487],\n",
       "       [0.24649464],\n",
       "       [0.24319806],\n",
       "       [0.24883325],\n",
       "       [0.25181539],\n",
       "       [0.26830706],\n",
       "       [0.27142521],\n",
       "       [0.27732658],\n",
       "       [0.27639494],\n",
       "       [0.27300915],\n",
       "       [0.25313607],\n",
       "       [0.24384597],\n",
       "       [0.24903509],\n",
       "       [0.24784018],\n",
       "       [0.25155359],\n",
       "       [0.25355435],\n",
       "       [0.24724347],\n",
       "       [0.24536409],\n",
       "       [0.23164102],\n",
       "       [0.23280082],\n",
       "       [0.2252102 ],\n",
       "       [0.22072165],\n",
       "       [0.21942145],\n",
       "       [0.20815106],\n",
       "       [0.22283503],\n",
       "       [0.23490542],\n",
       "       [0.25010274],\n",
       "       [0.2669308 ],\n",
       "       [0.2692036 ],\n",
       "       [0.25760999],\n",
       "       [0.24878938],\n",
       "       [0.24051136],\n",
       "       [0.23593506],\n",
       "       [0.22547493],\n",
       "       [0.20709949],\n",
       "       [0.19284259],\n",
       "       [0.20596309],\n",
       "       [0.20001784],\n",
       "       [0.20769767],\n",
       "       [0.20877996],\n",
       "       [0.20506217],\n",
       "       [0.20566035],\n",
       "       [0.20770791],\n",
       "       [0.20246468],\n",
       "       [0.20587827],\n",
       "       [0.20708633],\n",
       "       [0.19919443],\n",
       "       [0.19964197],\n",
       "       [0.21421186],\n",
       "       [0.21368241],\n",
       "       [0.22337763],\n",
       "       [0.24064738],\n",
       "       [0.23015654],\n",
       "       [0.23120664],\n",
       "       [0.22062658],\n",
       "       [0.21032733],\n",
       "       [0.20968089],\n",
       "       [0.21632524],\n",
       "       [0.21201804],\n",
       "       [0.22043938],\n",
       "       [0.21654023],\n",
       "       [0.2011206 ],\n",
       "       [0.20143651],\n",
       "       [0.2050022 ],\n",
       "       [0.19865767],\n",
       "       [0.18640446],\n",
       "       [0.19088424],\n",
       "       [0.18546258],\n",
       "       [0.17956413],\n",
       "       [0.18506769],\n",
       "       [0.18517153],\n",
       "       [0.17853742],\n",
       "       [0.1932287 ],\n",
       "       [0.19437241],\n",
       "       [0.19298592],\n",
       "       [0.18804251],\n",
       "       [0.1777769 ],\n",
       "       [0.18129432],\n",
       "       [0.17510775],\n",
       "       [0.16975337],\n",
       "       [0.16964222],\n",
       "       [0.17630997],\n",
       "       [0.16943161],\n",
       "       [0.16755516],\n",
       "       [0.16687362],\n",
       "       [0.16171375],\n",
       "       [0.16528237],\n",
       "       [0.16343371],\n",
       "       [0.16946525],\n",
       "       [0.16887146],\n",
       "       [0.17297244],\n",
       "       [0.17920727],\n",
       "       [0.17275013],\n",
       "       [0.1730207 ],\n",
       "       [0.17761602],\n",
       "       [0.18821363],\n",
       "       [0.19819259],\n",
       "       [0.19009447],\n",
       "       [0.19719513],\n",
       "       [0.21015914],\n",
       "       [0.20712436],\n",
       "       [0.20977595],\n",
       "       [0.20793314],\n",
       "       [0.20005879],\n",
       "       [0.20516162],\n",
       "       [0.20164858],\n",
       "       [0.21267618],\n",
       "       [0.21580311],\n",
       "       [0.25136638],\n",
       "       [0.20823589],\n",
       "       [0.21216283],\n",
       "       [0.2069664 ],\n",
       "       [0.20953171],\n",
       "       [0.21718375],\n",
       "       [0.1954196 ],\n",
       "       [0.20042443],\n",
       "       [0.20335537],\n",
       "       [0.20897155],\n",
       "       [0.21205167],\n",
       "       [0.20866734],\n",
       "       [0.20244713],\n",
       "       [0.20365666],\n",
       "       [0.20713606],\n",
       "       [0.20452249],\n",
       "       [0.19792201],\n",
       "       [0.19796589],\n",
       "       [0.19481557],\n",
       "       [0.19146048],\n",
       "       [0.22950424],\n",
       "       [0.1999725 ],\n",
       "       [0.20279961],\n",
       "       [0.19938164],\n",
       "       [0.19596513],\n",
       "       [0.18503991],\n",
       "       [0.19266855],\n",
       "       [0.18998477],\n",
       "       [0.18791088],\n",
       "       [0.19710884],\n",
       "       [0.18631671],\n",
       "       [0.18554302],\n",
       "       [0.18500334],\n",
       "       [0.18014038],\n",
       "       [0.15179184],\n",
       "       [0.15713452],\n",
       "       [0.12218551],\n",
       "       [0.11939205],\n",
       "       [0.12767006],\n",
       "       [0.12981269],\n",
       "       [0.13426907],\n",
       "       [0.12695341],\n",
       "       [0.13042257],\n",
       "       [0.12082242],\n",
       "       [0.12531829],\n",
       "       [0.12130213],\n",
       "       [0.12201293],\n",
       "       [0.12441443],\n",
       "       [0.12024325],\n",
       "       [0.12080487],\n",
       "       [0.11985129],\n",
       "       [0.11292906],\n",
       "       [0.11743809],\n",
       "       [0.11817521],\n",
       "       [0.11941399],\n",
       "       [0.12699729],\n",
       "       [0.12406342],\n",
       "       [0.11703004],\n",
       "       [0.11953977],\n",
       "       [0.11613203],\n",
       "       [0.11808453],\n",
       "       [0.11728306],\n",
       "       [0.11918583],\n",
       "       [0.11623587],\n",
       "       [0.1146651 ],\n",
       "       [0.11451446],\n",
       "       [0.10883685],\n",
       "       [0.10070656],\n",
       "       [0.09257626],\n",
       "       [0.07734384],\n",
       "       [0.07978776],\n",
       "       [0.0906223 ],\n",
       "       [0.07896434],\n",
       "       [0.08183971],\n",
       "       [0.07601439],\n",
       "       [0.08681383],\n",
       "       [0.08649353],\n",
       "       [0.09438251],\n",
       "       [0.08873708],\n",
       "       [0.09213165],\n",
       "       [0.09665384],\n",
       "       [0.09867069],\n",
       "       [0.10550663],\n",
       "       [0.10413476],\n",
       "       [0.09494705],\n",
       "       [0.10008205],\n",
       "       [0.09513572],\n",
       "       [0.09526588],\n",
       "       [0.0960308 ],\n",
       "       [0.09673428],\n",
       "       [0.1000879 ],\n",
       "       [0.09669918],\n",
       "       [0.0987877 ],\n",
       "       [0.10176836],\n",
       "       [0.09977345],\n",
       "       [0.1001464 ],\n",
       "       [0.09685713],\n",
       "       [0.08893598],\n",
       "       [0.0863619 ],\n",
       "       [0.08909101]])"
      ]
     },
     "execution_count": 23,
     "metadata": {},
     "output_type": "execute_result"
    }
   ],
   "source": [
    "test_scaled"
   ]
  },
  {
   "cell_type": "code",
   "execution_count": 24,
   "id": "6c69a441",
   "metadata": {},
   "outputs": [],
   "source": [
    "# convert an array of values into a dataset matrix\n",
    "def create_dataset(dataset, time_step=1):\n",
    "    dataX, dataY = [], []\n",
    "    for i in range(len(dataset)-time_step-1):\n",
    "        a = dataset[i:(i+time_step), 0]   ###i=0, 0,1,2,3-----99   100 \n",
    "        dataX.append(a)\n",
    "        dataY.append(dataset[i + time_step, 0])\n",
    "    return np.array(dataX), np.array(dataY)"
   ]
  },
  {
   "cell_type": "code",
   "execution_count": 25,
   "id": "7e257e59",
   "metadata": {},
   "outputs": [],
   "source": [
    "# reshape into X=t,t+1,t+2,t+3 and Y=t+4\n",
    "time_step = 160\n",
    "X_train, y_train = create_dataset(train_scaled, time_step)\n",
    "X_test, ytest = create_dataset(test_scaled, time_step)"
   ]
  },
  {
   "cell_type": "code",
   "execution_count": 26,
   "id": "70cf0a45",
   "metadata": {},
   "outputs": [
    {
     "name": "stdout",
     "output_type": "stream",
     "text": [
      "(1206, 160)\n",
      "(1206,)\n"
     ]
    },
    {
     "data": {
      "text/plain": [
       "(None, None)"
      ]
     },
     "execution_count": 26,
     "metadata": {},
     "output_type": "execute_result"
    }
   ],
   "source": [
    "print(X_train.shape), print(y_train.shape)"
   ]
  },
  {
   "cell_type": "code",
   "execution_count": 27,
   "id": "561ed04b",
   "metadata": {},
   "outputs": [
    {
     "name": "stdout",
     "output_type": "stream",
     "text": [
      "(180, 160)\n",
      "(180,)\n"
     ]
    },
    {
     "data": {
      "text/plain": [
       "(None, None)"
      ]
     },
     "execution_count": 27,
     "metadata": {},
     "output_type": "execute_result"
    }
   ],
   "source": [
    "print(X_test.shape), print(ytest.shape)"
   ]
  },
  {
   "cell_type": "code",
   "execution_count": 28,
   "id": "17ba53b9",
   "metadata": {},
   "outputs": [],
   "source": [
    "# reshape input to be [samples, time steps, features] which is required for LSTM\n",
    "X_train =X_train.reshape(X_train.shape[0],X_train.shape[1] , 1)\n",
    "X_test = X_test.reshape(X_test.shape[0],X_test.shape[1] , 1)"
   ]
  },
  {
   "cell_type": "code",
   "execution_count": 29,
   "id": "f8732a2d",
   "metadata": {},
   "outputs": [
    {
     "name": "stdout",
     "output_type": "stream",
     "text": [
      "(1206, 160, 1)\n",
      "(1206,)\n"
     ]
    },
    {
     "data": {
      "text/plain": [
       "(None, None)"
      ]
     },
     "execution_count": 29,
     "metadata": {},
     "output_type": "execute_result"
    }
   ],
   "source": [
    "print(X_train.shape), print(y_train.shape)"
   ]
  },
  {
   "cell_type": "code",
   "execution_count": 30,
   "id": "29d30983",
   "metadata": {},
   "outputs": [
    {
     "name": "stdout",
     "output_type": "stream",
     "text": [
      "(180, 160, 1)\n",
      "(180,)\n"
     ]
    },
    {
     "data": {
      "text/plain": [
       "(None, None)"
      ]
     },
     "execution_count": 30,
     "metadata": {},
     "output_type": "execute_result"
    }
   ],
   "source": [
    "print(X_test.shape), print(ytest.shape)"
   ]
  },
  {
   "cell_type": "code",
   "execution_count": 31,
   "id": "8784e8dc",
   "metadata": {},
   "outputs": [
    {
     "data": {
      "text/plain": [
       "array([[[0.37924266],\n",
       "        [0.34955882],\n",
       "        [0.37420565],\n",
       "        ...,\n",
       "        [0.22283503],\n",
       "        [0.23490542],\n",
       "        [0.25010274]],\n",
       "\n",
       "       [[0.34955882],\n",
       "        [0.37420565],\n",
       "        [0.37483162],\n",
       "        ...,\n",
       "        [0.23490542],\n",
       "        [0.25010274],\n",
       "        [0.2669308 ]],\n",
       "\n",
       "       [[0.37420565],\n",
       "        [0.37483162],\n",
       "        [0.38644132],\n",
       "        ...,\n",
       "        [0.25010274],\n",
       "        [0.2669308 ],\n",
       "        [0.2692036 ]],\n",
       "\n",
       "       ...,\n",
       "\n",
       "       [[0.20587827],\n",
       "        [0.20708633],\n",
       "        [0.19919443],\n",
       "        ...,\n",
       "        [0.10176836],\n",
       "        [0.09977345],\n",
       "        [0.1001464 ]],\n",
       "\n",
       "       [[0.20708633],\n",
       "        [0.19919443],\n",
       "        [0.19964197],\n",
       "        ...,\n",
       "        [0.09977345],\n",
       "        [0.1001464 ],\n",
       "        [0.09685713]],\n",
       "\n",
       "       [[0.19919443],\n",
       "        [0.19964197],\n",
       "        [0.21421186],\n",
       "        ...,\n",
       "        [0.1001464 ],\n",
       "        [0.09685713],\n",
       "        [0.08893598]]])"
      ]
     },
     "execution_count": 31,
     "metadata": {},
     "output_type": "execute_result"
    }
   ],
   "source": [
    "X_test"
   ]
  },
  {
   "cell_type": "code",
   "execution_count": 32,
   "id": "e4d85568",
   "metadata": {},
   "outputs": [
    {
     "data": {
      "text/plain": [
       "array([0.2669308 , 0.2692036 , 0.25760999, 0.24878938, 0.24051136,\n",
       "       0.23593506, 0.22547493, 0.20709949, 0.19284259, 0.20596309,\n",
       "       0.20001784, 0.20769767, 0.20877996, 0.20506217, 0.20566035,\n",
       "       0.20770791, 0.20246468, 0.20587827, 0.20708633, 0.19919443,\n",
       "       0.19964197, 0.21421186, 0.21368241, 0.22337763, 0.24064738,\n",
       "       0.23015654, 0.23120664, 0.22062658, 0.21032733, 0.20968089,\n",
       "       0.21632524, 0.21201804, 0.22043938, 0.21654023, 0.2011206 ,\n",
       "       0.20143651, 0.2050022 , 0.19865767, 0.18640446, 0.19088424,\n",
       "       0.18546258, 0.17956413, 0.18506769, 0.18517153, 0.17853742,\n",
       "       0.1932287 , 0.19437241, 0.19298592, 0.18804251, 0.1777769 ,\n",
       "       0.18129432, 0.17510775, 0.16975337, 0.16964222, 0.17630997,\n",
       "       0.16943161, 0.16755516, 0.16687362, 0.16171375, 0.16528237,\n",
       "       0.16343371, 0.16946525, 0.16887146, 0.17297244, 0.17920727,\n",
       "       0.17275013, 0.1730207 , 0.17761602, 0.18821363, 0.19819259,\n",
       "       0.19009447, 0.19719513, 0.21015914, 0.20712436, 0.20977595,\n",
       "       0.20793314, 0.20005879, 0.20516162, 0.20164858, 0.21267618,\n",
       "       0.21580311, 0.25136638, 0.20823589, 0.21216283, 0.2069664 ,\n",
       "       0.20953171, 0.21718375, 0.1954196 , 0.20042443, 0.20335537,\n",
       "       0.20897155, 0.21205167, 0.20866734, 0.20244713, 0.20365666,\n",
       "       0.20713606, 0.20452249, 0.19792201, 0.19796589, 0.19481557,\n",
       "       0.19146048, 0.22950424, 0.1999725 , 0.20279961, 0.19938164,\n",
       "       0.19596513, 0.18503991, 0.19266855, 0.18998477, 0.18791088,\n",
       "       0.19710884, 0.18631671, 0.18554302, 0.18500334, 0.18014038,\n",
       "       0.15179184, 0.15713452, 0.12218551, 0.11939205, 0.12767006,\n",
       "       0.12981269, 0.13426907, 0.12695341, 0.13042257, 0.12082242,\n",
       "       0.12531829, 0.12130213, 0.12201293, 0.12441443, 0.12024325,\n",
       "       0.12080487, 0.11985129, 0.11292906, 0.11743809, 0.11817521,\n",
       "       0.11941399, 0.12699729, 0.12406342, 0.11703004, 0.11953977,\n",
       "       0.11613203, 0.11808453, 0.11728306, 0.11918583, 0.11623587,\n",
       "       0.1146651 , 0.11451446, 0.10883685, 0.10070656, 0.09257626,\n",
       "       0.07734384, 0.07978776, 0.0906223 , 0.07896434, 0.08183971,\n",
       "       0.07601439, 0.08681383, 0.08649353, 0.09438251, 0.08873708,\n",
       "       0.09213165, 0.09665384, 0.09867069, 0.10550663, 0.10413476,\n",
       "       0.09494705, 0.10008205, 0.09513572, 0.09526588, 0.0960308 ,\n",
       "       0.09673428, 0.1000879 , 0.09669918, 0.0987877 , 0.10176836,\n",
       "       0.09977345, 0.1001464 , 0.09685713, 0.08893598, 0.0863619 ])"
      ]
     },
     "execution_count": 32,
     "metadata": {},
     "output_type": "execute_result"
    }
   ],
   "source": [
    "ytest"
   ]
  },
  {
   "cell_type": "code",
   "execution_count": 33,
   "id": "77e7a222",
   "metadata": {},
   "outputs": [],
   "source": [
    "np.random.seed(42)\n",
    "tf.random.set_seed(42)\n",
    "window_len = 160\n",
    "test_size = 0.2\n",
    "zero_base = True\n",
    "lstm_neurons = 100\n",
    "epochs = 100\n",
    "batch_size = 32\n",
    "loss = 'mse'\n",
    "dropout = 0.2\n",
    "optimizer = 'adam'\n",
    "activ_func = \"relu\""
   ]
  },
  {
   "cell_type": "code",
   "execution_count": 34,
   "id": "084c168b",
   "metadata": {},
   "outputs": [],
   "source": [
    "# model = Sequential()\n",
    "# model.add(LSTM(100, input_shape=(X_train.shape[1], X_train.shape[2])))\n",
    "# model.add(Dropout(dropout))\n",
    "# model.add(Dense(units=1))\n",
    "# model.add(Activation(activ_func))\n",
    "# model.compile(loss=loss, optimizer=optimizer)\n",
    "# model.summary()"
   ]
  },
  {
   "cell_type": "code",
   "execution_count": 35,
   "id": "76e505f6",
   "metadata": {},
   "outputs": [],
   "source": [
    "model=Sequential()\n",
    "model.add(LSTM(50,return_sequences=True,input_shape=(X_train.shape[1], X_train.shape[2])))\n",
    "model.add(LSTM(50,return_sequences=True))\n",
    "model.add(LSTM(50))\n",
    "model.add(Dense(1))\n",
    "model.compile(loss='mean_squared_error',optimizer='adam')"
   ]
  },
  {
   "cell_type": "code",
   "execution_count": 36,
   "id": "eba7e5d9",
   "metadata": {},
   "outputs": [
    {
     "name": "stdout",
     "output_type": "stream",
     "text": [
      "Epoch 1/100\n",
      "38/38 [==============================] - 15s 181ms/step - loss: 0.0054\n",
      "Epoch 2/100\n",
      "38/38 [==============================] - 7s 181ms/step - loss: 0.0024\n",
      "Epoch 3/100\n",
      "38/38 [==============================] - 7s 171ms/step - loss: 0.0020\n",
      "Epoch 4/100\n",
      "38/38 [==============================] - 7s 183ms/step - loss: 0.0018\n",
      "Epoch 5/100\n",
      "38/38 [==============================] - 7s 189ms/step - loss: 0.0016\n",
      "Epoch 6/100\n",
      "38/38 [==============================] - 7s 184ms/step - loss: 0.0019\n",
      "Epoch 7/100\n",
      "38/38 [==============================] - 7s 182ms/step - loss: 0.0015\n",
      "Epoch 8/100\n",
      "38/38 [==============================] - 7s 192ms/step - loss: 0.0015\n",
      "Epoch 9/100\n",
      "38/38 [==============================] - 7s 184ms/step - loss: 0.0013\n",
      "Epoch 10/100\n",
      "38/38 [==============================] - 7s 195ms/step - loss: 0.0014\n",
      "Epoch 11/100\n",
      "38/38 [==============================] - 7s 189ms/step - loss: 0.0012\n",
      "Epoch 12/100\n",
      "38/38 [==============================] - 7s 187ms/step - loss: 0.0012\n",
      "Epoch 13/100\n",
      "38/38 [==============================] - 7s 185ms/step - loss: 0.0011\n",
      "Epoch 14/100\n",
      "38/38 [==============================] - 7s 187ms/step - loss: 0.0011\n",
      "Epoch 15/100\n",
      "38/38 [==============================] - 8s 210ms/step - loss: 9.4488e-04\n",
      "Epoch 16/100\n",
      "38/38 [==============================] - 8s 204ms/step - loss: 8.2006e-04\n",
      "Epoch 17/100\n",
      "38/38 [==============================] - 8s 205ms/step - loss: 0.0012\n",
      "Epoch 18/100\n",
      "38/38 [==============================] - 8s 213ms/step - loss: 0.0010\n",
      "Epoch 19/100\n",
      "38/38 [==============================] - 7s 195ms/step - loss: 7.4938e-04\n",
      "Epoch 20/100\n",
      "38/38 [==============================] - 7s 195ms/step - loss: 6.8160e-04\n",
      "Epoch 21/100\n",
      "38/38 [==============================] - 7s 189ms/step - loss: 6.4558e-04\n",
      "Epoch 22/100\n",
      "38/38 [==============================] - 7s 193ms/step - loss: 6.3673e-04\n",
      "Epoch 23/100\n",
      "38/38 [==============================] - 7s 185ms/step - loss: 5.4674e-04\n",
      "Epoch 24/100\n",
      "38/38 [==============================] - 7s 191ms/step - loss: 4.6614e-04\n",
      "Epoch 25/100\n",
      "38/38 [==============================] - 8s 197ms/step - loss: 4.5984e-04\n",
      "Epoch 26/100\n",
      "38/38 [==============================] - 7s 196ms/step - loss: 4.3738e-04\n",
      "Epoch 27/100\n",
      "38/38 [==============================] - 7s 194ms/step - loss: 5.6393e-04\n",
      "Epoch 28/100\n",
      "38/38 [==============================] - 7s 190ms/step - loss: 3.9057e-04\n",
      "Epoch 29/100\n",
      "38/38 [==============================] - 7s 190ms/step - loss: 5.7872e-04\n",
      "Epoch 30/100\n",
      "38/38 [==============================] - 8s 202ms/step - loss: 5.1929e-04\n",
      "Epoch 31/100\n",
      "38/38 [==============================] - 8s 212ms/step - loss: 5.8486e-04\n",
      "Epoch 32/100\n",
      "38/38 [==============================] - 8s 210ms/step - loss: 4.2051e-04\n",
      "Epoch 33/100\n",
      "38/38 [==============================] - 8s 218ms/step - loss: 4.2192e-04\n",
      "Epoch 34/100\n",
      "38/38 [==============================] - 8s 210ms/step - loss: 4.3135e-04\n",
      "Epoch 35/100\n",
      "38/38 [==============================] - 8s 214ms/step - loss: 4.2159e-04\n",
      "Epoch 36/100\n",
      "38/38 [==============================] - 8s 200ms/step - loss: 3.7464e-04\n",
      "Epoch 37/100\n",
      "38/38 [==============================] - 7s 196ms/step - loss: 3.6825e-04\n",
      "Epoch 38/100\n",
      "38/38 [==============================] - 7s 197ms/step - loss: 3.9124e-04\n",
      "Epoch 39/100\n",
      "38/38 [==============================] - 7s 190ms/step - loss: 3.6123e-04\n",
      "Epoch 40/100\n",
      "38/38 [==============================] - 7s 192ms/step - loss: 3.5488e-04\n",
      "Epoch 41/100\n",
      "38/38 [==============================] - 7s 181ms/step - loss: 4.3379e-04\n",
      "Epoch 42/100\n",
      "38/38 [==============================] - 7s 195ms/step - loss: 4.2860e-04\n",
      "Epoch 43/100\n",
      "38/38 [==============================] - 7s 195ms/step - loss: 3.6790e-04\n",
      "Epoch 44/100\n",
      "38/38 [==============================] - 7s 189ms/step - loss: 3.8558e-04\n",
      "Epoch 45/100\n",
      "38/38 [==============================] - 7s 177ms/step - loss: 4.3126e-04\n",
      "Epoch 46/100\n",
      "38/38 [==============================] - 7s 177ms/step - loss: 4.0805e-04\n",
      "Epoch 47/100\n",
      "38/38 [==============================] - 8s 206ms/step - loss: 3.9579e-04\n",
      "Epoch 48/100\n",
      "38/38 [==============================] - 8s 206ms/step - loss: 4.7469e-04\n",
      "Epoch 49/100\n",
      "38/38 [==============================] - 8s 207ms/step - loss: 3.6690e-04\n",
      "Epoch 50/100\n",
      "38/38 [==============================] - 8s 207ms/step - loss: 3.4782e-04\n",
      "Epoch 51/100\n",
      "38/38 [==============================] - 8s 202ms/step - loss: 3.7009e-04\n",
      "Epoch 52/100\n",
      "38/38 [==============================] - 8s 201ms/step - loss: 4.3261e-04\n",
      "Epoch 53/100\n",
      "38/38 [==============================] - 8s 206ms/step - loss: 4.2635e-04\n",
      "Epoch 54/100\n",
      "38/38 [==============================] - 7s 184ms/step - loss: 3.8335e-04\n",
      "Epoch 55/100\n",
      "38/38 [==============================] - 7s 184ms/step - loss: 4.4303e-04\n",
      "Epoch 56/100\n",
      "38/38 [==============================] - 7s 178ms/step - loss: 4.0341e-04\n",
      "Epoch 57/100\n",
      "38/38 [==============================] - 7s 180ms/step - loss: 4.7322e-04\n",
      "Epoch 58/100\n",
      "38/38 [==============================] - 7s 191ms/step - loss: 3.7077e-04\n",
      "Epoch 59/100\n",
      "38/38 [==============================] - 7s 185ms/step - loss: 3.6198e-04\n",
      "Epoch 60/100\n",
      "38/38 [==============================] - 7s 180ms/step - loss: 3.8729e-04\n",
      "Epoch 61/100\n",
      "38/38 [==============================] - 7s 178ms/step - loss: 3.9093e-04\n",
      "Epoch 62/100\n",
      "38/38 [==============================] - 7s 185ms/step - loss: 4.3585e-04\n",
      "Epoch 63/100\n",
      "38/38 [==============================] - 7s 194ms/step - loss: 3.4254e-04\n",
      "Epoch 64/100\n",
      "38/38 [==============================] - 8s 207ms/step - loss: 3.8256e-04\n",
      "Epoch 65/100\n",
      "38/38 [==============================] - 8s 202ms/step - loss: 4.8277e-04\n",
      "Epoch 66/100\n",
      "38/38 [==============================] - 8s 198ms/step - loss: 3.3535e-04\n",
      "Epoch 67/100\n",
      "38/38 [==============================] - 8s 198ms/step - loss: 4.0504e-04\n",
      "Epoch 68/100\n",
      "38/38 [==============================] - 7s 186ms/step - loss: 3.6055e-04\n",
      "Epoch 69/100\n",
      "38/38 [==============================] - 7s 187ms/step - loss: 3.0643e-04\n",
      "Epoch 70/100\n",
      "38/38 [==============================] - 7s 180ms/step - loss: 3.1267e-04\n",
      "Epoch 71/100\n",
      "38/38 [==============================] - 7s 186ms/step - loss: 3.3043e-04\n",
      "Epoch 72/100\n",
      "38/38 [==============================] - 7s 178ms/step - loss: 3.3242e-04\n",
      "Epoch 73/100\n",
      "38/38 [==============================] - 7s 179ms/step - loss: 3.7626e-04\n",
      "Epoch 74/100\n",
      "38/38 [==============================] - 7s 177ms/step - loss: 3.6111e-04\n",
      "Epoch 75/100\n",
      "38/38 [==============================] - 7s 186ms/step - loss: 3.4901e-04\n",
      "Epoch 76/100\n",
      "38/38 [==============================] - 7s 194ms/step - loss: 3.6628e-04\n",
      "Epoch 77/100\n",
      "38/38 [==============================] - 7s 178ms/step - loss: 3.1626e-04\n",
      "Epoch 78/100\n",
      "38/38 [==============================] - 7s 177ms/step - loss: 3.7706e-04\n",
      "Epoch 79/100\n",
      "38/38 [==============================] - 7s 179ms/step - loss: 3.8176e-04\n",
      "Epoch 80/100\n",
      "38/38 [==============================] - 7s 187ms/step - loss: 3.5248e-04\n",
      "Epoch 81/100\n",
      "38/38 [==============================] - 7s 192ms/step - loss: 3.3008e-04\n",
      "Epoch 82/100\n",
      "38/38 [==============================] - 7s 189ms/step - loss: 4.4833e-04\n",
      "Epoch 83/100\n",
      "38/38 [==============================] - 7s 183ms/step - loss: 3.5587e-04\n",
      "Epoch 84/100\n",
      "38/38 [==============================] - 7s 187ms/step - loss: 3.6183e-04\n",
      "Epoch 85/100\n",
      "38/38 [==============================] - 7s 182ms/step - loss: 3.9944e-04\n",
      "Epoch 86/100\n",
      "38/38 [==============================] - 7s 173ms/step - loss: 4.1120e-04\n",
      "Epoch 87/100\n",
      "38/38 [==============================] - 6s 169ms/step - loss: 3.4334e-04\n",
      "Epoch 88/100\n",
      "38/38 [==============================] - 6s 169ms/step - loss: 3.8473e-04\n",
      "Epoch 89/100\n",
      "38/38 [==============================] - 6s 168ms/step - loss: 3.6544e-04\n",
      "Epoch 90/100\n",
      "38/38 [==============================] - 7s 176ms/step - loss: 3.5001e-04\n",
      "Epoch 91/100\n",
      "38/38 [==============================] - 6s 171ms/step - loss: 3.1377e-04\n",
      "Epoch 92/100\n",
      "38/38 [==============================] - 6s 170ms/step - loss: 3.9034e-04\n",
      "Epoch 93/100\n",
      "38/38 [==============================] - 7s 184ms/step - loss: 3.1678e-04\n",
      "Epoch 94/100\n",
      "38/38 [==============================] - 6s 169ms/step - loss: 4.1412e-04\n",
      "Epoch 95/100\n",
      "38/38 [==============================] - 7s 172ms/step - loss: 3.6820e-04\n"
     ]
    },
    {
     "name": "stdout",
     "output_type": "stream",
     "text": [
      "Epoch 96/100\n",
      "38/38 [==============================] - 7s 173ms/step - loss: 3.6035e-04\n",
      "Epoch 97/100\n",
      "38/38 [==============================] - 6s 169ms/step - loss: 3.2541e-04\n",
      "Epoch 98/100\n",
      "38/38 [==============================] - 7s 186ms/step - loss: 3.0699e-04\n",
      "Epoch 99/100\n",
      "38/38 [==============================] - 7s 192ms/step - loss: 4.0343e-04\n",
      "Epoch 100/100\n",
      "38/38 [==============================] - 7s 193ms/step - loss: 3.1171e-04\n"
     ]
    }
   ],
   "source": [
    "history = model.fit(\n",
    "    X_train, y_train, epochs=epochs, batch_size=batch_size, verbose=1, shuffle=True)"
   ]
  },
  {
   "cell_type": "code",
   "execution_count": 37,
   "id": "baa9a840",
   "metadata": {},
   "outputs": [
    {
     "name": "stdout",
     "output_type": "stream",
     "text": [
      "38/38 [==============================] - 4s 64ms/step\n",
      "6/6 [==============================] - 0s 61ms/step\n"
     ]
    }
   ],
   "source": [
    "### Lets Do the prediction and check performance metrics\n",
    "train_predict=model.predict(X_train)\n",
    "test_predict=model.predict(X_test)"
   ]
  },
  {
   "cell_type": "code",
   "execution_count": 38,
   "id": "bdb24023",
   "metadata": {},
   "outputs": [
    {
     "data": {
      "text/plain": [
       "array([[0.2779427 ],\n",
       "       [0.2983982 ],\n",
       "       [0.3121227 ],\n",
       "       [0.30974886],\n",
       "       [0.29508597],\n",
       "       [0.277018  ],\n",
       "       [0.2634401 ],\n",
       "       [0.25365528],\n",
       "       [0.24150689],\n",
       "       [0.22577795],\n",
       "       [0.21852008],\n",
       "       [0.21600334],\n",
       "       [0.21913452],\n",
       "       [0.2241678 ],\n",
       "       [0.22638023],\n",
       "       [0.22646685],\n",
       "       [0.22699991],\n",
       "       [0.22641252],\n",
       "       [0.22762783],\n",
       "       [0.23077658],\n",
       "       [0.23087329],\n",
       "       [0.22936672],\n",
       "       [0.23392928],\n",
       "       [0.24013212],\n",
       "       [0.24811515],\n",
       "       [0.2607088 ],\n",
       "       [0.2656116 ],\n",
       "       [0.26331392],\n",
       "       [0.25333259],\n",
       "       [0.23898324],\n",
       "       [0.22812614],\n",
       "       [0.2266443 ],\n",
       "       [0.2290949 ],\n",
       "       [0.23542562],\n",
       "       [0.23936437],\n",
       "       [0.23338152],\n",
       "       [0.22434421],\n",
       "       [0.21981749],\n",
       "       [0.21809314],\n",
       "       [0.2139692 ],\n",
       "       [0.2122233 ],\n",
       "       [0.21113104],\n",
       "       [0.20870678],\n",
       "       [0.2090118 ],\n",
       "       [0.21137156],\n",
       "       [0.2113222 ],\n",
       "       [0.21590126],\n",
       "       [0.22232121],\n",
       "       [0.22628511],\n",
       "       [0.22470039],\n",
       "       [0.21599796],\n",
       "       [0.20805576],\n",
       "       [0.20134816],\n",
       "       [0.195242  ],\n",
       "       [0.19110216],\n",
       "       [0.19179323],\n",
       "       [0.1915475 ],\n",
       "       [0.18903893],\n",
       "       [0.18546589],\n",
       "       [0.18043917],\n",
       "       [0.17789362],\n",
       "       [0.1772387 ],\n",
       "       [0.18034439],\n",
       "       [0.18431444],\n",
       "       [0.18879667],\n",
       "       [0.19455022],\n",
       "       [0.19628863],\n",
       "       [0.19501993],\n",
       "       [0.19484073],\n",
       "       [0.20026612],\n",
       "       [0.21125962],\n",
       "       [0.2174166 ],\n",
       "       [0.22051227],\n",
       "       [0.22632399],\n",
       "       [0.23039776],\n",
       "       [0.23258938],\n",
       "       [0.23208492],\n",
       "       [0.22702429],\n",
       "       [0.22369145],\n",
       "       [0.22176778],\n",
       "       [0.2260646 ],\n",
       "       [0.2338084 ],\n",
       "       [0.2554682 ],\n",
       "       [0.2582406 ],\n",
       "       [0.24916513],\n",
       "       [0.23652986],\n",
       "       [0.22961439],\n",
       "       [0.23307791],\n",
       "       [0.23242798],\n",
       "       [0.23104504],\n",
       "       [0.23153326],\n",
       "       [0.23560947],\n",
       "       [0.24160844],\n",
       "       [0.24482094],\n",
       "       [0.24238634],\n",
       "       [0.23838682],\n",
       "       [0.237097  ],\n",
       "       [0.23703614],\n",
       "       [0.23462763],\n",
       "       [0.23141135],\n",
       "       [0.22750133],\n",
       "       [0.22296062],\n",
       "       [0.23539084],\n",
       "       [0.24032035],\n",
       "       [0.23788215],\n",
       "       [0.23063739],\n",
       "       [0.22228505],\n",
       "       [0.2122358 ],\n",
       "       [0.20816357],\n",
       "       [0.20810898],\n",
       "       [0.20890428],\n",
       "       [0.21311785],\n",
       "       [0.21298727],\n",
       "       [0.20952956],\n",
       "       [0.20557037],\n",
       "       [0.20128319],\n",
       "       [0.18708152],\n",
       "       [0.17473824],\n",
       "       [0.15524055],\n",
       "       [0.13743491],\n",
       "       [0.13083187],\n",
       "       [0.13417302],\n",
       "       [0.14327542],\n",
       "       [0.14889823],\n",
       "       [0.15123202],\n",
       "       [0.14738673],\n",
       "       [0.14354369],\n",
       "       [0.14044206],\n",
       "       [0.13943511],\n",
       "       [0.14105211],\n",
       "       [0.14169571],\n",
       "       [0.14112696],\n",
       "       [0.13928881],\n",
       "       [0.13417387],\n",
       "       [0.13029225],\n",
       "       [0.1287283 ],\n",
       "       [0.12907806],\n",
       "       [0.13286285],\n",
       "       [0.13567421],\n",
       "       [0.13332617],\n",
       "       [0.12950145],\n",
       "       [0.12526043],\n",
       "       [0.1232499 ],\n",
       "       [0.12317495],\n",
       "       [0.12497877],\n",
       "       [0.12607984],\n",
       "       [0.1256744 ],\n",
       "       [0.12468473],\n",
       "       [0.12185301],\n",
       "       [0.11601506],\n",
       "       [0.10767739],\n",
       "       [0.09545088],\n",
       "       [0.08644039],\n",
       "       [0.08728786],\n",
       "       [0.08959427],\n",
       "       [0.09215888],\n",
       "       [0.09181387],\n",
       "       [0.09407887],\n",
       "       [0.09778538],\n",
       "       [0.10419498],\n",
       "       [0.1079614 ],\n",
       "       [0.1098346 ],\n",
       "       [0.11197884],\n",
       "       [0.1144992 ],\n",
       "       [0.11886782],\n",
       "       [0.12196013],\n",
       "       [0.11882652],\n",
       "       [0.11460233],\n",
       "       [0.109501  ],\n",
       "       [0.10538869],\n",
       "       [0.10332861],\n",
       "       [0.1030803 ],\n",
       "       [0.10483539],\n",
       "       [0.10549424],\n",
       "       [0.10568688],\n",
       "       [0.10681881],\n",
       "       [0.10755603],\n",
       "       [0.10803097],\n",
       "       [0.10720447],\n",
       "       [0.10308417]], dtype=float32)"
      ]
     },
     "execution_count": 38,
     "metadata": {},
     "output_type": "execute_result"
    }
   ],
   "source": [
    "test_predict"
   ]
  },
  {
   "cell_type": "code",
   "execution_count": 39,
   "id": "b47aed97",
   "metadata": {},
   "outputs": [
    {
     "data": {
      "text/plain": [
       "0.016158946319151882"
      ]
     },
     "execution_count": 39,
     "metadata": {},
     "output_type": "execute_result"
    }
   ],
   "source": [
    "### Calculate RMSE performance metrics\n",
    "import math\n",
    "from sklearn.metrics import mean_squared_error\n",
    "math.sqrt(mean_squared_error(y_train,train_predict))"
   ]
  },
  {
   "cell_type": "code",
   "execution_count": 40,
   "id": "11bffbf7",
   "metadata": {},
   "outputs": [
    {
     "data": {
      "text/plain": [
       "0.025250339420252465"
      ]
     },
     "execution_count": 40,
     "metadata": {},
     "output_type": "execute_result"
    }
   ],
   "source": [
    "### Test Data RMSE\n",
    "math.sqrt(mean_squared_error(ytest,test_predict))"
   ]
  },
  {
   "cell_type": "code",
   "execution_count": 41,
   "id": "7288a85c",
   "metadata": {},
   "outputs": [
    {
     "data": {
      "text/plain": [
       "0.022017661125729813"
      ]
     },
     "execution_count": 41,
     "metadata": {},
     "output_type": "execute_result"
    }
   ],
   "source": [
    "# Calculate the Mean Absolute Error\n",
    "from sklearn.metrics import mean_absolute_error\n",
    "mae=mean_absolute_error(ytest,test_predict)\n",
    "mae"
   ]
  },
  {
   "cell_type": "code",
   "execution_count": 42,
   "id": "99f6f381",
   "metadata": {},
   "outputs": [
    {
     "data": {
      "text/plain": [
       "0.13316362047267885"
      ]
     },
     "execution_count": 42,
     "metadata": {},
     "output_type": "execute_result"
    }
   ],
   "source": [
    "# Calculate Mean Absolute error using Sklearn library\n",
    "from sklearn.metrics import mean_absolute_percentage_error\n",
    "mean_absolute_percentage_error(ytest,test_predict)"
   ]
  },
  {
   "cell_type": "code",
   "execution_count": 43,
   "id": "c782d07e",
   "metadata": {},
   "outputs": [
    {
     "name": "stdout",
     "output_type": "stream",
     "text": [
      "13.32\n"
     ]
    }
   ],
   "source": [
    "# Manual calculation of Mean Absolute Percentage error.\n",
    "total = 0\n",
    "for i,j in zip(ytest, test_predict):\n",
    "    value = abs(i-j)/abs(i)\n",
    "    total+= value\n",
    "#     print(total)\n",
    "error = float(total*100/(len(ytest))) # Calculate MAPE\n",
    "mape = round(error,2) # round to 3 significant figures\n",
    "print(mape)"
   ]
  },
  {
   "cell_type": "code",
   "execution_count": 44,
   "id": "af9ee899",
   "metadata": {},
   "outputs": [],
   "source": [
    "##Transformback to original form\n",
    "train_predict=scaler.inverse_transform(train_predict)\n",
    "test_predict=scaler.inverse_transform(test_predict)"
   ]
  },
  {
   "cell_type": "code",
   "execution_count": 45,
   "id": "3bc7859e",
   "metadata": {},
   "outputs": [
    {
     "data": {
      "text/plain": [
       "array([[0.19107826],\n",
       "       [0.20506449],\n",
       "       [0.21444847],\n",
       "       [0.21282537],\n",
       "       [0.20279978],\n",
       "       [0.19044602],\n",
       "       [0.18116228],\n",
       "       [0.17447202],\n",
       "       [0.16616568],\n",
       "       [0.1554112 ],\n",
       "       [0.15044871],\n",
       "       [0.14872791],\n",
       "       [0.15086882],\n",
       "       [0.15431027],\n",
       "       [0.15582299],\n",
       "       [0.15588222],\n",
       "       [0.15624669],\n",
       "       [0.15584508],\n",
       "       [0.15667602],\n",
       "       [0.15882896],\n",
       "       [0.15889508],\n",
       "       [0.15786497],\n",
       "       [0.16098458],\n",
       "       [0.1652257 ],\n",
       "       [0.17068401],\n",
       "       [0.17929478],\n",
       "       [0.182647  ],\n",
       "       [0.181076  ],\n",
       "       [0.17425138],\n",
       "       [0.16444017],\n",
       "       [0.15701674],\n",
       "       [0.15600355],\n",
       "       [0.15767911],\n",
       "       [0.16200769],\n",
       "       [0.16470076],\n",
       "       [0.16061005],\n",
       "       [0.1544309 ],\n",
       "       [0.15133579],\n",
       "       [0.1501568 ],\n",
       "       [0.1473371 ],\n",
       "       [0.14614336],\n",
       "       [0.14539653],\n",
       "       [0.14373897],\n",
       "       [0.14394751],\n",
       "       [0.14556098],\n",
       "       [0.14552724],\n",
       "       [0.14865811],\n",
       "       [0.15304768],\n",
       "       [0.15575796],\n",
       "       [0.15467443],\n",
       "       [0.14872424],\n",
       "       [0.14329384],\n",
       "       [0.1387076 ],\n",
       "       [0.13453257],\n",
       "       [0.131702  ],\n",
       "       [0.13217452],\n",
       "       [0.1320065 ],\n",
       "       [0.1302913 ],\n",
       "       [0.12784827],\n",
       "       [0.12441131],\n",
       "       [0.12267081],\n",
       "       [0.12222302],\n",
       "       [0.12434649],\n",
       "       [0.12706098],\n",
       "       [0.13012566],\n",
       "       [0.13405958],\n",
       "       [0.1352482 ],\n",
       "       [0.13438074],\n",
       "       [0.13425821],\n",
       "       [0.13796777],\n",
       "       [0.14548445],\n",
       "       [0.14969422],\n",
       "       [0.15181084],\n",
       "       [0.15578455],\n",
       "       [0.15856995],\n",
       "       [0.16006844],\n",
       "       [0.1597235 ],\n",
       "       [0.15626337],\n",
       "       [0.15398458],\n",
       "       [0.15266928],\n",
       "       [0.15560718],\n",
       "       [0.16090192],\n",
       "       [0.17571157],\n",
       "       [0.17760718],\n",
       "       [0.17140192],\n",
       "       [0.16276269],\n",
       "       [0.15803432],\n",
       "       [0.16040246],\n",
       "       [0.15995808],\n",
       "       [0.15901251],\n",
       "       [0.15934633],\n",
       "       [0.1621334 ],\n",
       "       [0.16623512],\n",
       "       [0.16843162],\n",
       "       [0.166767  ],\n",
       "       [0.16403237],\n",
       "       [0.16315047],\n",
       "       [0.16310886],\n",
       "       [0.16146207],\n",
       "       [0.15926297],\n",
       "       [0.15658954],\n",
       "       [0.15348488],\n",
       "       [0.1619839 ],\n",
       "       [0.1653544 ],\n",
       "       [0.1636873 ],\n",
       "       [0.15873379],\n",
       "       [0.15302296],\n",
       "       [0.1461519 ],\n",
       "       [0.14336756],\n",
       "       [0.14333023],\n",
       "       [0.143874  ],\n",
       "       [0.146755  ],\n",
       "       [0.1466657 ],\n",
       "       [0.14430153],\n",
       "       [0.14159448],\n",
       "       [0.13866317],\n",
       "       [0.12895294],\n",
       "       [0.12051336],\n",
       "       [0.10718203],\n",
       "       [0.09500761],\n",
       "       [0.09049285],\n",
       "       [0.09277733],\n",
       "       [0.099001  ],\n",
       "       [0.10284553],\n",
       "       [0.10444123],\n",
       "       [0.10181206],\n",
       "       [0.09918442],\n",
       "       [0.09706372],\n",
       "       [0.09637523],\n",
       "       [0.09748083],\n",
       "       [0.09792089],\n",
       "       [0.09753201],\n",
       "       [0.0962752 ],\n",
       "       [0.09277792],\n",
       "       [0.0901239 ],\n",
       "       [0.08905456],\n",
       "       [0.08929371],\n",
       "       [0.09188152],\n",
       "       [0.09380376],\n",
       "       [0.09219831],\n",
       "       [0.0895832 ],\n",
       "       [0.08668344],\n",
       "       [0.08530876],\n",
       "       [0.08525752],\n",
       "       [0.08649086],\n",
       "       [0.08724371],\n",
       "       [0.08696649],\n",
       "       [0.08628981],\n",
       "       [0.08435366],\n",
       "       [0.08036202],\n",
       "       [0.07466123],\n",
       "       [0.06630149],\n",
       "       [0.06014067],\n",
       "       [0.06072011],\n",
       "       [0.06229709],\n",
       "       [0.06405061],\n",
       "       [0.06381472],\n",
       "       [0.06536339],\n",
       "       [0.06789768],\n",
       "       [0.07228018],\n",
       "       [0.07485542],\n",
       "       [0.0761362 ],\n",
       "       [0.0776023 ],\n",
       "       [0.07932556],\n",
       "       [0.08231257],\n",
       "       [0.0844269 ],\n",
       "       [0.08228432],\n",
       "       [0.07939608],\n",
       "       [0.0759081 ],\n",
       "       [0.07309636],\n",
       "       [0.0716878 ],\n",
       "       [0.07151802],\n",
       "       [0.07271805],\n",
       "       [0.07316852],\n",
       "       [0.07330024],\n",
       "       [0.07407419],\n",
       "       [0.07457826],\n",
       "       [0.07490299],\n",
       "       [0.07433788],\n",
       "       [0.07152066]], dtype=float32)"
      ]
     },
     "execution_count": 45,
     "metadata": {},
     "output_type": "execute_result"
    }
   ],
   "source": [
    "test_predict"
   ]
  },
  {
   "cell_type": "code",
   "execution_count": 46,
   "id": "4ed02f56",
   "metadata": {},
   "outputs": [
    {
     "data": {
      "text/plain": [
       "(180, 1)"
      ]
     },
     "execution_count": 46,
     "metadata": {},
     "output_type": "execute_result"
    }
   ],
   "source": [
    "test_predict.shape"
   ]
  },
  {
   "cell_type": "code",
   "execution_count": 47,
   "id": "d8fef7b4",
   "metadata": {},
   "outputs": [
    {
     "data": {
      "text/plain": [
       "date\n",
       "2022-01-15    0.185103\n",
       "2022-01-16    0.177176\n",
       "2022-01-17    0.171145\n",
       "2022-01-18    0.165485\n",
       "2022-01-19    0.162356\n",
       "                ...   \n",
       "2022-07-09    0.069512\n",
       "2022-07-10    0.067263\n",
       "2022-07-11    0.061847\n",
       "2022-07-12    0.060087\n",
       "2022-07-13    0.061953\n",
       "Name: close, Length: 180, dtype: float64"
      ]
     },
     "execution_count": 47,
     "metadata": {},
     "output_type": "execute_result"
    }
   ],
   "source": [
    "targets = test[price_column][window_len+1:]\n",
    "targets"
   ]
  },
  {
   "cell_type": "code",
   "execution_count": 48,
   "id": "031f2558",
   "metadata": {},
   "outputs": [
    {
     "data": {
      "text/plain": [
       "date\n",
       "2022-01-15    0.191078\n",
       "2022-01-16    0.205064\n",
       "2022-01-17    0.214448\n",
       "2022-01-18    0.212825\n",
       "2022-01-19    0.202800\n",
       "                ...   \n",
       "2022-07-09    0.074074\n",
       "2022-07-10    0.074578\n",
       "2022-07-11    0.074903\n",
       "2022-07-12    0.074338\n",
       "2022-07-13    0.071521\n",
       "Length: 180, dtype: float32"
      ]
     },
     "execution_count": 48,
     "metadata": {},
     "output_type": "execute_result"
    }
   ],
   "source": [
    "preds = pd.Series(index=targets.index, data=test_predict.squeeze())\n",
    "preds"
   ]
  },
  {
   "cell_type": "code",
   "execution_count": 49,
   "id": "dd31f161",
   "metadata": {},
   "outputs": [
    {
     "data": {
      "image/png": "[encoded data removed]",
      "text/plain": [
       "<Figure size 936x504 with 1 Axes>"
      ]
     },
     "metadata": {
      "needs_background": "light"
     },
     "output_type": "display_data"
    }
   ],
   "source": [
    "def line_plot(line1, line2, label1=None, label2=None, title='', lw=2):\n",
    "    fig, ax = plt.subplots(1, figsize=(13, 7))\n",
    "    ax.plot(line1, label=label1, linewidth=lw)\n",
    "    ax.plot(line2, label=label2, linewidth=lw)\n",
    "    ax.set_ylabel('Price [USD]', fontsize=14)\n",
    "    ax.set_xlabel('Time', fontsize = 14)\n",
    "    ax.set_title(title, fontsize=16)\n",
    "    ax.legend(loc='best', fontsize=16)\n",
    "line_plot(train[\"close\"], test[\"close\"], 'Training Prices', 'Testing Prices', title='Project Outline')"
   ]
  },
  {
   "cell_type": "code",
   "execution_count": 50,
   "id": "039cec10",
   "metadata": {},
   "outputs": [
    {
     "data": {
      "image/png": "[encoded data removed]",
      "text/plain": [
       "<Figure size 936x504 with 1 Axes>"
      ]
     },
     "metadata": {
      "needs_background": "light"
     },
     "output_type": "display_data"
    }
   ],
   "source": [
    "line_plot(targets, preds, 'actual_value', 'predicted_value', lw=3)"
   ]
  },
  {
   "cell_type": "markdown",
   "id": "dfea169e",
   "metadata": {},
   "source": [
    "### Future Prediction for 30 days"
   ]
  },
  {
   "cell_type": "code",
   "execution_count": 51,
   "id": "4bd4cd7a",
   "metadata": {},
   "outputs": [
    {
     "data": {
      "text/plain": [
       "341"
      ]
     },
     "execution_count": 51,
     "metadata": {},
     "output_type": "execute_result"
    }
   ],
   "source": [
    "len(test)"
   ]
  },
  {
   "cell_type": "code",
   "execution_count": 52,
   "id": "919d9cbc",
   "metadata": {},
   "outputs": [
    {
     "data": {
      "text/plain": [
       "341"
      ]
     },
     "execution_count": 52,
     "metadata": {},
     "output_type": "execute_result"
    }
   ],
   "source": [
    "length = len(test_scaled)\n",
    "length"
   ]
  },
  {
   "cell_type": "code",
   "execution_count": 53,
   "id": "dade5e8c",
   "metadata": {},
   "outputs": [
    {
     "data": {
      "text/plain": [
       "(160, 1)"
      ]
     },
     "execution_count": 53,
     "metadata": {},
     "output_type": "execute_result"
    }
   ],
   "source": [
    "#Getting the last 100 days records\n",
    "fut_inp = test_scaled[length-160:]\n",
    "fut_inp.shape"
   ]
  },
  {
   "cell_type": "code",
   "execution_count": 54,
   "id": "21d4c39c",
   "metadata": {},
   "outputs": [],
   "source": [
    "fut_inp = fut_inp.reshape(1,-1)"
   ]
  },
  {
   "cell_type": "code",
   "execution_count": 55,
   "id": "8db22db2",
   "metadata": {},
   "outputs": [
    {
     "data": {
      "text/plain": [
       "(1, 160)"
      ]
     },
     "execution_count": 55,
     "metadata": {},
     "output_type": "execute_result"
    }
   ],
   "source": [
    "fut_inp.shape"
   ]
  },
  {
   "cell_type": "code",
   "execution_count": 56,
   "id": "73ce36f7",
   "metadata": {},
   "outputs": [
    {
     "data": {
      "text/plain": [
       "array([[0.21421186, 0.21368241, 0.22337763, 0.24064738, 0.23015654,\n",
       "        0.23120664, 0.22062658, 0.21032733, 0.20968089, 0.21632524,\n",
       "        0.21201804, 0.22043938, 0.21654023, 0.2011206 , 0.20143651,\n",
       "        0.2050022 , 0.19865767, 0.18640446, 0.19088424, 0.18546258,\n",
       "        0.17956413, 0.18506769, 0.18517153, 0.17853742, 0.1932287 ,\n",
       "        0.19437241, 0.19298592, 0.18804251, 0.1777769 , 0.18129432,\n",
       "        0.17510775, 0.16975337, 0.16964222, 0.17630997, 0.16943161,\n",
       "        0.16755516, 0.16687362, 0.16171375, 0.16528237, 0.16343371,\n",
       "        0.16946525, 0.16887146, 0.17297244, 0.17920727, 0.17275013,\n",
       "        0.1730207 , 0.17761602, 0.18821363, 0.19819259, 0.19009447,\n",
       "        0.19719513, 0.21015914, 0.20712436, 0.20977595, 0.20793314,\n",
       "        0.20005879, 0.20516162, 0.20164858, 0.21267618, 0.21580311,\n",
       "        0.25136638, 0.20823589, 0.21216283, 0.2069664 , 0.20953171,\n",
       "        0.21718375, 0.1954196 , 0.20042443, 0.20335537, 0.20897155,\n",
       "        0.21205167, 0.20866734, 0.20244713, 0.20365666, 0.20713606,\n",
       "        0.20452249, 0.19792201, 0.19796589, 0.19481557, 0.19146048,\n",
       "        0.22950424, 0.1999725 , 0.20279961, 0.19938164, 0.19596513,\n",
       "        0.18503991, 0.19266855, 0.18998477, 0.18791088, 0.19710884,\n",
       "        0.18631671, 0.18554302, 0.18500334, 0.18014038, 0.15179184,\n",
       "        0.15713452, 0.12218551, 0.11939205, 0.12767006, 0.12981269,\n",
       "        0.13426907, 0.12695341, 0.13042257, 0.12082242, 0.12531829,\n",
       "        0.12130213, 0.12201293, 0.12441443, 0.12024325, 0.12080487,\n",
       "        0.11985129, 0.11292906, 0.11743809, 0.11817521, 0.11941399,\n",
       "        0.12699729, 0.12406342, 0.11703004, 0.11953977, 0.11613203,\n",
       "        0.11808453, 0.11728306, 0.11918583, 0.11623587, 0.1146651 ,\n",
       "        0.11451446, 0.10883685, 0.10070656, 0.09257626, 0.07734384,\n",
       "        0.07978776, 0.0906223 , 0.07896434, 0.08183971, 0.07601439,\n",
       "        0.08681383, 0.08649353, 0.09438251, 0.08873708, 0.09213165,\n",
       "        0.09665384, 0.09867069, 0.10550663, 0.10413476, 0.09494705,\n",
       "        0.10008205, 0.09513572, 0.09526588, 0.0960308 , 0.09673428,\n",
       "        0.1000879 , 0.09669918, 0.0987877 , 0.10176836, 0.09977345,\n",
       "        0.1001464 , 0.09685713, 0.08893598, 0.0863619 , 0.08909101]])"
      ]
     },
     "execution_count": 56,
     "metadata": {},
     "output_type": "execute_result"
    }
   ],
   "source": [
    "fut_inp"
   ]
  },
  {
   "cell_type": "code",
   "execution_count": 57,
   "id": "d47d32ad",
   "metadata": {},
   "outputs": [],
   "source": [
    "tmp_inp = list(fut_inp)"
   ]
  },
  {
   "cell_type": "code",
   "execution_count": 58,
   "id": "d5cdaaff",
   "metadata": {},
   "outputs": [
    {
     "data": {
      "text/plain": [
       "[array([0.21421186, 0.21368241, 0.22337763, 0.24064738, 0.23015654,\n",
       "        0.23120664, 0.22062658, 0.21032733, 0.20968089, 0.21632524,\n",
       "        0.21201804, 0.22043938, 0.21654023, 0.2011206 , 0.20143651,\n",
       "        0.2050022 , 0.19865767, 0.18640446, 0.19088424, 0.18546258,\n",
       "        0.17956413, 0.18506769, 0.18517153, 0.17853742, 0.1932287 ,\n",
       "        0.19437241, 0.19298592, 0.18804251, 0.1777769 , 0.18129432,\n",
       "        0.17510775, 0.16975337, 0.16964222, 0.17630997, 0.16943161,\n",
       "        0.16755516, 0.16687362, 0.16171375, 0.16528237, 0.16343371,\n",
       "        0.16946525, 0.16887146, 0.17297244, 0.17920727, 0.17275013,\n",
       "        0.1730207 , 0.17761602, 0.18821363, 0.19819259, 0.19009447,\n",
       "        0.19719513, 0.21015914, 0.20712436, 0.20977595, 0.20793314,\n",
       "        0.20005879, 0.20516162, 0.20164858, 0.21267618, 0.21580311,\n",
       "        0.25136638, 0.20823589, 0.21216283, 0.2069664 , 0.20953171,\n",
       "        0.21718375, 0.1954196 , 0.20042443, 0.20335537, 0.20897155,\n",
       "        0.21205167, 0.20866734, 0.20244713, 0.20365666, 0.20713606,\n",
       "        0.20452249, 0.19792201, 0.19796589, 0.19481557, 0.19146048,\n",
       "        0.22950424, 0.1999725 , 0.20279961, 0.19938164, 0.19596513,\n",
       "        0.18503991, 0.19266855, 0.18998477, 0.18791088, 0.19710884,\n",
       "        0.18631671, 0.18554302, 0.18500334, 0.18014038, 0.15179184,\n",
       "        0.15713452, 0.12218551, 0.11939205, 0.12767006, 0.12981269,\n",
       "        0.13426907, 0.12695341, 0.13042257, 0.12082242, 0.12531829,\n",
       "        0.12130213, 0.12201293, 0.12441443, 0.12024325, 0.12080487,\n",
       "        0.11985129, 0.11292906, 0.11743809, 0.11817521, 0.11941399,\n",
       "        0.12699729, 0.12406342, 0.11703004, 0.11953977, 0.11613203,\n",
       "        0.11808453, 0.11728306, 0.11918583, 0.11623587, 0.1146651 ,\n",
       "        0.11451446, 0.10883685, 0.10070656, 0.09257626, 0.07734384,\n",
       "        0.07978776, 0.0906223 , 0.07896434, 0.08183971, 0.07601439,\n",
       "        0.08681383, 0.08649353, 0.09438251, 0.08873708, 0.09213165,\n",
       "        0.09665384, 0.09867069, 0.10550663, 0.10413476, 0.09494705,\n",
       "        0.10008205, 0.09513572, 0.09526588, 0.0960308 , 0.09673428,\n",
       "        0.1000879 , 0.09669918, 0.0987877 , 0.10176836, 0.09977345,\n",
       "        0.1001464 , 0.09685713, 0.08893598, 0.0863619 , 0.08909101])]"
      ]
     },
     "execution_count": 58,
     "metadata": {},
     "output_type": "execute_result"
    }
   ],
   "source": [
    "tmp_inp"
   ]
  },
  {
   "cell_type": "code",
   "execution_count": 59,
   "id": "fc1cab74",
   "metadata": {},
   "outputs": [],
   "source": [
    "#Creating list of the last 100 data\n",
    "tmp_inp = tmp_inp[0].tolist()"
   ]
  },
  {
   "cell_type": "code",
   "execution_count": 60,
   "id": "f1cbacea",
   "metadata": {},
   "outputs": [
    {
     "data": {
      "text/plain": [
       "[0.21421185569347367,\n",
       " 0.21368241390355092,\n",
       " 0.22337763386321388,\n",
       " 0.24064738153008677,\n",
       " 0.23015653633915864,\n",
       " 0.23120664464071816,\n",
       " 0.22062658412054892,\n",
       " 0.2103273325055321,\n",
       " 0.20968088700512916,\n",
       " 0.21632523521402172,\n",
       " 0.2120180361219705,\n",
       " 0.22043937818378068,\n",
       " 0.21654022953202906,\n",
       " 0.20112060303712384,\n",
       " 0.2014365130554203,\n",
       " 0.2050022011323034,\n",
       " 0.19865767493151626,\n",
       " 0.18640446135148062,\n",
       " 0.1908842409164901,\n",
       " 0.18546258148211525,\n",
       " 0.17956413192753376,\n",
       " 0.1850676939592447,\n",
       " 0.18517153475229586,\n",
       " 0.17853742436807027,\n",
       " 0.19322870276523643,\n",
       " 0.1943724140351801,\n",
       " 0.1929859200659901,\n",
       " 0.18804251329820298,\n",
       " 0.1777769002499492,\n",
       " 0.18129432429625925,\n",
       " 0.17510775310462035,\n",
       " 0.16975337080377162,\n",
       " 0.16964221727881545,\n",
       " 0.17630996622980408,\n",
       " 0.16943161059995115,\n",
       " 0.16755516359312544,\n",
       " 0.16687361697957848,\n",
       " 0.16171375334740304,\n",
       " 0.16528236651704817,\n",
       " 0.1634337078914615,\n",
       " 0.1694652491667142,\n",
       " 0.16887145533602735,\n",
       " 0.17297243538835724,\n",
       " 0.17920727061056924,\n",
       " 0.17275012833844494,\n",
       " 0.17302069941893033,\n",
       " 0.17761602014803896,\n",
       " 0.18821363122478024,\n",
       " 0.1981925851823576,\n",
       " 0.1900944658707489,\n",
       " 0.19719512855051416,\n",
       " 0.21015913967171684,\n",
       " 0.20712435593113748,\n",
       " 0.20977595251989428,\n",
       " 0.20793314407983166,\n",
       " 0.2000587943645163,\n",
       " 0.20516161868783264,\n",
       " 0.2016485822806656,\n",
       " 0.21267618199342148,\n",
       " 0.21580310615600398,\n",
       " 0.2513663839564512,\n",
       " 0.20823589118069905,\n",
       " 0.21216282821368976,\n",
       " 0.20696640092198926,\n",
       " 0.20953170727426693,\n",
       " 0.21718374993966996,\n",
       " 0.1954195972439776,\n",
       " 0.20042443095976684,\n",
       " 0.20335537390729505,\n",
       " 0.20897155201034312,\n",
       " 0.21205167468873357,\n",
       " 0.2086673423630947,\n",
       " 0.20244713260469274,\n",
       " 0.20365665846178146,\n",
       " 0.20713605630218548,\n",
       " 0.20452248591933472,\n",
       " 0.19792201410187218,\n",
       " 0.19796589049330227,\n",
       " 0.19481556558862373,\n",
       " 0.1914604841906049,\n",
       " 0.22950424065323172,\n",
       " 0.19997250412803716,\n",
       " 0.20279960628251423,\n",
       " 0.19938163539011233,\n",
       " 0.19596512704409141,\n",
       " 0.18503990557800565,\n",
       " 0.19266854750131265,\n",
       " 0.18998477489217377,\n",
       " 0.18791088412391277,\n",
       " 0.19710883831403506,\n",
       " 0.18631670856862048,\n",
       " 0.18554302153307037,\n",
       " 0.1850033419184806,\n",
       " 0.18014037520164858,\n",
       " 0.15179183869868473,\n",
       " 0.15713452062848543,\n",
       " 0.12218551230805907,\n",
       " 0.11939204872034505,\n",
       " 0.12767006123681698,\n",
       " 0.12981269168498508,\n",
       " 0.1342690705078985,\n",
       " 0.12695341351012596,\n",
       " 0.13042257352586295,\n",
       " 0.12082241908096511,\n",
       " 0.1253182866561656,\n",
       " 0.1213021342939338,\n",
       " 0.12201293183510083,\n",
       " 0.1244144329927063,\n",
       " 0.12024325071408827,\n",
       " 0.1208048685243931,\n",
       " 0.11985128828397972,\n",
       " 0.11292905626269674,\n",
       " 0.11743808675532624,\n",
       " 0.1181752101313513,\n",
       " 0.11941398691606007,\n",
       " 0.126997289901556,\n",
       " 0.12406342186126579,\n",
       " 0.11703003631502665,\n",
       " 0.11953976590482626,\n",
       " 0.11613203283709135,\n",
       " 0.11808453225572917,\n",
       " 0.11728305683894001,\n",
       " 0.11918582968062376,\n",
       " 0.1162358736301425,\n",
       " 0.11466509881694623,\n",
       " 0.11451445653970303,\n",
       " 0.10883685148865282,\n",
       " 0.10070655615666212,\n",
       " 0.09257626082467141,\n",
       " 0.07734384026653446,\n",
       " 0.07978775526918898,\n",
       " 0.09062229885965259,\n",
       " 0.0789643416566848,\n",
       " 0.08183970784173493,\n",
       " 0.07601438560620354,\n",
       " 0.0868138280835231,\n",
       " 0.08649353042608364,\n",
       " 0.09438250560520901,\n",
       " 0.08873707657454089,\n",
       " 0.09213164672484678,\n",
       " 0.09665384013490529,\n",
       " 0.09867069159430718,\n",
       " 0.10550663337911105,\n",
       " 0.10413476487373106,\n",
       " 0.09494704850827583,\n",
       " 0.10008204885197423,\n",
       " 0.0951357169914251,\n",
       " 0.09526588361933429,\n",
       " 0.09603079537659838,\n",
       " 0.0967342801858604,\n",
       " 0.10008789903749825,\n",
       " 0.09669917907271636,\n",
       " 0.09878769530478737,\n",
       " 0.10176836482926965,\n",
       " 0.09977345156558277,\n",
       " 0.10014640089273832,\n",
       " 0.09685713408186458,\n",
       " 0.08893598288235716,\n",
       " 0.08636190125179345,\n",
       " 0.08909101279874339]"
      ]
     },
     "execution_count": 60,
     "metadata": {},
     "output_type": "execute_result"
    }
   ],
   "source": [
    "tmp_inp"
   ]
  },
  {
   "cell_type": "code",
   "execution_count": 61,
   "id": "87d8512c",
   "metadata": {},
   "outputs": [
    {
     "name": "stdout",
     "output_type": "stream",
     "text": [
      "[[0.09525171667337418], [0.09818617254495621], [0.1046813577413559], [0.1133376806974411], [0.12356489151716232], [0.13520534336566925], [0.14825066924095154], [0.16269822418689728], [0.17847999930381775], [0.19542305171489716], [0.21323160827159882], [0.23149266839027405], [0.24970842897891998], [0.26735761761665344], [0.2839779555797577], [0.29925602674484253], [0.313102662563324], [0.3256918787956238], [0.33745265007019043], [0.34901922941207886], [0.3611595034599304], [0.3747055232524872], [0.39050424098968506], [0.4093828797340393], [0.4321122169494629], [0.4593363106250763], [0.491435170173645], [0.5282936096191406], [0.5690006017684937], [0.6115871667861938]]\n"
     ]
    }
   ],
   "source": [
    "#Predicting next 30 days price suing the current data\n",
    "#It will predict in sliding window manner (algorithm) with stride 1\n",
    "lst_output=[]\n",
    "n_steps=160\n",
    "i=0\n",
    "while(i<30):\n",
    "    \n",
    "    if(len(tmp_inp)>160):\n",
    "        fut_inp = np.array(tmp_inp[1:])\n",
    "        fut_inp=fut_inp.reshape(1,-1)\n",
    "        fut_inp = fut_inp.reshape((1, n_steps, 1))\n",
    "        yhat = model.predict(fut_inp, verbose=0)\n",
    "        tmp_inp.extend(yhat[0].tolist())\n",
    "        tmp_inp = tmp_inp[1:]\n",
    "        lst_output.extend(yhat.tolist())\n",
    "        i=i+1\n",
    "    else:\n",
    "        fut_inp = fut_inp.reshape((1, n_steps,1))\n",
    "        yhat = model.predict(fut_inp, verbose=0)\n",
    "        tmp_inp.extend(yhat[0].tolist())\n",
    "        lst_output.extend(yhat.tolist())\n",
    "        i=i+1\n",
    "    \n",
    "\n",
    "print(lst_output)"
   ]
  },
  {
   "cell_type": "code",
   "execution_count": 62,
   "id": "abd2a9a3",
   "metadata": {},
   "outputs": [
    {
     "data": {
      "text/plain": [
       "'2022-07-13'"
      ]
     },
     "execution_count": 62,
     "metadata": {},
     "output_type": "execute_result"
    }
   ],
   "source": [
    "end_date"
   ]
  },
  {
   "cell_type": "code",
   "execution_count": 63,
   "id": "40a3588a",
   "metadata": {},
   "outputs": [
    {
     "data": {
      "text/plain": [
       "'07/13/2022'"
      ]
     },
     "execution_count": 63,
     "metadata": {},
     "output_type": "execute_result"
    }
   ],
   "source": [
    "temp = pd.to_datetime(end_date, format='%Y-%m-%d')\n",
    "temp\n",
    "end_date_new = temp.strftime('%m/%d/%Y')\n",
    "end_date_new"
   ]
  },
  {
   "cell_type": "code",
   "execution_count": 64,
   "id": "58c3c1c5",
   "metadata": {},
   "outputs": [
    {
     "data": {
      "text/plain": [
       "array([[0.06616531],\n",
       "       [0.06817172],\n",
       "       [0.07261273],\n",
       "       [0.07853139],\n",
       "       [0.08552414],\n",
       "       [0.09348317],\n",
       "       [0.10240276],\n",
       "       [0.11228112],\n",
       "       [0.12307174],\n",
       "       [0.13465636],\n",
       "       [0.14683277],\n",
       "       [0.15931857],\n",
       "       [0.17177339],\n",
       "       [0.18384083],\n",
       "       [0.1952048 ],\n",
       "       [0.20565102],\n",
       "       [0.2151185 ],\n",
       "       [0.22372624],\n",
       "       [0.23176754],\n",
       "       [0.23967606],\n",
       "       [0.24797684],\n",
       "       [0.25723878],\n",
       "       [0.26804098],\n",
       "       [0.28094904],\n",
       "       [0.29648998],\n",
       "       [0.31510415],\n",
       "       [0.33705139],\n",
       "       [0.36225294],\n",
       "       [0.3900859 ],\n",
       "       [0.419204  ]])"
      ]
     },
     "execution_count": 64,
     "metadata": {},
     "output_type": "execute_result"
    }
   ],
   "source": [
    "preds = scaler.inverse_transform(lst_output)\n",
    "preds"
   ]
  },
  {
   "cell_type": "code",
   "execution_count": 65,
   "id": "cc2026ab",
   "metadata": {},
   "outputs": [
    {
     "data": {
      "text/plain": [
       "'08/23/2022'"
      ]
     },
     "execution_count": 65,
     "metadata": {},
     "output_type": "execute_result"
    }
   ],
   "source": [
    "import datetime\n",
    "date_future = temp + datetime.timedelta(41)\n",
    "date_future_str = date_future.strftime('%m/%d/%Y')\n",
    "date_future_str"
   ]
  },
  {
   "cell_type": "code",
   "execution_count": 66,
   "id": "feff8df9",
   "metadata": {},
   "outputs": [
    {
     "data": {
      "text/plain": [
       "DatetimeIndex(['2022-07-13', '2022-07-14', '2022-07-15', '2022-07-18',\n",
       "               '2022-07-19', '2022-07-20', '2022-07-21', '2022-07-22',\n",
       "               '2022-07-25', '2022-07-26', '2022-07-27', '2022-07-28',\n",
       "               '2022-07-29', '2022-08-01', '2022-08-02', '2022-08-03',\n",
       "               '2022-08-04', '2022-08-05', '2022-08-08', '2022-08-09',\n",
       "               '2022-08-10', '2022-08-11', '2022-08-12', '2022-08-15',\n",
       "               '2022-08-16', '2022-08-17', '2022-08-18', '2022-08-19',\n",
       "               '2022-08-22', '2022-08-23'],\n",
       "              dtype='datetime64[ns]', freq='B')"
      ]
     },
     "execution_count": 66,
     "metadata": {},
     "output_type": "execute_result"
    }
   ],
   "source": [
    "c = pd.date_range(start=end_date_new, end=date_future_str, freq='B')\n",
    "c"
   ]
  },
  {
   "cell_type": "code",
   "execution_count": 67,
   "id": "e6ab7cdd",
   "metadata": {},
   "outputs": [
    {
     "data": {
      "text/plain": [
       "30"
      ]
     },
     "execution_count": 67,
     "metadata": {},
     "output_type": "execute_result"
    }
   ],
   "source": [
    "len(c)"
   ]
  },
  {
   "cell_type": "code",
   "execution_count": 68,
   "id": "04499e28",
   "metadata": {},
   "outputs": [
    {
     "data": {
      "text/plain": [
       "2022-07-13    0.066165\n",
       "2022-07-14    0.068172\n",
       "2022-07-15    0.072613\n",
       "2022-07-18    0.078531\n",
       "2022-07-19    0.085524\n",
       "2022-07-20    0.093483\n",
       "2022-07-21    0.102403\n",
       "2022-07-22    0.112281\n",
       "2022-07-25    0.123072\n",
       "2022-07-26    0.134656\n",
       "2022-07-27    0.146833\n",
       "2022-07-28    0.159319\n",
       "2022-07-29    0.171773\n",
       "2022-08-01    0.183841\n",
       "2022-08-02    0.195205\n",
       "2022-08-03    0.205651\n",
       "2022-08-04    0.215119\n",
       "2022-08-05    0.223726\n",
       "2022-08-08    0.231768\n",
       "2022-08-09    0.239676\n",
       "2022-08-10    0.247977\n",
       "2022-08-11    0.257239\n",
       "2022-08-12    0.268041\n",
       "2022-08-15    0.280949\n",
       "2022-08-16    0.296490\n",
       "2022-08-17    0.315104\n",
       "2022-08-18    0.337051\n",
       "2022-08-19    0.362253\n",
       "2022-08-22    0.390086\n",
       "2022-08-23    0.419204\n",
       "Freq: B, dtype: float64"
      ]
     },
     "execution_count": 68,
     "metadata": {},
     "output_type": "execute_result"
    }
   ],
   "source": [
    "fut_preds = pd.Series(index=c, data=preds.squeeze())\n",
    "fut_preds"
   ]
  },
  {
   "cell_type": "code",
   "execution_count": 69,
   "id": "8d8456f7",
   "metadata": {},
   "outputs": [
    {
     "data": {
      "text/plain": [
       "[<matplotlib.lines.Line2D at 0x1cd2e30e148>]"
      ]
     },
     "execution_count": 69,
     "metadata": {},
     "output_type": "execute_result"
    },
    {
     "data": {
      "image/png": "[encoded data removed]",
      "text/plain": [
       "<Figure size 936x504 with 1 Axes>"
      ]
     },
     "metadata": {
      "needs_background": "light"
     },
     "output_type": "display_data"
    }
   ],
   "source": [
    "fig, ax = plt.subplots(1, figsize=(13, 7))\n",
    "ax.plot(fut_preds, label=\"predicted value_30\", linewidth=3)"
   ]
  },
  {
   "cell_type": "code",
   "execution_count": 70,
   "id": "8f0a4bab",
   "metadata": {},
   "outputs": [
    {
     "data": {
      "image/png": "[encoded data removed]",
      "text/plain": [
       "<Figure size 936x504 with 1 Axes>"
      ]
     },
     "metadata": {
      "needs_background": "light"
     },
     "output_type": "display_data"
    }
   ],
   "source": [
    "line_plot(test[\"close\"], fut_preds, 'actual_value', 'predicted_value_30', lw=3)"
   ]
  },
  {
   "cell_type": "code",
   "execution_count": null,
   "id": "f7ea1a21",
   "metadata": {},
   "outputs": [],
   "source": []
  }
 ],
 "metadata": {
  "kernelspec": {
   "display_name": "mlenv",
   "language": "python",
   "name": "mlenv"
  },
  "language_info": {
   "codemirror_mode": {
    "name": "ipython",
    "version": 3
   },
   "file_extension": ".py",
   "mimetype": "text/x-python",
   "name": "python",
   "nbconvert_exporter": "python",
   "pygments_lexer": "ipython3",
   "version": "3.7.13"
  }
 },
 "nbformat": 4,
 "nbformat_minor": 5
}
