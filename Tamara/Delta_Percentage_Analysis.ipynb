{
 "cells": [
  {
   "cell_type": "code",
   "execution_count": null,
   "id": "03f9c078",
   "metadata": {},
   "outputs": [],
   "source": [
    "import pandas as pd \n",
    "import datetime\n",
    "from datetime import datetime,timedelta\n"
   ]
  },
  {
   "cell_type": "code",
   "execution_count": null,
   "id": "f9dd8d46",
   "metadata": {},
   "outputs": [],
   "source": [
    "# Database related all the code is moved to this file\n",
    "%run -i \"SqlConn.py\"\n",
    "#importing local py file\n",
    "import SqlConn "
   ]
  },
  {
   "cell_type": "code",
   "execution_count": null,
   "id": "4576bf11",
   "metadata": {},
   "outputs": [],
   "source": [
    "#Fetch Tweets and Sentiment data - Join from Tweet and Sentiment tables\n",
    "try:\n",
    "    df_dbSentimentData = SqlConn.fetchTweetSentimentForModelling(\"\")\n",
    "    print(\"Data transfer Done\")\n",
    "except BaseException as err:\n",
    "    print(err)\n"
   ]
  },
  {
   "cell_type": "code",
   "execution_count": null,
   "id": "a49934e3",
   "metadata": {},
   "outputs": [],
   "source": [
    "#Fetch Tweets and Sentiment data - Join from Tweet and Sentiment tables\n",
    "try:\n",
    "    df_dbFinaceData = SqlConn.fetchFinanceData(\"\")\n",
    "    print(\"Data transfer Done\")\n",
    "except BaseException as err:\n",
    "    print(err)\n"
   ]
  },
  {
   "cell_type": "code",
   "execution_count": null,
   "id": "a303db95",
   "metadata": {},
   "outputs": [],
   "source": [
    "tweets_full = df_dbSentimentData\n",
    "tweets_full"
   ]
  },
  {
   "cell_type": "code",
   "execution_count": null,
   "id": "73df1139",
   "metadata": {},
   "outputs": [],
   "source": [
    "tweets_full.dtypes"
   ]
  },
  {
   "cell_type": "code",
   "execution_count": null,
   "id": "d05e2c67",
   "metadata": {},
   "outputs": [],
   "source": [
    "tweets_full['date'] = pd.to_datetime(tweets_full['date'])"
   ]
  },
  {
   "cell_type": "code",
   "execution_count": null,
   "id": "c8401d6e",
   "metadata": {},
   "outputs": [],
   "source": [
    "tweets_full = tweets_full.sort_values(['date'], ascending = True)\n",
    "tweets_full"
   ]
  },
  {
   "cell_type": "code",
   "execution_count": null,
   "id": "0550fd9b",
   "metadata": {},
   "outputs": [],
   "source": [
    "tweets_full['date'] = tweets_filtered['date'].dt.date\n",
    "tweets_full['date']"
   ]
  },
  {
   "cell_type": "code",
   "execution_count": null,
   "id": "36a3b416",
   "metadata": {},
   "outputs": [],
   "source": [
    "tweets_full.set_index('tweetID', inplace=True)\n",
    "tweets_full"
   ]
  },
  {
   "cell_type": "code",
   "execution_count": null,
   "id": "5a308466",
   "metadata": {},
   "outputs": [],
   "source": [
    "tweets_filtered_twitter_df = tweets_full[(tweets_full[\"financeType\"] == \"twitter\")]"
   ]
  },
  {
   "cell_type": "code",
   "execution_count": null,
   "id": "9fc51678",
   "metadata": {},
   "outputs": [],
   "source": [
    "tweets_filtered_tesla_df = tweets_full[(tweets_full[\"financeType\"] == \"tesla\")]"
   ]
  },
  {
   "cell_type": "code",
   "execution_count": null,
   "id": "31ed9fb8",
   "metadata": {},
   "outputs": [],
   "source": [
    "tweets_filtered_doge_df = tweets_full[(tweets_full[\"financeType\"] == \"doge\")]"
   ]
  },
  {
   "cell_type": "code",
   "execution_count": null,
   "id": "7162e034",
   "metadata": {},
   "outputs": [],
   "source": [
    "tweet_dates_twitter = pd.to_datetime(tweets_filtered_twitter_df['date'])\n",
    "tweet_dates_twitter"
   ]
  },
  {
   "cell_type": "code",
   "execution_count": null,
   "id": "a9a46725",
   "metadata": {},
   "outputs": [],
   "source": [
    "tweet_dates_tesla = pd.to_datetime(tweets_filtered_tesla_df['date'])\n",
    "tweet_dates_tesla"
   ]
  },
  {
   "cell_type": "code",
   "execution_count": null,
   "id": "22f67e7e",
   "metadata": {},
   "outputs": [],
   "source": [
    "tweet_dates_doge = pd.to_datetime(tweets_filtered_doge_df['date'])\n",
    "tweet_dates_doge"
   ]
  },
  {
   "cell_type": "code",
   "execution_count": null,
   "id": "201d8525",
   "metadata": {},
   "outputs": [],
   "source": [
    "Stock_Data = df_dbFinaceData\n",
    "Stock_Data"
   ]
  },
  {
   "cell_type": "code",
   "execution_count": null,
   "id": "11cd5639",
   "metadata": {},
   "outputs": [],
   "source": [
    "Stock_Data_Twitter_df = Stock_Data[(Stock_Data[\"financeType\"] == \"twitter\")]"
   ]
  },
  {
   "cell_type": "code",
   "execution_count": null,
   "id": "5f986fa6",
   "metadata": {},
   "outputs": [],
   "source": [
    "Stock_Data_Tesla_df = Stock_Data[(Stock_Data[\"financeType\"] == \"tesla\")]"
   ]
  },
  {
   "cell_type": "code",
   "execution_count": null,
   "id": "c73260d8",
   "metadata": {},
   "outputs": [],
   "source": [
    "Stock_Data_TeslaDoge_df = Stock_Data[(Stock_Data[\"financeType\"] == \"doge\")]"
   ]
  },
  {
   "cell_type": "code",
   "execution_count": null,
   "id": "81d08c99",
   "metadata": {},
   "outputs": [],
   "source": [
    "Stock_Data_Twitter_df.dtypes"
   ]
  },
  {
   "cell_type": "code",
   "execution_count": null,
   "id": "a95a2cb5",
   "metadata": {},
   "outputs": [],
   "source": [
    "Stock_Data_Tesla_df.dtypes"
   ]
  },
  {
   "cell_type": "code",
   "execution_count": null,
   "id": "ee1dbea9",
   "metadata": {},
   "outputs": [],
   "source": [
    "Stock_Data_TeslaDoge_df.dtypes"
   ]
  },
  {
   "cell_type": "code",
   "execution_count": null,
   "id": "2883bfd6",
   "metadata": {},
   "outputs": [],
   "source": [
    "#if needed, check\n",
    "\n",
    "#Stock_Data_Twitter_df['date'] =  pd.to_datetime(Stock_Data_Twitter_df['date'])"
   ]
  },
  {
   "cell_type": "code",
   "execution_count": null,
   "id": "c537c073",
   "metadata": {},
   "outputs": [],
   "source": [
    "def finance_tweet_relationship(tweet_dates,finance_stock_df):\n",
    "\n",
    "\n",
    "    stock_price_per_tweet = {}\n",
    "    start_date_dic = {}\n",
    "    \n",
    "    finance_tweets_df = pd.DataFrame()\n",
    "        Dates_df = []\n",
    "        Adj_Close_df = []\n",
    "        Volume_df = []\n",
    "        finance_ids_df = []\n",
    "        Date_Position_df = []\n",
    "        tweet_ids_df = []\n",
    "        tweet_date_df = []\n",
    "        \n",
    "    \n",
    "\n",
    "    for tweet_id in tweet_dates.index:\n",
    "            start_date = tweet_dates[tweet_id] - datetime.timedelta(days=1)\n",
    "\n",
    "            print (f'working on {tweet_id} with start date {start_date}')\n",
    "\n",
    "            for i in range(len(finance_stock_df['date'])):\n",
    "\n",
    "                Dates = []\n",
    "                Adj_Close = []\n",
    "                Volume = []\n",
    "                df = pd.DataFrame()\n",
    "\n",
    "                if start_date == finance_stock_df['date'][i]:\n",
    "                    j=i\n",
    "                    n=0\n",
    "                    \n",
    "                    end_date = start_date + datetime.timedelta(days=7)\n",
    "                    print(f'this is my end date {end_date}')\n",
    "\n",
    "                    while finance_stock_df['date'][j]<=end_date and j <= (len(finance_stock_df['date'])-2):\n",
    "\n",
    "                        Dates.append(finance_stock_df['date'][j])\n",
    "                        Adj_Close.append(finance_stock_df['adjustedClose'][j])\n",
    "                        Volume.append(finance_stock_df['volume'][j])\n",
    "                        \n",
    "                        \n",
    "                        Dates_df.append(finance_stock_df['date'][j])\n",
    "                        Adj_Close_df.append(finance_stock_df['adjustedClose'][j])\n",
    "                        Volume_df.append(finance_stock_df['volume'][j])\n",
    "                        finance_ids_df.append(finance_stock_df['id'][j])\n",
    "                        Date_Position_df.append(n)\n",
    "                        tweet_ids_df.append(tweet_id)                     \n",
    "                        \n",
    "                        j+=1\n",
    "                        n+=1\n",
    "                        \n",
    "                    df = pd.DataFrame(\n",
    "                        {'date':Dates,\n",
    "                         'adjustedClose': Adj_Close,\n",
    "                         'volume':Volume}\n",
    "                    ) \n",
    "\n",
    "\n",
    "                    stock_price_per_tweet[tweet_id] = df\n",
    "                    start_date_dic[tweet_id] = start_date\n",
    "\n",
    "                    print (df)\n",
    "\n",
    "                    break\n",
    "\n",
    "                elif start_date < finance_stock_df['date'][i]:\n",
    "\n",
    "                    start_date = finance_stock_df['date'][i-1]\n",
    "                    print (f'start date changed to {start_date}')\n",
    "                    \n",
    "                    j=i-1\n",
    "                    n=0\n",
    "                    \n",
    "                    end_date = start_date + datetime.timedelta(days=7)\n",
    "                    print(f'this is my new end date {end_date}')\n",
    "\n",
    "                    while twitter_stock_oneyear['date'][j]<=end_date and j <= (len(finance_stock_df['Date'])-2) :\n",
    "                        \n",
    "                        Dates.append(twitter_stock_oneyear['date'][j])\n",
    "                        Adj_Close.append(twitter_stock_oneyear['adjustedClose'][j])\n",
    "                        Volume.append(twitter_stock_oneyear['volume'][j])\n",
    "                        \n",
    "                        Dates_df.append(finance_stock_df['date'][j])\n",
    "                        Adj_Close_df.append(finance_stock_df['adjustedClose'][j])\n",
    "                        Volume_df.append(finance_stock_df['volume'][j])\n",
    "                        finance_ids_df.append(finance_stock_df['id'][j])\n",
    "                        Date_Position_df.append(n)\n",
    "                        tweet_ids_df.append(tweet_id)                              \n",
    "                        \n",
    "                        j+=1\n",
    "                        n+=1\n",
    "                        \n",
    "                    df = pd.DataFrame(\n",
    "                        {'date':Dates,\n",
    "                         'adjustedClose': Adj_Close,\n",
    "                         'volume':Volume}\n",
    "                    ) \n",
    "\n",
    "                    stock_price_per_tweet[tweet_id] = df\n",
    "                    start_date_dic[tweet_id] = start_date\n",
    "                    tweet_date_df.append(tweet_dates[tweet_id])\n",
    "\n",
    "                    print (df)\n",
    "\n",
    "                    break\n",
    "\n",
    "                else: \n",
    "                    print(f'I am in {i}')\n",
    "        \n",
    "    finance_tweets_df = pd.DataFrame(\n",
    "            {'tweetID':tweet_ids_df,\n",
    "             'tweetDate':tweet_date_df,\n",
    "             \n",
    "             'financeID':finance_ids_df,\n",
    "             'financeDate':Dates_df,\n",
    "             'adjustedClose': Delta_Volume,\n",
    "             'volume':Volume_df\n",
    "             'datePosition':Date_Position_df}\n",
    "        \n",
    "    )\n",
    "                    \n",
    "    return stock_price_per_tweet, finance_tweets_df, start_date_dic"
   ]
  },
  {
   "cell_type": "code",
   "execution_count": null,
   "id": "73e5b26e",
   "metadata": {},
   "outputs": [],
   "source": [
    "stock_price_per_tweet_twitter, twitter_tweets__finance_dates_df, start_date_dic_twitter = finance_tweet_relationship(tweet_dates_twitter,Stock_Data_Twitter_df)"
   ]
  },
  {
   "cell_type": "code",
   "execution_count": null,
   "id": "b0bf8c96",
   "metadata": {},
   "outputs": [],
   "source": [
    "stock_price_per_tweet_tesla, tesla_tweets__finance_dates_df start_date_dic_tesla = finance_tweet_relationship(tweet_dates_tesla,Stock_Data_Tesla_df)"
   ]
  },
  {
   "cell_type": "code",
   "execution_count": null,
   "id": "bedd2305",
   "metadata": {},
   "outputs": [],
   "source": [
    "stock_price_per_tweet_doge, doge_tweets__finance_dates_df, start_date_dic_doge = finance_tweet_relationship(tweet_dates_doge,Stock_Data_TeslaDoge_df)"
   ]
  },
  {
   "cell_type": "code",
   "execution_count": null,
   "id": "84ec31f5",
   "metadata": {},
   "outputs": [],
   "source": [
    "def deltas (df):\n",
    "    Delta_Adj_Close = []\n",
    "    Percent_Adj_Close=[]\n",
    "    Delta_Volume = []\n",
    "    Percent_Volume = []\n",
    "    df_delta = pd.DataFrame()\n",
    "    \n",
    "    for i in range(len(df['date'])-1):\n",
    "        \n",
    "        Delta_Adj_Close.append(df['adjustedClose'][i+1]-df['adjustedClose][0])\n",
    "        Percent_Adj_Close.append(((df['adjustedClose'][i+1]-df['adjustedClose'][0])/df['adjustedClose'][0])*100)\n",
    "        Delta_Volume.append(df['volume'][i+1]-df['volume'][0])\n",
    "        Percent_Volume.append(((df['volume'][i+1]-df['volume'][0])/df['volume'][0])*100)\n",
    "        \n",
    "    df_delta = pd.DataFrame(\n",
    "            {'Delta Adj Close':Delta_Adj_Close,\n",
    "             'Percent Adj Close':Percent_Adj_Close,\n",
    "             'Delta Volume': Delta_Volume,\n",
    "             'Percent Volume':Percent_Volume}\n",
    "                ) \n",
    "\n",
    "    \n",
    "    return (df_delta)\n",
    "    "
   ]
  },
  {
   "cell_type": "code",
   "execution_count": null,
   "id": "849bcf92",
   "metadata": {},
   "outputs": [],
   "source": [
    "delta_per_tweet_twitter = {}\n",
    "\n",
    "for key in stock_price_per_tweet_twitter.keys():\n",
    "    \n",
    "    delta_per_tweet[key]= deltas(stock_price_per_tweet_twitter[key])"
   ]
  },
  {
   "cell_type": "code",
   "execution_count": null,
   "id": "434bef37",
   "metadata": {},
   "outputs": [],
   "source": [
    "delta_per_tweet_tesla = {}\n",
    "\n",
    "for key in stock_price_per_tweet_tesla.keys():\n",
    "    \n",
    "    delta_per_tweet[key]= deltas(stock_price_per_tweet_tesla[key])"
   ]
  },
  {
   "cell_type": "code",
   "execution_count": null,
   "id": "7e89191b",
   "metadata": {},
   "outputs": [],
   "source": [
    "delta_per_tweet_doge = {}\n",
    "\n",
    "for key in stock_price_per_tweet_doge.keys():\n",
    "    \n",
    "    delta_per_tweet[key]= deltas(stock_price_per_tweet_doge[key])"
   ]
  },
  {
   "cell_type": "code",
   "execution_count": null,
   "id": "9a99d0f2",
   "metadata": {},
   "outputs": [],
   "source": [
    "def delta_toDataFrame(delta_per_tweet):   \n",
    "    tweet_id = []\n",
    "\n",
    "    delta_adj_0 = []\n",
    "    delta_adj_1 = []\n",
    "    delta_adj_2 = []\n",
    "    delta_adj_3 = []\n",
    "    delta_adj_4 = []\n",
    "\n",
    "    per_adj_0 = []\n",
    "    per_adj_1 = []\n",
    "    per_adj_2 = []\n",
    "    per_adj_3 = []\n",
    "    per_adj_4 = []\n",
    "\n",
    "    delta_vol_0 = []\n",
    "    delta_vol_1 = []\n",
    "    delta_vol_2 = []\n",
    "    delta_vol_3 = []\n",
    "    delta_vol_4 = []\n",
    "\n",
    "    per_vol_0 = []\n",
    "    per_vol_1 = []\n",
    "    per_vol_2 = []\n",
    "    per_vol_3 = []\n",
    "    per_vol_4 = []\n",
    "\n",
    "    for key in delta_per_tweet.keys():\n",
    "\n",
    "        tweet_id.append(key)\n",
    "\n",
    "        delta_adj_0.append(delta_per_tweet[key]['Delta Adj Close'][0])\n",
    "        per_adj_0.append(delta_per_tweet[key]['Percent Adj Close'][0])\n",
    "        delta_vol_0.append(delta_per_tweet[key]['Delta Volume'][0])\n",
    "        per_vol_0.append(delta_per_tweet[key]['Percent Volume'][0])\n",
    "\n",
    "        delta_adj_1.append(delta_per_tweet[key]['Delta Adj Close'][1])\n",
    "        per_adj_1.append(delta_per_tweet[key]['Percent Adj Close'][1])\n",
    "        delta_vol_1.append(delta_per_tweet[key]['Delta Volume'][1])\n",
    "        per_vol_1.append(delta_per_tweet[key]['Percent Volume'][1])\n",
    "\n",
    "\n",
    "        delta_adj_2.append(delta_per_tweet[key]['Delta Adj Close'][2])\n",
    "        per_adj_2.append(delta_per_tweet[key]['Percent Adj Close'][2])\n",
    "        delta_vol_2.append(delta_per_tweet[key]['Delta Volume'][2])\n",
    "        per_vol_2.append(delta_per_tweet[key]['Percent Volume'][2])\n",
    "\n",
    "        if len(delta_per_tweet[key]['Delta Adj Close']) >= 4:\n",
    "\n",
    "            delta_adj_3.append(delta_per_tweet[key]['Delta Adj Close'][3])\n",
    "            per_adj_3.append(delta_per_tweet[key]['Percent Adj Close'][3])\n",
    "            delta_vol_3.append(delta_per_tweet[key]['Delta Volume'][3])\n",
    "            per_vol_3.append(delta_per_tweet[key]['Percent Volume'][3])\n",
    "\n",
    "            if len(delta_per_tweet[key]['Delta Adj Close']) >= 5:\n",
    "\n",
    "                delta_adj_4.append(delta_per_tweet[key]['Delta Adj Close'][4])\n",
    "                per_adj_4.append(delta_per_tweet[key]['Percent Adj Close'][4])\n",
    "                delta_vol_4.append(delta_per_tweet[key]['Delta Volume'][4])\n",
    "                per_vol_4.append(delta_per_tweet[key]['Percent Volume'][4])\n",
    "\n",
    "            else:\n",
    "                delta_adj_4.append(0)\n",
    "                per_adj_4.append(0)\n",
    "                delta_vol_4.append(0)\n",
    "                per_vol_4.append(0)\n",
    "\n",
    "        else:\n",
    "\n",
    "            delta_adj_3.append(0)\n",
    "            per_adj_3.append(0)\n",
    "            delta_vol_3.append(0)\n",
    "            per_vol_3.append(0)\n",
    "\n",
    "            delta_adj_4.append(0)\n",
    "            per_adj_4.append(0)\n",
    "            delta_vol_4.append(0)\n",
    "            per_vol_4.append(0)\n",
    "\n",
    "    deltas_df = pd.DataFrame(\n",
    "                    {\n",
    "                        'tweetID':tweet_id,\n",
    "\n",
    "                        'deltaPrice_0':delta_adj_0,\n",
    "                        'deltaPrice_1':delta_adj_1,\n",
    "                        'deltaPrice_2':delta_adj_2,\n",
    "                        'deltaPrice_3':delta_adj_3,\n",
    "                        'deltaPrice_4':delta_adj_4,\n",
    "\n",
    "                        'percentPrice_0':per_adj_0,\n",
    "                        'percentPrice_1':per_adj_1,\n",
    "                        'percentPrice_2':per_adj_2,\n",
    "                        'percentPrice_3':per_adj_3,\n",
    "                        'percentPrice_4':per_adj_4,\n",
    "\n",
    "                        'deltaVol_0':delta_vol_0,\n",
    "                        'deltaVol_1':delta_vol_1,\n",
    "                        'deltaVol_2':delta_vol_2,\n",
    "                        'deltaVol_3':delta_vol_3,\n",
    "                        'deltaVol_4':delta_vol_4,\n",
    "\n",
    "                        'percentVol_0':per_vol_0,\n",
    "                        'percentVol_1':per_vol_1,\n",
    "                        'percentVol_2':per_vol_2,\n",
    "                        'percentVol_3':per_vol_3,\n",
    "                        'percentVol_4':per_vol_4\n",
    "\n",
    "                    })\n",
    "    \n",
    "    return deltas_df\n"
   ]
  },
  {
   "cell_type": "code",
   "execution_count": null,
   "id": "0a343706",
   "metadata": {},
   "outputs": [],
   "source": [
    "deltas_twitter_df = delta_toDataFrame(delta_per_tweet_twitter)   "
   ]
  },
  {
   "cell_type": "code",
   "execution_count": null,
   "id": "40c48d12",
   "metadata": {},
   "outputs": [],
   "source": [
    "deltas_tesla_df = delta_toDataFrame(delta_per_tweet_tesla)   "
   ]
  },
  {
   "cell_type": "code",
   "execution_count": null,
   "id": "8e0596e5",
   "metadata": {},
   "outputs": [],
   "source": [
    "deltas_doge_df = delta_toDataFrame(delta_per_tweet_doge)   "
   ]
  },
  {
   "cell_type": "code",
   "execution_count": null,
   "id": "84fd4741",
   "metadata": {},
   "outputs": [],
   "source": [
    "def start_dateToFrame(start_date_dic):    \n",
    "    tweet_id = []\n",
    "    start_date = []\n",
    "\n",
    "    for key in start_date_dic.keys():\n",
    "        tweet_id.append(key)\n",
    "        start_date.append(start_date_dic[key])\n",
    "\n",
    "    start_date_df = pd.DataFrame(\n",
    "                {'tweetID':tweet_id,\n",
    "                 'startDate':start_date}\n",
    "                    ) \n",
    "\n",
    "    return start_date_df  "
   ]
  },
  {
   "cell_type": "code",
   "execution_count": null,
   "id": "1bb097e8",
   "metadata": {},
   "outputs": [],
   "source": [
    "start_date_twitter_df = start_dateToFrame(start_date_dic_twitter)"
   ]
  },
  {
   "cell_type": "code",
   "execution_count": null,
   "id": "0e7289b4",
   "metadata": {},
   "outputs": [],
   "source": [
    "start_date_tesla_df = start_dateToFrame(start_date_dic_tesla)"
   ]
  },
  {
   "cell_type": "code",
   "execution_count": null,
   "id": "8dc20ab3",
   "metadata": {},
   "outputs": [],
   "source": [
    "start_date_doge_df = start_dateToFrame(start_date_dic_doge)"
   ]
  },
  {
   "cell_type": "code",
   "execution_count": null,
   "id": "9cd02072",
   "metadata": {},
   "outputs": [],
   "source": [
    "# start_date_df.dtypes"
   ]
  },
  {
   "cell_type": "code",
   "execution_count": null,
   "id": "8f4d3f40",
   "metadata": {},
   "outputs": [],
   "source": [
    "start_date_twitter_df.set_index('tweetID', inplace=True)\n",
    "start_date_tesla_df.set_index('tweetID', inplace=True)\n",
    "start_date_doge_df.set_index('tweetID', inplace=True)"
   ]
  },
  {
   "cell_type": "code",
   "execution_count": 1,
   "id": "e46f4221",
   "metadata": {},
   "outputs": [
    {
     "ename": "NameError",
     "evalue": "name 'deltas_twitter_df' is not defined",
     "output_type": "error",
     "traceback": [
      "\u001b[1;31m---------------------------------------------------------------------------\u001b[0m",
      "\u001b[1;31mNameError\u001b[0m                                 Traceback (most recent call last)",
      "\u001b[1;32m~\\AppData\\Local\\Temp/ipykernel_17548/3524319920.py\u001b[0m in \u001b[0;36m<module>\u001b[1;34m\u001b[0m\n\u001b[1;32m----> 1\u001b[1;33m \u001b[0mdeltas_twitter_df\u001b[0m\u001b[1;33m.\u001b[0m\u001b[0mset_index\u001b[0m\u001b[1;33m(\u001b[0m\u001b[1;34m'tweetID'\u001b[0m\u001b[1;33m,\u001b[0m \u001b[0minplace\u001b[0m\u001b[1;33m=\u001b[0m\u001b[1;32mTrue\u001b[0m\u001b[1;33m)\u001b[0m\u001b[1;33m\u001b[0m\u001b[1;33m\u001b[0m\u001b[0m\n\u001b[0m\u001b[0;32m      2\u001b[0m \u001b[0mdeltas_tesla_df\u001b[0m\u001b[1;33m.\u001b[0m\u001b[0mset_index\u001b[0m\u001b[1;33m(\u001b[0m\u001b[1;34m'tweetID'\u001b[0m\u001b[1;33m,\u001b[0m \u001b[0minplace\u001b[0m\u001b[1;33m=\u001b[0m\u001b[1;32mTrue\u001b[0m\u001b[1;33m)\u001b[0m\u001b[1;33m\u001b[0m\u001b[1;33m\u001b[0m\u001b[0m\n\u001b[0;32m      3\u001b[0m \u001b[0mdeltas_doge_df\u001b[0m\u001b[1;33m.\u001b[0m\u001b[0mset_index\u001b[0m\u001b[1;33m(\u001b[0m\u001b[1;34m'tweetID'\u001b[0m\u001b[1;33m,\u001b[0m \u001b[0minplace\u001b[0m\u001b[1;33m=\u001b[0m\u001b[1;32mTrue\u001b[0m\u001b[1;33m)\u001b[0m\u001b[1;33m\u001b[0m\u001b[1;33m\u001b[0m\u001b[0m\n",
      "\u001b[1;31mNameError\u001b[0m: name 'deltas_twitter_df' is not defined"
     ]
    }
   ],
   "source": [
    "deltas_twitter_df.set_index('tweetID', inplace=True)\n",
    "deltas_tesla_df.set_index('tweetID', inplace=True)\n",
    "deltas_doge_df.set_index('tweetID', inplace=True)"
   ]
  },
  {
   "cell_type": "code",
   "execution_count": null,
   "id": "c2b2a0ef",
   "metadata": {},
   "outputs": [],
   "source": [
    "int_twitter_df = tweets_filtered_twitter_df.join(start_date_twitter_df)\n",
    "int_tesla_df = tweets_filtered_tesla_df.join(start_date_tesla_df)\n",
    "int_doge_df = tweets_filtered_doge_df.join(start_date_doge_df)"
   ]
  },
  {
   "cell_type": "code",
   "execution_count": null,
   "id": "fc20c496",
   "metadata": {
    "scrolled": true
   },
   "outputs": [],
   "source": [
    "final_twitter_df = int_twitter_df.join(deltas_twitter_df)\n",
    "final_tesla_df = int_tesla_df.join(deltas_tesla_df)\n",
    "final_doge_df = int_doge_df.join(deltas_doge_df)"
   ]
  },
  {
   "cell_type": "code",
   "execution_count": null,
   "id": "b4c682db",
   "metadata": {},
   "outputs": [],
   "source": [
    "final_twitter_df['datesDifference'] = final_twitter_df['date']-final_twitter_df['startDate']\n",
    "final_tesla_df['datesDifference'] = final_tesla_df['date']-final_tesla_df['startDate']\n",
    "final_doge_df['datesDifference'] = final_doge_df['date']-final_doge_df['startDate']"
   ]
  },
  {
   "cell_type": "code",
   "execution_count": null,
   "id": "e37c18cc",
   "metadata": {},
   "outputs": [],
   "source": [
    "final_twitter_df['startDate'].value_counts()"
   ]
  },
  {
   "cell_type": "code",
   "execution_count": null,
   "id": "65425f02",
   "metadata": {},
   "outputs": [],
   "source": [
    "final_tesla_df['startDate'].value_counts()"
   ]
  },
  {
   "cell_type": "code",
   "execution_count": null,
   "id": "3cb85515",
   "metadata": {},
   "outputs": [],
   "source": [
    "final_doge_df['startDate'].value_counts()"
   ]
  },
  {
   "cell_type": "code",
   "execution_count": null,
   "id": "8304fb44",
   "metadata": {},
   "outputs": [],
   "source": [
    "# # Save Tweet data\n",
    "\n",
    "# try:\n",
    "#     SqlConn.insertTweets(df_tweet_tostore)\n",
    "#     print(\"Data Transfer Done\")\n",
    "# except BaseException as err:\n",
    "#     print(err)"
   ]
  }
 ],
 "metadata": {
  "kernelspec": {
   "display_name": "PythonData",
   "language": "python",
   "name": "pythondata"
  },
  "language_info": {
   "codemirror_mode": {
    "name": "ipython",
    "version": 3
   },
   "file_extension": ".py",
   "mimetype": "text/x-python",
   "name": "python",
   "nbconvert_exporter": "python",
   "pygments_lexer": "ipython3",
   "version": "3.9.7"
  }
 },
 "nbformat": 4,
 "nbformat_minor": 5
}
