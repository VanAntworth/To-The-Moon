{
 "cells": [
  {
   "cell_type": "code",
   "execution_count": 1,
   "id": "62b28d70",
   "metadata": {},
   "outputs": [],
   "source": [
    "import pandas as pd\n",
    "import numpy as np\n",
    "import seaborn as sns\n",
    "import matplotlib.pyplot as plt\n",
    "import math\n",
    "from sklearn.model_selection import train_test_split\n",
    "from sklearn.ensemble import RandomForestClassifier\n",
    "from sklearn.model_selection import GridSearchCV\n",
    "from sklearn.preprocessing import MinMaxScaler\n",
    "from keras.models import Sequential\n",
    "from keras.layers import Activation, Dense,LSTM,Dropout\n",
    "from sklearn.metrics import mean_absolute_error\n",
    "plt.style.use('fivethirtyeight')"
   ]
  },
  {
   "cell_type": "code",
   "execution_count": 2,
   "id": "d50f085d",
   "metadata": {},
   "outputs": [],
   "source": [
    "import requests\n",
    "import tensorflow as tf\n",
    "from keras.models import Sequential\n",
    "from keras.layers import Activation, Dense, Dropout, LSTM\n",
    "import matplotlib.pyplot as plt\n",
    "import numpy as np\n",
    "import pandas as pd\n",
    "from sklearn.metrics import mean_absolute_error\n",
    "%matplotlib inline"
   ]
  },
  {
   "cell_type": "code",
   "execution_count": 3,
   "id": "93968ca1",
   "metadata": {},
   "outputs": [],
   "source": [
    "# Database related all the code is moved to this file\n",
    "%run -i \"SqlConn.py\"\n",
    "#importing local py file\n",
    "import SqlConn "
   ]
  },
  {
   "cell_type": "code",
   "execution_count": 4,
   "id": "2250f32e",
   "metadata": {},
   "outputs": [
    {
     "name": "stdout",
     "output_type": "stream",
     "text": [
      "Data transfer Done\n"
     ]
    }
   ],
   "source": [
    "#Fetch Tweets and Sentiment data - Join from Tweet and Sentiment tables\n",
    "try:\n",
    "    df_dbFinanceData = SqlConn.fetchFinanceData(\"\")\n",
    "    print(\"Data transfer Done\")\n",
    "except BaseException as err:\n",
    "    print(err)"
   ]
  },
  {
   "cell_type": "code",
   "execution_count": 5,
   "id": "3523b0c6",
   "metadata": {},
   "outputs": [
    {
     "data": {
      "text/html": [
       "<div>\n",
       "<style scoped>\n",
       "    .dataframe tbody tr th:only-of-type {\n",
       "        vertical-align: middle;\n",
       "    }\n",
       "\n",
       "    .dataframe tbody tr th {\n",
       "        vertical-align: top;\n",
       "    }\n",
       "\n",
       "    .dataframe thead th {\n",
       "        text-align: right;\n",
       "    }\n",
       "</style>\n",
       "<table border=\"1\" class=\"dataframe\">\n",
       "  <thead>\n",
       "    <tr style=\"text-align: right;\">\n",
       "      <th></th>\n",
       "      <th>financeType</th>\n",
       "      <th>date</th>\n",
       "      <th>open</th>\n",
       "      <th>high</th>\n",
       "      <th>low</th>\n",
       "      <th>close</th>\n",
       "      <th>adjustedClose</th>\n",
       "      <th>volume</th>\n",
       "      <th>id</th>\n",
       "    </tr>\n",
       "  </thead>\n",
       "  <tbody>\n",
       "    <tr>\n",
       "      <th>0</th>\n",
       "      <td>tesla</td>\n",
       "      <td>2010-06-29</td>\n",
       "      <td>3.800000</td>\n",
       "      <td>5.000000</td>\n",
       "      <td>3.508000</td>\n",
       "      <td>4.778000</td>\n",
       "      <td>4.778000</td>\n",
       "      <td>93831500</td>\n",
       "      <td>1</td>\n",
       "    </tr>\n",
       "    <tr>\n",
       "      <th>1</th>\n",
       "      <td>tesla</td>\n",
       "      <td>2010-06-30</td>\n",
       "      <td>5.158000</td>\n",
       "      <td>6.084000</td>\n",
       "      <td>4.660000</td>\n",
       "      <td>4.766000</td>\n",
       "      <td>4.766000</td>\n",
       "      <td>85935500</td>\n",
       "      <td>2</td>\n",
       "    </tr>\n",
       "    <tr>\n",
       "      <th>2</th>\n",
       "      <td>tesla</td>\n",
       "      <td>2010-07-01</td>\n",
       "      <td>5.000000</td>\n",
       "      <td>5.184000</td>\n",
       "      <td>4.054000</td>\n",
       "      <td>4.392000</td>\n",
       "      <td>4.392000</td>\n",
       "      <td>41094000</td>\n",
       "      <td>3</td>\n",
       "    </tr>\n",
       "    <tr>\n",
       "      <th>3</th>\n",
       "      <td>tesla</td>\n",
       "      <td>2010-07-02</td>\n",
       "      <td>4.600000</td>\n",
       "      <td>4.620000</td>\n",
       "      <td>3.742000</td>\n",
       "      <td>3.840000</td>\n",
       "      <td>3.840000</td>\n",
       "      <td>25699000</td>\n",
       "      <td>4</td>\n",
       "    </tr>\n",
       "    <tr>\n",
       "      <th>4</th>\n",
       "      <td>tesla</td>\n",
       "      <td>2010-07-06</td>\n",
       "      <td>4.000000</td>\n",
       "      <td>4.000000</td>\n",
       "      <td>3.166000</td>\n",
       "      <td>3.222000</td>\n",
       "      <td>3.222000</td>\n",
       "      <td>34334500</td>\n",
       "      <td>5</td>\n",
       "    </tr>\n",
       "    <tr>\n",
       "      <th>...</th>\n",
       "      <td>...</td>\n",
       "      <td>...</td>\n",
       "      <td>...</td>\n",
       "      <td>...</td>\n",
       "      <td>...</td>\n",
       "      <td>...</td>\n",
       "      <td>...</td>\n",
       "      <td>...</td>\n",
       "      <td>...</td>\n",
       "    </tr>\n",
       "    <tr>\n",
       "      <th>6916</th>\n",
       "      <td>doge</td>\n",
       "      <td>2022-07-09</td>\n",
       "      <td>0.069224</td>\n",
       "      <td>0.070009</td>\n",
       "      <td>0.068995</td>\n",
       "      <td>0.069512</td>\n",
       "      <td>0.069512</td>\n",
       "      <td>254272147</td>\n",
       "      <td>6917</td>\n",
       "    </tr>\n",
       "    <tr>\n",
       "      <th>6917</th>\n",
       "      <td>doge</td>\n",
       "      <td>2022-07-10</td>\n",
       "      <td>0.069509</td>\n",
       "      <td>0.069509</td>\n",
       "      <td>0.066533</td>\n",
       "      <td>0.067263</td>\n",
       "      <td>0.067263</td>\n",
       "      <td>299810124</td>\n",
       "      <td>6918</td>\n",
       "    </tr>\n",
       "    <tr>\n",
       "      <th>6918</th>\n",
       "      <td>doge</td>\n",
       "      <td>2022-07-11</td>\n",
       "      <td>0.067268</td>\n",
       "      <td>0.067268</td>\n",
       "      <td>0.061535</td>\n",
       "      <td>0.061847</td>\n",
       "      <td>0.061847</td>\n",
       "      <td>326125900</td>\n",
       "      <td>6919</td>\n",
       "    </tr>\n",
       "    <tr>\n",
       "      <th>6919</th>\n",
       "      <td>doge</td>\n",
       "      <td>2022-07-12</td>\n",
       "      <td>0.061851</td>\n",
       "      <td>0.062861</td>\n",
       "      <td>0.060087</td>\n",
       "      <td>0.060087</td>\n",
       "      <td>0.060087</td>\n",
       "      <td>298462083</td>\n",
       "      <td>6920</td>\n",
       "    </tr>\n",
       "    <tr>\n",
       "      <th>6920</th>\n",
       "      <td>doge</td>\n",
       "      <td>2022-07-13</td>\n",
       "      <td>0.060085</td>\n",
       "      <td>0.062011</td>\n",
       "      <td>0.058398</td>\n",
       "      <td>0.061953</td>\n",
       "      <td>0.061953</td>\n",
       "      <td>446505400</td>\n",
       "      <td>6921</td>\n",
       "    </tr>\n",
       "  </tbody>\n",
       "</table>\n",
       "<p>6921 rows × 9 columns</p>\n",
       "</div>"
      ],
      "text/plain": [
       "     financeType        date      open      high       low     close  \\\n",
       "0          tesla  2010-06-29  3.800000  5.000000  3.508000  4.778000   \n",
       "1          tesla  2010-06-30  5.158000  6.084000  4.660000  4.766000   \n",
       "2          tesla  2010-07-01  5.000000  5.184000  4.054000  4.392000   \n",
       "3          tesla  2010-07-02  4.600000  4.620000  3.742000  3.840000   \n",
       "4          tesla  2010-07-06  4.000000  4.000000  3.166000  3.222000   \n",
       "...          ...         ...       ...       ...       ...       ...   \n",
       "6916        doge  2022-07-09  0.069224  0.070009  0.068995  0.069512   \n",
       "6917        doge  2022-07-10  0.069509  0.069509  0.066533  0.067263   \n",
       "6918        doge  2022-07-11  0.067268  0.067268  0.061535  0.061847   \n",
       "6919        doge  2022-07-12  0.061851  0.062861  0.060087  0.060087   \n",
       "6920        doge  2022-07-13  0.060085  0.062011  0.058398  0.061953   \n",
       "\n",
       "      adjustedClose     volume    id  \n",
       "0          4.778000   93831500     1  \n",
       "1          4.766000   85935500     2  \n",
       "2          4.392000   41094000     3  \n",
       "3          3.840000   25699000     4  \n",
       "4          3.222000   34334500     5  \n",
       "...             ...        ...   ...  \n",
       "6916       0.069512  254272147  6917  \n",
       "6917       0.067263  299810124  6918  \n",
       "6918       0.061847  326125900  6919  \n",
       "6919       0.060087  298462083  6920  \n",
       "6920       0.061953  446505400  6921  \n",
       "\n",
       "[6921 rows x 9 columns]"
      ]
     },
     "execution_count": 5,
     "metadata": {},
     "output_type": "execute_result"
    }
   ],
   "source": [
    "df_dbFinanceData"
   ]
  },
  {
   "cell_type": "code",
   "execution_count": 6,
   "id": "5f838703",
   "metadata": {},
   "outputs": [],
   "source": [
    "twitter_price = df_dbFinanceData[df_dbFinanceData[\"financeType\"] == \"twitter\"]"
   ]
  },
  {
   "cell_type": "code",
   "execution_count": 7,
   "id": "f62e6af5",
   "metadata": {},
   "outputs": [
    {
     "data": {
      "text/html": [
       "<div>\n",
       "<style scoped>\n",
       "    .dataframe tbody tr th:only-of-type {\n",
       "        vertical-align: middle;\n",
       "    }\n",
       "\n",
       "    .dataframe tbody tr th {\n",
       "        vertical-align: top;\n",
       "    }\n",
       "\n",
       "    .dataframe thead th {\n",
       "        text-align: right;\n",
       "    }\n",
       "</style>\n",
       "<table border=\"1\" class=\"dataframe\">\n",
       "  <thead>\n",
       "    <tr style=\"text-align: right;\">\n",
       "      <th></th>\n",
       "      <th>financeType</th>\n",
       "      <th>date</th>\n",
       "      <th>open</th>\n",
       "      <th>high</th>\n",
       "      <th>low</th>\n",
       "      <th>close</th>\n",
       "      <th>adjustedClose</th>\n",
       "      <th>volume</th>\n",
       "      <th>id</th>\n",
       "    </tr>\n",
       "  </thead>\n",
       "  <tbody>\n",
       "    <tr>\n",
       "      <th>3030</th>\n",
       "      <td>twitter</td>\n",
       "      <td>2013-11-07</td>\n",
       "      <td>45.099998</td>\n",
       "      <td>50.090000</td>\n",
       "      <td>44.000000</td>\n",
       "      <td>44.900002</td>\n",
       "      <td>44.900002</td>\n",
       "      <td>117701600</td>\n",
       "      <td>3031</td>\n",
       "    </tr>\n",
       "    <tr>\n",
       "      <th>3031</th>\n",
       "      <td>twitter</td>\n",
       "      <td>2013-11-08</td>\n",
       "      <td>45.930000</td>\n",
       "      <td>46.939999</td>\n",
       "      <td>40.689999</td>\n",
       "      <td>41.650002</td>\n",
       "      <td>41.650002</td>\n",
       "      <td>27925300</td>\n",
       "      <td>3032</td>\n",
       "    </tr>\n",
       "    <tr>\n",
       "      <th>3032</th>\n",
       "      <td>twitter</td>\n",
       "      <td>2013-11-11</td>\n",
       "      <td>40.500000</td>\n",
       "      <td>43.000000</td>\n",
       "      <td>39.400002</td>\n",
       "      <td>42.900002</td>\n",
       "      <td>42.900002</td>\n",
       "      <td>16113900</td>\n",
       "      <td>3033</td>\n",
       "    </tr>\n",
       "    <tr>\n",
       "      <th>3033</th>\n",
       "      <td>twitter</td>\n",
       "      <td>2013-11-12</td>\n",
       "      <td>43.660000</td>\n",
       "      <td>43.779999</td>\n",
       "      <td>41.830002</td>\n",
       "      <td>41.900002</td>\n",
       "      <td>41.900002</td>\n",
       "      <td>6316700</td>\n",
       "      <td>3034</td>\n",
       "    </tr>\n",
       "    <tr>\n",
       "      <th>3034</th>\n",
       "      <td>twitter</td>\n",
       "      <td>2013-11-13</td>\n",
       "      <td>41.029999</td>\n",
       "      <td>42.869999</td>\n",
       "      <td>40.759998</td>\n",
       "      <td>42.599998</td>\n",
       "      <td>42.599998</td>\n",
       "      <td>8688300</td>\n",
       "      <td>3035</td>\n",
       "    </tr>\n",
       "    <tr>\n",
       "      <th>...</th>\n",
       "      <td>...</td>\n",
       "      <td>...</td>\n",
       "      <td>...</td>\n",
       "      <td>...</td>\n",
       "      <td>...</td>\n",
       "      <td>...</td>\n",
       "      <td>...</td>\n",
       "      <td>...</td>\n",
       "      <td>...</td>\n",
       "    </tr>\n",
       "    <tr>\n",
       "      <th>5208</th>\n",
       "      <td>twitter</td>\n",
       "      <td>2022-07-06</td>\n",
       "      <td>38.209999</td>\n",
       "      <td>38.450001</td>\n",
       "      <td>37.740002</td>\n",
       "      <td>38.209999</td>\n",
       "      <td>38.209999</td>\n",
       "      <td>4870300</td>\n",
       "      <td>5209</td>\n",
       "    </tr>\n",
       "    <tr>\n",
       "      <th>5209</th>\n",
       "      <td>twitter</td>\n",
       "      <td>2022-07-07</td>\n",
       "      <td>38.320000</td>\n",
       "      <td>39.509998</td>\n",
       "      <td>38.320000</td>\n",
       "      <td>38.790001</td>\n",
       "      <td>38.790001</td>\n",
       "      <td>13214900</td>\n",
       "      <td>5210</td>\n",
       "    </tr>\n",
       "    <tr>\n",
       "      <th>5210</th>\n",
       "      <td>twitter</td>\n",
       "      <td>2022-07-08</td>\n",
       "      <td>37.509998</td>\n",
       "      <td>37.549999</td>\n",
       "      <td>36.799999</td>\n",
       "      <td>36.810001</td>\n",
       "      <td>36.810001</td>\n",
       "      <td>26156700</td>\n",
       "      <td>5211</td>\n",
       "    </tr>\n",
       "    <tr>\n",
       "      <th>5211</th>\n",
       "      <td>twitter</td>\n",
       "      <td>2022-07-11</td>\n",
       "      <td>34.599998</td>\n",
       "      <td>34.900002</td>\n",
       "      <td>32.549999</td>\n",
       "      <td>32.650002</td>\n",
       "      <td>32.650002</td>\n",
       "      <td>67071300</td>\n",
       "      <td>5212</td>\n",
       "    </tr>\n",
       "    <tr>\n",
       "      <th>5212</th>\n",
       "      <td>twitter</td>\n",
       "      <td>2022-07-12</td>\n",
       "      <td>32.759998</td>\n",
       "      <td>34.389999</td>\n",
       "      <td>32.520000</td>\n",
       "      <td>34.060001</td>\n",
       "      <td>34.060001</td>\n",
       "      <td>29539400</td>\n",
       "      <td>5213</td>\n",
       "    </tr>\n",
       "  </tbody>\n",
       "</table>\n",
       "<p>2183 rows × 9 columns</p>\n",
       "</div>"
      ],
      "text/plain": [
       "     financeType        date       open       high        low      close  \\\n",
       "3030     twitter  2013-11-07  45.099998  50.090000  44.000000  44.900002   \n",
       "3031     twitter  2013-11-08  45.930000  46.939999  40.689999  41.650002   \n",
       "3032     twitter  2013-11-11  40.500000  43.000000  39.400002  42.900002   \n",
       "3033     twitter  2013-11-12  43.660000  43.779999  41.830002  41.900002   \n",
       "3034     twitter  2013-11-13  41.029999  42.869999  40.759998  42.599998   \n",
       "...          ...         ...        ...        ...        ...        ...   \n",
       "5208     twitter  2022-07-06  38.209999  38.450001  37.740002  38.209999   \n",
       "5209     twitter  2022-07-07  38.320000  39.509998  38.320000  38.790001   \n",
       "5210     twitter  2022-07-08  37.509998  37.549999  36.799999  36.810001   \n",
       "5211     twitter  2022-07-11  34.599998  34.900002  32.549999  32.650002   \n",
       "5212     twitter  2022-07-12  32.759998  34.389999  32.520000  34.060001   \n",
       "\n",
       "      adjustedClose     volume    id  \n",
       "3030      44.900002  117701600  3031  \n",
       "3031      41.650002   27925300  3032  \n",
       "3032      42.900002   16113900  3033  \n",
       "3033      41.900002    6316700  3034  \n",
       "3034      42.599998    8688300  3035  \n",
       "...             ...        ...   ...  \n",
       "5208      38.209999    4870300  5209  \n",
       "5209      38.790001   13214900  5210  \n",
       "5210      36.810001   26156700  5211  \n",
       "5211      32.650002   67071300  5212  \n",
       "5212      34.060001   29539400  5213  \n",
       "\n",
       "[2183 rows x 9 columns]"
      ]
     },
     "execution_count": 7,
     "metadata": {},
     "output_type": "execute_result"
    }
   ],
   "source": [
    "twitter_price"
   ]
  },
  {
   "cell_type": "code",
   "execution_count": 8,
   "id": "357aa55e",
   "metadata": {},
   "outputs": [
    {
     "data": {
      "text/plain": [
       "'2022-07-12'"
      ]
     },
     "execution_count": 8,
     "metadata": {},
     "output_type": "execute_result"
    }
   ],
   "source": [
    "end_date = twitter_price['date'].iloc[-1]\n",
    "end_date"
   ]
  },
  {
   "cell_type": "code",
   "execution_count": 9,
   "id": "20f77024",
   "metadata": {},
   "outputs": [
    {
     "name": "stderr",
     "output_type": "stream",
     "text": [
      "SqlConn.py:1: SettingWithCopyWarning: \n",
      "A value is trying to be set on a copy of a slice from a DataFrame.\n",
      "Try using .loc[row_indexer,col_indexer] = value instead\n",
      "\n",
      "See the caveats in the documentation: https://pandas.pydata.org/pandas-docs/stable/user_guide/indexing.html#returning-a-view-versus-a-copy\n",
      "  \n"
     ]
    }
   ],
   "source": [
    "twitter_price['date'] = pd.to_datetime(twitter_price['date'], format='%Y-%m-%d')"
   ]
  },
  {
   "cell_type": "code",
   "execution_count": 10,
   "id": "ece62414",
   "metadata": {},
   "outputs": [
    {
     "data": {
      "text/plain": [
       "financeType              object\n",
       "date             datetime64[ns]\n",
       "open                    float64\n",
       "high                    float64\n",
       "low                     float64\n",
       "close                   float64\n",
       "adjustedClose           float64\n",
       "volume                    int64\n",
       "id                        int64\n",
       "dtype: object"
      ]
     },
     "execution_count": 10,
     "metadata": {},
     "output_type": "execute_result"
    }
   ],
   "source": [
    "twitter_price.dtypes"
   ]
  },
  {
   "cell_type": "code",
   "execution_count": 11,
   "id": "95beb949",
   "metadata": {},
   "outputs": [],
   "source": [
    "twitter_price.set_index(\"date\",inplace = True)"
   ]
  },
  {
   "cell_type": "code",
   "execution_count": 12,
   "id": "cf0aa09e",
   "metadata": {},
   "outputs": [
    {
     "data": {
      "image/png": "[encoded data removed]",
      "text/plain": [
       "<Figure size 1152x576 with 1 Axes>"
      ]
     },
     "metadata": {
      "needs_background": "light"
     },
     "output_type": "display_data"
    }
   ],
   "source": [
    "plt.figure(figsize=(16,8))\n",
    "plt.title('Close Price History of Tesla')\n",
    "plt.plot(twitter_price['close'])\n",
    "plt.xlabel('Date',fontsize=18)\n",
    "plt.ylabel('Close Price USD($)',fontsize=18)\n",
    "plt.show()"
   ]
  },
  {
   "cell_type": "code",
   "execution_count": 13,
   "id": "9038167d",
   "metadata": {},
   "outputs": [
    {
     "data": {
      "text/html": [
       "<div>\n",
       "<style scoped>\n",
       "    .dataframe tbody tr th:only-of-type {\n",
       "        vertical-align: middle;\n",
       "    }\n",
       "\n",
       "    .dataframe tbody tr th {\n",
       "        vertical-align: top;\n",
       "    }\n",
       "\n",
       "    .dataframe thead th {\n",
       "        text-align: right;\n",
       "    }\n",
       "</style>\n",
       "<table border=\"1\" class=\"dataframe\">\n",
       "  <thead>\n",
       "    <tr style=\"text-align: right;\">\n",
       "      <th></th>\n",
       "      <th>close</th>\n",
       "    </tr>\n",
       "    <tr>\n",
       "      <th>date</th>\n",
       "      <th></th>\n",
       "    </tr>\n",
       "  </thead>\n",
       "  <tbody>\n",
       "    <tr>\n",
       "      <th>2013-11-07</th>\n",
       "      <td>44.900002</td>\n",
       "    </tr>\n",
       "    <tr>\n",
       "      <th>2013-11-08</th>\n",
       "      <td>41.650002</td>\n",
       "    </tr>\n",
       "    <tr>\n",
       "      <th>2013-11-11</th>\n",
       "      <td>42.900002</td>\n",
       "    </tr>\n",
       "    <tr>\n",
       "      <th>2013-11-12</th>\n",
       "      <td>41.900002</td>\n",
       "    </tr>\n",
       "    <tr>\n",
       "      <th>2013-11-13</th>\n",
       "      <td>42.599998</td>\n",
       "    </tr>\n",
       "  </tbody>\n",
       "</table>\n",
       "</div>"
      ],
      "text/plain": [
       "                close\n",
       "date                 \n",
       "2013-11-07  44.900002\n",
       "2013-11-08  41.650002\n",
       "2013-11-11  42.900002\n",
       "2013-11-12  41.900002\n",
       "2013-11-13  42.599998"
      ]
     },
     "execution_count": 13,
     "metadata": {},
     "output_type": "execute_result"
    }
   ],
   "source": [
    "data = twitter_price.drop(['financeType','open', 'high', 'low', 'adjustedClose', 'volume','id'], axis = 1)\n",
    "price_column = 'close'\n",
    "data.head()"
   ]
  },
  {
   "cell_type": "code",
   "execution_count": 14,
   "id": "1eb5071b",
   "metadata": {},
   "outputs": [],
   "source": [
    "# This function splits the data in 70,30 ratio.\n",
    "def train_test_split(df, test_size=0.3):\n",
    "    split_row = len(df) - int(test_size * len(df))\n",
    "    train_data = df.iloc[:split_row]\n",
    "    test_data = df.iloc[split_row:]\n",
    "    return train_data, test_data"
   ]
  },
  {
   "cell_type": "code",
   "execution_count": 15,
   "id": "46dc1214",
   "metadata": {},
   "outputs": [],
   "source": [
    "train, test = train_test_split(data, test_size=0.2)"
   ]
  },
  {
   "cell_type": "code",
   "execution_count": 16,
   "id": "2326ae5c",
   "metadata": {},
   "outputs": [
    {
     "data": {
      "text/plain": [
       "((1747, 1), (436, 1))"
      ]
     },
     "execution_count": 16,
     "metadata": {},
     "output_type": "execute_result"
    }
   ],
   "source": [
    "train.shape, test.shape"
   ]
  },
  {
   "cell_type": "code",
   "execution_count": 17,
   "id": "fad40f4a",
   "metadata": {},
   "outputs": [
    {
     "data": {
      "text/html": [
       "<div>\n",
       "<style scoped>\n",
       "    .dataframe tbody tr th:only-of-type {\n",
       "        vertical-align: middle;\n",
       "    }\n",
       "\n",
       "    .dataframe tbody tr th {\n",
       "        vertical-align: top;\n",
       "    }\n",
       "\n",
       "    .dataframe thead th {\n",
       "        text-align: right;\n",
       "    }\n",
       "</style>\n",
       "<table border=\"1\" class=\"dataframe\">\n",
       "  <thead>\n",
       "    <tr style=\"text-align: right;\">\n",
       "      <th></th>\n",
       "      <th>close</th>\n",
       "    </tr>\n",
       "    <tr>\n",
       "      <th>date</th>\n",
       "      <th></th>\n",
       "    </tr>\n",
       "  </thead>\n",
       "  <tbody>\n",
       "    <tr>\n",
       "      <th>2013-11-07</th>\n",
       "      <td>44.900002</td>\n",
       "    </tr>\n",
       "    <tr>\n",
       "      <th>2013-11-08</th>\n",
       "      <td>41.650002</td>\n",
       "    </tr>\n",
       "    <tr>\n",
       "      <th>2013-11-11</th>\n",
       "      <td>42.900002</td>\n",
       "    </tr>\n",
       "    <tr>\n",
       "      <th>2013-11-12</th>\n",
       "      <td>41.900002</td>\n",
       "    </tr>\n",
       "    <tr>\n",
       "      <th>2013-11-13</th>\n",
       "      <td>42.599998</td>\n",
       "    </tr>\n",
       "    <tr>\n",
       "      <th>...</th>\n",
       "      <td>...</td>\n",
       "    </tr>\n",
       "    <tr>\n",
       "      <th>2020-10-09</th>\n",
       "      <td>45.900002</td>\n",
       "    </tr>\n",
       "    <tr>\n",
       "      <th>2020-10-12</th>\n",
       "      <td>48.250000</td>\n",
       "    </tr>\n",
       "    <tr>\n",
       "      <th>2020-10-13</th>\n",
       "      <td>47.000000</td>\n",
       "    </tr>\n",
       "    <tr>\n",
       "      <th>2020-10-14</th>\n",
       "      <td>45.980000</td>\n",
       "    </tr>\n",
       "    <tr>\n",
       "      <th>2020-10-15</th>\n",
       "      <td>46.029999</td>\n",
       "    </tr>\n",
       "  </tbody>\n",
       "</table>\n",
       "<p>1747 rows × 1 columns</p>\n",
       "</div>"
      ],
      "text/plain": [
       "                close\n",
       "date                 \n",
       "2013-11-07  44.900002\n",
       "2013-11-08  41.650002\n",
       "2013-11-11  42.900002\n",
       "2013-11-12  41.900002\n",
       "2013-11-13  42.599998\n",
       "...               ...\n",
       "2020-10-09  45.900002\n",
       "2020-10-12  48.250000\n",
       "2020-10-13  47.000000\n",
       "2020-10-14  45.980000\n",
       "2020-10-15  46.029999\n",
       "\n",
       "[1747 rows x 1 columns]"
      ]
     },
     "execution_count": 17,
     "metadata": {},
     "output_type": "execute_result"
    }
   ],
   "source": [
    "train"
   ]
  },
  {
   "cell_type": "code",
   "execution_count": 18,
   "id": "b25ba66a",
   "metadata": {},
   "outputs": [
    {
     "data": {
      "text/html": [
       "<div>\n",
       "<style scoped>\n",
       "    .dataframe tbody tr th:only-of-type {\n",
       "        vertical-align: middle;\n",
       "    }\n",
       "\n",
       "    .dataframe tbody tr th {\n",
       "        vertical-align: top;\n",
       "    }\n",
       "\n",
       "    .dataframe thead th {\n",
       "        text-align: right;\n",
       "    }\n",
       "</style>\n",
       "<table border=\"1\" class=\"dataframe\">\n",
       "  <thead>\n",
       "    <tr style=\"text-align: right;\">\n",
       "      <th></th>\n",
       "      <th>close</th>\n",
       "    </tr>\n",
       "    <tr>\n",
       "      <th>date</th>\n",
       "      <th></th>\n",
       "    </tr>\n",
       "  </thead>\n",
       "  <tbody>\n",
       "    <tr>\n",
       "      <th>2020-10-16</th>\n",
       "      <td>45.810001</td>\n",
       "    </tr>\n",
       "    <tr>\n",
       "      <th>2020-10-19</th>\n",
       "      <td>45.820000</td>\n",
       "    </tr>\n",
       "    <tr>\n",
       "      <th>2020-10-20</th>\n",
       "      <td>46.349998</td>\n",
       "    </tr>\n",
       "    <tr>\n",
       "      <th>2020-10-21</th>\n",
       "      <td>50.240002</td>\n",
       "    </tr>\n",
       "    <tr>\n",
       "      <th>2020-10-22</th>\n",
       "      <td>50.279999</td>\n",
       "    </tr>\n",
       "    <tr>\n",
       "      <th>...</th>\n",
       "      <td>...</td>\n",
       "    </tr>\n",
       "    <tr>\n",
       "      <th>2022-07-06</th>\n",
       "      <td>38.209999</td>\n",
       "    </tr>\n",
       "    <tr>\n",
       "      <th>2022-07-07</th>\n",
       "      <td>38.790001</td>\n",
       "    </tr>\n",
       "    <tr>\n",
       "      <th>2022-07-08</th>\n",
       "      <td>36.810001</td>\n",
       "    </tr>\n",
       "    <tr>\n",
       "      <th>2022-07-11</th>\n",
       "      <td>32.650002</td>\n",
       "    </tr>\n",
       "    <tr>\n",
       "      <th>2022-07-12</th>\n",
       "      <td>34.060001</td>\n",
       "    </tr>\n",
       "  </tbody>\n",
       "</table>\n",
       "<p>436 rows × 1 columns</p>\n",
       "</div>"
      ],
      "text/plain": [
       "                close\n",
       "date                 \n",
       "2020-10-16  45.810001\n",
       "2020-10-19  45.820000\n",
       "2020-10-20  46.349998\n",
       "2020-10-21  50.240002\n",
       "2020-10-22  50.279999\n",
       "...               ...\n",
       "2022-07-06  38.209999\n",
       "2022-07-07  38.790001\n",
       "2022-07-08  36.810001\n",
       "2022-07-11  32.650002\n",
       "2022-07-12  34.060001\n",
       "\n",
       "[436 rows x 1 columns]"
      ]
     },
     "execution_count": 18,
     "metadata": {},
     "output_type": "execute_result"
    }
   ],
   "source": [
    "test"
   ]
  },
  {
   "cell_type": "code",
   "execution_count": 19,
   "id": "2c3f65b5",
   "metadata": {},
   "outputs": [
    {
     "data": {
      "text/plain": [
       "array([[0.48553919],\n",
       "       [0.43445463],\n",
       "       [0.45410254],\n",
       "       ...,\n",
       "       [0.3583779 ],\n",
       "       [0.29298967],\n",
       "       [0.3151525 ]])"
      ]
     },
     "execution_count": 19,
     "metadata": {},
     "output_type": "execute_result"
    }
   ],
   "source": [
    "# Perform MinMax scaling\n",
    "scaler=MinMaxScaler(feature_range=(0,1))\n",
    "df1=scaler.fit_transform(np.array(data).reshape(-1,1))\n",
    "df1"
   ]
  },
  {
   "cell_type": "code",
   "execution_count": 20,
   "id": "48596a15",
   "metadata": {},
   "outputs": [
    {
     "data": {
      "text/plain": [
       "(1746, 1747)"
      ]
     },
     "execution_count": 20,
     "metadata": {},
     "output_type": "execute_result"
    }
   ],
   "source": [
    "##splitting dataset into train and test split\n",
    "training_size=int(len(df1)*0.8)\n",
    "# test_size=len(df1)-training_size\n",
    "\n",
    "test_size = 0.2\n",
    "split_row = len(df1) - int(test_size * len(df1))\n",
    "# train_data = df.iloc[:split_row]\n",
    "# test_data = df.iloc[split_row:]\n",
    "    \n",
    "train_scaled,test_scaled=df1[0:split_row,:],df1[split_row:,]\n",
    "training_size,split_row"
   ]
  },
  {
   "cell_type": "code",
   "execution_count": 21,
   "id": "e8c5cd44",
   "metadata": {},
   "outputs": [
    {
     "data": {
      "text/plain": [
       "((1747, 1), (436, 1))"
      ]
     },
     "execution_count": 21,
     "metadata": {},
     "output_type": "execute_result"
    }
   ],
   "source": [
    "train_scaled.shape,test_scaled.shape"
   ]
  },
  {
   "cell_type": "code",
   "execution_count": 22,
   "id": "119a0282",
   "metadata": {},
   "outputs": [
    {
     "data": {
      "text/plain": [
       "array([[0.48553919],\n",
       "       [0.43445463],\n",
       "       [0.45410254],\n",
       "       ...,\n",
       "       [0.51854765],\n",
       "       [0.50251496],\n",
       "       [0.50330086]])"
      ]
     },
     "execution_count": 22,
     "metadata": {},
     "output_type": "execute_result"
    }
   ],
   "source": [
    "train_scaled"
   ]
  },
  {
   "cell_type": "code",
   "execution_count": 23,
   "id": "a27a7f05",
   "metadata": {},
   "outputs": [
    {
     "data": {
      "text/plain": [
       "array([[0.49984286],\n",
       "       [0.50000002],\n",
       "       [0.50833071],\n",
       "       [0.56947507],\n",
       "       [0.57010375],\n",
       "       [0.57261868],\n",
       "       [0.54998431],\n",
       "       [0.58566491],\n",
       "       [0.54259668],\n",
       "       [0.60389817],\n",
       "       [0.4298963 ],\n",
       "       [0.40018865],\n",
       "       [0.43571206],\n",
       "       [0.45190191],\n",
       "       [0.46683434],\n",
       "       [0.45756052],\n",
       "       [0.4586608 ],\n",
       "       [0.44640052],\n",
       "       [0.4655769 ],\n",
       "       [0.45268787],\n",
       "       [0.46321914],\n",
       "       [0.45143039],\n",
       "       [0.45331656],\n",
       "       [0.46086142],\n",
       "       [0.46541969],\n",
       "       [0.48208113],\n",
       "       [0.48616788],\n",
       "       [0.49072621],\n",
       "       [0.5095882 ],\n",
       "       [0.51210314],\n",
       "       [0.51084564],\n",
       "       [0.51336057],\n",
       "       [0.52216287],\n",
       "       [0.53096515],\n",
       "       [0.53002203],\n",
       "       [0.53269418],\n",
       "       [0.52530653],\n",
       "       [0.52216287],\n",
       "       [0.5847218 ],\n",
       "       [0.58833701],\n",
       "       [0.59745366],\n",
       "       [0.61002832],\n",
       "       [0.62904748],\n",
       "       [0.63847851],\n",
       "       [0.65796921],\n",
       "       [0.63863566],\n",
       "       [0.64287963],\n",
       "       [0.63329143],\n",
       "       [0.62810442],\n",
       "       [0.63533483],\n",
       "       [0.63423456],\n",
       "       [0.63376303],\n",
       "       [0.63093373],\n",
       "       [0.63690665],\n",
       "       [0.62668977],\n",
       "       [0.61694435],\n",
       "       [0.60232637],\n",
       "       [0.58896576],\n",
       "       [0.53709528],\n",
       "       [0.5191764 ],\n",
       "       [0.5220057 ],\n",
       "       [0.49952849],\n",
       "       [0.48994029],\n",
       "       [0.50172904],\n",
       "       [0.52797862],\n",
       "       [0.52043383],\n",
       "       [0.53520909],\n",
       "       [0.53175105],\n",
       "       [0.56051556],\n",
       "       [0.53725245],\n",
       "       [0.59038041],\n",
       "       [0.57403333],\n",
       "       [0.60751339],\n",
       "       [0.62857595],\n",
       "       [0.63769261],\n",
       "       [0.66802892],\n",
       "       [0.67227289],\n",
       "       [0.69459294],\n",
       "       [0.72084252],\n",
       "       [0.84501728],\n",
       "       [0.85743478],\n",
       "       [0.90993406],\n",
       "       [0.94231377],\n",
       "       [0.90820503],\n",
       "       [0.91559266],\n",
       "       [0.91590697],\n",
       "       [0.88777115],\n",
       "       [0.92989627],\n",
       "       [0.91024836],\n",
       "       [0.95221627],\n",
       "       [0.99104057],\n",
       "       [1.        ],\n",
       "       [0.93775544],\n",
       "       [0.89358698],\n",
       "       [0.82898464],\n",
       "       [0.83212825],\n",
       "       [0.7775857 ],\n",
       "       [0.8410877 ],\n",
       "       [0.79880548],\n",
       "       [0.85586296],\n",
       "       [0.85020435],\n",
       "       [0.88447032],\n",
       "       [0.86828046],\n",
       "       [0.88321282],\n",
       "       [0.8285131 ],\n",
       "       [0.82081115],\n",
       "       [0.80477839],\n",
       "       [0.79000313],\n",
       "       [0.75526569],\n",
       "       [0.74174793],\n",
       "       [0.74269098],\n",
       "       [0.76909779],\n",
       "       [0.76988375],\n",
       "       [0.77994347],\n",
       "       [0.78308715],\n",
       "       [0.7895316 ],\n",
       "       [0.83291422],\n",
       "       [0.86419366],\n",
       "       [0.89924558],\n",
       "       [0.89877404],\n",
       "       [0.89358698],\n",
       "       [0.91857906],\n",
       "       [0.87598241],\n",
       "       [0.90694753],\n",
       "       [0.88195545],\n",
       "       [0.84768948],\n",
       "       [0.81248034],\n",
       "       [0.8381013 ],\n",
       "       [0.79063188],\n",
       "       [0.83322854],\n",
       "       [0.8285131 ],\n",
       "       [0.8173531 ],\n",
       "       [0.81248034],\n",
       "       [0.80289215],\n",
       "       [0.64775233],\n",
       "       [0.63769261],\n",
       "       [0.63486331],\n",
       "       [0.6216599 ],\n",
       "       [0.62558948],\n",
       "       [0.62527512],\n",
       "       [0.59415283],\n",
       "       [0.61097144],\n",
       "       [0.57670548],\n",
       "       [0.56743167],\n",
       "       [0.59289534],\n",
       "       [0.60657026],\n",
       "       [0.61584409],\n",
       "       [0.61160012],\n",
       "       [0.63973595],\n",
       "       [0.63564921],\n",
       "       [0.67667405],\n",
       "       [0.67573093],\n",
       "       [0.68909148],\n",
       "       [0.69270676],\n",
       "       [0.69144926],\n",
       "       [0.68264698],\n",
       "       [0.67824587],\n",
       "       [0.67588809],\n",
       "       [0.70716759],\n",
       "       [0.71707015],\n",
       "       [0.70418112],\n",
       "       [0.71832759],\n",
       "       [0.7276014 ],\n",
       "       [0.73074508],\n",
       "       [0.73593216],\n",
       "       [0.72650113],\n",
       "       [0.72178564],\n",
       "       [0.73404592],\n",
       "       [0.73624647],\n",
       "       [0.75369383],\n",
       "       [0.78230118],\n",
       "       [0.82489784],\n",
       "       [0.85256213],\n",
       "       [0.84753226],\n",
       "       [0.85319088],\n",
       "       [0.86435087],\n",
       "       [0.86136436],\n",
       "       [0.85036158],\n",
       "       [0.86749449],\n",
       "       [0.88337004],\n",
       "       [0.86057851],\n",
       "       [0.83024213],\n",
       "       [0.86387934],\n",
       "       [0.87786865],\n",
       "       [0.87378184],\n",
       "       [0.8843131 ],\n",
       "       [0.84973283],\n",
       "       [0.82364047],\n",
       "       [0.81751021],\n",
       "       [0.84768948],\n",
       "       [0.87283879],\n",
       "       [0.87331032],\n",
       "       [0.90663321],\n",
       "       [0.85947822],\n",
       "       [0.85381963],\n",
       "       [0.87944045],\n",
       "       [0.88588503],\n",
       "       [0.87613962],\n",
       "       [0.86639421],\n",
       "       [0.85853505],\n",
       "       [0.85963533],\n",
       "       [0.86875199],\n",
       "       [0.83873005],\n",
       "       [0.83307143],\n",
       "       [0.81216602],\n",
       "       [0.80870798],\n",
       "       [0.8006916 ],\n",
       "       [0.79864826],\n",
       "       [0.78230118],\n",
       "       [0.76815472],\n",
       "       [0.75620876],\n",
       "       [0.75510848],\n",
       "       [0.76249611],\n",
       "       [0.78780257],\n",
       "       [0.78544487],\n",
       "       [0.78843132],\n",
       "       [0.76391077],\n",
       "       [0.77679979],\n",
       "       [0.79676201],\n",
       "       [0.7936184 ],\n",
       "       [0.81012269],\n",
       "       [0.7951902 ],\n",
       "       [0.79613339],\n",
       "       [0.80116324],\n",
       "       [0.75856652],\n",
       "       [0.76155299],\n",
       "       [0.74740653],\n",
       "       [0.71754169],\n",
       "       [0.72587239],\n",
       "       [0.75180764],\n",
       "       [0.75888091],\n",
       "       [0.76171021],\n",
       "       [0.73781835],\n",
       "       [0.76658286],\n",
       "       [0.78968881],\n",
       "       [0.82804157],\n",
       "       [0.83637227],\n",
       "       [0.80729339],\n",
       "       [0.76139584],\n",
       "       [0.7239862 ],\n",
       "       [0.72901605],\n",
       "       [0.75400821],\n",
       "       [0.69757939],\n",
       "       [0.72068537],\n",
       "       [0.74316258],\n",
       "       [0.7852877 ],\n",
       "       [0.78072937],\n",
       "       [0.75589438],\n",
       "       [0.74567751],\n",
       "       [0.75746626],\n",
       "       [0.77271299],\n",
       "       [0.76642569],\n",
       "       [0.79896257],\n",
       "       [0.81892492],\n",
       "       [0.81405227],\n",
       "       [0.80776492],\n",
       "       [0.75809501],\n",
       "       [0.75605161],\n",
       "       [0.74536313],\n",
       "       [0.64130781],\n",
       "       [0.63313428],\n",
       "       [0.62134553],\n",
       "       [0.64602331],\n",
       "       [0.6284188 ],\n",
       "       [0.63690665],\n",
       "       [0.62354608],\n",
       "       [0.6152154 ],\n",
       "       [0.62983345],\n",
       "       [0.62386047],\n",
       "       [0.60232637],\n",
       "       [0.59682493],\n",
       "       [0.60106887],\n",
       "       [0.61207172],\n",
       "       [0.59886832],\n",
       "       [0.57529083],\n",
       "       [0.54369694],\n",
       "       [0.54055334],\n",
       "       [0.52342035],\n",
       "       [0.5207482 ],\n",
       "       [0.52672118],\n",
       "       [0.51964793],\n",
       "       [0.49937127],\n",
       "       [0.47044955],\n",
       "       [0.45284504],\n",
       "       [0.45017295],\n",
       "       [0.44105629],\n",
       "       [0.4787803 ],\n",
       "       [0.47862308],\n",
       "       [0.49842821],\n",
       "       [0.51005974],\n",
       "       [0.49591327],\n",
       "       [0.48082363],\n",
       "       [0.47689405],\n",
       "       [0.47249295],\n",
       "       [0.45771774],\n",
       "       [0.45677462],\n",
       "       [0.45535997],\n",
       "       [0.47705128],\n",
       "       [0.46982086],\n",
       "       [0.4739076 ],\n",
       "       [0.47657975],\n",
       "       [0.46243322],\n",
       "       [0.45190191],\n",
       "       [0.47862308],\n",
       "       [0.45913239],\n",
       "       [0.45033011],\n",
       "       [0.4218799 ],\n",
       "       [0.40066019],\n",
       "       [0.40207484],\n",
       "       [0.40333227],\n",
       "       [0.40804782],\n",
       "       [0.41889345],\n",
       "       [0.41244893],\n",
       "       [0.38808554],\n",
       "       [0.38399874],\n",
       "       [0.36607985],\n",
       "       [0.36686575],\n",
       "       [0.36576548],\n",
       "       [0.32709841],\n",
       "       [0.33087083],\n",
       "       [0.31688147],\n",
       "       [0.3082364 ],\n",
       "       [0.31169445],\n",
       "       [0.33417166],\n",
       "       [0.36938068],\n",
       "       [0.37896888],\n",
       "       [0.35366236],\n",
       "       [0.32175418],\n",
       "       [0.36042125],\n",
       "       [0.34627479],\n",
       "       [0.34533167],\n",
       "       [0.37441061],\n",
       "       [0.36262187],\n",
       "       [0.34313111],\n",
       "       [0.34077334],\n",
       "       [0.36105   ],\n",
       "       [0.34941847],\n",
       "       [0.33668659],\n",
       "       [0.31923925],\n",
       "       [0.29739077],\n",
       "       [0.29471862],\n",
       "       [0.32961334],\n",
       "       [0.33448604],\n",
       "       [0.33857278],\n",
       "       [0.33872999],\n",
       "       [0.32395473],\n",
       "       [0.30619307],\n",
       "       [0.30462119],\n",
       "       [0.28937439],\n",
       "       [0.29346119],\n",
       "       [0.32002515],\n",
       "       [0.31609557],\n",
       "       [0.29849105],\n",
       "       [0.29896259],\n",
       "       [0.31373785],\n",
       "       [0.33574348],\n",
       "       [0.36607985],\n",
       "       [0.37346748],\n",
       "       [0.36828042],\n",
       "       [0.38384158],\n",
       "       [0.3770827 ],\n",
       "       [0.38997173],\n",
       "       [0.38651366],\n",
       "       [0.39468721],\n",
       "       [0.41936498],\n",
       "       [0.39280102],\n",
       "       [0.38792833],\n",
       "       [0.39767372],\n",
       "       [0.5652311 ],\n",
       "       [0.5811066 ],\n",
       "       [0.57780575],\n",
       "       [0.53473751],\n",
       "       [0.50644454],\n",
       "       [0.5187048 ],\n",
       "       [0.47893746],\n",
       "       [0.50047154],\n",
       "       [0.48836849],\n",
       "       [0.54133924],\n",
       "       [0.50534426],\n",
       "       [0.51414653],\n",
       "       [0.51980515],\n",
       "       [0.54888402],\n",
       "       [0.59242381],\n",
       "       [0.56067277],\n",
       "       [0.54432569],\n",
       "       [0.55171334],\n",
       "       [0.55029867],\n",
       "       [0.55218486],\n",
       "       [0.54794091],\n",
       "       [0.55092742],\n",
       "       [0.57136125],\n",
       "       [0.56255895],\n",
       "       [0.53363723],\n",
       "       [0.52263438],\n",
       "       [0.50424397],\n",
       "       [0.48836849],\n",
       "       [0.41983656],\n",
       "       [0.3674945 ],\n",
       "       [0.38211256],\n",
       "       [0.35900659],\n",
       "       [0.3659227 ],\n",
       "       [0.38164103],\n",
       "       [0.37488215],\n",
       "       [0.34187361],\n",
       "       [0.3638793 ],\n",
       "       [0.40097456],\n",
       "       [0.41119144],\n",
       "       [0.40223199],\n",
       "       [0.39751651],\n",
       "       [0.4071047 ],\n",
       "       [0.41103429],\n",
       "       [0.4016033 ],\n",
       "       [0.41056275],\n",
       "       [0.4154354 ],\n",
       "       [0.40113172],\n",
       "       [0.39248666],\n",
       "       [0.3618359 ],\n",
       "       [0.36482242],\n",
       "       [0.37692554],\n",
       "       [0.36702298],\n",
       "       [0.37362465],\n",
       "       [0.39138637],\n",
       "       [0.38541339],\n",
       "       [0.38777116],\n",
       "       [0.39924554],\n",
       "       [0.39578749],\n",
       "       [0.38950019],\n",
       "       [0.37393901],\n",
       "       [0.3674945 ],\n",
       "       [0.38069791],\n",
       "       [0.38305568],\n",
       "       [0.38038353],\n",
       "       [0.38950019],\n",
       "       [0.3583779 ],\n",
       "       [0.29298967],\n",
       "       [0.3151525 ]])"
      ]
     },
     "execution_count": 23,
     "metadata": {},
     "output_type": "execute_result"
    }
   ],
   "source": [
    "test_scaled"
   ]
  },
  {
   "cell_type": "code",
   "execution_count": 24,
   "id": "6c69a441",
   "metadata": {},
   "outputs": [],
   "source": [
    "# convert an array of values into a dataset matrix\n",
    "def create_dataset(dataset, time_step=1):\n",
    "    dataX, dataY = [], []\n",
    "    for i in range(len(dataset)-time_step-1):\n",
    "        a = dataset[i:(i+time_step), 0]   ###i=0, 0,1,2,3-----99   100 \n",
    "        dataX.append(a)\n",
    "        dataY.append(dataset[i + time_step, 0])\n",
    "    return np.array(dataX), np.array(dataY)"
   ]
  },
  {
   "cell_type": "code",
   "execution_count": 25,
   "id": "7e257e59",
   "metadata": {},
   "outputs": [],
   "source": [
    "# reshape into X=t,t+1,t+2,t+3 and Y=t+4\n",
    "time_step = 100\n",
    "X_train, y_train = create_dataset(train_scaled, time_step)\n",
    "X_test, ytest = create_dataset(test_scaled, time_step)"
   ]
  },
  {
   "cell_type": "code",
   "execution_count": 26,
   "id": "70cf0a45",
   "metadata": {},
   "outputs": [
    {
     "name": "stdout",
     "output_type": "stream",
     "text": [
      "(1646, 100)\n",
      "(1646,)\n"
     ]
    },
    {
     "data": {
      "text/plain": [
       "(None, None)"
      ]
     },
     "execution_count": 26,
     "metadata": {},
     "output_type": "execute_result"
    }
   ],
   "source": [
    "print(X_train.shape), print(y_train.shape)"
   ]
  },
  {
   "cell_type": "code",
   "execution_count": 27,
   "id": "561ed04b",
   "metadata": {},
   "outputs": [
    {
     "name": "stdout",
     "output_type": "stream",
     "text": [
      "(335, 100)\n",
      "(335,)\n"
     ]
    },
    {
     "data": {
      "text/plain": [
       "(None, None)"
      ]
     },
     "execution_count": 27,
     "metadata": {},
     "output_type": "execute_result"
    }
   ],
   "source": [
    "print(X_test.shape), print(ytest.shape)"
   ]
  },
  {
   "cell_type": "code",
   "execution_count": 28,
   "id": "17ba53b9",
   "metadata": {},
   "outputs": [],
   "source": [
    "# reshape input to be [samples, time steps, features] which is required for LSTM\n",
    "X_train =X_train.reshape(X_train.shape[0],X_train.shape[1] , 1)\n",
    "X_test = X_test.reshape(X_test.shape[0],X_test.shape[1] , 1)"
   ]
  },
  {
   "cell_type": "code",
   "execution_count": 29,
   "id": "f8732a2d",
   "metadata": {},
   "outputs": [
    {
     "name": "stdout",
     "output_type": "stream",
     "text": [
      "(1646, 100, 1)\n",
      "(1646,)\n"
     ]
    },
    {
     "data": {
      "text/plain": [
       "(None, None)"
      ]
     },
     "execution_count": 29,
     "metadata": {},
     "output_type": "execute_result"
    }
   ],
   "source": [
    "print(X_train.shape), print(y_train.shape)"
   ]
  },
  {
   "cell_type": "code",
   "execution_count": 30,
   "id": "29d30983",
   "metadata": {},
   "outputs": [
    {
     "name": "stdout",
     "output_type": "stream",
     "text": [
      "(335, 100, 1)\n",
      "(335,)\n"
     ]
    },
    {
     "data": {
      "text/plain": [
       "(None, None)"
      ]
     },
     "execution_count": 30,
     "metadata": {},
     "output_type": "execute_result"
    }
   ],
   "source": [
    "print(X_test.shape), print(ytest.shape)"
   ]
  },
  {
   "cell_type": "code",
   "execution_count": 31,
   "id": "8784e8dc",
   "metadata": {},
   "outputs": [
    {
     "data": {
      "text/plain": [
       "array([[[0.49984286],\n",
       "        [0.50000002],\n",
       "        [0.50833071],\n",
       "        ...,\n",
       "        [0.8410877 ],\n",
       "        [0.79880548],\n",
       "        [0.85586296]],\n",
       "\n",
       "       [[0.50000002],\n",
       "        [0.50833071],\n",
       "        [0.56947507],\n",
       "        ...,\n",
       "        [0.79880548],\n",
       "        [0.85586296],\n",
       "        [0.85020435]],\n",
       "\n",
       "       [[0.50833071],\n",
       "        [0.56947507],\n",
       "        [0.57010375],\n",
       "        ...,\n",
       "        [0.85586296],\n",
       "        [0.85020435],\n",
       "        [0.88447032]],\n",
       "\n",
       "       ...,\n",
       "\n",
       "       [[0.36262187],\n",
       "        [0.34313111],\n",
       "        [0.34077334],\n",
       "        ...,\n",
       "        [0.38069791],\n",
       "        [0.38305568],\n",
       "        [0.38038353]],\n",
       "\n",
       "       [[0.34313111],\n",
       "        [0.34077334],\n",
       "        [0.36105   ],\n",
       "        ...,\n",
       "        [0.38305568],\n",
       "        [0.38038353],\n",
       "        [0.38950019]],\n",
       "\n",
       "       [[0.34077334],\n",
       "        [0.36105   ],\n",
       "        [0.34941847],\n",
       "        ...,\n",
       "        [0.38038353],\n",
       "        [0.38950019],\n",
       "        [0.3583779 ]]])"
      ]
     },
     "execution_count": 31,
     "metadata": {},
     "output_type": "execute_result"
    }
   ],
   "source": [
    "X_test"
   ]
  },
  {
   "cell_type": "code",
   "execution_count": 32,
   "id": "e4d85568",
   "metadata": {},
   "outputs": [
    {
     "data": {
      "text/plain": [
       "array([0.85020435, 0.88447032, 0.86828046, 0.88321282, 0.8285131 ,\n",
       "       0.82081115, 0.80477839, 0.79000313, 0.75526569, 0.74174793,\n",
       "       0.74269098, 0.76909779, 0.76988375, 0.77994347, 0.78308715,\n",
       "       0.7895316 , 0.83291422, 0.86419366, 0.89924558, 0.89877404,\n",
       "       0.89358698, 0.91857906, 0.87598241, 0.90694753, 0.88195545,\n",
       "       0.84768948, 0.81248034, 0.8381013 , 0.79063188, 0.83322854,\n",
       "       0.8285131 , 0.8173531 , 0.81248034, 0.80289215, 0.64775233,\n",
       "       0.63769261, 0.63486331, 0.6216599 , 0.62558948, 0.62527512,\n",
       "       0.59415283, 0.61097144, 0.57670548, 0.56743167, 0.59289534,\n",
       "       0.60657026, 0.61584409, 0.61160012, 0.63973595, 0.63564921,\n",
       "       0.67667405, 0.67573093, 0.68909148, 0.69270676, 0.69144926,\n",
       "       0.68264698, 0.67824587, 0.67588809, 0.70716759, 0.71707015,\n",
       "       0.70418112, 0.71832759, 0.7276014 , 0.73074508, 0.73593216,\n",
       "       0.72650113, 0.72178564, 0.73404592, 0.73624647, 0.75369383,\n",
       "       0.78230118, 0.82489784, 0.85256213, 0.84753226, 0.85319088,\n",
       "       0.86435087, 0.86136436, 0.85036158, 0.86749449, 0.88337004,\n",
       "       0.86057851, 0.83024213, 0.86387934, 0.87786865, 0.87378184,\n",
       "       0.8843131 , 0.84973283, 0.82364047, 0.81751021, 0.84768948,\n",
       "       0.87283879, 0.87331032, 0.90663321, 0.85947822, 0.85381963,\n",
       "       0.87944045, 0.88588503, 0.87613962, 0.86639421, 0.85853505,\n",
       "       0.85963533, 0.86875199, 0.83873005, 0.83307143, 0.81216602,\n",
       "       0.80870798, 0.8006916 , 0.79864826, 0.78230118, 0.76815472,\n",
       "       0.75620876, 0.75510848, 0.76249611, 0.78780257, 0.78544487,\n",
       "       0.78843132, 0.76391077, 0.77679979, 0.79676201, 0.7936184 ,\n",
       "       0.81012269, 0.7951902 , 0.79613339, 0.80116324, 0.75856652,\n",
       "       0.76155299, 0.74740653, 0.71754169, 0.72587239, 0.75180764,\n",
       "       0.75888091, 0.76171021, 0.73781835, 0.76658286, 0.78968881,\n",
       "       0.82804157, 0.83637227, 0.80729339, 0.76139584, 0.7239862 ,\n",
       "       0.72901605, 0.75400821, 0.69757939, 0.72068537, 0.74316258,\n",
       "       0.7852877 , 0.78072937, 0.75589438, 0.74567751, 0.75746626,\n",
       "       0.77271299, 0.76642569, 0.79896257, 0.81892492, 0.81405227,\n",
       "       0.80776492, 0.75809501, 0.75605161, 0.74536313, 0.64130781,\n",
       "       0.63313428, 0.62134553, 0.64602331, 0.6284188 , 0.63690665,\n",
       "       0.62354608, 0.6152154 , 0.62983345, 0.62386047, 0.60232637,\n",
       "       0.59682493, 0.60106887, 0.61207172, 0.59886832, 0.57529083,\n",
       "       0.54369694, 0.54055334, 0.52342035, 0.5207482 , 0.52672118,\n",
       "       0.51964793, 0.49937127, 0.47044955, 0.45284504, 0.45017295,\n",
       "       0.44105629, 0.4787803 , 0.47862308, 0.49842821, 0.51005974,\n",
       "       0.49591327, 0.48082363, 0.47689405, 0.47249295, 0.45771774,\n",
       "       0.45677462, 0.45535997, 0.47705128, 0.46982086, 0.4739076 ,\n",
       "       0.47657975, 0.46243322, 0.45190191, 0.47862308, 0.45913239,\n",
       "       0.45033011, 0.4218799 , 0.40066019, 0.40207484, 0.40333227,\n",
       "       0.40804782, 0.41889345, 0.41244893, 0.38808554, 0.38399874,\n",
       "       0.36607985, 0.36686575, 0.36576548, 0.32709841, 0.33087083,\n",
       "       0.31688147, 0.3082364 , 0.31169445, 0.33417166, 0.36938068,\n",
       "       0.37896888, 0.35366236, 0.32175418, 0.36042125, 0.34627479,\n",
       "       0.34533167, 0.37441061, 0.36262187, 0.34313111, 0.34077334,\n",
       "       0.36105   , 0.34941847, 0.33668659, 0.31923925, 0.29739077,\n",
       "       0.29471862, 0.32961334, 0.33448604, 0.33857278, 0.33872999,\n",
       "       0.32395473, 0.30619307, 0.30462119, 0.28937439, 0.29346119,\n",
       "       0.32002515, 0.31609557, 0.29849105, 0.29896259, 0.31373785,\n",
       "       0.33574348, 0.36607985, 0.37346748, 0.36828042, 0.38384158,\n",
       "       0.3770827 , 0.38997173, 0.38651366, 0.39468721, 0.41936498,\n",
       "       0.39280102, 0.38792833, 0.39767372, 0.5652311 , 0.5811066 ,\n",
       "       0.57780575, 0.53473751, 0.50644454, 0.5187048 , 0.47893746,\n",
       "       0.50047154, 0.48836849, 0.54133924, 0.50534426, 0.51414653,\n",
       "       0.51980515, 0.54888402, 0.59242381, 0.56067277, 0.54432569,\n",
       "       0.55171334, 0.55029867, 0.55218486, 0.54794091, 0.55092742,\n",
       "       0.57136125, 0.56255895, 0.53363723, 0.52263438, 0.50424397,\n",
       "       0.48836849, 0.41983656, 0.3674945 , 0.38211256, 0.35900659,\n",
       "       0.3659227 , 0.38164103, 0.37488215, 0.34187361, 0.3638793 ,\n",
       "       0.40097456, 0.41119144, 0.40223199, 0.39751651, 0.4071047 ,\n",
       "       0.41103429, 0.4016033 , 0.41056275, 0.4154354 , 0.40113172,\n",
       "       0.39248666, 0.3618359 , 0.36482242, 0.37692554, 0.36702298,\n",
       "       0.37362465, 0.39138637, 0.38541339, 0.38777116, 0.39924554,\n",
       "       0.39578749, 0.38950019, 0.37393901, 0.3674945 , 0.38069791,\n",
       "       0.38305568, 0.38038353, 0.38950019, 0.3583779 , 0.29298967])"
      ]
     },
     "execution_count": 32,
     "metadata": {},
     "output_type": "execute_result"
    }
   ],
   "source": [
    "ytest"
   ]
  },
  {
   "cell_type": "code",
   "execution_count": 33,
   "id": "77e7a222",
   "metadata": {},
   "outputs": [],
   "source": [
    "np.random.seed(42)\n",
    "tf.random.set_seed(42)\n",
    "window_len = 100\n",
    "test_size = 0.2\n",
    "zero_base = True\n",
    "lstm_neurons = 100\n",
    "epochs = 100\n",
    "batch_size = 32\n",
    "loss = 'mse'\n",
    "dropout = 0.2\n",
    "optimizer = 'adam'\n",
    "activ_func = \"relu\""
   ]
  },
  {
   "cell_type": "code",
   "execution_count": 34,
   "id": "084c168b",
   "metadata": {},
   "outputs": [],
   "source": [
    "# model = Sequential()\n",
    "# model.add(LSTM(100, input_shape=(X_train.shape[1], X_train.shape[2])))\n",
    "# model.add(Dropout(dropout))\n",
    "# model.add(Dense(units=1))\n",
    "# model.add(Activation(activ_func))\n",
    "# model.compile(loss=loss, optimizer=optimizer)\n",
    "# model.summary()"
   ]
  },
  {
   "cell_type": "code",
   "execution_count": 35,
   "id": "76e505f6",
   "metadata": {},
   "outputs": [],
   "source": [
    "model=Sequential()\n",
    "model.add(LSTM(50,return_sequences=True,input_shape=(X_train.shape[1], X_train.shape[2])))\n",
    "model.add(LSTM(50,return_sequences=True))\n",
    "model.add(LSTM(50))\n",
    "model.add(Dense(1))\n",
    "model.compile(loss='mean_squared_error',optimizer='adam')"
   ]
  },
  {
   "cell_type": "code",
   "execution_count": 36,
   "id": "eba7e5d9",
   "metadata": {},
   "outputs": [
    {
     "name": "stdout",
     "output_type": "stream",
     "text": [
      "Epoch 1/100\n",
      "52/52 [==============================] - 16s 126ms/step - loss: 0.0076\n",
      "Epoch 2/100\n",
      "52/52 [==============================] - 6s 115ms/step - loss: 0.0022\n",
      "Epoch 3/100\n",
      "52/52 [==============================] - 6s 120ms/step - loss: 0.0019\n",
      "Epoch 4/100\n",
      "52/52 [==============================] - 6s 116ms/step - loss: 0.0016\n",
      "Epoch 5/100\n",
      "52/52 [==============================] - 6s 122ms/step - loss: 0.0014\n",
      "Epoch 6/100\n",
      "52/52 [==============================] - 8s 156ms/step - loss: 0.0014\n",
      "Epoch 7/100\n",
      "52/52 [==============================] - 8s 158ms/step - loss: 0.0011\n",
      "Epoch 8/100\n",
      "52/52 [==============================] - 8s 160ms/step - loss: 0.0011\n",
      "Epoch 9/100\n",
      "52/52 [==============================] - 8s 152ms/step - loss: 9.7927e-04\n",
      "Epoch 10/100\n",
      "52/52 [==============================] - 11s 210ms/step - loss: 9.1203e-04\n",
      "Epoch 11/100\n",
      "52/52 [==============================] - 8s 148ms/step - loss: 8.5023e-04\n",
      "Epoch 12/100\n",
      "52/52 [==============================] - 9s 171ms/step - loss: 7.6698e-04\n",
      "Epoch 13/100\n",
      "52/52 [==============================] - 7s 136ms/step - loss: 7.5864e-04\n",
      "Epoch 14/100\n",
      "52/52 [==============================] - 7s 132ms/step - loss: 6.5499e-04\n",
      "Epoch 15/100\n",
      "52/52 [==============================] - 7s 133ms/step - loss: 6.1905e-04\n",
      "Epoch 16/100\n",
      "52/52 [==============================] - 7s 132ms/step - loss: 6.8419e-04\n",
      "Epoch 17/100\n",
      "52/52 [==============================] - 8s 149ms/step - loss: 6.1936e-04\n",
      "Epoch 18/100\n",
      "52/52 [==============================] - 7s 127ms/step - loss: 5.8936e-04\n",
      "Epoch 19/100\n",
      "52/52 [==============================] - 7s 126ms/step - loss: 5.0257e-04\n",
      "Epoch 20/100\n",
      "52/52 [==============================] - 6s 121ms/step - loss: 4.6763e-04\n",
      "Epoch 21/100\n",
      "52/52 [==============================] - 6s 115ms/step - loss: 4.9270e-04\n",
      "Epoch 22/100\n",
      "52/52 [==============================] - 7s 131ms/step - loss: 4.1866e-04\n",
      "Epoch 23/100\n",
      "52/52 [==============================] - 7s 134ms/step - loss: 4.5757e-04\n",
      "Epoch 24/100\n",
      "52/52 [==============================] - 7s 137ms/step - loss: 4.4281e-04\n",
      "Epoch 25/100\n",
      "52/52 [==============================] - 7s 131ms/step - loss: 4.2952e-04\n",
      "Epoch 26/100\n",
      "52/52 [==============================] - 7s 125ms/step - loss: 3.8975e-04\n",
      "Epoch 27/100\n",
      "52/52 [==============================] - 6s 122ms/step - loss: 3.8572e-04\n",
      "Epoch 28/100\n",
      "52/52 [==============================] - 6s 120ms/step - loss: 3.6830e-04\n",
      "Epoch 29/100\n",
      "52/52 [==============================] - 6s 119ms/step - loss: 4.3246e-04\n",
      "Epoch 30/100\n",
      "52/52 [==============================] - 6s 115ms/step - loss: 3.5415e-04\n",
      "Epoch 31/100\n",
      "52/52 [==============================] - 7s 127ms/step - loss: 3.8383e-04\n",
      "Epoch 32/100\n",
      "52/52 [==============================] - 6s 117ms/step - loss: 3.3459e-04\n",
      "Epoch 33/100\n",
      "52/52 [==============================] - 6s 117ms/step - loss: 4.3110e-04\n",
      "Epoch 34/100\n",
      "52/52 [==============================] - 6s 115ms/step - loss: 3.7049e-04\n",
      "Epoch 35/100\n",
      "52/52 [==============================] - 6s 116ms/step - loss: 3.3961e-04\n",
      "Epoch 36/100\n",
      "52/52 [==============================] - 7s 128ms/step - loss: 3.2484e-04\n",
      "Epoch 37/100\n",
      "52/52 [==============================] - 6s 125ms/step - loss: 3.3054e-04\n",
      "Epoch 38/100\n",
      "52/52 [==============================] - 6s 123ms/step - loss: 3.3133e-04\n",
      "Epoch 39/100\n",
      "52/52 [==============================] - 6s 121ms/step - loss: 3.5887e-04\n",
      "Epoch 40/100\n",
      "52/52 [==============================] - 6s 115ms/step - loss: 3.3395e-04\n",
      "Epoch 41/100\n",
      "52/52 [==============================] - 8s 145ms/step - loss: 3.3099e-04\n",
      "Epoch 42/100\n",
      "52/52 [==============================] - 7s 135ms/step - loss: 3.5561e-04\n",
      "Epoch 43/100\n",
      "52/52 [==============================] - 7s 143ms/step - loss: 3.3788e-04\n",
      "Epoch 44/100\n",
      "52/52 [==============================] - 7s 143ms/step - loss: 3.7518e-04\n",
      "Epoch 45/100\n",
      "52/52 [==============================] - 7s 137ms/step - loss: 3.6317e-04\n",
      "Epoch 46/100\n",
      "52/52 [==============================] - 7s 132ms/step - loss: 3.6384e-04\n",
      "Epoch 47/100\n",
      "52/52 [==============================] - 6s 119ms/step - loss: 3.1742e-04\n",
      "Epoch 48/100\n",
      "52/52 [==============================] - 7s 126ms/step - loss: 3.0836e-04\n",
      "Epoch 49/100\n",
      "52/52 [==============================] - 6s 117ms/step - loss: 3.0906e-04\n",
      "Epoch 50/100\n",
      "52/52 [==============================] - 6s 117ms/step - loss: 3.0859e-04\n",
      "Epoch 51/100\n",
      "52/52 [==============================] - 6s 115ms/step - loss: 3.2948e-04\n",
      "Epoch 52/100\n",
      "52/52 [==============================] - 6s 116ms/step - loss: 3.1803e-04\n",
      "Epoch 53/100\n",
      "52/52 [==============================] - 6s 113ms/step - loss: 3.1985e-04\n",
      "Epoch 54/100\n",
      "52/52 [==============================] - 6s 118ms/step - loss: 3.0611e-04\n",
      "Epoch 55/100\n",
      "52/52 [==============================] - 6s 115ms/step - loss: 3.3069e-04\n",
      "Epoch 56/100\n",
      "52/52 [==============================] - 6s 113ms/step - loss: 3.4184e-04\n",
      "Epoch 57/100\n",
      "52/52 [==============================] - 6s 113ms/step - loss: 3.1839e-04\n",
      "Epoch 58/100\n",
      "52/52 [==============================] - 6s 119ms/step - loss: 3.2634e-04\n",
      "Epoch 59/100\n",
      "52/52 [==============================] - 6s 121ms/step - loss: 3.3346e-04\n",
      "Epoch 60/100\n",
      "52/52 [==============================] - 7s 133ms/step - loss: 3.2079e-04\n",
      "Epoch 61/100\n",
      "52/52 [==============================] - 7s 131ms/step - loss: 3.0114e-04\n",
      "Epoch 62/100\n",
      "52/52 [==============================] - 7s 129ms/step - loss: 3.2882e-04\n",
      "Epoch 63/100\n",
      "52/52 [==============================] - 7s 128ms/step - loss: 3.1426e-04\n",
      "Epoch 64/100\n",
      "52/52 [==============================] - 6s 124ms/step - loss: 3.0805e-04\n",
      "Epoch 65/100\n",
      "52/52 [==============================] - 6s 121ms/step - loss: 3.1972e-04\n",
      "Epoch 66/100\n",
      "52/52 [==============================] - 6s 118ms/step - loss: 3.2080e-04\n",
      "Epoch 67/100\n",
      "52/52 [==============================] - 6s 119ms/step - loss: 3.0944e-04\n",
      "Epoch 68/100\n",
      "52/52 [==============================] - 6s 113ms/step - loss: 3.3058e-04\n",
      "Epoch 69/100\n",
      "52/52 [==============================] - 6s 115ms/step - loss: 3.1405e-04\n",
      "Epoch 70/100\n",
      "52/52 [==============================] - 6s 118ms/step - loss: 3.3037e-04\n",
      "Epoch 71/100\n",
      "52/52 [==============================] - 6s 115ms/step - loss: 3.0371e-04\n",
      "Epoch 72/100\n",
      "52/52 [==============================] - 6s 114ms/step - loss: 3.2298e-04\n",
      "Epoch 73/100\n",
      "52/52 [==============================] - 6s 115ms/step - loss: 3.0924e-04\n",
      "Epoch 74/100\n",
      "52/52 [==============================] - 6s 118ms/step - loss: 3.1489e-04\n",
      "Epoch 75/100\n",
      "52/52 [==============================] - 6s 114ms/step - loss: 3.0577e-04\n",
      "Epoch 76/100\n",
      "52/52 [==============================] - 6s 114ms/step - loss: 3.0066e-04\n",
      "Epoch 77/100\n",
      "52/52 [==============================] - 6s 121ms/step - loss: 3.2007e-04\n",
      "Epoch 78/100\n",
      "52/52 [==============================] - 7s 133ms/step - loss: 2.9979e-04\n",
      "Epoch 79/100\n",
      "52/52 [==============================] - 7s 143ms/step - loss: 3.0171e-04\n",
      "Epoch 80/100\n",
      "52/52 [==============================] - 8s 147ms/step - loss: 2.9962e-04\n",
      "Epoch 81/100\n",
      "52/52 [==============================] - 7s 141ms/step - loss: 3.1384e-04\n",
      "Epoch 82/100\n",
      "52/52 [==============================] - 8s 159ms/step - loss: 3.1082e-04\n",
      "Epoch 83/100\n",
      "52/52 [==============================] - 9s 171ms/step - loss: 3.4291e-04\n",
      "Epoch 84/100\n",
      "52/52 [==============================] - 8s 151ms/step - loss: 3.0385e-04\n",
      "Epoch 85/100\n",
      "52/52 [==============================] - 8s 148ms/step - loss: 3.0769e-04\n",
      "Epoch 86/100\n",
      "52/52 [==============================] - 8s 154ms/step - loss: 2.9379e-04\n",
      "Epoch 87/100\n",
      "52/52 [==============================] - 6s 122ms/step - loss: 3.2356e-04\n",
      "Epoch 88/100\n",
      "52/52 [==============================] - 6s 122ms/step - loss: 3.2565e-04\n",
      "Epoch 89/100\n",
      "52/52 [==============================] - 6s 121ms/step - loss: 3.1534e-04\n",
      "Epoch 90/100\n",
      "52/52 [==============================] - 7s 125ms/step - loss: 3.2382e-04\n",
      "Epoch 91/100\n",
      "52/52 [==============================] - 7s 130ms/step - loss: 3.0500e-04\n",
      "Epoch 92/100\n",
      "52/52 [==============================] - 7s 126ms/step - loss: 3.2075e-04\n",
      "Epoch 93/100\n",
      "52/52 [==============================] - 6s 119ms/step - loss: 3.1530e-04\n",
      "Epoch 94/100\n",
      "52/52 [==============================] - 6s 121ms/step - loss: 2.9246e-04\n",
      "Epoch 95/100\n"
     ]
    },
    {
     "name": "stdout",
     "output_type": "stream",
     "text": [
      "52/52 [==============================] - 7s 127ms/step - loss: 3.1473e-04\n",
      "Epoch 96/100\n",
      "52/52 [==============================] - 7s 132ms/step - loss: 3.3831e-04\n",
      "Epoch 97/100\n",
      "52/52 [==============================] - 7s 132ms/step - loss: 3.1080e-04\n",
      "Epoch 98/100\n",
      "52/52 [==============================] - 7s 138ms/step - loss: 2.9930e-04\n",
      "Epoch 99/100\n",
      "52/52 [==============================] - 8s 146ms/step - loss: 3.5198e-04\n",
      "Epoch 100/100\n",
      "52/52 [==============================] - 7s 131ms/step - loss: 3.1067e-04\n"
     ]
    }
   ],
   "source": [
    "history = model.fit(\n",
    "    X_train, y_train, epochs=epochs, batch_size=batch_size, verbose=1, shuffle=True)"
   ]
  },
  {
   "cell_type": "code",
   "execution_count": 37,
   "id": "baa9a840",
   "metadata": {},
   "outputs": [
    {
     "name": "stdout",
     "output_type": "stream",
     "text": [
      "52/52 [==============================] - 5s 46ms/step\n",
      "11/11 [==============================] - 0s 43ms/step\n"
     ]
    }
   ],
   "source": [
    "### Lets Do the prediction and check performance metrics\n",
    "train_predict=model.predict(X_train)\n",
    "test_predict=model.predict(X_test)"
   ]
  },
  {
   "cell_type": "code",
   "execution_count": 38,
   "id": "bdb24023",
   "metadata": {},
   "outputs": [
    {
     "data": {
      "text/plain": [
       "array([[0.8333873 ],\n",
       "       [0.780065  ],\n",
       "       [0.84545964],\n",
       "       [0.80124795],\n",
       "       [0.8414597 ],\n",
       "       [0.76515037],\n",
       "       [0.7917867 ],\n",
       "       [0.7567013 ],\n",
       "       [0.7535821 ],\n",
       "       [0.7132537 ],\n",
       "       [0.71156913],\n",
       "       [0.7083401 ],\n",
       "       [0.7360239 ],\n",
       "       [0.72621053],\n",
       "       [0.74345154],\n",
       "       [0.741172  ],\n",
       "       [0.75111026],\n",
       "       [0.7944915 ],\n",
       "       [0.81274045],\n",
       "       [0.84782463],\n",
       "       [0.8383128 ],\n",
       "       [0.8429703 ],\n",
       "       [0.8683818 ],\n",
       "       [0.8132662 ],\n",
       "       [0.87235695],\n",
       "       [0.8152242 ],\n",
       "       [0.8065478 ],\n",
       "       [0.76760405],\n",
       "       [0.80636054],\n",
       "       [0.7329778 ],\n",
       "       [0.80967146],\n",
       "       [0.76765484],\n",
       "       [0.77730966],\n",
       "       [0.76709807],\n",
       "       [0.76058996],\n",
       "       [0.58927435],\n",
       "       [0.63961947],\n",
       "       [0.60325444],\n",
       "       [0.5983064 ],\n",
       "       [0.6015644 ],\n",
       "       [0.5993302 ],\n",
       "       [0.5660817 ],\n",
       "       [0.59401435],\n",
       "       [0.5476436 ],\n",
       "       [0.5513449 ],\n",
       "       [0.57636404],\n",
       "       [0.5859675 ],\n",
       "       [0.59613323],\n",
       "       [0.590849  ],\n",
       "       [0.62417054],\n",
       "       [0.6120156 ],\n",
       "       [0.6622404 ],\n",
       "       [0.6482449 ],\n",
       "       [0.6709568 ],\n",
       "       [0.6688368 ],\n",
       "       [0.67032105],\n",
       "       [0.66104877],\n",
       "       [0.6592851 ],\n",
       "       [0.65641856],\n",
       "       [0.6902301 ],\n",
       "       [0.69036114],\n",
       "       [0.6793688 ],\n",
       "       [0.69876593],\n",
       "       [0.701824  ],\n",
       "       [0.705737  ],\n",
       "       [0.71089286],\n",
       "       [0.69973487],\n",
       "       [0.6988635 ],\n",
       "       [0.7112324 ],\n",
       "       [0.7090209 ],\n",
       "       [0.72923666],\n",
       "       [0.7528522 ],\n",
       "       [0.79127336],\n",
       "       [0.8097335 ],\n",
       "       [0.80321956],\n",
       "       [0.81577104],\n",
       "       [0.8229896 ],\n",
       "       [0.8180762 ],\n",
       "       [0.8094218 ],\n",
       "       [0.82997924],\n",
       "       [0.83623374],\n",
       "       [0.8108161 ],\n",
       "       [0.7900347 ],\n",
       "       [0.8306128 ],\n",
       "       [0.82440597],\n",
       "       [0.8253003 ],\n",
       "       [0.8367891 ],\n",
       "       [0.7951812 ],\n",
       "       [0.78566146],\n",
       "       [0.77826077],\n",
       "       [0.8094827 ],\n",
       "       [0.8213127 ],\n",
       "       [0.8197375 ],\n",
       "       [0.85803986],\n",
       "       [0.7933244 ],\n",
       "       [0.8194781 ],\n",
       "       [0.83013743],\n",
       "       [0.8319228 ],\n",
       "       [0.8228205 ],\n",
       "       [0.8171335 ],\n",
       "       [0.8100909 ],\n",
       "       [0.8127345 ],\n",
       "       [0.8197152 ],\n",
       "       [0.78428984],\n",
       "       [0.79367733],\n",
       "       [0.76341224],\n",
       "       [0.77090496],\n",
       "       [0.7558899 ],\n",
       "       [0.7587928 ],\n",
       "       [0.7384593 ],\n",
       "       [0.7306395 ],\n",
       "       [0.71863866],\n",
       "       [0.72039485],\n",
       "       [0.7263184 ],\n",
       "       [0.75127965],\n",
       "       [0.74066865],\n",
       "       [0.75112927],\n",
       "       [0.721434  ],\n",
       "       [0.7476041 ],\n",
       "       [0.75715846],\n",
       "       [0.75210947],\n",
       "       [0.773779  ],\n",
       "       [0.7500462 ],\n",
       "       [0.7624213 ],\n",
       "       [0.7617015 ],\n",
       "       [0.71639043],\n",
       "       [0.73680717],\n",
       "       [0.7091684 ],\n",
       "       [0.68640655],\n",
       "       [0.7010196 ],\n",
       "       [0.7207518 ],\n",
       "       [0.72203165],\n",
       "       [0.7271198 ],\n",
       "       [0.7009005 ],\n",
       "       [0.7420091 ],\n",
       "       [0.7504481 ],\n",
       "       [0.7913739 ],\n",
       "       [0.7880843 ],\n",
       "       [0.7641122 ],\n",
       "       [0.72586834],\n",
       "       [0.6967734 ],\n",
       "       [0.7071609 ],\n",
       "       [0.7253541 ],\n",
       "       [0.65649897],\n",
       "       [0.70679337],\n",
       "       [0.7083298 ],\n",
       "       [0.7550302 ],\n",
       "       [0.73600316],\n",
       "       [0.7216016 ],\n",
       "       [0.716137  ],\n",
       "       [0.72916746],\n",
       "       [0.7400068 ],\n",
       "       [0.7306227 ],\n",
       "       [0.770134  ],\n",
       "       [0.7767444 ],\n",
       "       [0.77315545],\n",
       "       [0.7703836 ],\n",
       "       [0.71821576],\n",
       "       [0.7347676 ],\n",
       "       [0.7111433 ],\n",
       "       [0.6029029 ],\n",
       "       [0.62733126],\n",
       "       [0.5956813 ],\n",
       "       [0.63050807],\n",
       "       [0.5987958 ],\n",
       "       [0.618977  ],\n",
       "       [0.5974481 ],\n",
       "       [0.59568644],\n",
       "       [0.6113958 ],\n",
       "       [0.6011523 ],\n",
       "       [0.58216083],\n",
       "       [0.5811142 ],\n",
       "       [0.5850553 ],\n",
       "       [0.5961349 ],\n",
       "       [0.57977235],\n",
       "       [0.5591993 ],\n",
       "       [0.5286988 ],\n",
       "       [0.53051263],\n",
       "       [0.5095812 ],\n",
       "       [0.5106687 ],\n",
       "       [0.5158782 ],\n",
       "       [0.5074876 ],\n",
       "       [0.48759025],\n",
       "       [0.45956686],\n",
       "       [0.44410324],\n",
       "       [0.44232103],\n",
       "       [0.4327569 ],\n",
       "       [0.47360516],\n",
       "       [0.46932882],\n",
       "       [0.4922882 ],\n",
       "       [0.50175434],\n",
       "       [0.48686063],\n",
       "       [0.47371036],\n",
       "       [0.47102088],\n",
       "       [0.46658897],\n",
       "       [0.4518064 ],\n",
       "       [0.45253977],\n",
       "       [0.45059857],\n",
       "       [0.47363037],\n",
       "       [0.46373075],\n",
       "       [0.46990004],\n",
       "       [0.47163445],\n",
       "       [0.45695746],\n",
       "       [0.44765514],\n",
       "       [0.47606772],\n",
       "       [0.4528301 ],\n",
       "       [0.44719094],\n",
       "       [0.41720203],\n",
       "       [0.39758652],\n",
       "       [0.3994754 ],\n",
       "       [0.4005702 ],\n",
       "       [0.4056766 ],\n",
       "       [0.41658258],\n",
       "       [0.40962625],\n",
       "       [0.38524443],\n",
       "       [0.38169593],\n",
       "       [0.36345896],\n",
       "       [0.36483908],\n",
       "       [0.3638477 ],\n",
       "       [0.32601666],\n",
       "       [0.32900655],\n",
       "       [0.31558084],\n",
       "       [0.3072153 ],\n",
       "       [0.31015423],\n",
       "       [0.3321716 ],\n",
       "       [0.3679073 ],\n",
       "       [0.37876523],\n",
       "       [0.35340586],\n",
       "       [0.32096758],\n",
       "       [0.3572809 ],\n",
       "       [0.345528  ],\n",
       "       [0.34500825],\n",
       "       [0.3733389 ],\n",
       "       [0.3626438 ],\n",
       "       [0.343288  ],\n",
       "       [0.34005502],\n",
       "       [0.35984254],\n",
       "       [0.3494478 ],\n",
       "       [0.33684152],\n",
       "       [0.31916806],\n",
       "       [0.29745615],\n",
       "       [0.29377377],\n",
       "       [0.32706448],\n",
       "       [0.3352308 ],\n",
       "       [0.3393509 ],\n",
       "       [0.3389888 ],\n",
       "       [0.32425696],\n",
       "       [0.30621514],\n",
       "       [0.30364254],\n",
       "       [0.28965753],\n",
       "       [0.2927962 ],\n",
       "       [0.3185639 ],\n",
       "       [0.3176354 ],\n",
       "       [0.30038777],\n",
       "       [0.2987648 ],\n",
       "       [0.31258473],\n",
       "       [0.33508223],\n",
       "       [0.36597025],\n",
       "       [0.37435377],\n",
       "       [0.36883765],\n",
       "       [0.38356644],\n",
       "       [0.37682533],\n",
       "       [0.38994625],\n",
       "       [0.3864419 ],\n",
       "       [0.39500383],\n",
       "       [0.41967428],\n",
       "       [0.39241642],\n",
       "       [0.38850272],\n",
       "       [0.39760518],\n",
       "       [0.5658665 ],\n",
       "       [0.5713173 ],\n",
       "       [0.5725608 ],\n",
       "       [0.5277244 ],\n",
       "       [0.5051779 ],\n",
       "       [0.5191211 ],\n",
       "       [0.47362825],\n",
       "       [0.50322795],\n",
       "       [0.48427692],\n",
       "       [0.5431195 ],\n",
       "       [0.4960456 ],\n",
       "       [0.5144008 ],\n",
       "       [0.5152087 ],\n",
       "       [0.546203  ],\n",
       "       [0.58700085],\n",
       "       [0.54831797],\n",
       "       [0.54070336],\n",
       "       [0.5478179 ],\n",
       "       [0.54439574],\n",
       "       [0.54729426],\n",
       "       [0.54197586],\n",
       "       [0.54603493],\n",
       "       [0.56645656],\n",
       "       [0.5533769 ],\n",
       "       [0.52595073],\n",
       "       [0.5182233 ],\n",
       "       [0.4979843 ],\n",
       "       [0.48347136],\n",
       "       [0.4113186 ],\n",
       "       [0.36381412],\n",
       "       [0.37925315],\n",
       "       [0.35472375],\n",
       "       [0.36294335],\n",
       "       [0.37821633],\n",
       "       [0.3717359 ],\n",
       "       [0.3389111 ],\n",
       "       [0.35999787],\n",
       "       [0.39724877],\n",
       "       [0.4084243 ],\n",
       "       [0.39951074],\n",
       "       [0.39486063],\n",
       "       [0.4045805 ],\n",
       "       [0.40856844],\n",
       "       [0.3993535 ],\n",
       "       [0.40906018],\n",
       "       [0.41361323],\n",
       "       [0.39916593],\n",
       "       [0.39097327],\n",
       "       [0.3598542 ],\n",
       "       [0.36336583],\n",
       "       [0.37522474],\n",
       "       [0.36586633],\n",
       "       [0.37251306],\n",
       "       [0.38996115],\n",
       "       [0.38405308],\n",
       "       [0.38651213],\n",
       "       [0.39774024],\n",
       "       [0.3942607 ],\n",
       "       [0.38825506],\n",
       "       [0.37269276],\n",
       "       [0.36649582],\n",
       "       [0.37973052],\n",
       "       [0.38241562],\n",
       "       [0.38004035],\n",
       "       [0.3890356 ],\n",
       "       [0.3577397 ]], dtype=float32)"
      ]
     },
     "execution_count": 38,
     "metadata": {},
     "output_type": "execute_result"
    }
   ],
   "source": [
    "test_predict"
   ]
  },
  {
   "cell_type": "code",
   "execution_count": 39,
   "id": "b47aed97",
   "metadata": {},
   "outputs": [
    {
     "data": {
      "text/plain": [
       "0.016694405087651767"
      ]
     },
     "execution_count": 39,
     "metadata": {},
     "output_type": "execute_result"
    }
   ],
   "source": [
    "### Calculate RMSE performance metrics\n",
    "import math\n",
    "from sklearn.metrics import mean_squared_error\n",
    "math.sqrt(mean_squared_error(y_train,train_predict))"
   ]
  },
  {
   "cell_type": "code",
   "execution_count": 40,
   "id": "11bffbf7",
   "metadata": {},
   "outputs": [
    {
     "data": {
      "text/plain": [
       "0.03540145202935989"
      ]
     },
     "execution_count": 40,
     "metadata": {},
     "output_type": "execute_result"
    }
   ],
   "source": [
    "### Test Data RMSE\n",
    "math.sqrt(mean_squared_error(ytest,test_predict))"
   ]
  },
  {
   "cell_type": "code",
   "execution_count": 41,
   "id": "7288a85c",
   "metadata": {},
   "outputs": [
    {
     "data": {
      "text/plain": [
       "0.026910520789108428"
      ]
     },
     "execution_count": 41,
     "metadata": {},
     "output_type": "execute_result"
    }
   ],
   "source": [
    "# Calculate the Mean Absolute Error\n",
    "from sklearn.metrics import mean_absolute_error\n",
    "mae=mean_absolute_error(ytest,test_predict)\n",
    "mae"
   ]
  },
  {
   "cell_type": "code",
   "execution_count": 42,
   "id": "99f6f381",
   "metadata": {},
   "outputs": [
    {
     "data": {
      "text/plain": [
       "0.0431271757284238"
      ]
     },
     "execution_count": 42,
     "metadata": {},
     "output_type": "execute_result"
    }
   ],
   "source": [
    "# Calculate Mean Absolute error using Sklearn library\n",
    "from sklearn.metrics import mean_absolute_percentage_error\n",
    "mean_absolute_percentage_error(ytest,test_predict)"
   ]
  },
  {
   "cell_type": "code",
   "execution_count": 43,
   "id": "c782d07e",
   "metadata": {},
   "outputs": [
    {
     "name": "stdout",
     "output_type": "stream",
     "text": [
      "4.31\n"
     ]
    }
   ],
   "source": [
    "# Manual calculation of Mean Absolute Percentage error.\n",
    "total = 0\n",
    "for i,j in zip(ytest, test_predict):\n",
    "    value = abs(i-j)/abs(i)\n",
    "    total+= value\n",
    "#     print(total)\n",
    "error = float(total*100/(len(ytest))) # Calculate MAPE\n",
    "mape = round(error,2) # round to 3 significant figures\n",
    "print(mape)"
   ]
  },
  {
   "cell_type": "code",
   "execution_count": 44,
   "id": "af9ee899",
   "metadata": {},
   "outputs": [],
   "source": [
    "##Transformback to original form\n",
    "train_predict=scaler.inverse_transform(train_predict)\n",
    "test_predict=scaler.inverse_transform(test_predict)"
   ]
  },
  {
   "cell_type": "code",
   "execution_count": 45,
   "id": "3bc7859e",
   "metadata": {},
   "outputs": [
    {
     "data": {
      "text/plain": [
       "array([[67.0301  ],\n",
       "       [63.637737],\n",
       "       [67.79814 ],\n",
       "       [64.98539 ],\n",
       "       [67.54366 ],\n",
       "       [62.68886 ],\n",
       "       [64.38347 ],\n",
       "       [62.151333],\n",
       "       [61.952892],\n",
       "       [59.387196],\n",
       "       [59.280025],\n",
       "       [59.074596],\n",
       "       [60.83584 ],\n",
       "       [60.21151 ],\n",
       "       [61.308384],\n",
       "       [61.16336 ],\n",
       "       [61.79563 ],\n",
       "       [64.55555 ],\n",
       "       [65.716545],\n",
       "       [67.9486  ],\n",
       "       [67.34346 ],\n",
       "       [67.63977 ],\n",
       "       [69.25645 ],\n",
       "       [65.75    ],\n",
       "       [69.50935 ],\n",
       "       [65.87456 ],\n",
       "       [65.32257 ],\n",
       "       [62.844967],\n",
       "       [65.31066 ],\n",
       "       [60.642044],\n",
       "       [65.5213  ],\n",
       "       [62.848198],\n",
       "       [63.462437],\n",
       "       [62.812775],\n",
       "       [62.39873 ],\n",
       "       [51.49963 ],\n",
       "       [54.702587],\n",
       "       [52.389046],\n",
       "       [52.074253],\n",
       "       [52.281525],\n",
       "       [52.139385],\n",
       "       [50.024117],\n",
       "       [51.80119 ],\n",
       "       [48.85108 ],\n",
       "       [49.08656 ],\n",
       "       [50.678276],\n",
       "       [51.28925 ],\n",
       "       [51.935993],\n",
       "       [51.59981 ],\n",
       "       [53.719727],\n",
       "       [52.94643 ],\n",
       "       [56.14173 ],\n",
       "       [55.25134 ],\n",
       "       [56.69627 ],\n",
       "       [56.561394],\n",
       "       [56.655823],\n",
       "       [56.06592 ],\n",
       "       [55.953716],\n",
       "       [55.771347],\n",
       "       [57.922436],\n",
       "       [57.930775],\n",
       "       [57.23144 ],\n",
       "       [58.465485],\n",
       "       [58.66004 ],\n",
       "       [58.908985],\n",
       "       [59.237   ],\n",
       "       [58.52713 ],\n",
       "       [58.471695],\n",
       "       [59.258606],\n",
       "       [59.11791 ],\n",
       "       [60.404034],\n",
       "       [61.906456],\n",
       "       [64.35081 ],\n",
       "       [65.525246],\n",
       "       [65.110825],\n",
       "       [65.909355],\n",
       "       [66.36859 ],\n",
       "       [66.05601 ],\n",
       "       [65.50541 ],\n",
       "       [66.81328 ],\n",
       "       [67.21119 ],\n",
       "       [65.594124],\n",
       "       [64.27201 ],\n",
       "       [66.853584],\n",
       "       [66.45871 ],\n",
       "       [66.5156  ],\n",
       "       [67.24652 ],\n",
       "       [64.59943 ],\n",
       "       [63.99378 ],\n",
       "       [63.522945],\n",
       "       [65.509285],\n",
       "       [66.26192 ],\n",
       "       [66.1617  ],\n",
       "       [68.598495],\n",
       "       [64.4813  ],\n",
       "       [66.145195],\n",
       "       [66.82334 ],\n",
       "       [66.93693 ],\n",
       "       [66.35784 ],\n",
       "       [65.99603 ],\n",
       "       [65.54798 ],\n",
       "       [65.71616 ],\n",
       "       [66.16028 ],\n",
       "       [63.906517],\n",
       "       [64.503746],\n",
       "       [62.578285],\n",
       "       [63.05497 ],\n",
       "       [62.099712],\n",
       "       [62.284397],\n",
       "       [60.990776],\n",
       "       [60.493282],\n",
       "       [59.72979 ],\n",
       "       [59.84152 ],\n",
       "       [60.218376],\n",
       "       [61.806408],\n",
       "       [61.131336],\n",
       "       [61.79684 ],\n",
       "       [59.907627],\n",
       "       [61.572567],\n",
       "       [62.18042 ],\n",
       "       [61.859203],\n",
       "       [63.237816],\n",
       "       [61.727936],\n",
       "       [62.51524 ],\n",
       "       [62.469448],\n",
       "       [59.586758],\n",
       "       [60.88567 ],\n",
       "       [59.12729 ],\n",
       "       [57.679184],\n",
       "       [58.608864],\n",
       "       [59.864227],\n",
       "       [59.945652],\n",
       "       [60.26936 ],\n",
       "       [58.601288],\n",
       "       [61.216618],\n",
       "       [61.753506],\n",
       "       [64.35721 ],\n",
       "       [64.14793 ],\n",
       "       [62.622814],\n",
       "       [60.189743],\n",
       "       [58.338722],\n",
       "       [58.999573],\n",
       "       [60.157024],\n",
       "       [55.776463],\n",
       "       [58.976192],\n",
       "       [59.07394 ],\n",
       "       [62.04502 ],\n",
       "       [60.83452 ],\n",
       "       [59.918293],\n",
       "       [59.570633],\n",
       "       [60.39963 ],\n",
       "       [61.08923 ],\n",
       "       [60.492214],\n",
       "       [63.00592 ],\n",
       "       [63.42648 ],\n",
       "       [63.198147],\n",
       "       [63.0218  ],\n",
       "       [59.702885],\n",
       "       [60.755913],\n",
       "       [59.252934],\n",
       "       [52.36668 ],\n",
       "       [53.92081 ],\n",
       "       [51.90724 ],\n",
       "       [54.12292 ],\n",
       "       [52.105385],\n",
       "       [53.389317],\n",
       "       [52.019646],\n",
       "       [51.90757 ],\n",
       "       [52.906998],\n",
       "       [52.255306],\n",
       "       [51.04707 ],\n",
       "       [50.98048 ],\n",
       "       [51.231216],\n",
       "       [51.9361  ],\n",
       "       [50.895115],\n",
       "       [49.586254],\n",
       "       [47.645817],\n",
       "       [47.76121 ],\n",
       "       [46.429554],\n",
       "       [46.49874 ],\n",
       "       [46.83017 ],\n",
       "       [46.29636 ],\n",
       "       [45.03049 ],\n",
       "       [43.247643],\n",
       "       [42.263847],\n",
       "       [42.150463],\n",
       "       [41.541992],\n",
       "       [44.14076 ],\n",
       "       [43.8687  ],\n",
       "       [45.329376],\n",
       "       [45.93161 ],\n",
       "       [44.98407 ],\n",
       "       [44.14745 ],\n",
       "       [43.976345],\n",
       "       [43.69439 ],\n",
       "       [42.75392 ],\n",
       "       [42.80058 ],\n",
       "       [42.677082],\n",
       "       [44.14236 ],\n",
       "       [43.51255 ],\n",
       "       [43.90504 ],\n",
       "       [44.01538 ],\n",
       "       [43.08163 ],\n",
       "       [42.48982 ],\n",
       "       [44.29743 ],\n",
       "       [42.81905 ],\n",
       "       [42.460285],\n",
       "       [40.55239 ],\n",
       "       [39.304455],\n",
       "       [39.42462 ],\n",
       "       [39.494274],\n",
       "       [39.819145],\n",
       "       [40.51298 ],\n",
       "       [40.07042 ],\n",
       "       [38.51925 ],\n",
       "       [38.29349 ],\n",
       "       [37.13326 ],\n",
       "       [37.22106 ],\n",
       "       [37.15799 ],\n",
       "       [34.75118 ],\n",
       "       [34.941395],\n",
       "       [34.087254],\n",
       "       [33.55504 ],\n",
       "       [33.742012],\n",
       "       [35.142757],\n",
       "       [37.41626 ],\n",
       "       [38.10704 ],\n",
       "       [36.493683],\n",
       "       [34.42996 ],\n",
       "       [36.74021 ],\n",
       "       [35.99249 ],\n",
       "       [35.959423],\n",
       "       [37.76182 ],\n",
       "       [37.081398],\n",
       "       [35.84998 ],\n",
       "       [35.644302],\n",
       "       [36.90318 ],\n",
       "       [36.241867],\n",
       "       [35.439857],\n",
       "       [34.31547 ],\n",
       "       [32.93416 ],\n",
       "       [32.699886],\n",
       "       [34.817844],\n",
       "       [35.337383],\n",
       "       [35.599506],\n",
       "       [35.57647 ],\n",
       "       [34.639225],\n",
       "       [33.49141 ],\n",
       "       [33.32774 ],\n",
       "       [32.43801 ],\n",
       "       [32.63769 ],\n",
       "       [34.277035],\n",
       "       [34.217964],\n",
       "       [33.12067 ],\n",
       "       [33.017418],\n",
       "       [33.89664 ],\n",
       "       [35.32793 ],\n",
       "       [37.293026],\n",
       "       [37.826385],\n",
       "       [37.47545 ],\n",
       "       [38.412495],\n",
       "       [37.983627],\n",
       "       [38.818382],\n",
       "       [38.595432],\n",
       "       [39.140144],\n",
       "       [40.709675],\n",
       "       [38.975533],\n",
       "       [38.72654 ],\n",
       "       [39.30564 ],\n",
       "       [50.01042 ],\n",
       "       [50.357204],\n",
       "       [50.436314],\n",
       "       [47.583824],\n",
       "       [46.149418],\n",
       "       [47.036484],\n",
       "       [44.14223 ],\n",
       "       [46.02536 ],\n",
       "       [44.8197  ],\n",
       "       [48.56326 ],\n",
       "       [45.568417],\n",
       "       [46.736176],\n",
       "       [46.78758 ],\n",
       "       [48.759434],\n",
       "       [51.354992],\n",
       "       [48.893986],\n",
       "       [48.409546],\n",
       "       [48.86217 ],\n",
       "       [48.644455],\n",
       "       [48.828857],\n",
       "       [48.4905  ],\n",
       "       [48.74874 ],\n",
       "       [50.047962],\n",
       "       [49.215836],\n",
       "       [47.47098 ],\n",
       "       [46.979362],\n",
       "       [45.691757],\n",
       "       [44.768448],\n",
       "       [40.17809 ],\n",
       "       [37.155853],\n",
       "       [38.138084],\n",
       "       [36.577522],\n",
       "       [37.100456],\n",
       "       [38.07212 ],\n",
       "       [37.65984 ],\n",
       "       [35.57152 ],\n",
       "       [36.913063],\n",
       "       [39.282967],\n",
       "       [39.993954],\n",
       "       [39.426872],\n",
       "       [39.13103 ],\n",
       "       [39.749413],\n",
       "       [40.003124],\n",
       "       [39.416866],\n",
       "       [40.03441 ],\n",
       "       [40.324074],\n",
       "       [39.404934],\n",
       "       [38.883717],\n",
       "       [36.903923],\n",
       "       [37.12733 ],\n",
       "       [37.881798],\n",
       "       [37.286415],\n",
       "       [37.70928 ],\n",
       "       [38.81933 ],\n",
       "       [38.44346 ],\n",
       "       [38.599903],\n",
       "       [39.31423 ],\n",
       "       [39.092865],\n",
       "       [38.710785],\n",
       "       [37.72071 ],\n",
       "       [37.326466],\n",
       "       [38.168453],\n",
       "       [38.339283],\n",
       "       [38.188164],\n",
       "       [38.760445],\n",
       "       [36.769398]], dtype=float32)"
      ]
     },
     "execution_count": 45,
     "metadata": {},
     "output_type": "execute_result"
    }
   ],
   "source": [
    "test_predict"
   ]
  },
  {
   "cell_type": "code",
   "execution_count": 46,
   "id": "4ed02f56",
   "metadata": {},
   "outputs": [
    {
     "data": {
      "text/plain": [
       "(335, 1)"
      ]
     },
     "execution_count": 46,
     "metadata": {},
     "output_type": "execute_result"
    }
   ],
   "source": [
    "test_predict.shape"
   ]
  },
  {
   "cell_type": "code",
   "execution_count": 47,
   "id": "d8fef7b4",
   "metadata": {},
   "outputs": [
    {
     "data": {
      "text/plain": [
       "date\n",
       "2021-03-15    70.279999\n",
       "2021-03-16    69.250000\n",
       "2021-03-17    70.199997\n",
       "2021-03-18    66.720001\n",
       "2021-03-19    66.230003\n",
       "                ...    \n",
       "2022-07-06    38.209999\n",
       "2022-07-07    38.790001\n",
       "2022-07-08    36.810001\n",
       "2022-07-11    32.650002\n",
       "2022-07-12    34.060001\n",
       "Name: close, Length: 335, dtype: float64"
      ]
     },
     "execution_count": 47,
     "metadata": {},
     "output_type": "execute_result"
    }
   ],
   "source": [
    "targets = test[price_column][window_len+1:]\n",
    "targets"
   ]
  },
  {
   "cell_type": "code",
   "execution_count": 48,
   "id": "031f2558",
   "metadata": {},
   "outputs": [
    {
     "data": {
      "text/plain": [
       "date\n",
       "2021-03-15    67.030098\n",
       "2021-03-16    63.637737\n",
       "2021-03-17    67.798141\n",
       "2021-03-18    64.985390\n",
       "2021-03-19    67.543663\n",
       "                ...    \n",
       "2022-07-06    38.168453\n",
       "2022-07-07    38.339283\n",
       "2022-07-08    38.188164\n",
       "2022-07-11    38.760445\n",
       "2022-07-12    36.769398\n",
       "Length: 335, dtype: float32"
      ]
     },
     "execution_count": 48,
     "metadata": {},
     "output_type": "execute_result"
    }
   ],
   "source": [
    "preds = pd.Series(index=targets.index, data=test_predict.squeeze())\n",
    "preds"
   ]
  },
  {
   "cell_type": "code",
   "execution_count": 49,
   "id": "dd31f161",
   "metadata": {},
   "outputs": [
    {
     "data": {
      "image/png": "[encoded data removed]",
      "text/plain": [
       "<Figure size 936x504 with 1 Axes>"
      ]
     },
     "metadata": {
      "needs_background": "light"
     },
     "output_type": "display_data"
    }
   ],
   "source": [
    "def line_plot(line1, line2, label1=None, label2=None, title='', lw=2):\n",
    "    fig, ax = plt.subplots(1, figsize=(13, 7))\n",
    "    ax.plot(line1, label=label1, linewidth=lw)\n",
    "    ax.plot(line2, label=label2, linewidth=lw)\n",
    "    ax.set_ylabel('Price [USD]', fontsize=14)\n",
    "    ax.set_xlabel('Time', fontsize = 14)\n",
    "    ax.set_title(title, fontsize=16)\n",
    "    ax.legend(loc='best', fontsize=16)\n",
    "line_plot(train[\"close\"], test[\"close\"], 'Training Prices', 'Testing Prices', title='Project Outline')"
   ]
  },
  {
   "cell_type": "code",
   "execution_count": 50,
   "id": "039cec10",
   "metadata": {},
   "outputs": [
    {
     "data": {
      "image/png": "[encoded data removed]",
      "text/plain": [
       "<Figure size 936x504 with 1 Axes>"
      ]
     },
     "metadata": {
      "needs_background": "light"
     },
     "output_type": "display_data"
    }
   ],
   "source": [
    "line_plot(targets, preds, 'actual_value', 'predicted_value', lw=3)"
   ]
  },
  {
   "cell_type": "markdown",
   "id": "dfea169e",
   "metadata": {},
   "source": [
    "### Future Prediction for 30 days"
   ]
  },
  {
   "cell_type": "code",
   "execution_count": 51,
   "id": "4bd4cd7a",
   "metadata": {},
   "outputs": [
    {
     "data": {
      "text/plain": [
       "436"
      ]
     },
     "execution_count": 51,
     "metadata": {},
     "output_type": "execute_result"
    }
   ],
   "source": [
    "len(test)"
   ]
  },
  {
   "cell_type": "code",
   "execution_count": 52,
   "id": "919d9cbc",
   "metadata": {},
   "outputs": [
    {
     "data": {
      "text/plain": [
       "436"
      ]
     },
     "execution_count": 52,
     "metadata": {},
     "output_type": "execute_result"
    }
   ],
   "source": [
    "length = len(test_scaled)\n",
    "length"
   ]
  },
  {
   "cell_type": "code",
   "execution_count": 53,
   "id": "dade5e8c",
   "metadata": {},
   "outputs": [
    {
     "data": {
      "text/plain": [
       "(100, 1)"
      ]
     },
     "execution_count": 53,
     "metadata": {},
     "output_type": "execute_result"
    }
   ],
   "source": [
    "#Getting the last 100 days records\n",
    "fut_inp = test_scaled[length-100:]\n",
    "fut_inp.shape"
   ]
  },
  {
   "cell_type": "code",
   "execution_count": 54,
   "id": "21d4c39c",
   "metadata": {},
   "outputs": [],
   "source": [
    "fut_inp = fut_inp.reshape(1,-1)"
   ]
  },
  {
   "cell_type": "code",
   "execution_count": 55,
   "id": "8db22db2",
   "metadata": {},
   "outputs": [
    {
     "data": {
      "text/plain": [
       "(1, 100)"
      ]
     },
     "execution_count": 55,
     "metadata": {},
     "output_type": "execute_result"
    }
   ],
   "source": [
    "fut_inp.shape"
   ]
  },
  {
   "cell_type": "code",
   "execution_count": 56,
   "id": "73ce36f7",
   "metadata": {},
   "outputs": [
    {
     "data": {
      "text/plain": [
       "array([[0.34941847, 0.33668659, 0.31923925, 0.29739077, 0.29471862,\n",
       "        0.32961334, 0.33448604, 0.33857278, 0.33872999, 0.32395473,\n",
       "        0.30619307, 0.30462119, 0.28937439, 0.29346119, 0.32002515,\n",
       "        0.31609557, 0.29849105, 0.29896259, 0.31373785, 0.33574348,\n",
       "        0.36607985, 0.37346748, 0.36828042, 0.38384158, 0.3770827 ,\n",
       "        0.38997173, 0.38651366, 0.39468721, 0.41936498, 0.39280102,\n",
       "        0.38792833, 0.39767372, 0.5652311 , 0.5811066 , 0.57780575,\n",
       "        0.53473751, 0.50644454, 0.5187048 , 0.47893746, 0.50047154,\n",
       "        0.48836849, 0.54133924, 0.50534426, 0.51414653, 0.51980515,\n",
       "        0.54888402, 0.59242381, 0.56067277, 0.54432569, 0.55171334,\n",
       "        0.55029867, 0.55218486, 0.54794091, 0.55092742, 0.57136125,\n",
       "        0.56255895, 0.53363723, 0.52263438, 0.50424397, 0.48836849,\n",
       "        0.41983656, 0.3674945 , 0.38211256, 0.35900659, 0.3659227 ,\n",
       "        0.38164103, 0.37488215, 0.34187361, 0.3638793 , 0.40097456,\n",
       "        0.41119144, 0.40223199, 0.39751651, 0.4071047 , 0.41103429,\n",
       "        0.4016033 , 0.41056275, 0.4154354 , 0.40113172, 0.39248666,\n",
       "        0.3618359 , 0.36482242, 0.37692554, 0.36702298, 0.37362465,\n",
       "        0.39138637, 0.38541339, 0.38777116, 0.39924554, 0.39578749,\n",
       "        0.38950019, 0.37393901, 0.3674945 , 0.38069791, 0.38305568,\n",
       "        0.38038353, 0.38950019, 0.3583779 , 0.29298967, 0.3151525 ]])"
      ]
     },
     "execution_count": 56,
     "metadata": {},
     "output_type": "execute_result"
    }
   ],
   "source": [
    "fut_inp"
   ]
  },
  {
   "cell_type": "code",
   "execution_count": 57,
   "id": "d47d32ad",
   "metadata": {},
   "outputs": [],
   "source": [
    "tmp_inp = list(fut_inp)"
   ]
  },
  {
   "cell_type": "code",
   "execution_count": 58,
   "id": "d5cdaaff",
   "metadata": {},
   "outputs": [
    {
     "data": {
      "text/plain": [
       "[array([0.34941847, 0.33668659, 0.31923925, 0.29739077, 0.29471862,\n",
       "        0.32961334, 0.33448604, 0.33857278, 0.33872999, 0.32395473,\n",
       "        0.30619307, 0.30462119, 0.28937439, 0.29346119, 0.32002515,\n",
       "        0.31609557, 0.29849105, 0.29896259, 0.31373785, 0.33574348,\n",
       "        0.36607985, 0.37346748, 0.36828042, 0.38384158, 0.3770827 ,\n",
       "        0.38997173, 0.38651366, 0.39468721, 0.41936498, 0.39280102,\n",
       "        0.38792833, 0.39767372, 0.5652311 , 0.5811066 , 0.57780575,\n",
       "        0.53473751, 0.50644454, 0.5187048 , 0.47893746, 0.50047154,\n",
       "        0.48836849, 0.54133924, 0.50534426, 0.51414653, 0.51980515,\n",
       "        0.54888402, 0.59242381, 0.56067277, 0.54432569, 0.55171334,\n",
       "        0.55029867, 0.55218486, 0.54794091, 0.55092742, 0.57136125,\n",
       "        0.56255895, 0.53363723, 0.52263438, 0.50424397, 0.48836849,\n",
       "        0.41983656, 0.3674945 , 0.38211256, 0.35900659, 0.3659227 ,\n",
       "        0.38164103, 0.37488215, 0.34187361, 0.3638793 , 0.40097456,\n",
       "        0.41119144, 0.40223199, 0.39751651, 0.4071047 , 0.41103429,\n",
       "        0.4016033 , 0.41056275, 0.4154354 , 0.40113172, 0.39248666,\n",
       "        0.3618359 , 0.36482242, 0.37692554, 0.36702298, 0.37362465,\n",
       "        0.39138637, 0.38541339, 0.38777116, 0.39924554, 0.39578749,\n",
       "        0.38950019, 0.37393901, 0.3674945 , 0.38069791, 0.38305568,\n",
       "        0.38038353, 0.38950019, 0.3583779 , 0.29298967, 0.3151525 ])]"
      ]
     },
     "execution_count": 58,
     "metadata": {},
     "output_type": "execute_result"
    }
   ],
   "source": [
    "tmp_inp"
   ]
  },
  {
   "cell_type": "code",
   "execution_count": 59,
   "id": "fc1cab74",
   "metadata": {},
   "outputs": [],
   "source": [
    "#Creating list of the last 100 data\n",
    "tmp_inp = tmp_inp[0].tolist()"
   ]
  },
  {
   "cell_type": "code",
   "execution_count": 60,
   "id": "f1cbacea",
   "metadata": {},
   "outputs": [
    {
     "data": {
      "text/plain": [
       "[0.34941846979338886,\n",
       " 0.33668659242470567,\n",
       " 0.3192392479993357,\n",
       " 0.29739077164684546,\n",
       " 0.29471862439729446,\n",
       " 0.3296133446846907,\n",
       " 0.33448604217947375,\n",
       " 0.3385727761037146,\n",
       " 0.33872999082348265,\n",
       " 0.32395473077435066,\n",
       " 0.30619306693774273,\n",
       " 0.30462118695164353,\n",
       " 0.28937439277150534,\n",
       " 0.2934611895690594,\n",
       " 0.3200251486965646,\n",
       " 0.3160955666187786,\n",
       " 0.2984910546286256,\n",
       " 0.29896258875963155,\n",
       " 0.31373784880876365,\n",
       " 0.3357434770077087,\n",
       " 0.3660798506482167,\n",
       " 0.3734674806727828,\n",
       " 0.3682804166117769,\n",
       " 0.38384157735813773,\n",
       " 0.37708269618434587,\n",
       " 0.389971725399484,\n",
       " 0.3865136617343756,\n",
       " 0.39468720817449887,\n",
       " 0.419364983622995,\n",
       " 0.3928010244954899,\n",
       " 0.3879283270007069,\n",
       " 0.39767372199027284,\n",
       " 0.5652311017870686,\n",
       " 0.5811065976629957,\n",
       " 0.5778057487176554,\n",
       " 0.5347375134267923,\n",
       " 0.5064445381850614,\n",
       " 0.5187048028310972,\n",
       " 0.4789374636405592,\n",
       " 0.5004715419901701,\n",
       " 0.4883684920639024,\n",
       " 0.5413392427541296,\n",
       " 0.5053442552032813,\n",
       " 0.5141465347758504,\n",
       " 0.5198051486861905,\n",
       " 0.5488840246251504,\n",
       " 0.5924238097653477,\n",
       " 0.5606727708585084,\n",
       " 0.5443256936965903,\n",
       " 0.5517133394394845,\n",
       " 0.5502986741731534,\n",
       " 0.5521848578521623,\n",
       " 0.5479409092081534,\n",
       " 0.5509274230239274,\n",
       " 0.5713612498284146,\n",
       " 0.5625589545375174,\n",
       " 0.5336372304450123,\n",
       " 0.5226343849088833,\n",
       " 0.5042439722215013,\n",
       " 0.4883684920639024,\n",
       " 0.419836564908986,\n",
       " 0.36749450019621976,\n",
       " 0.3821125612439119,\n",
       " 0.35900658718987355,\n",
       " 0.36592269880176187,\n",
       " 0.38164102711290593,\n",
       " 0.37488214593911395,\n",
       " 0.34187360933072664,\n",
       " 0.3638793004029848,\n",
       " 0.40097455521728487,\n",
       " 0.41119143718287177,\n",
       " 0.4022319900455197,\n",
       " 0.3975165072705048,\n",
       " 0.4071047032586309,\n",
       " 0.41103428533641695,\n",
       " 0.4016033040680589,\n",
       " 0.41056275120541097,\n",
       " 0.4154354015452091,\n",
       " 0.4011317227820679,\n",
       " 0.39248665792926696,\n",
       " 0.3618359020042078,\n",
       " 0.36482241581998187,\n",
       " 0.37692554433789094,\n",
       " 0.36702298178354187,\n",
       " 0.3736246482375658,\n",
       " 0.39138637494748685,\n",
       " 0.3854133944709238,\n",
       " 0.3877711594359238,\n",
       " 0.39924553910305893,\n",
       " 0.395787491156279,\n",
       " 0.3895001912684779,\n",
       " 0.37393901480378877,\n",
       " 0.36749450019621976,\n",
       " 0.38069791169590894,\n",
       " 0.3830556766609089,\n",
       " 0.3803835294113579,\n",
       " 0.3895001912684779,\n",
       " 0.35837790121241275,\n",
       " 0.29298967115638175,\n",
       " 0.3151524983567666]"
      ]
     },
     "execution_count": 60,
     "metadata": {},
     "output_type": "execute_result"
    }
   ],
   "source": [
    "tmp_inp"
   ]
  },
  {
   "cell_type": "code",
   "execution_count": 61,
   "id": "87d8512c",
   "metadata": {},
   "outputs": [
    {
     "name": "stdout",
     "output_type": "stream",
     "text": [
      "[[0.31224364042282104], [0.31135129928588867], [0.31156256794929504], [0.31176987290382385], [0.31186312437057495], [0.31175926327705383], [0.31148403882980347], [0.31110599637031555], [0.3107011616230011], [0.31033211946487427], [0.3100389838218689], [0.30983880162239075], [0.30973020195961], [0.3096996545791626], [0.30972805619239807], [0.30979564785957336], [0.3098854422569275], [0.30998489260673523], [0.3100862503051758], [0.3101864755153656], [0.3102854788303375], [0.31038594245910645], [0.3104914724826813], [0.31060609221458435], [0.31073370575904846], [0.3108777403831482], [0.31104037165641785], [0.3112233579158783], [0.31142759323120117], [0.31165313720703125]]\n"
     ]
    }
   ],
   "source": [
    "#Predicting next 30 days price suing the current data\n",
    "#It will predict in sliding window manner (algorithm) with stride 1\n",
    "lst_output=[]\n",
    "n_steps=100\n",
    "i=0\n",
    "while(i<30):\n",
    "    \n",
    "    if(len(tmp_inp)>100):\n",
    "        fut_inp = np.array(tmp_inp[1:])\n",
    "        fut_inp=fut_inp.reshape(1,-1)\n",
    "        fut_inp = fut_inp.reshape((1, n_steps, 1))\n",
    "        yhat = model.predict(fut_inp, verbose=0)\n",
    "        tmp_inp.extend(yhat[0].tolist())\n",
    "        tmp_inp = tmp_inp[1:]\n",
    "        lst_output.extend(yhat.tolist())\n",
    "        i=i+1\n",
    "    else:\n",
    "        fut_inp = fut_inp.reshape((1, n_steps,1))\n",
    "        yhat = model.predict(fut_inp, verbose=0)\n",
    "        tmp_inp.extend(yhat[0].tolist())\n",
    "        lst_output.extend(yhat.tolist())\n",
    "        i=i+1\n",
    "    \n",
    "\n",
    "print(lst_output)"
   ]
  },
  {
   "cell_type": "code",
   "execution_count": 62,
   "id": "abd2a9a3",
   "metadata": {},
   "outputs": [
    {
     "data": {
      "text/plain": [
       "'2022-07-12'"
      ]
     },
     "execution_count": 62,
     "metadata": {},
     "output_type": "execute_result"
    }
   ],
   "source": [
    "end_date"
   ]
  },
  {
   "cell_type": "code",
   "execution_count": 63,
   "id": "40a3588a",
   "metadata": {},
   "outputs": [
    {
     "data": {
      "text/plain": [
       "'07/12/2022'"
      ]
     },
     "execution_count": 63,
     "metadata": {},
     "output_type": "execute_result"
    }
   ],
   "source": [
    "temp = pd.to_datetime(end_date, format='%Y-%m-%d')\n",
    "temp\n",
    "end_date_new = temp.strftime('%m/%d/%Y')\n",
    "end_date_new"
   ]
  },
  {
   "cell_type": "code",
   "execution_count": 64,
   "id": "58c3c1c5",
   "metadata": {},
   "outputs": [
    {
     "data": {
      "text/plain": [
       "array([[33.87493947],\n",
       "       [33.81816873],\n",
       "       [33.83160964],\n",
       "       [33.84479838],\n",
       "       [33.85073104],\n",
       "       [33.84412339],\n",
       "       [33.82661362],\n",
       "       [33.80256256],\n",
       "       [33.77680697],\n",
       "       [33.75332851],\n",
       "       [33.73467922],\n",
       "       [33.72194363],\n",
       "       [33.71503452],\n",
       "       [33.7130911 ],\n",
       "       [33.71489801],\n",
       "       [33.71919819],\n",
       "       [33.72491091],\n",
       "       [33.73123794],\n",
       "       [33.73768631],\n",
       "       [33.74406264],\n",
       "       [33.75036123],\n",
       "       [33.75675273],\n",
       "       [33.76346655],\n",
       "       [33.77075865],\n",
       "       [33.77887743],\n",
       "       [33.78804091],\n",
       "       [33.79838751],\n",
       "       [33.8100291 ],\n",
       "       [33.82302255],\n",
       "       [33.83737165]])"
      ]
     },
     "execution_count": 64,
     "metadata": {},
     "output_type": "execute_result"
    }
   ],
   "source": [
    "preds = scaler.inverse_transform(lst_output)\n",
    "preds"
   ]
  },
  {
   "cell_type": "code",
   "execution_count": 65,
   "id": "cc2026ab",
   "metadata": {},
   "outputs": [
    {
     "data": {
      "text/plain": [
       "'08/22/2022'"
      ]
     },
     "execution_count": 65,
     "metadata": {},
     "output_type": "execute_result"
    }
   ],
   "source": [
    "import datetime\n",
    "date_future = temp + datetime.timedelta(41)\n",
    "date_future_str = date_future.strftime('%m/%d/%Y')\n",
    "date_future_str"
   ]
  },
  {
   "cell_type": "code",
   "execution_count": 66,
   "id": "feff8df9",
   "metadata": {},
   "outputs": [
    {
     "data": {
      "text/plain": [
       "DatetimeIndex(['2022-07-12', '2022-07-13', '2022-07-14', '2022-07-15',\n",
       "               '2022-07-18', '2022-07-19', '2022-07-20', '2022-07-21',\n",
       "               '2022-07-22', '2022-07-25', '2022-07-26', '2022-07-27',\n",
       "               '2022-07-28', '2022-07-29', '2022-08-01', '2022-08-02',\n",
       "               '2022-08-03', '2022-08-04', '2022-08-05', '2022-08-08',\n",
       "               '2022-08-09', '2022-08-10', '2022-08-11', '2022-08-12',\n",
       "               '2022-08-15', '2022-08-16', '2022-08-17', '2022-08-18',\n",
       "               '2022-08-19', '2022-08-22'],\n",
       "              dtype='datetime64[ns]', freq='B')"
      ]
     },
     "execution_count": 66,
     "metadata": {},
     "output_type": "execute_result"
    }
   ],
   "source": [
    "c = pd.date_range(start=end_date_new, end=date_future_str, freq='B')\n",
    "c"
   ]
  },
  {
   "cell_type": "code",
   "execution_count": 67,
   "id": "e6ab7cdd",
   "metadata": {},
   "outputs": [
    {
     "data": {
      "text/plain": [
       "30"
      ]
     },
     "execution_count": 67,
     "metadata": {},
     "output_type": "execute_result"
    }
   ],
   "source": [
    "len(c)"
   ]
  },
  {
   "cell_type": "code",
   "execution_count": 68,
   "id": "04499e28",
   "metadata": {},
   "outputs": [
    {
     "data": {
      "text/plain": [
       "2022-07-12    33.874939\n",
       "2022-07-13    33.818169\n",
       "2022-07-14    33.831610\n",
       "2022-07-15    33.844798\n",
       "2022-07-18    33.850731\n",
       "2022-07-19    33.844123\n",
       "2022-07-20    33.826614\n",
       "2022-07-21    33.802563\n",
       "2022-07-22    33.776807\n",
       "2022-07-25    33.753329\n",
       "2022-07-26    33.734679\n",
       "2022-07-27    33.721944\n",
       "2022-07-28    33.715035\n",
       "2022-07-29    33.713091\n",
       "2022-08-01    33.714898\n",
       "2022-08-02    33.719198\n",
       "2022-08-03    33.724911\n",
       "2022-08-04    33.731238\n",
       "2022-08-05    33.737686\n",
       "2022-08-08    33.744063\n",
       "2022-08-09    33.750361\n",
       "2022-08-10    33.756753\n",
       "2022-08-11    33.763467\n",
       "2022-08-12    33.770759\n",
       "2022-08-15    33.778877\n",
       "2022-08-16    33.788041\n",
       "2022-08-17    33.798388\n",
       "2022-08-18    33.810029\n",
       "2022-08-19    33.823023\n",
       "2022-08-22    33.837372\n",
       "Freq: B, dtype: float64"
      ]
     },
     "execution_count": 68,
     "metadata": {},
     "output_type": "execute_result"
    }
   ],
   "source": [
    "fut_preds = pd.Series(index=c, data=preds.squeeze())\n",
    "fut_preds"
   ]
  },
  {
   "cell_type": "code",
   "execution_count": 72,
   "id": "8d8456f7",
   "metadata": {},
   "outputs": [
    {
     "data": {
      "text/plain": [
       "[<matplotlib.lines.Line2D at 0x1f29d6226c8>]"
      ]
     },
     "execution_count": 72,
     "metadata": {},
     "output_type": "execute_result"
    },
    {
     "data": {
      "image/png": "[encoded data removed]",
      "text/plain": [
       "<Figure size 936x504 with 1 Axes>"
      ]
     },
     "metadata": {
      "needs_background": "light"
     },
     "output_type": "display_data"
    }
   ],
   "source": [
    "fig, ax = plt.subplots(1, figsize=(13, 7))\n",
    "ax.plot(fut_preds, label=\"predicted value_30\", linewidth=3)"
   ]
  },
  {
   "cell_type": "code",
   "execution_count": 74,
   "id": "c7a4f347",
   "metadata": {},
   "outputs": [
    {
     "data": {
      "image/png": "[encoded data removed]",
      "text/plain": [
       "<Figure size 936x504 with 1 Axes>"
      ]
     },
     "metadata": {
      "needs_background": "light"
     },
     "output_type": "display_data"
    }
   ],
   "source": [
    "line_plot(test[\"close\"], fut_preds, 'actual_value', 'predicted_value_30', lw=3)"
   ]
  },
  {
   "cell_type": "code",
   "execution_count": 73,
   "id": "8f0a4bab",
   "metadata": {
    "scrolled": true
   },
   "outputs": [
    {
     "data": {
      "image/png": "[encoded data removed]",
      "text/plain": [
       "<Figure size 936x504 with 1 Axes>"
      ]
     },
     "metadata": {
      "needs_background": "light"
     },
     "output_type": "display_data"
    }
   ],
   "source": [
    "line_plot(test[\"close\"], fut_preds, 'actual_value', 'predicted_value_30', lw=3)"
   ]
  },
  {
   "cell_type": "code",
   "execution_count": null,
   "id": "f7ea1a21",
   "metadata": {},
   "outputs": [],
   "source": []
  }
 ],
 "metadata": {
  "kernelspec": {
   "display_name": "mlenv",
   "language": "python",
   "name": "mlenv"
  },
  "language_info": {
   "codemirror_mode": {
    "name": "ipython",
    "version": 3
   },
   "file_extension": ".py",
   "mimetype": "text/x-python",
   "name": "python",
   "nbconvert_exporter": "python",
   "pygments_lexer": "ipython3",
   "version": "3.7.13"
  }
 },
 "nbformat": 4,
 "nbformat_minor": 5
}
